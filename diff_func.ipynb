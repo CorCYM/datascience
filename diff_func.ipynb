{
 "cells": [
  {
   "cell_type": "code",
   "execution_count": 8,
   "id": "f3b9c3b2-e4ce-4030-89ad-c01962171290",
   "metadata": {},
   "outputs": [],
   "source": [
    "import numpy as np"
   ]
  },
  {
   "cell_type": "code",
   "execution_count": 9,
   "id": "7a4d411c-a847-46f6-b450-06796b4e695f",
   "metadata": {},
   "outputs": [],
   "source": [
    "W = W = np.array([[10], [20], [30], [40], [50], [60]])\n",
    "b = 10"
   ]
  },
  {
   "cell_type": "code",
   "execution_count": 10,
   "id": "78cf89dc-dc86-476d-bfe7-c74181760c8b",
   "metadata": {},
   "outputs": [],
   "source": [
    "X = np.random.randn(1000,6)\n",
    "y = np.dot(X,W) + b"
   ]
  },
  {
   "cell_type": "code",
   "execution_count": 11,
   "id": "4e945365-fda6-4f6e-b707-3cb06ba3996b",
   "metadata": {},
   "outputs": [],
   "source": [
    "W_hat = np.random.randn(6,1)\n",
    "b_hat = 0"
   ]
  },
  {
   "cell_type": "code",
   "execution_count": 7,
   "id": "dcdfa235-6613-4425-b108-4e1c37ce2c22",
   "metadata": {},
   "outputs": [],
   "source": [
    "y_hat = np.dot(X,W_hat) + b_hat"
   ]
  },
  {
   "cell_type": "code",
   "execution_count": 9,
   "id": "bb0da19e-a4bf-44fb-a0dd-c03ac96433d7",
   "metadata": {},
   "outputs": [],
   "source": [
    "def cost(W_hat, b_hat):\n",
    "    y_hat = np.dot(X,W_hat) + b_hat\n",
    "    return np.mean((y_hat-y)**2)"
   ]
  },
  {
   "cell_type": "code",
   "execution_count": 10,
   "id": "2fa495cb-a422-48e3-b58c-eb7f9d45d387",
   "metadata": {},
   "outputs": [
    {
     "data": {
      "text/plain": [
       "(array([[ -15.29231999],\n",
       "        [ -38.404723  ],\n",
       "        [ -68.9202192 ],\n",
       "        [ -80.76276989],\n",
       "        [-102.88514364],\n",
       "        [-120.64326591]]),\n",
       " -17.26994172713603)"
      ]
     },
     "execution_count": 10,
     "metadata": {},
     "output_type": "execute_result"
    }
   ],
   "source": [
    "def diff(f,W_hat, b_hat):\n",
    "    h = 1e-4\n",
    "    dW = np.zeros_like(W_hat)\n",
    "    for i in range(W_hat.shape[0]):\n",
    "        for j in range(W_hat.shape[1]):\n",
    "            fx = f(W_hat, b_hat)            \n",
    "            tmp = W_hat[i,j]\n",
    "            W_hat[i,j] = tmp + h\n",
    "            fxh = f(W_hat, b_hat)\n",
    "            dW[i,j] = (fxh - fx)/h\n",
    "            W_hat[i,j] = tmp\n",
    "    fx = f(W_hat, b_hat)\n",
    "    fxh = f(W_hat, b_hat+h)\n",
    "    db = (fxh - fx)/h\n",
    "    return dW, db\n",
    "\n",
    "diff(cost, W_hat, b_hat)"
   ]
  },
  {
   "cell_type": "code",
   "execution_count": 16,
   "id": "8f714661-df8e-4d58-85b1-25ef696a1fd7",
   "metadata": {},
   "outputs": [
    {
     "data": {
      "text/plain": [
       "array([[-6.10734060e-08],\n",
       "       [ 2.50154129e-08],\n",
       "       [ 7.09510152e-07],\n",
       "       [-6.20127454e-07],\n",
       "       [-2.98607894e-07],\n",
       "       [-5.27165915e-07]])"
      ]
     },
     "execution_count": 16,
     "metadata": {},
     "output_type": "execute_result"
    }
   ],
   "source": [
    "# diff(cost, W_hat, b_hat)[0]"
   ]
  },
  {
   "cell_type": "code",
   "execution_count": 11,
   "id": "ac0fad91-6888-44ff-bf59-56ce777921da",
   "metadata": {},
   "outputs": [],
   "source": [
    "lr = 1e-3\n",
    "for _ in range(10000):\n",
    "    W_hat -= diff(cost, W_hat, b_hat)[0]*lr\n",
    "    b_hat -= diff(cost, W_hat, b_hat)[1]*lr"
   ]
  },
  {
   "cell_type": "code",
   "execution_count": 12,
   "id": "56840f74-c4f0-49db-aaea-f0ef6838b345",
   "metadata": {},
   "outputs": [
    {
     "name": "stdout",
     "output_type": "stream",
     "text": [
      "[[ 9.99994817]\n",
      " [19.99995098]\n",
      " [29.99995571]\n",
      " [39.99995526]\n",
      " [49.99995012]\n",
      " [59.99995004]]\n",
      "9.999950508626453\n"
     ]
    }
   ],
   "source": [
    "print(W_hat)\n",
    "print(b_hat)"
   ]
  },
  {
   "cell_type": "code",
   "execution_count": null,
   "id": "2f098a43-9bb6-4349-aa3f-af36d1365880",
   "metadata": {},
   "outputs": [],
   "source": []
  },
  {
   "cell_type": "code",
   "execution_count": 13,
   "id": "b0c5fc27-bc96-4472-bc05-6f79a6b4e10e",
   "metadata": {},
   "outputs": [
    {
     "data": {
      "text/plain": [
       "array([[ 0,  1,  2,  3,  4,  5],\n",
       "       [ 6,  7,  8,  9, 10, 11],\n",
       "       [12, 13, 14, 15, 16, 17],\n",
       "       [18, 19, 20, 21, 22, 23]])"
      ]
     },
     "execution_count": 13,
     "metadata": {},
     "output_type": "execute_result"
    }
   ],
   "source": [
    "a = np.arange(24).reshape(4, 6)\n",
    "a"
   ]
  },
  {
   "cell_type": "code",
   "execution_count": 18,
   "id": "fdfb4ded-67cf-4054-811b-263d9f06b02a",
   "metadata": {},
   "outputs": [],
   "source": [
    "a= a.reshape(-1,3)"
   ]
  },
  {
   "cell_type": "code",
   "execution_count": 19,
   "id": "cb5ed2ff-6cfc-48cd-9a45-dcc3bba38e32",
   "metadata": {},
   "outputs": [
    {
     "data": {
      "text/plain": [
       "(8, 3)"
      ]
     },
     "execution_count": 19,
     "metadata": {},
     "output_type": "execute_result"
    }
   ],
   "source": [
    "a.shape"
   ]
  },
  {
   "cell_type": "code",
   "execution_count": 20,
   "id": "7bf5686c-2f3d-44b1-b8c4-ac2977f6b29c",
   "metadata": {},
   "outputs": [
    {
     "data": {
      "text/plain": [
       "array([[ 0,  1,  2],\n",
       "       [ 3,  4,  5],\n",
       "       [ 6,  7,  8],\n",
       "       [ 9, 10, 11],\n",
       "       [12, 13, 14],\n",
       "       [15, 16, 17],\n",
       "       [18, 19, 20],\n",
       "       [21, 22, 23]])"
      ]
     },
     "execution_count": 20,
     "metadata": {},
     "output_type": "execute_result"
    }
   ],
   "source": [
    "a"
   ]
  },
  {
   "cell_type": "code",
   "execution_count": 22,
   "id": "4b3c569b-d954-42ba-a2c1-c63c6ab869af",
   "metadata": {},
   "outputs": [],
   "source": [
    "a = a.reshape(-1,1)"
   ]
  },
  {
   "cell_type": "code",
   "execution_count": 23,
   "id": "7b981a49-788d-4434-aa50-3f5960984eef",
   "metadata": {},
   "outputs": [
    {
     "data": {
      "text/plain": [
       "(24, 1)"
      ]
     },
     "execution_count": 23,
     "metadata": {},
     "output_type": "execute_result"
    }
   ],
   "source": [
    "a.shape"
   ]
  },
  {
   "cell_type": "code",
   "execution_count": null,
   "id": "2efbd0a8-93f0-4938-a546-c3d536705276",
   "metadata": {},
   "outputs": [],
   "source": []
  }
 ],
 "metadata": {
  "kernelspec": {
   "display_name": "bteam",
   "language": "python",
   "name": "bteam"
  },
  "language_info": {
   "codemirror_mode": {
    "name": "ipython",
    "version": 3
   },
   "file_extension": ".py",
   "mimetype": "text/x-python",
   "name": "python",
   "nbconvert_exporter": "python",
   "pygments_lexer": "ipython3",
   "version": "3.9.16"
  }
 },
 "nbformat": 4,
 "nbformat_minor": 5
}
