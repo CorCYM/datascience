{
 "cells": [
  {
   "cell_type": "code",
   "execution_count": 80,
   "id": "c2cf5f77-f1ce-46ce-94c5-61303fc74724",
   "metadata": {},
   "outputs": [],
   "source": [
    "import numpy as np\n",
    "from itertools import product"
   ]
  },
  {
   "cell_type": "code",
   "execution_count": 242,
   "id": "bf7588fa-9e93-41f5-b1ac-10f47ad22296",
   "metadata": {},
   "outputs": [],
   "source": [
    "tmp = [[0,1]]\n",
    "\n",
    "X = np.array([[i,j] for i,j in product(*tmp, repeat=2)])\n",
    "y_nand = np.array([[1],[1],[1],[0]])\n",
    "y_or = np.array([[0],[1],[1],[1]])\n",
    "y_and = np.array([[0],[0],[0],[1]])\n",
    "y_xor = np.array([[0],[1],[1],[0]])"
   ]
  },
  {
   "cell_type": "code",
   "execution_count": 108,
   "id": "c2b06dfd-3925-479a-a72f-7a89a64d135f",
   "metadata": {},
   "outputs": [
    {
     "data": {
      "text/plain": [
       "array([[0, 0],\n",
       "       [0, 1],\n",
       "       [1, 0],\n",
       "       [1, 1]])"
      ]
     },
     "execution_count": 108,
     "metadata": {},
     "output_type": "execute_result"
    }
   ],
   "source": [
    "X"
   ]
  },
  {
   "cell_type": "code",
   "execution_count": 96,
   "id": "98819172-17ca-4ccb-92ab-2686d23d0eeb",
   "metadata": {
    "tags": []
   },
   "outputs": [],
   "source": [
    "def step(x):\n",
    "    return np.where(x>0, 1, 0)\n",
    "\n",
    "def linear(x):\n",
    "    return x\n",
    "\n",
    "def sigmoid(x):\n",
    "    return 1/(1+np.exp(-x))\n",
    "\n",
    "class Activation:\n",
    "    def __init__(self, method):\n",
    "        self.method = method\n",
    "        \n",
    "    def __call__(self, x):\n",
    "        if self.method == 'step':\n",
    "            result = step(x)\n",
    "        elif self.method == 'sigmoid':\n",
    "            result = sigmoid(x)\n",
    "        elif self.method == 'linear':\n",
    "            result = linear(x)\n",
    "        \n",
    "        return result"
   ]
  },
  {
   "cell_type": "code",
   "execution_count": 83,
   "id": "887fe9e8-92e4-47c5-bfce-c58fe4044531",
   "metadata": {},
   "outputs": [
    {
     "data": {
      "text/plain": [
       "array([[0],\n",
       "       [0],\n",
       "       [1],\n",
       "       [1]])"
      ]
     },
     "execution_count": 83,
     "metadata": {},
     "output_type": "execute_result"
    }
   ],
   "source": [
    "Activation('step')(np.dot(X, np.random.randn(2,1)))"
   ]
  },
  {
   "cell_type": "code",
   "execution_count": 84,
   "id": "ed39f19b-10b6-4d60-8e16-d0f44b5d8e4d",
   "metadata": {},
   "outputs": [],
   "source": [
    "## 1. 가설함수\n",
    "## 2. 예측\n",
    "## 3. 예측결과 실제값을 비교함수(LOSS함수) --> 변수(W,b) 미분\n",
    "## 4. loss함수를 수치적 미분\n",
    "## 5. 미분값을 하강 --> gradient descent\n",
    "## 6. 2~5번 반복"
   ]
  },
  {
   "cell_type": "code",
   "execution_count": 85,
   "id": "421fb49d-a7f6-46ff-b139-3b9dfb9bb389",
   "metadata": {},
   "outputs": [],
   "source": [
    "## X와 W(weight) 내적연산 후 b를 더한다\n",
    "## 활성화함수(activation Function) 적용\n",
    "#2\n",
    "def predict(*args):\n",
    "    W, b = args\n",
    "    result = np.dot(X,W) + b\n",
    "    result = Activation('sigmoid')(result)\n",
    "    return result"
   ]
  },
  {
   "cell_type": "code",
   "execution_count": 86,
   "id": "f70e8c47-7659-4292-8207-f5b3455600fc",
   "metadata": {},
   "outputs": [
    {
     "data": {
      "text/plain": [
       "array([[0.5       ],\n",
       "       [0.62579495],\n",
       "       [0.72737021],\n",
       "       [0.81690829]])"
      ]
     },
     "execution_count": 86,
     "metadata": {},
     "output_type": "execute_result"
    }
   ],
   "source": [
    "W = np.random.randn(2,1)\n",
    "b = 0\n",
    "predict(W,b)"
   ]
  },
  {
   "cell_type": "code",
   "execution_count": 121,
   "id": "4b515125-56d3-4ac2-8e99-9b41634a3617",
   "metadata": {},
   "outputs": [],
   "source": [
    "#3 loss function\n",
    "def mean_squared_error(*args):\n",
    "    y_hat = predict(*args)\n",
    "    return np.mean(np.square(y_nand-y_hat))\n",
    "\n",
    "def binary_crossentropy(*args):\n",
    "    y_hat = predict(*args)\n",
    "    return -np.mean(y_xor*np.log(y_hat) + (1-y_xor)*np.log(1-y_hat))\n"
   ]
  },
  {
   "cell_type": "code",
   "execution_count": 88,
   "id": "e6b434e7-90e3-4747-ab76-cc189d45a6da",
   "metadata": {},
   "outputs": [
    {
     "data": {
      "text/plain": [
       "0.2829238923797043"
      ]
     },
     "execution_count": 88,
     "metadata": {},
     "output_type": "execute_result"
    }
   ],
   "source": [
    "mean_squared_error(W,b)"
   ]
  },
  {
   "cell_type": "code",
   "execution_count": 89,
   "id": "7b8b73c2-0b9c-4983-a758-913f91e5b58d",
   "metadata": {},
   "outputs": [],
   "source": [
    "#4\n",
    "def grad(loss, *args):\n",
    "    h = 1e-4\n",
    "    W, b = args\n",
    "    b = np.array([b])\n",
    "    grad_W =np.zeros_like(W)\n",
    "    rows = range(W.shape[0])\n",
    "    cols = range(W.shape[1])\n",
    "    for row in rows:\n",
    "        for col in cols:\n",
    "            tmp = W[row, col] ## 편미분 시 나머지 값들을 미분하기 위해 현재 값을 저장\n",
    "            fx = loss(W,b)\n",
    "            W[row,col] += h\n",
    "            fxh = loss(W,b)\n",
    "            dW = (fxh - fx)/h\n",
    "            grad_W[row,col] = dW\n",
    "            W[row, col] = tmp ## 1번의 값을 대체\n",
    "            \n",
    "    grad_b = np.zeros_like(b)\n",
    "    for i in range(b.size):\n",
    "        tmp = b[i]\n",
    "        fx = loss(W,b)\n",
    "        b[i] += h\n",
    "        fxh = loss(W,b)\n",
    "        db = (fxh-fx)/h\n",
    "        grad_b[i] = db\n",
    "        b[i] = tmp\n",
    "        \n",
    "    return grad_W, grad_b"
   ]
  },
  {
   "cell_type": "code",
   "execution_count": 90,
   "id": "3d5de523-ca70-4d70-b9a0-f2ba83640e18",
   "metadata": {},
   "outputs": [
    {
     "data": {
      "text/plain": [
       "(array([[0.03406073],\n",
       "        [0.01727783]]),\n",
       " array([0]))"
      ]
     },
     "execution_count": 90,
     "metadata": {},
     "output_type": "execute_result"
    }
   ],
   "source": [
    "grad(mean_squared_error , W, b)"
   ]
  },
  {
   "cell_type": "code",
   "execution_count": 127,
   "id": "6693c813-d90f-4579-9494-0d16ba6463a0",
   "metadata": {},
   "outputs": [],
   "source": [
    "# def gradient_descent(epochs, learning_rate, func):\n",
    "#     for i in range(epochs):\n",
    "#         print(W,b)\n",
    "#         W -= learning_rate*grad(mean_squared_error , W, b)[0]\n",
    "#         b -= learning_rate*grad(mean_squared_error , W, b)[1][0]\n",
    "#         print(W,b)"
   ]
  },
  {
   "cell_type": "code",
   "execution_count": 124,
   "id": "f1cf02ea-190c-4927-ad78-c268f084af96",
   "metadata": {
    "tags": []
   },
   "outputs": [],
   "source": [
    "np.random.seed(10)\n",
    "W = np.random.randn(2,1)\n",
    "b = 0\n",
    "epochs = 10000\n",
    "learning_rate = 1e-2\n",
    "\n",
    "for _ in range(epochs):\n",
    "    W -= learning_rate*grad(binary_crossentropy , W, b)[0]\n",
    "    b -= learning_rate*grad(binary_crossentropy , W, b)[1][0]\n",
    "#     # print(binary_crossentropy(W,b))\n",
    "#     # print(W,b)"
   ]
  },
  {
   "cell_type": "code",
   "execution_count": 125,
   "id": "b95d93ec-d883-4aee-bb38-a963d6044837",
   "metadata": {},
   "outputs": [
    {
     "data": {
      "text/plain": [
       "array([[0],\n",
       "       [0],\n",
       "       [0],\n",
       "       [1]])"
      ]
     },
     "execution_count": 125,
     "metadata": {},
     "output_type": "execute_result"
    }
   ],
   "source": [
    "np.where(predict(W,b)>0.5, 1, 0)"
   ]
  },
  {
   "cell_type": "code",
   "execution_count": 113,
   "id": "d5a9d324-08b8-44e4-8d1e-e10b87ed708d",
   "metadata": {},
   "outputs": [
    {
     "data": {
      "text/plain": [
       "array([[-2.9313222 ],\n",
       "       [-2.93848774]])"
      ]
     },
     "execution_count": 113,
     "metadata": {},
     "output_type": "execute_result"
    }
   ],
   "source": [
    "W"
   ]
  },
  {
   "cell_type": "code",
   "execution_count": 114,
   "id": "cc8d6b7e-4bb4-49e5-98a1-4c1f5e031224",
   "metadata": {},
   "outputs": [
    {
     "data": {
      "text/plain": [
       "4.623067461007704"
      ]
     },
     "execution_count": 114,
     "metadata": {},
     "output_type": "execute_result"
    }
   ],
   "source": [
    "b"
   ]
  },
  {
   "cell_type": "code",
   "execution_count": 251,
   "id": "36973508-0be6-4a3a-a286-5957e3e21bc1",
   "metadata": {},
   "outputs": [],
   "source": [
    "class Net:\n",
    "    def __init__(self, x, y, activation):\n",
    "        self.x = x\n",
    "        self.W = np.random.randn(x.shape[1],1)\n",
    "        self.b = np.array(x.shape[1]).reshape(-1,1).astype('float32')\n",
    "        self.y = y\n",
    "        self.activation = activation\n",
    "        self.count = 0\n",
    "    \n",
    "    def predict(self, x=None):\n",
    "        if x == None:\n",
    "            self.y_pred = np.dot(self.x, self.W) + self.b\n",
    "            self.y_pred = Activation(self.activation)(self.y_pred)\n",
    "            self.count += 1\n",
    "            print(f'predict =========>{self.count}')\n",
    "        else:\n",
    "            self.y_pred = np.dot(x, self.W) + self.b\n",
    "            self.y_pred = Activation(self.activation)(self.y_pred)\n",
    "            self.y_pred = np.where(self.y_pred > 0.5, 1, 0)\n",
    "        return self.y_pred\n",
    "    \n",
    "    def loss(self):\n",
    "        y_hat = self.predict()\n",
    "        return -np.mean(self.y*np.log(y_hat) + (1-self.y)*np.log(1-y_hat))\n",
    "    \n",
    "    def grad(self):\n",
    "        h = 1e-4\n",
    "        self.grad_W =np.zeros_like(W)\n",
    "        rows = range(W.shape[0])\n",
    "        cols = range(W.shape[1])\n",
    "        for row in rows:\n",
    "            for col in cols:\n",
    "                tmp = self.W[row, col] \n",
    "                fx = self.loss()\n",
    "                self.W[row,col] += h\n",
    "                fxh = self.loss()\n",
    "                dW = (fxh - fx)/h\n",
    "                self.grad_W[row,col] = dW\n",
    "                self.W[row, col] = tmp \n",
    "\n",
    "        self.grad_b = np.zeros_like(self.b)\n",
    "        for i in range(b.size):\n",
    "            tmp = self.b[i]\n",
    "            fx = self.loss()\n",
    "            self.b[i] += h\n",
    "            fxh = self.loss()\n",
    "            db = (fxh-fx)/h\n",
    "            self.grad_b[i] = db\n",
    "            self.b[i] = tmp\n",
    "        \n",
    "        return self.grad_W, self.grad_b\n",
    "    \n",
    "    \n",
    "    \n",
    "    def gradient_descent(self, epochs, learning_rate):\n",
    "        for _ in range(epochs):\n",
    "            self.W -= learning_rate*self.grad()[0]\n",
    "            self.b -= learning_rate*self.grad()[1][0]\n",
    "        "
   ]
  },
  {
   "cell_type": "code",
   "execution_count": 251,
   "id": "f26d8f38-2a48-4706-a326-55e039d8fbfc",
   "metadata": {},
   "outputs": [],
   "source": [
    "class Net:\n",
    "    def __init__(self, x, y):\n",
    "        self.x = x\n",
    "    \n",
    "    def add(self, W):\n",
    "        \n",
    "    \n",
    "    def predict(self, x=None):\n",
    "        if x == None:\n",
    "            self.y_pred = np.dot(self.x, self.W) + self.b\n",
    "            self.y_pred = Activation(self.activation)(self.y_pred)\n",
    "            self.count += 1\n",
    "            print(f'predict =========>{self.count}')\n",
    "        else:\n",
    "            self.y_pred = np.dot(x, self.W) + self.b\n",
    "            self.y_pred = Activation(self.activation)(self.y_pred)\n",
    "            self.y_pred = np.where(self.y_pred > 0.5, 1, 0)\n",
    "        return self.y_pred\n",
    "    \n",
    "    def loss(self):\n",
    "        y_hat = self.predict()\n",
    "        return -np.mean(self.y*np.log(y_hat) + (1-self.y)*np.log(1-y_hat))\n",
    "    \n",
    "    def grad(self):\n",
    "        h = 1e-4\n",
    "        self.grad_W =np.zeros_like(W)\n",
    "        rows = range(W.shape[0])\n",
    "        cols = range(W.shape[1])\n",
    "        for row in rows:\n",
    "            for col in cols:\n",
    "                tmp = self.W[row, col] \n",
    "                fx = self.loss()\n",
    "                self.W[row,col] += h\n",
    "                fxh = self.loss()\n",
    "                dW = (fxh - fx)/h\n",
    "                self.grad_W[row,col] = dW\n",
    "                self.W[row, col] = tmp \n",
    "\n",
    "        self.grad_b = np.zeros_like(self.b)\n",
    "        for i in range(b.size):\n",
    "            tmp = self.b[i]\n",
    "            fx = self.loss()\n",
    "            self.b[i] += h\n",
    "            fxh = self.loss()\n",
    "            db = (fxh-fx)/h\n",
    "            self.grad_b[i] = db\n",
    "            self.b[i] = tmp\n",
    "        \n",
    "        return self.grad_W, self.grad_b\n",
    "    \n",
    "    \n",
    "    \n",
    "    def gradient_descent(self, epochs, learning_rate):\n",
    "        for _ in range(epochs):\n",
    "            self.W -= learning_rate*self.grad()[0]\n",
    "            self.b -= learning_rate*self.grad()[1][0]\n",
    "        "
   ]
  },
  {
   "cell_type": "code",
   "execution_count": 252,
   "id": "f0107d91-67f1-48db-b0a0-8012b9c1714f",
   "metadata": {},
   "outputs": [],
   "source": [
    "network = Net(X, y_and, 'sigmoid')"
   ]
  },
  {
   "cell_type": "code",
   "execution_count": 253,
   "id": "62b6ab1d-12f4-450e-a2ab-f799548c0d98",
   "metadata": {},
   "outputs": [
    {
     "data": {
      "text/plain": [
       "array([[0.98132079],\n",
       "       [0.51421884]])"
      ]
     },
     "execution_count": 253,
     "metadata": {},
     "output_type": "execute_result"
    }
   ],
   "source": [
    "network.W"
   ]
  },
  {
   "cell_type": "code",
   "execution_count": 254,
   "id": "93356552-eb33-4f96-a9a4-f98e7b105ed3",
   "metadata": {},
   "outputs": [
    {
     "name": "stdout",
     "output_type": "stream",
     "text": [
      "predict =========>1\n"
     ]
    },
    {
     "data": {
      "text/plain": [
       "1.9449121042777426"
      ]
     },
     "execution_count": 254,
     "metadata": {},
     "output_type": "execute_result"
    }
   ],
   "source": [
    "network.loss()"
   ]
  },
  {
   "cell_type": "code",
   "execution_count": 255,
   "id": "4305f3e4-d1b0-4f13-a9e1-40d1341332d7",
   "metadata": {
    "tags": []
   },
   "outputs": [
    {
     "name": "stdout",
     "output_type": "stream",
     "text": [
      "predict =========>2\n",
      "predict =========>3\n"
     ]
    },
    {
     "ename": "IndexError",
     "evalue": "index 1 is out of bounds for axis 1 with size 1",
     "output_type": "error",
     "traceback": [
      "\u001b[0;31m---------------------------------------------------------------------------\u001b[0m",
      "\u001b[0;31mIndexError\u001b[0m                                Traceback (most recent call last)",
      "Cell \u001b[0;32mIn[255], line 1\u001b[0m\n\u001b[0;32m----> 1\u001b[0m \u001b[43mnetwork\u001b[49m\u001b[38;5;241;43m.\u001b[39;49m\u001b[43mgradient_descent\u001b[49m\u001b[43m(\u001b[49m\u001b[38;5;241;43m1\u001b[39;49m\u001b[43m,\u001b[49m\u001b[43m \u001b[49m\u001b[38;5;241;43m1e-2\u001b[39;49m\u001b[43m)\u001b[49m\n",
      "Cell \u001b[0;32mIn[251], line 57\u001b[0m, in \u001b[0;36mNet.gradient_descent\u001b[0;34m(self, epochs, learning_rate)\u001b[0m\n\u001b[1;32m     55\u001b[0m \u001b[38;5;28;01mdef\u001b[39;00m \u001b[38;5;21mgradient_descent\u001b[39m(\u001b[38;5;28mself\u001b[39m, epochs, learning_rate):\n\u001b[1;32m     56\u001b[0m     \u001b[38;5;28;01mfor\u001b[39;00m _ \u001b[38;5;129;01min\u001b[39;00m \u001b[38;5;28mrange\u001b[39m(epochs):\n\u001b[0;32m---> 57\u001b[0m         \u001b[38;5;28mself\u001b[39m\u001b[38;5;241m.\u001b[39mW \u001b[38;5;241m-\u001b[39m\u001b[38;5;241m=\u001b[39m learning_rate\u001b[38;5;241m*\u001b[39m\u001b[38;5;28;43mself\u001b[39;49m\u001b[38;5;241;43m.\u001b[39;49m\u001b[43mgrad\u001b[49m\u001b[43m(\u001b[49m\u001b[43m)\u001b[49m[\u001b[38;5;241m0\u001b[39m]\n\u001b[1;32m     58\u001b[0m         \u001b[38;5;28mself\u001b[39m\u001b[38;5;241m.\u001b[39mb \u001b[38;5;241m-\u001b[39m\u001b[38;5;241m=\u001b[39m learning_rate\u001b[38;5;241m*\u001b[39m\u001b[38;5;28mself\u001b[39m\u001b[38;5;241m.\u001b[39mgrad()[\u001b[38;5;241m1\u001b[39m][\u001b[38;5;241m0\u001b[39m]\n",
      "Cell \u001b[0;32mIn[251], line 33\u001b[0m, in \u001b[0;36mNet.grad\u001b[0;34m(self)\u001b[0m\n\u001b[1;32m     31\u001b[0m \u001b[38;5;28;01mfor\u001b[39;00m row \u001b[38;5;129;01min\u001b[39;00m rows:\n\u001b[1;32m     32\u001b[0m     \u001b[38;5;28;01mfor\u001b[39;00m col \u001b[38;5;129;01min\u001b[39;00m cols:\n\u001b[0;32m---> 33\u001b[0m         tmp \u001b[38;5;241m=\u001b[39m \u001b[38;5;28;43mself\u001b[39;49m\u001b[38;5;241;43m.\u001b[39;49m\u001b[43mW\u001b[49m\u001b[43m[\u001b[49m\u001b[43mrow\u001b[49m\u001b[43m,\u001b[49m\u001b[43m \u001b[49m\u001b[43mcol\u001b[49m\u001b[43m]\u001b[49m \n\u001b[1;32m     34\u001b[0m         fx \u001b[38;5;241m=\u001b[39m \u001b[38;5;28mself\u001b[39m\u001b[38;5;241m.\u001b[39mloss()\n\u001b[1;32m     35\u001b[0m         \u001b[38;5;28mself\u001b[39m\u001b[38;5;241m.\u001b[39mW[row,col] \u001b[38;5;241m+\u001b[39m\u001b[38;5;241m=\u001b[39m h\n",
      "\u001b[0;31mIndexError\u001b[0m: index 1 is out of bounds for axis 1 with size 1"
     ]
    }
   ],
   "source": [
    "network.gradient_descent(1, 1e-2)"
   ]
  },
  {
   "cell_type": "code",
   "execution_count": 221,
   "id": "856b5a91-0326-4fed-939f-636fbc45f2a7",
   "metadata": {},
   "outputs": [
    {
     "data": {
      "text/plain": [
       "array([[1]])"
      ]
     },
     "execution_count": 221,
     "metadata": {},
     "output_type": "execute_result"
    }
   ],
   "source": [
    "network.predict([[1,1]])"
   ]
  },
  {
   "cell_type": "code",
   "execution_count": null,
   "id": "837e7827-bd01-48b2-8ef9-dd01ab4d0e19",
   "metadata": {},
   "outputs": [],
   "source": [
    "isinstance([1], None)"
   ]
  },
  {
   "cell_type": "code",
   "execution_count": 176,
   "id": "e0897ea0-3e43-4e34-b702-b7f31813e89c",
   "metadata": {},
   "outputs": [
    {
     "data": {
      "text/plain": [
       "array([[0.88079708],\n",
       "       [0.98769013],\n",
       "       [0.90602773],\n",
       "       [0.99053868]])"
      ]
     },
     "execution_count": 176,
     "metadata": {},
     "output_type": "execute_result"
    }
   ],
   "source": [
    "network.predict(X)"
   ]
  },
  {
   "cell_type": "code",
   "execution_count": 243,
   "id": "09cae1ea-4248-4e9f-a181-c34a9011dd78",
   "metadata": {},
   "outputs": [],
   "source": [
    "np.random.seed(100)\n",
    "w_nand = np.random.randn(2,1)\n",
    "b_nand = 0\n",
    "w_or = np.random.randn(2,1)\n",
    "b_or = 0\n",
    "\n",
    "s1 = np.dot(X, w_nand) + b_nand\n",
    "s2 = np.dot(X, w_or) + b_or"
   ]
  },
  {
   "cell_type": "code",
   "execution_count": 245,
   "id": "3131cb49-34fc-46b4-9816-0bd36ff002c8",
   "metadata": {},
   "outputs": [],
   "source": [
    "np.random.seed(100)\n",
    "w_nand = np.random.randn(2,1)\n",
    "w_or = np.random.randn(2,1)\n",
    "W = np.c_[w_nand, w_or]\n",
    "s_ = np.dot(X,W) + np.array([b_nand, b_or])"
   ]
  },
  {
   "cell_type": "code",
   "execution_count": 248,
   "id": "61a4366a-4e11-4645-8357-e1178f777a73",
   "metadata": {},
   "outputs": [],
   "source": [
    "s = np.hstack([s1,s2])"
   ]
  },
  {
   "cell_type": "code",
   "execution_count": 249,
   "id": "29673dce-aaf6-4159-bb6d-ad68a97dbbe5",
   "metadata": {},
   "outputs": [
    {
     "data": {
      "text/plain": [
       "array([[ 0.        ,  0.        ],\n",
       "       [ 0.3426804 , -0.25243604],\n",
       "       [-1.74976547,  1.1530358 ],\n",
       "       [-1.40708507,  0.90059977]])"
      ]
     },
     "execution_count": 249,
     "metadata": {},
     "output_type": "execute_result"
    }
   ],
   "source": [
    "s"
   ]
  },
  {
   "cell_type": "code",
   "execution_count": 250,
   "id": "b9e8a428-e080-40d1-abc5-6e1fc4c65607",
   "metadata": {},
   "outputs": [
    {
     "data": {
      "text/plain": [
       "array([[ 0.        ,  0.        ],\n",
       "       [ 0.3426804 , -0.25243604],\n",
       "       [-1.74976547,  1.1530358 ],\n",
       "       [-1.40708507,  0.90059977]])"
      ]
     },
     "execution_count": 250,
     "metadata": {},
     "output_type": "execute_result"
    }
   ],
   "source": [
    "s_"
   ]
  },
  {
   "cell_type": "code",
   "execution_count": null,
   "id": "23669f8d-c3c7-45b3-9f45-24713f59f336",
   "metadata": {},
   "outputs": [],
   "source": []
  }
 ],
 "metadata": {
  "kernelspec": {
   "display_name": "bteam",
   "language": "python",
   "name": "bteam"
  },
  "language_info": {
   "codemirror_mode": {
    "name": "ipython",
    "version": 3
   },
   "file_extension": ".py",
   "mimetype": "text/x-python",
   "name": "python",
   "nbconvert_exporter": "python",
   "pygments_lexer": "ipython3",
   "version": "3.9.16"
  }
 },
 "nbformat": 4,
 "nbformat_minor": 5
}
