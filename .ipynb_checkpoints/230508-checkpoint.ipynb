{
 "cells": [
  {
   "cell_type": "code",
   "execution_count": 3,
   "id": "bc904f7a-7c83-448e-a312-a705bffa6ecd",
   "metadata": {},
   "outputs": [],
   "source": [
    "import numpy as np"
   ]
  },
  {
   "cell_type": "code",
   "execution_count": 8,
   "id": "cca3e7d9-5f97-4ee7-9925-142824964479",
   "metadata": {},
   "outputs": [],
   "source": [
    "## X,y\n",
    "X = np.random.randn(100, 1)\n",
    "a = 500\n",
    "y = X*a"
   ]
  },
  {
   "cell_type": "code",
   "execution_count": 9,
   "id": "4336b7d7-9c96-4511-956a-bb72d09424d8",
   "metadata": {},
   "outputs": [],
   "source": [
    "a_hat = np.random.randn(1)"
   ]
  },
  {
   "cell_type": "code",
   "execution_count": null,
   "id": "646c362f-d838-4e89-8954-49ffe366f4e0",
   "metadata": {},
   "outputs": [],
   "source": []
  },
  {
   "cell_type": "code",
   "execution_count": 10,
   "id": "7cf4b35f-cbc8-407d-b806-f52e1c1066ec",
   "metadata": {},
   "outputs": [
    {
     "name": "stdout",
     "output_type": "stream",
     "text": [
      " a_hat: [489.66768612] err : 103.61741326048956 -> 미분값 -20.05307003933923\n"
     ]
    }
   ],
   "source": [
    "for i in range(20000):\n",
    "    y_hat = a_hat*X ### 가설함수\n",
    "    err = np.mean((y-y_hat)**2)\n",
    "    diff_err = np.mean(2*X*(y_hat-y))\n",
    "    a_hat -= diff_err*1e-4\n",
    "    # print(f' a_hat: {a_hat} err : {err} -> 미분값 {diff_err}')\n",
    "print(f' a_hat: {a_hat} err : {err} -> 미분값 {diff_err}')"
   ]
  },
  {
   "cell_type": "code",
   "execution_count": 5,
   "id": "2449c081-c693-4918-9ee2-c33ac8984042",
   "metadata": {},
   "outputs": [],
   "source": [
    "X = np.random.randn(1000, 1)\n",
    "a = 18\n",
    "b = 1800\n",
    "y = X*a + b"
   ]
  },
  {
   "cell_type": "code",
   "execution_count": 6,
   "id": "b1d21273-c6ab-4668-9ccb-75a5b5c3447d",
   "metadata": {},
   "outputs": [],
   "source": [
    "## 초기값\n",
    "a_hat = np.random.randn(1)\n",
    "b_hat = 0"
   ]
  },
  {
   "cell_type": "code",
   "execution_count": 482,
   "id": "2f7041ae-cc6a-4998-be91-4acacfb7c1ea",
   "metadata": {},
   "outputs": [],
   "source": [
    "epochs = 10000\n",
    "learning_rate = 1e-3\n",
    "for _ in range(epochs):\n",
    "    ## 가설함수\n",
    "    y_hat = a_hat*X + b_hat\n",
    "    ## err (cost)\n",
    "    err = np.mean((y_hat - y)**2)\n",
    "\n",
    "    ## 미분값\n",
    "    diff_a_err = np.mean(2*X*(y_hat - y))\n",
    "    diff_b_err = np.mean(2*(y_hat-y))\n",
    "\n",
    "    ## 미분값을 적용해서 경사하강(Gradient Decsent)\n",
    "    a_hat -= diff_a_err*1e-3\n",
    "    b_hat -= diff_b_err*1e-3"
   ]
  },
  {
   "cell_type": "code",
   "execution_count": 483,
   "id": "cc10ff52-0885-425d-b3c8-b5350f492d80",
   "metadata": {},
   "outputs": [
    {
     "name": "stdout",
     "output_type": "stream",
     "text": [
      "[17.99999901]\n",
      "1799.9999961240594\n"
     ]
    }
   ],
   "source": [
    "print(a_hat)\n",
    "print(b_hat)"
   ]
  },
  {
   "cell_type": "code",
   "execution_count": null,
   "id": "a81c49ca-0886-4a76-ae9e-7415ddd73d90",
   "metadata": {},
   "outputs": [],
   "source": []
  },
  {
   "cell_type": "code",
   "execution_count": 484,
   "id": "d7d84690-a3af-4692-b3be-25b454da8431",
   "metadata": {},
   "outputs": [],
   "source": [
    "## 다변량"
   ]
  },
  {
   "cell_type": "code",
   "execution_count": 11,
   "id": "01a0df04-3305-45c7-a0d6-7a7d7ca70e8b",
   "metadata": {},
   "outputs": [],
   "source": [
    "x1 = np.random.randn(1000, 1)\n",
    "x2 = np.random.randn(1000, 1)\n",
    "a1 = 115\n",
    "a2 = -70\n",
    "b = 60\n",
    "y = x1*a1 + x2*a2 + b"
   ]
  },
  {
   "cell_type": "code",
   "execution_count": 12,
   "id": "6b727500-b4ff-4f35-a96c-42a0dd08b6b7",
   "metadata": {},
   "outputs": [],
   "source": [
    "a1_hat = -150\n",
    "a2_hat = 100\n",
    "b_hat = 0"
   ]
  },
  {
   "cell_type": "code",
   "execution_count": 487,
   "id": "2b7bb602-2b80-4d42-b92d-88c412b51994",
   "metadata": {},
   "outputs": [],
   "source": [
    "epochs = 10000\n",
    "learning_rate = 1e-3\n",
    "for _ in range(epochs):\n",
    "    ## 가설함수\n",
    "    y_hat = x1*a1_hat + x2*a2_hat + b_hat\n",
    "    err = np.mean((y-y_hat)**2)\n",
    "    diff_a1 = np.mean(2*x1*(y_hat - y))\n",
    "    diff_a2 = np.mean(2*x2*(y_hat - y))\n",
    "    diff_b = np.mean(2*(y_hat - y))\n",
    "\n",
    "    ## 경사하강\n",
    "    a1_hat -= diff_a1*learning_rate\n",
    "    a2_hat -= diff_a2*learning_rate\n",
    "    b_hat -= diff_b*learning_rate"
   ]
  },
  {
   "cell_type": "code",
   "execution_count": 488,
   "id": "d0a2290f-1e99-41b2-b745-d89ec7b81137",
   "metadata": {},
   "outputs": [
    {
     "name": "stdout",
     "output_type": "stream",
     "text": [
      "114.99999983344237\n",
      "-69.99999961648659\n",
      "59.999999731693435\n"
     ]
    }
   ],
   "source": [
    "print(a1_hat)\n",
    "print(a2_hat)\n",
    "print(b_hat)"
   ]
  },
  {
   "cell_type": "code",
   "execution_count": null,
   "id": "6216b72a-8604-491c-86f5-7ad84f2cea23",
   "metadata": {
    "jupyter": {
     "source_hidden": true
    },
    "tags": []
   },
   "outputs": [],
   "source": []
  },
  {
   "cell_type": "code",
   "execution_count": null,
   "id": "d6dafc63-dd52-4c75-9114-1800a8dd6f78",
   "metadata": {},
   "outputs": [],
   "source": []
  },
  {
   "cell_type": "code",
   "execution_count": 489,
   "id": "cf27c1fd-3d1a-409e-85e8-640d9caacd79",
   "metadata": {},
   "outputs": [],
   "source": [
    "a1 = 10\n",
    "a2 = 20\n",
    "a3 = 30\n",
    "a4 = 40\n",
    "x1 = np.random.randn(100)\n",
    "x2 = np.random.randn(100)\n",
    "x3 = np.random.randn(100)\n",
    "x4 = np.random.randn(100)\n",
    "y = x1*a1 + x2*a2 + x3*a3 + x4*a4"
   ]
  },
  {
   "cell_type": "code",
   "execution_count": 490,
   "id": "5cc15b62-71bb-4205-9531-e5e602ae0425",
   "metadata": {},
   "outputs": [
    {
     "data": {
      "text/plain": [
       "544.8710179071418"
      ]
     },
     "execution_count": 490,
     "metadata": {},
     "output_type": "execute_result"
    }
   ],
   "source": [
    "np.sum(y)"
   ]
  },
  {
   "cell_type": "code",
   "execution_count": 491,
   "id": "acf1671e-6ad5-41df-b797-d8233695f7c6",
   "metadata": {},
   "outputs": [],
   "source": [
    "X = np.c_[x1, x2, x3, x4]"
   ]
  },
  {
   "cell_type": "code",
   "execution_count": 492,
   "id": "d9269ed3-5508-4334-ba3d-f349fd40308f",
   "metadata": {},
   "outputs": [
    {
     "data": {
      "text/plain": [
       "(100, 4)"
      ]
     },
     "execution_count": 492,
     "metadata": {},
     "output_type": "execute_result"
    }
   ],
   "source": [
    "X.shape"
   ]
  },
  {
   "cell_type": "code",
   "execution_count": 493,
   "id": "bac89b53-4523-4770-a92b-8c017739b7ba",
   "metadata": {
    "collapsed": true,
    "jupyter": {
     "outputs_hidden": true
    },
    "tags": []
   },
   "outputs": [
    {
     "data": {
      "text/plain": [
       "array([[-1.68468932e+00, -1.54633465e-01,  3.35533940e-01,\n",
       "         7.30682001e-01],\n",
       "       [-9.08435520e-01,  2.11402926e+00,  1.01736140e+00,\n",
       "        -1.18330826e+00],\n",
       "       [ 5.22435309e-02,  4.73996973e-02, -6.36579728e-01,\n",
       "         4.98733620e-01],\n",
       "       [ 9.51775313e-01,  9.46236409e-01,  1.41645327e+00,\n",
       "         2.57773501e-01],\n",
       "       [-1.15355905e+00,  7.11616961e-03,  3.40812729e-01,\n",
       "         6.72978927e-01],\n",
       "       [ 2.60479953e-01, -3.51772817e-01,  1.37010257e+00,\n",
       "        -2.04566188e+00],\n",
       "       [-7.10612993e-01,  7.76139590e-02, -3.09440867e-01,\n",
       "        -1.38811904e+00],\n",
       "       [-8.96709180e-01, -1.79822880e-02,  1.05050042e+00,\n",
       "         1.02198738e+00],\n",
       "       [ 4.38474675e-01, -1.76321854e+00,  8.67520020e-01,\n",
       "         2.00267859e+00],\n",
       "       [-2.06393071e+00,  2.12162949e-01,  3.70287862e-01,\n",
       "         4.84004967e-01],\n",
       "       [-1.68210759e+00, -2.83199705e+00, -9.46255052e-01,\n",
       "        -1.11430442e+00],\n",
       "       [ 1.68588081e-02,  1.10115021e+00,  9.69951324e-01,\n",
       "         1.87192960e-01],\n",
       "       [ 3.26424149e-01, -4.28797341e-02,  5.13209763e-01,\n",
       "        -1.01240530e-01],\n",
       "       [ 6.49779187e-01, -1.73145494e+00,  1.43785413e+00,\n",
       "         6.00818562e-02],\n",
       "       [-6.09884711e-01,  9.98606571e-01, -1.30295403e+00,\n",
       "        -7.27285201e-01],\n",
       "       [ 9.56186055e-01, -6.76292627e-02, -1.19092510e+00,\n",
       "        -1.07606070e+00],\n",
       "       [-5.37031481e-02, -1.40604827e-03, -1.72279010e-01,\n",
       "        -1.05782589e+00],\n",
       "       [-2.26005869e-01,  1.22837003e+00, -8.92305972e-01,\n",
       "         3.62331835e-01],\n",
       "       [-4.07260211e-01, -8.38698911e-01, -4.15288939e-01,\n",
       "        -7.34921166e-01],\n",
       "       [ 1.32440161e-01, -5.03986292e-01, -8.19715553e-01,\n",
       "         1.30353141e+00],\n",
       "       [-1.25613431e-01, -1.08040314e+00, -4.06901622e-01,\n",
       "        -1.33802227e+00],\n",
       "       [-9.21709781e-01, -1.60551159e-01, -7.99101735e-01,\n",
       "        -3.34032778e-01],\n",
       "       [-7.21768063e-01,  4.83942310e-01,  5.96584479e-01,\n",
       "        -6.93380726e-01],\n",
       "       [ 1.25304286e+00,  6.65742353e-01, -4.73381068e-01,\n",
       "         3.96595947e-01],\n",
       "       [ 4.51676252e-01,  3.57074002e-01, -7.55280058e-01,\n",
       "        -6.69984571e-01],\n",
       "       [ 2.04865464e+00,  4.38970839e-01, -2.69479767e-01,\n",
       "        -1.73682145e+00],\n",
       "       [-6.05328684e-01, -1.11239715e+00,  6.24998969e-02,\n",
       "         1.35711484e+00],\n",
       "       [-1.30765656e-01,  7.88744114e-01,  2.09677222e+00,\n",
       "         4.96701962e-01],\n",
       "       [-9.32036311e-01, -1.11989721e+00,  9.55425077e-01,\n",
       "        -1.15214001e+00],\n",
       "       [ 1.22951347e+00, -1.56717083e+00,  2.66828141e-01,\n",
       "         3.09806841e-01],\n",
       "       [-4.99764543e-01, -5.93396934e-01, -2.21170329e-01,\n",
       "         2.41483315e-01],\n",
       "       [ 3.96707415e-01,  5.45352086e-01,  1.10708295e+00,\n",
       "         6.78548919e-01],\n",
       "       [-1.94317932e+00,  2.95097192e-01,  2.67610010e-01,\n",
       "        -1.70551056e+00],\n",
       "       [-2.51833213e+00, -5.35792455e-01, -5.84806559e-01,\n",
       "         5.34667839e-01],\n",
       "       [ 8.82734178e-01,  1.21939546e+00,  6.43970605e-01,\n",
       "         1.70894777e+00],\n",
       "       [ 2.18744976e-01,  6.93804586e-01, -1.96985892e-01,\n",
       "         3.65261185e-02],\n",
       "       [ 1.03209712e+00,  4.16343255e-01,  2.97114792e-01,\n",
       "         8.07975742e-01],\n",
       "       [ 1.13061023e+00, -1.32130214e-01, -2.47732499e-02,\n",
       "        -2.21458263e-01],\n",
       "       [-5.24476796e-01, -1.83371786e+00,  1.53620464e+00,\n",
       "        -1.45978311e+00],\n",
       "       [ 1.98509480e+00, -1.47032212e-01, -1.41139157e+00,\n",
       "        -3.51252841e-01],\n",
       "       [ 9.57053850e-01,  1.22160700e+00, -8.70021550e-01,\n",
       "        -5.82476227e-01],\n",
       "       [-4.87056065e-01, -2.60403667e-01, -4.29684179e-01,\n",
       "        -3.95273714e-01],\n",
       "       [-1.31778658e-01,  2.39272158e+00, -2.13725460e+00,\n",
       "         4.13857893e-02],\n",
       "       [-1.20686943e+00, -6.41532631e-01, -5.85639174e-01,\n",
       "        -1.26425977e+00],\n",
       "       [ 6.16967858e-01,  3.65561051e-01,  1.24156786e+00,\n",
       "        -8.26275771e-01],\n",
       "       [ 1.14880921e+00, -1.16950664e-01, -2.34447818e-01,\n",
       "        -2.76110120e-01],\n",
       "       [ 1.69352914e-01,  4.54874440e-01,  4.71200916e-01,\n",
       "        -2.75077037e-01],\n",
       "       [ 9.46962746e-01,  8.48442087e-01, -1.44997212e+00,\n",
       "        -2.49546898e+00],\n",
       "       [ 4.62428679e-01,  1.17558686e+00, -8.65902885e-01,\n",
       "        -8.62741117e-01],\n",
       "       [ 3.15905638e-01,  5.95554030e-01,  1.25581131e+00,\n",
       "        -4.03870230e-01],\n",
       "       [-3.77165511e-01,  8.73136364e-01,  5.57668558e-01,\n",
       "         1.77144852e-01],\n",
       "       [ 6.48742617e-01, -1.29892861e-01,  2.94201852e-01,\n",
       "        -1.08734968e-01],\n",
       "       [ 7.23121560e-01,  2.11550079e+00, -5.05730028e-02,\n",
       "        -5.58008331e-01],\n",
       "       [-2.12490378e-01, -7.52667415e-01, -1.30101663e+00,\n",
       "        -1.02910080e+00],\n",
       "       [ 1.37401460e-01, -6.74472230e-01, -2.40935191e-01,\n",
       "         2.69512841e-01],\n",
       "       [-7.37255563e-01, -1.14018540e+00,  8.88785289e-01,\n",
       "        -7.59596278e-01],\n",
       "       [ 2.30849927e-01,  1.89366109e+00, -1.16344404e-01,\n",
       "         8.31220518e-01],\n",
       "       [-5.21123751e-01,  1.13522956e+00,  3.88783256e-01,\n",
       "        -6.88495450e-01],\n",
       "       [ 5.60251743e-01,  1.53300747e+00,  2.33699921e-01,\n",
       "         1.14172236e+00],\n",
       "       [ 1.94013975e+00,  2.35884160e-01, -1.14436120e+00,\n",
       "        -2.33670684e-02],\n",
       "       [ 1.75695969e+00, -1.24597455e-02,  2.81675059e+00,\n",
       "         2.87371590e-01],\n",
       "       [-1.04658090e+00,  9.26903045e-02, -8.87943802e-02,\n",
       "         3.18972622e-01],\n",
       "       [ 3.74234458e-01, -5.53533827e-01,  1.62093961e-01,\n",
       "         2.26460074e-01],\n",
       "       [ 6.02724399e-01,  5.63470706e-02, -2.21904428e+00,\n",
       "        -3.95408822e-02],\n",
       "       [-9.41611040e-01, -8.65281985e-01, -1.94980101e-01,\n",
       "        -6.25789646e-01],\n",
       "       [-1.15434979e+00,  1.67130704e+00, -1.31908119e-01,\n",
       "         2.17550831e-02],\n",
       "       [-2.35618379e+00,  1.14577745e+00,  2.06810089e+00,\n",
       "         3.34094871e-01],\n",
       "       [-3.35295614e-01,  9.61455529e-01,  1.75819576e-01,\n",
       "        -1.39908222e+00],\n",
       "       [ 1.41349763e+00,  1.11169618e+00, -6.21796215e-02,\n",
       "        -2.09610588e+00],\n",
       "       [-1.25250973e+00, -1.57564526e+00, -1.03818182e+00,\n",
       "         4.73489674e-01],\n",
       "       [ 3.34355190e-02,  7.09918572e-01,  5.40238952e-01,\n",
       "         1.75541498e+00],\n",
       "       [ 9.85086257e-01,  5.07710849e-01,  1.04252263e+00,\n",
       "        -1.00734736e+00],\n",
       "       [ 8.27068382e-02, -6.37775284e-01,  1.97378829e-01,\n",
       "         1.40155727e+00],\n",
       "       [ 1.97704568e-01,  3.83535225e-01, -6.30455883e-01,\n",
       "        -1.23760218e+00],\n",
       "       [-1.01200135e+00, -2.51296492e-01,  2.27674428e+00,\n",
       "         1.25253486e+00],\n",
       "       [ 1.54310107e+00, -1.36522356e+00, -4.25734852e-01,\n",
       "        -9.65804463e-02],\n",
       "       [ 9.12514090e-01, -7.67372150e-01,  1.39434151e-01,\n",
       "         7.45002290e-01],\n",
       "       [ 3.61539392e-01,  9.98040548e-01,  1.26247352e+00,\n",
       "        -8.93194013e-01],\n",
       "       [ 1.12237014e+00, -9.73047984e-01, -1.80826453e+00,\n",
       "        -4.37470790e-01],\n",
       "       [ 7.79621407e-01, -8.83110241e-01,  1.21324600e+00,\n",
       "        -3.33744631e-01],\n",
       "       [ 4.65263778e-01,  8.80037791e-01,  8.95788564e-01,\n",
       "        -9.14247890e-01],\n",
       "       [-5.66297855e-01, -1.19205176e+00,  1.29127308e-02,\n",
       "         1.45711462e-01],\n",
       "       [ 3.35322023e-01, -1.11359416e+00, -8.93478869e-01,\n",
       "         2.34228498e-01],\n",
       "       [-5.48434136e-01, -6.65809048e-01, -7.93021916e-01,\n",
       "         1.34261693e+00],\n",
       "       [-7.23486156e-01, -7.05890615e-01,  2.04459068e+00,\n",
       "        -7.40252244e-01],\n",
       "       [ 6.57212455e-01,  6.06064171e-02,  6.34682401e-01,\n",
       "        -7.81785713e-01],\n",
       "       [-1.83397709e+00,  1.99691874e-01, -1.68412404e-01,\n",
       "         2.12828477e+00],\n",
       "       [ 7.80553476e-01, -3.49334793e-01,  3.96828565e-01,\n",
       "         8.35641277e-01],\n",
       "       [ 3.68247612e-02, -2.15424864e+00,  2.88450610e-01,\n",
       "        -3.65333731e-01],\n",
       "       [ 5.36971140e-01,  9.36129645e-02, -3.80414649e-01,\n",
       "         8.49736671e-01],\n",
       "       [-1.24366988e+00,  9.25963515e-01,  6.43324062e-01,\n",
       "         2.76346456e+00],\n",
       "       [ 8.22578174e-01,  1.94245935e+00,  1.49296337e-01,\n",
       "         1.50867642e-01],\n",
       "       [ 7.92770643e-01,  2.12613575e-01,  3.42628575e-01,\n",
       "        -3.11598587e-01],\n",
       "       [-1.61618578e-01,  2.38634098e-01, -5.04873378e-01,\n",
       "        -4.49760794e-01],\n",
       "       [ 9.04679779e-01, -9.24620278e-01,  1.60589305e+00,\n",
       "        -2.62056420e-01],\n",
       "       [-1.08878404e+00,  6.83820847e-01,  1.85131696e+00,\n",
       "        -1.36793531e+00],\n",
       "       [ 2.60637335e-01,  3.53615552e-01,  9.80094935e-01,\n",
       "        -3.66758668e-02],\n",
       "       [ 2.48749141e-01, -1.40413021e+00, -1.84337250e+00,\n",
       "        -3.82659538e-01],\n",
       "       [ 9.04737082e-01,  2.29760892e-01,  3.09154110e-01,\n",
       "         5.26472338e-01],\n",
       "       [ 3.11267197e-01,  9.07397770e-01, -1.70405408e+00,\n",
       "         2.85423487e-01]])"
      ]
     },
     "execution_count": 493,
     "metadata": {},
     "output_type": "execute_result"
    }
   ],
   "source": [
    "np.concatenate([x1,x2,x3,x4]).reshape(-1,4)"
   ]
  },
  {
   "cell_type": "code",
   "execution_count": 494,
   "id": "e96a8370-14fc-4798-97bd-8feed3bf5726",
   "metadata": {},
   "outputs": [
    {
     "data": {
      "text/plain": [
       "(4, 1)"
      ]
     },
     "execution_count": 494,
     "metadata": {},
     "output_type": "execute_result"
    }
   ],
   "source": [
    "W = np.r_[[[a1], [a2], [a3], [a4]]]\n",
    "W.shape"
   ]
  },
  {
   "cell_type": "code",
   "execution_count": 495,
   "id": "b90376c3-6eda-40b2-9b0e-8f2e1842f59b",
   "metadata": {},
   "outputs": [
    {
     "data": {
      "text/plain": [
       "(100, 1)"
      ]
     },
     "execution_count": 495,
     "metadata": {},
     "output_type": "execute_result"
    }
   ],
   "source": [
    "np.dot(X,W).shape"
   ]
  },
  {
   "cell_type": "code",
   "execution_count": 496,
   "id": "52dfa87a-eb1c-4d7f-bcc8-969e551bb777",
   "metadata": {
    "tags": []
   },
   "outputs": [
    {
     "data": {
      "text/plain": [
       "544.8710179071418"
      ]
     },
     "execution_count": 496,
     "metadata": {},
     "output_type": "execute_result"
    }
   ],
   "source": [
    "np.sum(np.dot(X,W))"
   ]
  },
  {
   "cell_type": "code",
   "execution_count": null,
   "id": "71e70215-f6c6-4377-aaa9-b9ce63337de3",
   "metadata": {},
   "outputs": [],
   "source": []
  },
  {
   "cell_type": "code",
   "execution_count": 497,
   "id": "6ef5bcf4-ff09-4915-bcd3-d48a088c9222",
   "metadata": {},
   "outputs": [
    {
     "name": "stdout",
     "output_type": "stream",
     "text": [
      "(100, 4)\n",
      "(4, 1)\n",
      "(100, 1)\n"
     ]
    }
   ],
   "source": [
    "X = np.random.randn(100, 4)\n",
    "W = np.array([[10], [20], [30], [40]])\n",
    "b = 1000\n",
    "y = np.dot(X,W) + b\n",
    "\n",
    "print(X.shape)\n",
    "print(W.shape)\n",
    "print(y.shape)"
   ]
  },
  {
   "cell_type": "code",
   "execution_count": 498,
   "id": "14deb9c3-53ec-4787-93f6-89992ad5539a",
   "metadata": {},
   "outputs": [],
   "source": [
    "W_hat = np.random.randn(4,1)\n",
    "b_hat = 0"
   ]
  },
  {
   "cell_type": "code",
   "execution_count": 499,
   "id": "d462e7f0-7719-4784-b54d-9fdbc09ca191",
   "metadata": {},
   "outputs": [],
   "source": [
    "# np.sum(np.random.randn(100,3), axis=0)\n",
    "# np.sum(np.random.randn(10,5,3), axis=1)"
   ]
  },
  {
   "cell_type": "code",
   "execution_count": 500,
   "id": "f8b0d764-01d6-4437-b84a-f122c87c4f9b",
   "metadata": {},
   "outputs": [],
   "source": [
    "epochs = 1000\n",
    "learning_rate = 1e-3\n",
    "for _ in range(epochs):    \n",
    "    y_hat = np.dot(X,W_hat) + b_hat\n",
    "    err = np.mean((y - y_hat)**2)\n",
    "    diff_w = np.dot(X.T,(y_hat - y))   ### X가 transpose 되어야함\n",
    "    diff_b = np.mean(2*(y_hat - y))\n",
    "    W_hat -= diff_w*learning_rate\n",
    "    b_hat -= diff_b*learning_rate"
   ]
  },
  {
   "cell_type": "code",
   "execution_count": 501,
   "id": "8629eb61-1410-40e0-a4ea-0a20dfe7f561",
   "metadata": {},
   "outputs": [
    {
     "data": {
      "text/plain": [
       "array([[-1.2765089 ],\n",
       "       [33.83591558],\n",
       "       [41.51777761],\n",
       "       [29.74142663]])"
      ]
     },
     "execution_count": 501,
     "metadata": {},
     "output_type": "execute_result"
    }
   ],
   "source": [
    "W_hat"
   ]
  },
  {
   "cell_type": "code",
   "execution_count": 502,
   "id": "90303c5e-2684-4984-8b8d-9432380ebf21",
   "metadata": {},
   "outputs": [
    {
     "data": {
      "text/plain": [
       "859.357557304527"
      ]
     },
     "execution_count": 502,
     "metadata": {},
     "output_type": "execute_result"
    }
   ],
   "source": [
    "b_hat"
   ]
  },
  {
   "cell_type": "code",
   "execution_count": null,
   "id": "1e30da36-07b4-4b97-923e-f8c9779bd7d0",
   "metadata": {},
   "outputs": [],
   "source": []
  },
  {
   "cell_type": "code",
   "execution_count": 503,
   "id": "c4a95f1e-2887-4e83-9c75-bac680f6e18f",
   "metadata": {},
   "outputs": [],
   "source": [
    "## 수치미분"
   ]
  },
  {
   "cell_type": "code",
   "execution_count": 504,
   "id": "9cf39f98-1e88-40c5-b82b-b8d149c7ac4d",
   "metadata": {},
   "outputs": [],
   "source": [
    "X = np.random.randn(100,1)\n",
    "W = 1000\n",
    "y =X*W"
   ]
  },
  {
   "cell_type": "code",
   "execution_count": 505,
   "id": "71d22cde-31d9-4647-ad09-973e80c6a713",
   "metadata": {},
   "outputs": [],
   "source": [
    "def diff(f, x):\n",
    "    h = 1e-7\n",
    "    fx = f(x)\n",
    "    fxh = f(x+h)\n",
    "    return (fxh - fx)/h"
   ]
  },
  {
   "cell_type": "code",
   "execution_count": 506,
   "id": "fa60e9b9-11ec-4cde-b72f-7119ae7d82e9",
   "metadata": {},
   "outputs": [
    {
     "data": {
      "text/plain": [
       "20.999999890136678"
      ]
     },
     "execution_count": 506,
     "metadata": {},
     "output_type": "execute_result"
    }
   ],
   "source": [
    "f = lambda x: x**2 + x\n",
    "diff(f, 10)"
   ]
  },
  {
   "cell_type": "code",
   "execution_count": 507,
   "id": "a28d5684-2707-4cf1-9a6e-f36806b051db",
   "metadata": {},
   "outputs": [],
   "source": [
    "W_hat = np.random.randn(1)"
   ]
  },
  {
   "cell_type": "code",
   "execution_count": 508,
   "id": "275c0cb4-82d6-413d-847c-936532123bac",
   "metadata": {},
   "outputs": [
    {
     "data": {
      "text/plain": [
       "array([-0.05241351])"
      ]
     },
     "execution_count": 508,
     "metadata": {},
     "output_type": "execute_result"
    }
   ],
   "source": [
    "W_hat"
   ]
  },
  {
   "cell_type": "code",
   "execution_count": 509,
   "id": "34fab2ad-3930-4e82-be17-0a8067929410",
   "metadata": {},
   "outputs": [],
   "source": [
    "def err(W_hat):\n",
    "    y_hat = X*W_hat\n",
    "    return np.sum((y_hat - y)**2)\n",
    "\n",
    "epochs = 10000\n",
    "learning_rate = 1e-3\n",
    "for _ in range(epochs):\n",
    "    y_hat =  X*W_hat\n",
    "    W_hat -= diff(err, W_hat)*learning_rate"
   ]
  },
  {
   "cell_type": "code",
   "execution_count": 510,
   "id": "98aef239-5ee2-4741-ad94-6b6317e06b3c",
   "metadata": {},
   "outputs": [
    {
     "data": {
      "text/plain": [
       "array([999.99999995])"
      ]
     },
     "execution_count": 510,
     "metadata": {},
     "output_type": "execute_result"
    }
   ],
   "source": [
    "W_hat"
   ]
  },
  {
   "cell_type": "code",
   "execution_count": 511,
   "id": "fae941a8-e1c0-4041-8ba6-b5bac56882a1",
   "metadata": {},
   "outputs": [],
   "source": [
    "X = np.random.randn(100,1)\n",
    "W = 100\n",
    "b = -100\n",
    "y = X*W + b"
   ]
  },
  {
   "cell_type": "code",
   "execution_count": 512,
   "id": "619b03c0-f6db-472d-9b71-f0b9abe9bf14",
   "metadata": {},
   "outputs": [],
   "source": [
    "W_hat = np.random.randn(1)\n",
    "b_hat = 0"
   ]
  },
  {
   "cell_type": "code",
   "execution_count": 513,
   "id": "229d3cb2-b1d3-4c45-aa3d-b3d486bdb2a5",
   "metadata": {},
   "outputs": [
    {
     "data": {
      "text/plain": [
       "array([-0.95720263])"
      ]
     },
     "execution_count": 513,
     "metadata": {},
     "output_type": "execute_result"
    }
   ],
   "source": [
    "y_hat = X*W_hat + b_hat\n",
    "W_hat"
   ]
  },
  {
   "cell_type": "code",
   "execution_count": null,
   "id": "1b1227a0-ce10-44ee-8a01-2f6730ac567c",
   "metadata": {},
   "outputs": [],
   "source": []
  },
  {
   "cell_type": "code",
   "execution_count": 514,
   "id": "14f5546a-3d10-4f66-bab6-1e392611e603",
   "metadata": {},
   "outputs": [],
   "source": [
    "def diff(f,x):\n",
    "    h = 1e-4\n",
    "    fx = f(x)\n",
    "    fxh = f(x+h)\n",
    "    return (fxh - fx)/h"
   ]
  },
  {
   "cell_type": "code",
   "execution_count": 515,
   "id": "2865b0b6-8bb8-44ea-99a8-fbc86e25e695",
   "metadata": {},
   "outputs": [],
   "source": [
    "X = np.random.randn(100,1)\n",
    "W = 100\n",
    "y = X*W + 1000"
   ]
  },
  {
   "cell_type": "code",
   "execution_count": 516,
   "id": "bd9a8f32-6494-46fc-a15d-3dea7dbdfaf0",
   "metadata": {},
   "outputs": [],
   "source": [
    "def err(y_hat):\n",
    "    y_hat = X*W_hat + b_hat   \n",
    "    return np.sum((y_hat - y)**2)"
   ]
  },
  {
   "cell_type": "code",
   "execution_count": 517,
   "id": "bc12aae7-cff7-4f4b-9674-2a1da84c754f",
   "metadata": {},
   "outputs": [],
   "source": [
    "W_hat = 0\n",
    "b_hat = 0"
   ]
  },
  {
   "cell_type": "code",
   "execution_count": 518,
   "id": "9e36f2e8-a644-4056-92c6-1215b372cab1",
   "metadata": {},
   "outputs": [],
   "source": [
    "learning_rate = 1e-3\n",
    "epochs = 10000\n",
    "for _ in range(epochs):\n",
    "    y_hat = X*W_hat + b_hat\n",
    "    W_hat -= diff(err, y_hat)*learning_rate\n",
    "    \n",
    "learning_rate = 1e-3\n",
    "epochs = 10000\n",
    "for _ in range(epochs):\n",
    "    y_hat = X*W_hat + b_hat\n",
    "    b_hat -= diff(err, y_hat)*learning_rate"
   ]
  },
  {
   "cell_type": "code",
   "execution_count": null,
   "id": "33dab2a0-6dd4-4bed-83fe-5c8817d267be",
   "metadata": {},
   "outputs": [],
   "source": []
  },
  {
   "cell_type": "code",
   "execution_count": null,
   "id": "380ef446-ef23-438e-9eff-897dc59f9c76",
   "metadata": {},
   "outputs": [],
   "source": []
  },
  {
   "cell_type": "code",
   "execution_count": null,
   "id": "1cb0c102-639d-46ce-904d-991e0e2b25d6",
   "metadata": {},
   "outputs": [],
   "source": []
  },
  {
   "cell_type": "code",
   "execution_count": 519,
   "id": "157d20cd-20a3-4b2b-b00a-3d8da90c4c19",
   "metadata": {},
   "outputs": [],
   "source": [
    "X = np.random.randn(1000, 1)\n",
    "W = 100\n",
    "b = -100\n",
    "y = X*W + b\n",
    "W_hat = 0\n",
    "b_hat = 0"
   ]
  },
  {
   "cell_type": "code",
   "execution_count": 520,
   "id": "f9f5dee4-4786-43b0-91e7-f72d11af8026",
   "metadata": {},
   "outputs": [],
   "source": [
    "def error(W_hat):\n",
    "    y_hat = X*W_hat + b_hat\n",
    "    return np.mean((y_hat - y)**2)"
   ]
  },
  {
   "cell_type": "code",
   "execution_count": 521,
   "id": "dea3a05e-8617-4bc7-ba1b-8672f9c2531a",
   "metadata": {},
   "outputs": [],
   "source": [
    "def error2(b_hat):\n",
    "    y_hat = X*W_hat + b_hat\n",
    "    return np.mean((y_hat - y)**2)"
   ]
  },
  {
   "cell_type": "code",
   "execution_count": 522,
   "id": "e08c921c-d0b9-4423-87f6-9f68e2fd781e",
   "metadata": {},
   "outputs": [],
   "source": [
    "epochs = 10000\n",
    "lr = 1e-3\n",
    "for _ in range(epochs):\n",
    "    # print(W_hat)\n",
    "    y_hat = X*W_hat + b_hat\n",
    "    W_hat -= diff(error, W_hat)*lr\n",
    "    b_hat -= diff(error2, b_hat)*lr"
   ]
  },
  {
   "cell_type": "code",
   "execution_count": 523,
   "id": "4b305bc9-f53a-48c5-b283-c645e63eeca4",
   "metadata": {},
   "outputs": [
    {
     "data": {
      "text/plain": [
       "99.99995022130886"
      ]
     },
     "execution_count": 523,
     "metadata": {},
     "output_type": "execute_result"
    }
   ],
   "source": [
    "W_hat"
   ]
  },
  {
   "cell_type": "code",
   "execution_count": 524,
   "id": "7cc804ea-c8b0-4e06-b26f-5fd71b2283ca",
   "metadata": {},
   "outputs": [
    {
     "data": {
      "text/plain": [
       "-100.00004946631282"
      ]
     },
     "execution_count": 524,
     "metadata": {},
     "output_type": "execute_result"
    }
   ],
   "source": [
    "b_hat"
   ]
  },
  {
   "cell_type": "code",
   "execution_count": null,
   "id": "53ece3b6-ac5d-4304-97b6-db5e63e603b3",
   "metadata": {},
   "outputs": [],
   "source": []
  },
  {
   "cell_type": "code",
   "execution_count": 525,
   "id": "70ce5028-a8ca-49da-b749-458efa6c699f",
   "metadata": {},
   "outputs": [],
   "source": [
    "## 초기값\n",
    "X = np.random.randn(1000, 1)\n",
    "W = 100\n",
    "b = 150\n",
    "y = X*W + b\n",
    "\n",
    "## 학습을 위한 초기값\n",
    "W_hat = np.random.randn(1)\n",
    "b_hat = np.random.randn(1)\n",
    "\n",
    "## cost 함수 (error)\n",
    "def cost_a(W_hat):\n",
    "    y_hat = X*W_hat + b_hat\n",
    "    return np.mean((y - y_hat)**2)\n",
    "def cost_b(b_hat):\n",
    "    y_hat = X*W_hat + b_hat\n",
    "    return np.mean((y - y_hat)**2)\n",
    "\n",
    "## 미분함수\n",
    "def diff(f, x):\n",
    "    h = 1e-4\n",
    "    fx = f(x)\n",
    "    fxh = f(x+h)\n",
    "    return (fxh -fx)/h"
   ]
  },
  {
   "cell_type": "code",
   "execution_count": 526,
   "id": "d45d8387-8eaa-4915-b95f-8f4208d2c3c1",
   "metadata": {},
   "outputs": [],
   "source": [
    "epochs = 10000\n",
    "lr = 1e-3\n",
    "for _ in range(epochs):\n",
    "    y_hat = X*W_hat + b_hat\n",
    "    W_hat -= diff(cost_a, W_hat)*lr\n",
    "    b_hat -= diff(cost_b, b_hat)*lr"
   ]
  },
  {
   "cell_type": "code",
   "execution_count": 527,
   "id": "bd241e88-548c-40e2-a852-0e66909c0d19",
   "metadata": {},
   "outputs": [
    {
     "name": "stdout",
     "output_type": "stream",
     "text": [
      "[99.99995115]\n",
      "[149.99995094]\n"
     ]
    }
   ],
   "source": [
    "print(W_hat)\n",
    "print(b_hat)"
   ]
  },
  {
   "cell_type": "code",
   "execution_count": null,
   "id": "810bc906-4577-45d5-8bb9-3d692643a49f",
   "metadata": {},
   "outputs": [],
   "source": []
  },
  {
   "cell_type": "code",
   "execution_count": 563,
   "id": "15c5bf3d-f995-4a87-80a0-a56332300c97",
   "metadata": {},
   "outputs": [],
   "source": [
    "def cost(W, b):\n",
    "    y_hat = X*W + b\n",
    "    return np.mean((y_hat - y)**2)\n",
    "\n",
    "def diff(f, W, b):\n",
    "    h = 1e-4\n",
    "    \n",
    "    fx_W = f(W,b)\n",
    "    fxh_W = f(W+h,b)\n",
    "    dW = (fxh_W-fx_W)/h\n",
    "    \n",
    "    fx_b = f(W,b)\n",
    "    fxh_b = f(W,b+h)\n",
    "    db = (fxh_b-fx_b)/h\n",
    "    \n",
    "    return dW, db"
   ]
  },
  {
   "cell_type": "code",
   "execution_count": 564,
   "id": "b541b4ea-13de-4b6c-8f45-536158126b25",
   "metadata": {},
   "outputs": [],
   "source": [
    "X = np.random.randn(1000, 1)\n",
    "W = 1230\n",
    "b = -19\n",
    "y = X*W + b"
   ]
  },
  {
   "cell_type": "code",
   "execution_count": 565,
   "id": "af69f882-ac33-4677-b106-ddc5cc3ff0a7",
   "metadata": {},
   "outputs": [],
   "source": [
    "W_hat = np.random.randn(1)\n",
    "b_hat = 0"
   ]
  },
  {
   "cell_type": "code",
   "execution_count": 566,
   "id": "906f6d96-e688-407e-9e68-bb25589ada0e",
   "metadata": {},
   "outputs": [
    {
     "data": {
      "text/plain": [
       "(array([0.83343973]), 0)"
      ]
     },
     "execution_count": 566,
     "metadata": {},
     "output_type": "execute_result"
    }
   ],
   "source": [
    "W_hat, b_hat"
   ]
  },
  {
   "cell_type": "code",
   "execution_count": 567,
   "id": "16db61ba-6244-46f0-a28f-c5ec9c84c5ec",
   "metadata": {
    "tags": []
   },
   "outputs": [
    {
     "data": {
      "text/plain": [
       "(-2582.2095456533134, 92.20766369253397)"
      ]
     },
     "execution_count": 567,
     "metadata": {},
     "output_type": "execute_result"
    }
   ],
   "source": [
    "diff(cost, W_hat, b_hat)"
   ]
  },
  {
   "cell_type": "code",
   "execution_count": 568,
   "id": "9609c96c-dff3-4697-b461-dfdc5ee6633b",
   "metadata": {
    "tags": []
   },
   "outputs": [
    {
     "name": "stdout",
     "output_type": "stream",
     "text": [
      "[1229.9999479] -19.000051798676136\n"
     ]
    }
   ],
   "source": [
    "lr = 1e-3\n",
    "epoch = 10000\n",
    "for _ in range(epochs):\n",
    "    # print(W_hat[0], b_hat)\n",
    "    W_hat -= diff(cost, W_hat, b_hat)[0]*lr\n",
    "    b_hat -= diff(cost, W_hat, b_hat)[1]*lr\n",
    "print(W_hat, b_hat)"
   ]
  },
  {
   "cell_type": "code",
   "execution_count": null,
   "id": "30548cae-2d52-4846-890a-0b855c179a90",
   "metadata": {},
   "outputs": [],
   "source": []
  },
  {
   "cell_type": "code",
   "execution_count": 599,
   "id": "811317cf-73fa-4050-bd20-b2a9ffc11e66",
   "metadata": {},
   "outputs": [],
   "source": [
    "W = np.array([[7], [17], [8], [5]])"
   ]
  },
  {
   "cell_type": "code",
   "execution_count": 600,
   "id": "82c472ed-0f83-483f-9989-111678e7662f",
   "metadata": {},
   "outputs": [
    {
     "data": {
      "text/plain": [
       "array([[ 7],\n",
       "       [17],\n",
       "       [ 8],\n",
       "       [ 5]])"
      ]
     },
     "execution_count": 600,
     "metadata": {},
     "output_type": "execute_result"
    }
   ],
   "source": [
    "W"
   ]
  },
  {
   "cell_type": "code",
   "execution_count": 601,
   "id": "15eeaf18-8f6c-4797-9dec-b463abf557c5",
   "metadata": {},
   "outputs": [],
   "source": [
    "b = 22"
   ]
  },
  {
   "cell_type": "code",
   "execution_count": 602,
   "id": "b2156341-d541-4997-9915-f4a062ec3560",
   "metadata": {},
   "outputs": [],
   "source": [
    "X = np.random.randn(1000,4)\n",
    "y = np.dot(X,W) + b"
   ]
  },
  {
   "cell_type": "code",
   "execution_count": 603,
   "id": "af7df89f-4165-4e64-b8cf-400a9383a26b",
   "metadata": {},
   "outputs": [],
   "source": [
    "W_hat = np.random.randn(4,1)\n",
    "b_hat = 0"
   ]
  },
  {
   "cell_type": "code",
   "execution_count": 604,
   "id": "14812e4f-999f-485c-98dd-a7777a93161e",
   "metadata": {},
   "outputs": [],
   "source": [
    "y_hat = np.dot(X,W_hat) + b_hat"
   ]
  },
  {
   "cell_type": "code",
   "execution_count": 605,
   "id": "04ef7a49-5f3f-472f-9499-58cfdd5a0838",
   "metadata": {},
   "outputs": [],
   "source": [
    "def cost(W_hat, b_hat):\n",
    "    y_hat = np.dot(X,W_hat) + b_hat\n",
    "    return np.mean((y_hat-y)**2)"
   ]
  },
  {
   "cell_type": "code",
   "execution_count": 606,
   "id": "fc6108c4-4f2d-47ce-820b-8126f2cebc26",
   "metadata": {
    "collapsed": true,
    "jupyter": {
     "outputs_hidden": true
    },
    "tags": []
   },
   "outputs": [
    {
     "data": {
      "text/plain": [
       "[2, 4, 6, 8, 10]"
      ]
     },
     "execution_count": 606,
     "metadata": {},
     "output_type": "execute_result"
    }
   ],
   "source": [
    "[ i for i in range(1,11) if i%2 ==0 ]"
   ]
  },
  {
   "cell_type": "code",
   "execution_count": 607,
   "id": "84be591c-6d63-44dc-9357-1ee837939a3f",
   "metadata": {
    "tags": []
   },
   "outputs": [
    {
     "data": {
      "text/plain": [
       "(array([[-10.68227782],\n",
       "        [-33.12406192],\n",
       "        [-14.66825882],\n",
       "        [-12.86675903]]),\n",
       " -46.00010786020903)"
      ]
     },
     "execution_count": 607,
     "metadata": {},
     "output_type": "execute_result"
    }
   ],
   "source": [
    "def diff(f,W_hat, b_hat):\n",
    "    h = 1e-4\n",
    "    dW = np.zeros_like(W_hat)\n",
    "    for i in range(W_hat.shape[0]):\n",
    "        for j in range(W_hat.shape[1]):\n",
    "            fx = f(W_hat, b_hat)            \n",
    "            tmp = W_hat[i,j]\n",
    "            W_hat[i,j] = tmp + h\n",
    "            fxh = f(W_hat, b_hat)\n",
    "            dW[i,j] = (fxh - fx)/h\n",
    "            W_hat[i,j] = tmp\n",
    "    fx = f(W_hat, b_hat)\n",
    "    fxh = f(W_hat, b_hat+h)\n",
    "    db = (fxh - fx)/h\n",
    "    return dW, db\n",
    "\n",
    "diff(cost, W_hat, b_hat)"
   ]
  },
  {
   "cell_type": "code",
   "execution_count": 608,
   "id": "34319a93-bd77-4dff-a47c-955a94dbfcfe",
   "metadata": {},
   "outputs": [],
   "source": [
    "lr = 1e-3\n",
    "for _ in range(10000):\n",
    "    W_hat -= diff(cost, W_hat, b_hat)[0]*lr\n",
    "    b_hat -= diff(cost, W_hat, b_hat)[1]*lr"
   ]
  },
  {
   "cell_type": "code",
   "execution_count": 609,
   "id": "207577de-1e83-420a-bb73-86c3961fc526",
   "metadata": {},
   "outputs": [
    {
     "data": {
      "text/plain": [
       "array([[ 6.99994761],\n",
       "       [16.99994917],\n",
       "       [ 7.99994562],\n",
       "       [ 4.99994721]])"
      ]
     },
     "execution_count": 609,
     "metadata": {},
     "output_type": "execute_result"
    }
   ],
   "source": [
    "W_hat"
   ]
  },
  {
   "cell_type": "code",
   "execution_count": 610,
   "id": "aa04718a-f155-4320-bd32-bcc47c0ff845",
   "metadata": {},
   "outputs": [
    {
     "data": {
      "text/plain": [
       "21.999954706071197"
      ]
     },
     "execution_count": 610,
     "metadata": {},
     "output_type": "execute_result"
    }
   ],
   "source": [
    "b_hat"
   ]
  },
  {
   "cell_type": "code",
   "execution_count": 594,
   "id": "f3150ff3-449c-4ca2-90c8-31f2d115d8c7",
   "metadata": {},
   "outputs": [],
   "source": [
    "## 1. 가설함수 설정\n",
    "## 2. 가설함수를 사용하여 예측값을 구한다.\n",
    "## 3. 예측값과 실제값을 오차함수를 통해 오차를 구한다.\n",
    "## 4. 오차함수를 미분\n",
    "## 5. 미분값을 lr 곱해서 빼준 후 각각의 파라메터를 업데이트 한다\n",
    "## 6. 1 ~ 5을 반복"
   ]
  },
  {
   "cell_type": "code",
   "execution_count": null,
   "id": "9ef76bce-04ff-4c1a-8c18-753b4241976b",
   "metadata": {},
   "outputs": [],
   "source": []
  },
  {
   "cell_type": "code",
   "execution_count": 612,
   "id": "01b591d7-66d2-456b-b4e8-d8a6e1d598ae",
   "metadata": {},
   "outputs": [],
   "source": [
    "## sigmoid 함수 => 불균형한 데이터를 압축해줌\n",
    "## fx = 1+e**(-x)"
   ]
  },
  {
   "cell_type": "code",
   "execution_count": 4,
   "id": "cca66611-8c77-410e-aa18-4f631bb5c488",
   "metadata": {},
   "outputs": [],
   "source": [
    "def sigmoid(x):\n",
    "    return 1/(1+np.exp(-x))"
   ]
  },
  {
   "cell_type": "code",
   "execution_count": 5,
   "id": "4167f5f1-f66f-4d3f-915a-e7952a57725b",
   "metadata": {},
   "outputs": [],
   "source": [
    "x = np.linspace(-5,5,100)"
   ]
  },
  {
   "cell_type": "code",
   "execution_count": 6,
   "id": "c517ab08-70f8-4cba-a850-9a5c75f9a0c0",
   "metadata": {},
   "outputs": [],
   "source": [
    "y = sigmoid(x)"
   ]
  },
  {
   "cell_type": "code",
   "execution_count": 7,
   "id": "d7b9b9ff-35df-44a5-8eeb-3cdf452814b4",
   "metadata": {},
   "outputs": [],
   "source": [
    "import matplotlib.pyplot as plt"
   ]
  },
  {
   "cell_type": "code",
   "execution_count": 8,
   "id": "8f96c6de-6c2d-467f-889d-c866dd47ed14",
   "metadata": {},
   "outputs": [
    {
     "data": {
      "text/plain": [
       "[<matplotlib.lines.Line2D at 0x7f7068e77640>]"
      ]
     },
     "execution_count": 8,
     "metadata": {},
     "output_type": "execute_result"
    },
    {
     "data": {
      "image/png": "[encoded data removed]",
      "text/plain": [
       "<Figure size 640x480 with 1 Axes>"
      ]
     },
     "metadata": {},
     "output_type": "display_data"
    }
   ],
   "source": [
    "plt.plot(x,y)"
   ]
  },
  {
   "cell_type": "code",
   "execution_count": 639,
   "id": "153d1960-3db1-4e54-916e-9f48a3adbff5",
   "metadata": {},
   "outputs": [],
   "source": [
    "x = np.arange(1,101)"
   ]
  },
  {
   "cell_type": "code",
   "execution_count": 640,
   "id": "5a45d620-2f86-421d-8daf-3fa954517d3b",
   "metadata": {},
   "outputs": [
    {
     "data": {
      "text/plain": [
       "[<matplotlib.lines.Line2D at 0x1fb6bfa6850>]"
      ]
     },
     "execution_count": 640,
     "metadata": {},
     "output_type": "execute_result"
    },
    {
     "data": {
      "image/png": "[encoded data removed]",
      "text/plain": [
       "<Figure size 640x480 with 1 Axes>"
      ]
     },
     "metadata": {},
     "output_type": "display_data"
    }
   ],
   "source": [
    "prob = lambda x : (x*(100-x))/(100)**2\n",
    "plt.plot(x, prob(x))"
   ]
  },
  {
   "cell_type": "code",
   "execution_count": null,
   "id": "99107411-be69-43b1-8d3f-3374e680a8c8",
   "metadata": {},
   "outputs": [],
   "source": []
  },
  {
   "cell_type": "code",
   "execution_count": 662,
   "id": "d07a9c83-fb6a-4063-b86a-2ec047d96c9c",
   "metadata": {},
   "outputs": [],
   "source": [
    "# def monti():\n",
    "#     choice = np.random.choice([0,1,2], 1) \n",
    "#     real = np.random.choice([0,1,2], 1)\n",
    "#     return choice, real"
   ]
  },
  {
   "cell_type": "code",
   "execution_count": 19,
   "id": "a64e7fe0-0779-427d-8beb-c16c19bdfe4f",
   "metadata": {},
   "outputs": [],
   "source": [
    "import numpy as np\n",
    "def monti(stratage):\n",
    "    windows = np.arange(3)\n",
    "    win_window = np.random.choice(windows,1)\n",
    "    user_window = np.random.choice(windows,1)\n",
    "    if win_window == user_window:\n",
    "        open_window = windows[windows != user_window][0]\n",
    "    else:\n",
    "        open_window = windows[(windows != user_window) & (windows != win_window)]\n",
    "    \n",
    "    if stratage == 'change':\n",
    "        choice_window = windows[(windows != user_window) & (windows != open_window)]\n",
    "    elif stratage == 'random':\n",
    "        choice_window = np.random.choice(windows[windows != open_window],1)\n",
    "    else:\n",
    "        choice_window = user_window\n",
    "        \n",
    "    return choice_window == win_window"
   ]
  },
  {
   "cell_type": "code",
   "execution_count": 10,
   "id": "f7426371-8cfd-45c3-bbd1-80db14821172",
   "metadata": {},
   "outputs": [
    {
     "data": {
      "text/plain": [
       "array([0.666])"
      ]
     },
     "execution_count": 10,
     "metadata": {},
     "output_type": "execute_result"
    }
   ],
   "source": [
    "s = 0\n",
    "for _ in range(1000):\n",
    "    s += monti('change')\n",
    "s/1000"
   ]
  },
  {
   "cell_type": "code",
   "execution_count": null,
   "id": "0f466324-bfb2-4b2b-9dbd-a88385c17165",
   "metadata": {},
   "outputs": [],
   "source": []
  },
  {
   "cell_type": "code",
   "execution_count": null,
   "id": "9fbb3fc4-21a9-4eae-976c-6c893c1e023d",
   "metadata": {},
   "outputs": [],
   "source": []
  },
  {
   "cell_type": "code",
   "execution_count": null,
   "id": "c12ec035-91fe-4d05-ae0b-94eeea12c8cd",
   "metadata": {},
   "outputs": [],
   "source": []
  }
 ],
 "metadata": {
  "kernelspec": {
   "display_name": "bteam",
   "language": "python",
   "name": "bteam"
  },
  "language_info": {
   "codemirror_mode": {
    "name": "ipython",
    "version": 3
   },
   "file_extension": ".py",
   "mimetype": "text/x-python",
   "name": "python",
   "nbconvert_exporter": "python",
   "pygments_lexer": "ipython3",
   "version": "3.9.16"
  }
 },
 "nbformat": 4,
 "nbformat_minor": 5
}
