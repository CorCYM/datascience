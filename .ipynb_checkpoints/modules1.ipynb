{
 "cells": [
  {
   "cell_type": "code",
   "execution_count": 21,
   "id": "e54e80cc-3a11-40cc-a3ad-ebb763f3d6d1",
   "metadata": {},
   "outputs": [],
   "source": [
    "from machine_learning import Leejunyoung"
   ]
  },
  {
   "cell_type": "code",
   "execution_count": 22,
   "id": "3493d2fb-b85b-49d0-b56e-d4cef5f797ec",
   "metadata": {},
   "outputs": [],
   "source": [
    "import machine_learning"
   ]
  },
  {
   "cell_type": "code",
   "execution_count": 23,
   "id": "b498db6c-9d03-4573-871a-8189655ab7e7",
   "metadata": {},
   "outputs": [],
   "source": [
    "import numpy as np\n",
    "np.random.seed(100)"
   ]
  },
  {
   "cell_type": "code",
   "execution_count": 24,
   "id": "64ee21f2-9f40-4688-94d3-6e7c6efda58b",
   "metadata": {},
   "outputs": [
    {
     "data": {
      "text/plain": [
       "array([[-1.74976547,  0.3426804 ,  1.1530358 , -0.25243604],\n",
       "       [ 0.98132079,  0.51421884,  0.22117967, -1.07004333],\n",
       "       [-0.18949583,  0.25500144, -0.45802699,  0.43516349]])"
      ]
     },
     "execution_count": 24,
     "metadata": {},
     "output_type": "execute_result"
    }
   ],
   "source": [
    "np.random.randn(3,4) ## 전역"
   ]
  },
  {
   "cell_type": "code",
   "execution_count": 25,
   "id": "21066bb1-d4c4-4127-bb6c-6749a3de51f1",
   "metadata": {},
   "outputs": [],
   "source": [
    "rng = np.random.RandomState(seed=100) ## 지역(local)"
   ]
  },
  {
   "cell_type": "code",
   "execution_count": 26,
   "id": "80107def-0b3c-47ca-91b5-6115ea8c78ea",
   "metadata": {},
   "outputs": [
    {
     "data": {
      "text/plain": [
       "array([[-1.74976547,  0.3426804 ,  1.1530358 , -0.25243604],\n",
       "       [ 0.98132079,  0.51421884,  0.22117967, -1.07004333],\n",
       "       [-0.18949583,  0.25500144, -0.45802699,  0.43516349]])"
      ]
     },
     "execution_count": 26,
     "metadata": {},
     "output_type": "execute_result"
    }
   ],
   "source": [
    "rng.randn(3,4)"
   ]
  },
  {
   "cell_type": "code",
   "execution_count": null,
   "id": "707210c9-0db4-43e0-9aec-0f65a123a52d",
   "metadata": {},
   "outputs": [],
   "source": []
  },
  {
   "cell_type": "code",
   "execution_count": 27,
   "id": "b39e96fd-9506-4e76-9004-e280e0bc0e08",
   "metadata": {},
   "outputs": [
    {
     "data": {
      "text/plain": [
       "array([[0.35810579, 0.69356665, 0.66211213, 0.4739209 ],\n",
       "       [0.37021831, 0.73686407, 0.3921853 , 0.24632336],\n",
       "       [0.83465464, 0.82369795, 0.43736103, 0.30102204]])"
      ]
     },
     "execution_count": 27,
     "metadata": {},
     "output_type": "execute_result"
    }
   ],
   "source": [
    "machine_learning.sigmoid(rng.randn(3,4))"
   ]
  },
  {
   "cell_type": "code",
   "execution_count": 28,
   "id": "6d0485a2-cd4c-4202-92ee-a349e2bad93b",
   "metadata": {},
   "outputs": [],
   "source": [
    "from sklearn.datasets import load_iris\n",
    "X = load_iris()['data']\n",
    "y = load_iris()['target']"
   ]
  },
  {
   "cell_type": "code",
   "execution_count": 29,
   "id": "b753e965-0491-4934-8a92-3070fd7cea05",
   "metadata": {},
   "outputs": [],
   "source": [
    "model = Leejunyoung(X,y)"
   ]
  },
  {
   "cell_type": "code",
   "execution_count": 30,
   "id": "b2a113cd-2b6e-479a-a6bf-bbd5cded7ac1",
   "metadata": {},
   "outputs": [],
   "source": [
    "model.fit(epochs=1000, lr=1e-3)"
   ]
  },
  {
   "cell_type": "code",
   "execution_count": 32,
   "id": "1237f0c9-5506-49ea-bd01-859da16645b7",
   "metadata": {},
   "outputs": [
    {
     "data": {
      "text/plain": [
       "0.3333333333333333"
      ]
     },
     "execution_count": 32,
     "metadata": {},
     "output_type": "execute_result"
    }
   ],
   "source": [
    "model.score(X,y)"
   ]
  },
  {
   "cell_type": "code",
   "execution_count": 33,
   "id": "4a985ac8-e7d0-4b0f-86f2-de1ce639643e",
   "metadata": {},
   "outputs": [],
   "source": [
    "import pickle"
   ]
  },
  {
   "cell_type": "code",
   "execution_count": 34,
   "id": "ad629f06-5409-4ba4-8ce5-1a3c1f346a49",
   "metadata": {},
   "outputs": [],
   "source": [
    "with open('../www/model.pickle', 'wb') as f:\n",
    "    pickle.dump(model, f)"
   ]
  },
  {
   "cell_type": "code",
   "execution_count": null,
   "id": "14a3fba4-3d01-494c-adcc-8787eff6d8f2",
   "metadata": {},
   "outputs": [],
   "source": []
  }
 ],
 "metadata": {
  "kernelspec": {
   "display_name": "bteam",
   "language": "python",
   "name": "bteam"
  },
  "language_info": {
   "codemirror_mode": {
    "name": "ipython",
    "version": 3
   },
   "file_extension": ".py",
   "mimetype": "text/x-python",
   "name": "python",
   "nbconvert_exporter": "python",
   "pygments_lexer": "ipython3",
   "version": "3.9.16"
  }
 },
 "nbformat": 4,
 "nbformat_minor": 5
}
