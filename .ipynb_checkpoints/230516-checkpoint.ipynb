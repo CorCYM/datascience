{
 "cells": [
  {
   "cell_type": "code",
   "execution_count": 100,
   "id": "349bbeed-1aa5-4821-82f5-2bd5b7138e8f",
   "metadata": {},
   "outputs": [],
   "source": [
    "from sklearn.datasets import load_wine\n",
    "from sklearn.tree import DecisionTreeClassifier\n",
    "from sklearn.svm import SVC\n",
    "from sklearn.model_selection import train_test_split\n",
    "from sklearn.metrics import accuracy_score, confusion_matrix, f1_score\n",
    "import numpy as np"
   ]
  },
  {
   "cell_type": "code",
   "execution_count": 87,
   "id": "449cf6f1-17a6-478c-92bc-547baee84580",
   "metadata": {
    "tags": []
   },
   "outputs": [],
   "source": [
    "X = load_wine()['data']\n",
    "y = load_wine()['target']"
   ]
  },
  {
   "cell_type": "code",
   "execution_count": 88,
   "id": "cafdae87-f6ea-48f1-9398-98f8abc138ee",
   "metadata": {},
   "outputs": [],
   "source": [
    "tree_model = DecisionTreeClassifier()\n",
    "svm_model = SVC(probability=True)"
   ]
  },
  {
   "cell_type": "code",
   "execution_count": 89,
   "id": "200d5844-db37-4bb5-8f1a-874eeeaf530d",
   "metadata": {},
   "outputs": [],
   "source": [
    "X_train, X_test, y_train, y_test = train_test_split(X, y)"
   ]
  },
  {
   "cell_type": "code",
   "execution_count": 90,
   "id": "58ce3d80-f0dd-430b-90ee-52371e2c333b",
   "metadata": {},
   "outputs": [
    {
     "data": {
      "text/html": [
       "<style>#sk-container-id-4 {color: black;background-color: white;}#sk-container-id-4 pre{padding: 0;}#sk-container-id-4 div.sk-toggleable {background-color: white;}#sk-container-id-4 label.sk-toggleable__label {cursor: pointer;display: block;width: 100%;margin-bottom: 0;padding: 0.3em;box-sizing: border-box;text-align: center;}#sk-container-id-4 label.sk-toggleable__label-arrow:before {content: \"▸\";float: left;margin-right: 0.25em;color: #696969;}#sk-container-id-4 label.sk-toggleable__label-arrow:hover:before {color: black;}#sk-container-id-4 div.sk-estimator:hover label.sk-toggleable__label-arrow:before {color: black;}#sk-container-id-4 div.sk-toggleable__content {max-height: 0;max-width: 0;overflow: hidden;text-align: left;background-color: #f0f8ff;}#sk-container-id-4 div.sk-toggleable__content pre {margin: 0.2em;color: black;border-radius: 0.25em;background-color: #f0f8ff;}#sk-container-id-4 input.sk-toggleable__control:checked~div.sk-toggleable__content {max-height: 200px;max-width: 100%;overflow: auto;}#sk-container-id-4 input.sk-toggleable__control:checked~label.sk-toggleable__label-arrow:before {content: \"▾\";}#sk-container-id-4 div.sk-estimator input.sk-toggleable__control:checked~label.sk-toggleable__label {background-color: #d4ebff;}#sk-container-id-4 div.sk-label input.sk-toggleable__control:checked~label.sk-toggleable__label {background-color: #d4ebff;}#sk-container-id-4 input.sk-hidden--visually {border: 0;clip: rect(1px 1px 1px 1px);clip: rect(1px, 1px, 1px, 1px);height: 1px;margin: -1px;overflow: hidden;padding: 0;position: absolute;width: 1px;}#sk-container-id-4 div.sk-estimator {font-family: monospace;background-color: #f0f8ff;border: 1px dotted black;border-radius: 0.25em;box-sizing: border-box;margin-bottom: 0.5em;}#sk-container-id-4 div.sk-estimator:hover {background-color: #d4ebff;}#sk-container-id-4 div.sk-parallel-item::after {content: \"\";width: 100%;border-bottom: 1px solid gray;flex-grow: 1;}#sk-container-id-4 div.sk-label:hover label.sk-toggleable__label {background-color: #d4ebff;}#sk-container-id-4 div.sk-serial::before {content: \"\";position: absolute;border-left: 1px solid gray;box-sizing: border-box;top: 0;bottom: 0;left: 50%;z-index: 0;}#sk-container-id-4 div.sk-serial {display: flex;flex-direction: column;align-items: center;background-color: white;padding-right: 0.2em;padding-left: 0.2em;position: relative;}#sk-container-id-4 div.sk-item {position: relative;z-index: 1;}#sk-container-id-4 div.sk-parallel {display: flex;align-items: stretch;justify-content: center;background-color: white;position: relative;}#sk-container-id-4 div.sk-item::before, #sk-container-id-4 div.sk-parallel-item::before {content: \"\";position: absolute;border-left: 1px solid gray;box-sizing: border-box;top: 0;bottom: 0;left: 50%;z-index: -1;}#sk-container-id-4 div.sk-parallel-item {display: flex;flex-direction: column;z-index: 1;position: relative;background-color: white;}#sk-container-id-4 div.sk-parallel-item:first-child::after {align-self: flex-end;width: 50%;}#sk-container-id-4 div.sk-parallel-item:last-child::after {align-self: flex-start;width: 50%;}#sk-container-id-4 div.sk-parallel-item:only-child::after {width: 0;}#sk-container-id-4 div.sk-dashed-wrapped {border: 1px dashed gray;margin: 0 0.4em 0.5em 0.4em;box-sizing: border-box;padding-bottom: 0.4em;background-color: white;}#sk-container-id-4 div.sk-label label {font-family: monospace;font-weight: bold;display: inline-block;line-height: 1.2em;}#sk-container-id-4 div.sk-label-container {text-align: center;}#sk-container-id-4 div.sk-container {/* jupyter's `normalize.less` sets `[hidden] { display: none; }` but bootstrap.min.css set `[hidden] { display: none !important; }` so we also need the `!important` here to be able to override the default hidden behavior on the sphinx rendered scikit-learn.org. See: https://github.com/scikit-learn/scikit-learn/issues/21755 */display: inline-block !important;position: relative;}#sk-container-id-4 div.sk-text-repr-fallback {display: none;}</style><div id=\"sk-container-id-4\" class=\"sk-top-container\"><div class=\"sk-text-repr-fallback\"><pre>SVC(probability=True)</pre><b>In a Jupyter environment, please rerun this cell to show the HTML representation or trust the notebook. <br />On GitHub, the HTML representation is unable to render, please try loading this page with nbviewer.org.</b></div><div class=\"sk-container\" hidden><div class=\"sk-item\"><div class=\"sk-estimator sk-toggleable\"><input class=\"sk-toggleable__control sk-hidden--visually\" id=\"sk-estimator-id-4\" type=\"checkbox\" checked><label for=\"sk-estimator-id-4\" class=\"sk-toggleable__label sk-toggleable__label-arrow\">SVC</label><div class=\"sk-toggleable__content\"><pre>SVC(probability=True)</pre></div></div></div></div></div>"
      ],
      "text/plain": [
       "SVC(probability=True)"
      ]
     },
     "execution_count": 90,
     "metadata": {},
     "output_type": "execute_result"
    }
   ],
   "source": [
    "tree_model.fit(X_train, y_train)\n",
    "svm_model.fit(X_train, y_train)"
   ]
  },
  {
   "cell_type": "code",
   "execution_count": 91,
   "id": "1502dfca-49c9-4fb6-888b-1c0079cf51be",
   "metadata": {},
   "outputs": [],
   "source": [
    "tree_model = DecisionTreeClassifier()\n",
    "# svm_model = SVC(probability=True) \n",
    "svm_model = SVC(probability=True, kernel='linear')"
   ]
  },
  {
   "cell_type": "code",
   "execution_count": 92,
   "id": "88d55eaa-b62a-41f3-88f8-6de405774269",
   "metadata": {},
   "outputs": [
    {
     "data": {
      "text/plain": [
       "(0.8222222222222222, 0.9333333333333333)"
      ]
     },
     "execution_count": 92,
     "metadata": {},
     "output_type": "execute_result"
    }
   ],
   "source": [
    "tree_model.fit(X_train, y_train)\n",
    "svm_model.fit(X_train, y_train)\n",
    "\n",
    "tree_model.score(X_test, y_test), svm_model.score(X_test, y_test)"
   ]
  },
  {
   "cell_type": "code",
   "execution_count": 93,
   "id": "444ed8cf-e6ab-465b-ad18-8139b1823a45",
   "metadata": {},
   "outputs": [],
   "source": [
    "# np.argmax(tree_model.predict_proba(X_test) + svm_model.predict_proba(X_test))"
   ]
  },
  {
   "cell_type": "code",
   "execution_count": 94,
   "id": "b4b01f5b-15ba-4ccf-a0d0-79f2c77adcf7",
   "metadata": {},
   "outputs": [],
   "source": [
    "tree_predict = tree_model.predict_proba(X_test)\n",
    "svm_predict = svm_model.predict_proba(X_test)\n",
    "soft_vote_predict = tree_predict + svm_predict\n",
    "predict = np.argmax(soft_vote_predict, axis=1)"
   ]
  },
  {
   "cell_type": "code",
   "execution_count": 95,
   "id": "52138ed1-0032-4017-ab42-ab2e2651f995",
   "metadata": {},
   "outputs": [
    {
     "data": {
      "text/plain": [
       "0.8222222222222222"
      ]
     },
     "execution_count": 95,
     "metadata": {},
     "output_type": "execute_result"
    }
   ],
   "source": [
    "accuracy_score(predict, y_test)"
   ]
  },
  {
   "cell_type": "code",
   "execution_count": 96,
   "id": "be2cbeb6-9bef-4451-8783-76f4d025cbd8",
   "metadata": {
    "tags": []
   },
   "outputs": [
    {
     "data": {
      "text/plain": [
       "array([[14,  1,  0],\n",
       "       [ 1, 14,  6],\n",
       "       [ 0,  0,  9]], dtype=int64)"
      ]
     },
     "execution_count": 96,
     "metadata": {},
     "output_type": "execute_result"
    }
   ],
   "source": [
    "confusion_matrix(predict, y_test)"
   ]
  },
  {
   "cell_type": "code",
   "execution_count": 98,
   "id": "f3b23d56-458d-45aa-a69a-413756f926d6",
   "metadata": {},
   "outputs": [
    {
     "data": {
      "text/plain": [
       "0.8203703703703704"
      ]
     },
     "execution_count": 98,
     "metadata": {},
     "output_type": "execute_result"
    }
   ],
   "source": [
    "f1_score(y_test, predict, average='macro')"
   ]
  },
  {
   "cell_type": "code",
   "execution_count": null,
   "id": "e87ea1a3-6640-4070-993b-7b6bf7c251e6",
   "metadata": {},
   "outputs": [],
   "source": []
  },
  {
   "cell_type": "markdown",
   "id": "b2ae0b27-1333-416a-bcc3-28c814f6a907",
   "metadata": {
    "tags": []
   },
   "source": [
    "## 디시전트리 만들기"
   ]
  },
  {
   "cell_type": "code",
   "execution_count": 6,
   "id": "c3a82d3f-14dd-48b7-87e4-3757629f872d",
   "metadata": {},
   "outputs": [],
   "source": [
    "import pandas as pd"
   ]
  },
  {
   "cell_type": "code",
   "execution_count": 52,
   "id": "ef04aa47-1fd6-4f56-8b73-3f6afd099940",
   "metadata": {},
   "outputs": [],
   "source": [
    "data = {'outlook': {0: 'overcast',\n",
    "  1: 'overcast',\n",
    "  2: 'overcast',\n",
    "  3: 'overcast',\n",
    "  4: 'rainy',\n",
    "  5: 'rainy',\n",
    "  6: 'rainy',\n",
    "  7: 'rainy',\n",
    "  8: 'rainy',\n",
    "  9: 'sunny',\n",
    "  10: 'sunny',\n",
    "  11: 'sunny',\n",
    "  12: 'sunny',\n",
    "  13: 'sunny'},\n",
    " 'temp': {0: 'hot',\n",
    "  1: 'cool',\n",
    "  2: 'mild',\n",
    "  3: 'hot',\n",
    "  4: 'mild',\n",
    "  5: 'cool',\n",
    "  6: 'cool',\n",
    "  7: 'mild',\n",
    "  8: 'mild',\n",
    "  9: 'hot',\n",
    "  10: 'hot',\n",
    "  11: 'mild',\n",
    "  12: 'cool',\n",
    "  13: 'mild'},\n",
    " 'humidity': {0: 'high',\n",
    "  1: 'normal',\n",
    "  2: 'high',\n",
    "  3: 'normal',\n",
    "  4: 'high',\n",
    "  5: 'normal',\n",
    "  6: 'normal',\n",
    "  7: 'normal',\n",
    "  8: 'high',\n",
    "  9: 'high',\n",
    "  10: 'high',\n",
    "  11: 'high',\n",
    "  12: 'normal',\n",
    "  13: 'normal'},\n",
    " 'windy': {0: False,\n",
    "  1: True,\n",
    "  2: True,\n",
    "  3: False,\n",
    "  4: False,\n",
    "  5: False,\n",
    "  6: True,\n",
    "  7: False,\n",
    "  8: True,\n",
    "  9: False,\n",
    "  10: True,\n",
    "  11: False,\n",
    "  12: False,\n",
    "  13: True},\n",
    " 'play': {0: 'yes',\n",
    "  1: 'yes',\n",
    "  2: 'yes',\n",
    "  3: 'yes',\n",
    "  4: 'yes',\n",
    "  5: 'yes',\n",
    "  6: 'no',\n",
    "  7: 'yes',\n",
    "  8: 'no',\n",
    "  9: 'no',\n",
    "  10: 'no',\n",
    "  11: 'no',\n",
    "  12: 'yes',\n",
    "  13: 'yes'}}"
   ]
  },
  {
   "cell_type": "code",
   "execution_count": 53,
   "id": "849cefa0-1bf5-4497-afa2-7204ca104893",
   "metadata": {},
   "outputs": [],
   "source": [
    "data = pd.DataFrame(data)"
   ]
  },
  {
   "cell_type": "code",
   "execution_count": 54,
   "id": "05b25956-cba5-45dc-967a-47b1b080997e",
   "metadata": {},
   "outputs": [
    {
     "data": {
      "text/html": [
       "<div>\n",
       "<style scoped>\n",
       "    .dataframe tbody tr th:only-of-type {\n",
       "        vertical-align: middle;\n",
       "    }\n",
       "\n",
       "    .dataframe tbody tr th {\n",
       "        vertical-align: top;\n",
       "    }\n",
       "\n",
       "    .dataframe thead th {\n",
       "        text-align: right;\n",
       "    }\n",
       "</style>\n",
       "<table border=\"1\" class=\"dataframe\">\n",
       "  <thead>\n",
       "    <tr style=\"text-align: right;\">\n",
       "      <th></th>\n",
       "      <th>outlook</th>\n",
       "      <th>temp</th>\n",
       "      <th>humidity</th>\n",
       "      <th>windy</th>\n",
       "      <th>play</th>\n",
       "    </tr>\n",
       "  </thead>\n",
       "  <tbody>\n",
       "    <tr>\n",
       "      <th>0</th>\n",
       "      <td>overcast</td>\n",
       "      <td>hot</td>\n",
       "      <td>high</td>\n",
       "      <td>False</td>\n",
       "      <td>yes</td>\n",
       "    </tr>\n",
       "    <tr>\n",
       "      <th>1</th>\n",
       "      <td>overcast</td>\n",
       "      <td>cool</td>\n",
       "      <td>normal</td>\n",
       "      <td>True</td>\n",
       "      <td>yes</td>\n",
       "    </tr>\n",
       "    <tr>\n",
       "      <th>2</th>\n",
       "      <td>overcast</td>\n",
       "      <td>mild</td>\n",
       "      <td>high</td>\n",
       "      <td>True</td>\n",
       "      <td>yes</td>\n",
       "    </tr>\n",
       "    <tr>\n",
       "      <th>3</th>\n",
       "      <td>overcast</td>\n",
       "      <td>hot</td>\n",
       "      <td>normal</td>\n",
       "      <td>False</td>\n",
       "      <td>yes</td>\n",
       "    </tr>\n",
       "    <tr>\n",
       "      <th>4</th>\n",
       "      <td>rainy</td>\n",
       "      <td>mild</td>\n",
       "      <td>high</td>\n",
       "      <td>False</td>\n",
       "      <td>yes</td>\n",
       "    </tr>\n",
       "    <tr>\n",
       "      <th>5</th>\n",
       "      <td>rainy</td>\n",
       "      <td>cool</td>\n",
       "      <td>normal</td>\n",
       "      <td>False</td>\n",
       "      <td>yes</td>\n",
       "    </tr>\n",
       "    <tr>\n",
       "      <th>6</th>\n",
       "      <td>rainy</td>\n",
       "      <td>cool</td>\n",
       "      <td>normal</td>\n",
       "      <td>True</td>\n",
       "      <td>no</td>\n",
       "    </tr>\n",
       "    <tr>\n",
       "      <th>7</th>\n",
       "      <td>rainy</td>\n",
       "      <td>mild</td>\n",
       "      <td>normal</td>\n",
       "      <td>False</td>\n",
       "      <td>yes</td>\n",
       "    </tr>\n",
       "    <tr>\n",
       "      <th>8</th>\n",
       "      <td>rainy</td>\n",
       "      <td>mild</td>\n",
       "      <td>high</td>\n",
       "      <td>True</td>\n",
       "      <td>no</td>\n",
       "    </tr>\n",
       "    <tr>\n",
       "      <th>9</th>\n",
       "      <td>sunny</td>\n",
       "      <td>hot</td>\n",
       "      <td>high</td>\n",
       "      <td>False</td>\n",
       "      <td>no</td>\n",
       "    </tr>\n",
       "    <tr>\n",
       "      <th>10</th>\n",
       "      <td>sunny</td>\n",
       "      <td>hot</td>\n",
       "      <td>high</td>\n",
       "      <td>True</td>\n",
       "      <td>no</td>\n",
       "    </tr>\n",
       "    <tr>\n",
       "      <th>11</th>\n",
       "      <td>sunny</td>\n",
       "      <td>mild</td>\n",
       "      <td>high</td>\n",
       "      <td>False</td>\n",
       "      <td>no</td>\n",
       "    </tr>\n",
       "    <tr>\n",
       "      <th>12</th>\n",
       "      <td>sunny</td>\n",
       "      <td>cool</td>\n",
       "      <td>normal</td>\n",
       "      <td>False</td>\n",
       "      <td>yes</td>\n",
       "    </tr>\n",
       "    <tr>\n",
       "      <th>13</th>\n",
       "      <td>sunny</td>\n",
       "      <td>mild</td>\n",
       "      <td>normal</td>\n",
       "      <td>True</td>\n",
       "      <td>yes</td>\n",
       "    </tr>\n",
       "  </tbody>\n",
       "</table>\n",
       "</div>"
      ],
      "text/plain": [
       "     outlook  temp humidity  windy play\n",
       "0   overcast   hot     high  False  yes\n",
       "1   overcast  cool   normal   True  yes\n",
       "2   overcast  mild     high   True  yes\n",
       "3   overcast   hot   normal  False  yes\n",
       "4      rainy  mild     high  False  yes\n",
       "5      rainy  cool   normal  False  yes\n",
       "6      rainy  cool   normal   True   no\n",
       "7      rainy  mild   normal  False  yes\n",
       "8      rainy  mild     high   True   no\n",
       "9      sunny   hot     high  False   no\n",
       "10     sunny   hot     high   True   no\n",
       "11     sunny  mild     high  False   no\n",
       "12     sunny  cool   normal  False  yes\n",
       "13     sunny  mild   normal   True  yes"
      ]
     },
     "execution_count": 54,
     "metadata": {},
     "output_type": "execute_result"
    }
   ],
   "source": [
    "data"
   ]
  },
  {
   "cell_type": "code",
   "execution_count": 22,
   "id": "12ee502e-fd7c-4011-80c1-e20e38ec745a",
   "metadata": {},
   "outputs": [
    {
     "data": {
      "text/plain": [
       "array(['no', 'yes'], dtype=object)"
      ]
     },
     "execution_count": 22,
     "metadata": {},
     "output_type": "execute_result"
    }
   ],
   "source": [
    "import numpy as np\n",
    "np.unique(data.play)"
   ]
  },
  {
   "cell_type": "code",
   "execution_count": 25,
   "id": "d942b486-234a-42c4-8efe-498ac3a58a8f",
   "metadata": {},
   "outputs": [],
   "source": [
    "pk_no = np.sum(data.play == 'no')/len(data.play)\n",
    "pk_yes = np.sum(data.play == 'yes')/len(data.play)"
   ]
  },
  {
   "cell_type": "code",
   "execution_count": 27,
   "id": "35fe65c5-8271-4555-bf61-e2ec64292a1a",
   "metadata": {},
   "outputs": [
    {
     "data": {
      "text/plain": [
       "0.9402859586706311"
      ]
     },
     "execution_count": 27,
     "metadata": {},
     "output_type": "execute_result"
    }
   ],
   "source": [
    "-(pk_no * np.log2(pk_no) + pk_yes*np.log2(pk_yes))"
   ]
  },
  {
   "cell_type": "code",
   "execution_count": 115,
   "id": "45a2aa69-d756-41e9-8430-f549e96afd21",
   "metadata": {},
   "outputs": [
    {
     "data": {
      "text/plain": [
       "(array(['overcast', 'rainy', 'sunny'], dtype=object),\n",
       " array([4, 5, 5], dtype=int64))"
      ]
     },
     "execution_count": 115,
     "metadata": {},
     "output_type": "execute_result"
    }
   ],
   "source": [
    "np.unique(data.outlook, return_counts=True)"
   ]
  },
  {
   "cell_type": "code",
   "execution_count": null,
   "id": "fa979f05-a539-4897-a394-6f87f33dfb54",
   "metadata": {},
   "outputs": [],
   "source": []
  },
  {
   "cell_type": "code",
   "execution_count": 42,
   "id": "38990872-e69a-4a28-9e7f-359ec61ee80d",
   "metadata": {},
   "outputs": [],
   "source": [
    "def entropy(x):\n",
    "    px = np.unique(x, return_counts=True)[1]/len(x)\n",
    "    entropy_ = -np.sum(px*np.log2(px))\n",
    "    # return -np.sum(np.unique(x, return_counts=True)[1]/len(x) * np.log2(np.unique(x, return_counts=True)[1]/len(x)))\n",
    "    return entropy_"
   ]
  },
  {
   "cell_type": "code",
   "execution_count": 43,
   "id": "3a51a602-52a1-4250-b280-5e83b8f083c7",
   "metadata": {},
   "outputs": [
    {
     "data": {
      "text/plain": [
       "0.9402859586706311"
      ]
     },
     "execution_count": 43,
     "metadata": {},
     "output_type": "execute_result"
    }
   ],
   "source": [
    "entropy(data.play)"
   ]
  },
  {
   "cell_type": "code",
   "execution_count": 57,
   "id": "f7454cba-31e9-4002-b4e3-f1ee32643fb9",
   "metadata": {},
   "outputs": [
    {
     "data": {
      "text/plain": [
       "array(['overcast', 'rainy', 'sunny'], dtype=object)"
      ]
     },
     "execution_count": 57,
     "metadata": {},
     "output_type": "execute_result"
    }
   ],
   "source": [
    "np.unique(data.outlook)"
   ]
  },
  {
   "cell_type": "code",
   "execution_count": 120,
   "id": "2cc8ccc2-96db-4a87-8b21-badcb6b6af35",
   "metadata": {},
   "outputs": [],
   "source": [
    "x = data.loc[data.play == 'yes', 'play']"
   ]
  },
  {
   "cell_type": "code",
   "execution_count": 121,
   "id": "d1ba1d57-a8e2-44f3-94bb-8fa99618771f",
   "metadata": {},
   "outputs": [
    {
     "data": {
      "text/plain": [
       "-0.0"
      ]
     },
     "execution_count": 121,
     "metadata": {},
     "output_type": "execute_result"
    }
   ],
   "source": [
    "entropy(x)"
   ]
  },
  {
   "cell_type": "code",
   "execution_count": 122,
   "id": "068dae31-eeb0-467e-ad6f-782ff98701dd",
   "metadata": {},
   "outputs": [
    {
     "data": {
      "text/plain": [
       "-0.0"
      ]
     },
     "execution_count": 122,
     "metadata": {},
     "output_type": "execute_result"
    }
   ],
   "source": [
    "a = 4/14*entropy(data.loc[data.outlook == 'overcast','play'])\n",
    "a"
   ]
  },
  {
   "cell_type": "code",
   "execution_count": 123,
   "id": "4ce507c6-312f-4c38-9e8f-d5e8ccd3689c",
   "metadata": {},
   "outputs": [
    {
     "data": {
      "text/plain": [
       "0.3467680694480959"
      ]
     },
     "execution_count": 123,
     "metadata": {},
     "output_type": "execute_result"
    }
   ],
   "source": [
    "b = 5/14*entropy(data.loc[data.outlook == 'rainy','play'])\n",
    "b"
   ]
  },
  {
   "cell_type": "code",
   "execution_count": 124,
   "id": "f72bc4c3-630a-4c3d-9399-588bec1697a9",
   "metadata": {},
   "outputs": [
    {
     "data": {
      "text/plain": [
       "0.3467680694480959"
      ]
     },
     "execution_count": 124,
     "metadata": {},
     "output_type": "execute_result"
    }
   ],
   "source": [
    "c = 5/14*entropy(data.loc[data.outlook == 'sunny','play'])\n",
    "c"
   ]
  },
  {
   "cell_type": "code",
   "execution_count": 71,
   "id": "891fc6d6-a50a-4f18-817d-784e825e11fc",
   "metadata": {},
   "outputs": [
    {
     "data": {
      "text/plain": [
       "0.6935361388961918"
      ]
     },
     "execution_count": 71,
     "metadata": {},
     "output_type": "execute_result"
    }
   ],
   "source": [
    "s = a+b+c\n",
    "s"
   ]
  },
  {
   "cell_type": "code",
   "execution_count": 72,
   "id": "26f416ce-963f-4629-bbdc-8a2403d7755c",
   "metadata": {},
   "outputs": [
    {
     "data": {
      "text/plain": [
       "0.24674981977443933"
      ]
     },
     "execution_count": 72,
     "metadata": {},
     "output_type": "execute_result"
    }
   ],
   "source": [
    "entropy(data.play) - s"
   ]
  },
  {
   "cell_type": "code",
   "execution_count": 81,
   "id": "78a5f9b5-1bf1-428e-937f-f47dd1dea5d7",
   "metadata": {},
   "outputs": [],
   "source": [
    "def info_gain(data, x, y):\n",
    "    total = entropy(data[y])\n",
    "    vals, counts = np.unique(data[x], return_counts=True)\n",
    "    \n",
    "    gain = [ count/len(data)*entropy(data.loc[data[x] == val, y]) for val, count in zip(vals, counts)]\n",
    "    return total - np.sum(gain)\n",
    "    "
   ]
  },
  {
   "cell_type": "code",
   "execution_count": 82,
   "id": "3f8d4b31-c55e-4f6a-af2a-da269c25f784",
   "metadata": {},
   "outputs": [],
   "source": [
    "# np.unique(data[x], return_counts=True)[1]/len(data)*\\\n",
    "# entropy(data.loc[data[x]])\n",
    "\n",
    "# (entropy(data.play) - 4/14*entropy(data.loc[data.outlook == 'overcast','play']) +\\\n",
    "# 5/14*entropy(data.loc[data.outlook == 'rainy','play']) +\\\n",
    "# 5/14*entropy(data.loc[data.outlook == 'sunny','play']))"
   ]
  },
  {
   "cell_type": "code",
   "execution_count": 83,
   "id": "c8c25275-fa73-46c4-bea6-75ae594e81f7",
   "metadata": {},
   "outputs": [
    {
     "data": {
      "text/plain": [
       "0.24674981977443933"
      ]
     },
     "execution_count": 83,
     "metadata": {},
     "output_type": "execute_result"
    }
   ],
   "source": [
    "info_gain(data,'outlook','play')"
   ]
  },
  {
   "cell_type": "code",
   "execution_count": 84,
   "id": "b2ca47a8-5d56-45d7-868f-4f92ad4eba56",
   "metadata": {},
   "outputs": [
    {
     "data": {
      "text/plain": [
       "0.02922256565895487"
      ]
     },
     "execution_count": 84,
     "metadata": {},
     "output_type": "execute_result"
    }
   ],
   "source": [
    "info_gain(data,'temp','play')"
   ]
  },
  {
   "cell_type": "code",
   "execution_count": 85,
   "id": "0337e3d9-4a8f-4d1d-9ec5-9969469e09d5",
   "metadata": {},
   "outputs": [
    {
     "data": {
      "text/plain": [
       "0.04812703040826949"
      ]
     },
     "execution_count": 85,
     "metadata": {},
     "output_type": "execute_result"
    }
   ],
   "source": [
    "info_gain(data,'windy','play')"
   ]
  },
  {
   "cell_type": "code",
   "execution_count": 86,
   "id": "d249b89f-38c2-437e-9437-fcd14a0cc04d",
   "metadata": {},
   "outputs": [
    {
     "data": {
      "text/plain": [
       "Index(['outlook', 'temp', 'humidity', 'windy', 'play'], dtype='object')"
      ]
     },
     "execution_count": 86,
     "metadata": {},
     "output_type": "execute_result"
    }
   ],
   "source": [
    "data.columns"
   ]
  },
  {
   "cell_type": "code",
   "execution_count": null,
   "id": "eab74f0a-b671-4900-a3c0-35ea3cf28aab",
   "metadata": {},
   "outputs": [],
   "source": []
  },
  {
   "cell_type": "code",
   "execution_count": 95,
   "id": "0ca62c7c-b4fc-4b76-96bb-3be1504a8bde",
   "metadata": {},
   "outputs": [],
   "source": [
    "def max_gain(data, x, y):\n",
    "    return x[np.argmax([info_gain(data, i, y) for i in x])]"
   ]
  },
  {
   "cell_type": "code",
   "execution_count": 96,
   "id": "79e45d28-9a7f-4d6c-a0bf-9ee61f2b0432",
   "metadata": {},
   "outputs": [],
   "source": [
    "features = data.columns[:-1]\n",
    "target = data.columns[-1]"
   ]
  },
  {
   "cell_type": "code",
   "execution_count": 97,
   "id": "455d4c0e-054a-40c3-a7fa-bb13846290c5",
   "metadata": {},
   "outputs": [
    {
     "data": {
      "text/plain": [
       "'outlook'"
      ]
     },
     "execution_count": 97,
     "metadata": {},
     "output_type": "execute_result"
    }
   ],
   "source": [
    "max_gain(data, features, target)"
   ]
  },
  {
   "cell_type": "code",
   "execution_count": 99,
   "id": "03bfecdb-3dbb-4865-998f-98b01c6aa071",
   "metadata": {},
   "outputs": [
    {
     "data": {
      "text/plain": [
       "0    yes\n",
       "1    yes\n",
       "2    yes\n",
       "3    yes\n",
       "Name: play, dtype: object"
      ]
     },
     "execution_count": 99,
     "metadata": {},
     "output_type": "execute_result"
    }
   ],
   "source": [
    "data.loc[data.outlook == 'overcast', 'play']"
   ]
  },
  {
   "cell_type": "code",
   "execution_count": 100,
   "id": "7b766830-e988-40aa-9225-4c7d94e553c5",
   "metadata": {},
   "outputs": [
    {
     "data": {
      "text/plain": [
       "9      no\n",
       "10     no\n",
       "11     no\n",
       "12    yes\n",
       "13    yes\n",
       "Name: play, dtype: object"
      ]
     },
     "execution_count": 100,
     "metadata": {},
     "output_type": "execute_result"
    }
   ],
   "source": [
    "data.loc[data.outlook == 'sunny', 'play']"
   ]
  },
  {
   "cell_type": "code",
   "execution_count": 101,
   "id": "7edd6098-adca-47aa-9a1a-95ec75ea02ff",
   "metadata": {},
   "outputs": [
    {
     "data": {
      "text/plain": [
       "4    yes\n",
       "5    yes\n",
       "6     no\n",
       "7    yes\n",
       "8     no\n",
       "Name: play, dtype: object"
      ]
     },
     "execution_count": 101,
     "metadata": {},
     "output_type": "execute_result"
    }
   ],
   "source": [
    "data.loc[data.outlook == 'rainy', 'play']"
   ]
  },
  {
   "cell_type": "code",
   "execution_count": 103,
   "id": "f1d4c2c4-da95-43bc-b6e8-96384c5f1f36",
   "metadata": {},
   "outputs": [],
   "source": [
    "sub_data = data.loc[data.outlook == 'sunny', :]"
   ]
  },
  {
   "cell_type": "code",
   "execution_count": 104,
   "id": "9fb7a7bc-e142-4e50-8762-d2944ec18cb4",
   "metadata": {},
   "outputs": [
    {
     "data": {
      "text/plain": [
       "'humidity'"
      ]
     },
     "execution_count": 104,
     "metadata": {},
     "output_type": "execute_result"
    }
   ],
   "source": [
    "max_gain(sub_data, features, target)"
   ]
  },
  {
   "cell_type": "code",
   "execution_count": 105,
   "id": "306552c2-29e0-46ce-a738-fc2169bb2754",
   "metadata": {},
   "outputs": [
    {
     "data": {
      "text/plain": [
       "array(['high', 'normal'], dtype=object)"
      ]
     },
     "execution_count": 105,
     "metadata": {},
     "output_type": "execute_result"
    }
   ],
   "source": [
    "np.unique(data.humidity)"
   ]
  },
  {
   "cell_type": "code",
   "execution_count": 106,
   "id": "5cacb6bf-e9e2-4874-9e9b-82050bb60aa6",
   "metadata": {},
   "outputs": [
    {
     "data": {
      "text/plain": [
       "9     no\n",
       "10    no\n",
       "11    no\n",
       "Name: play, dtype: object"
      ]
     },
     "execution_count": 106,
     "metadata": {},
     "output_type": "execute_result"
    }
   ],
   "source": [
    "sub_data.loc[sub_data.humidity == 'high', 'play']"
   ]
  },
  {
   "cell_type": "code",
   "execution_count": 107,
   "id": "d7f005f2-a370-45b3-ab4c-cd0f4b720ed3",
   "metadata": {},
   "outputs": [
    {
     "data": {
      "text/plain": [
       "12    yes\n",
       "13    yes\n",
       "Name: play, dtype: object"
      ]
     },
     "execution_count": 107,
     "metadata": {},
     "output_type": "execute_result"
    }
   ],
   "source": [
    "sub_data.loc[sub_data.humidity == 'normal', 'play']"
   ]
  },
  {
   "cell_type": "code",
   "execution_count": null,
   "id": "ba9227d7-126c-41e6-827e-36dda7163628",
   "metadata": {
    "tags": []
   },
   "outputs": [],
   "source": []
  },
  {
   "cell_type": "code",
   "execution_count": 108,
   "id": "eaf73460-577a-45c2-a4ff-c1ba81604ef1",
   "metadata": {},
   "outputs": [],
   "source": [
    "sub_data = data.loc[data.outlook == 'rainy', :]"
   ]
  },
  {
   "cell_type": "code",
   "execution_count": 109,
   "id": "ca3ed701-62b4-4ffc-9183-a20037763c02",
   "metadata": {},
   "outputs": [
    {
     "data": {
      "text/plain": [
       "'windy'"
      ]
     },
     "execution_count": 109,
     "metadata": {},
     "output_type": "execute_result"
    }
   ],
   "source": [
    "max_gain(sub_data, features, target)"
   ]
  },
  {
   "cell_type": "code",
   "execution_count": 110,
   "id": "88a6e6a3-073c-4896-a9d8-e47fed18e0cd",
   "metadata": {},
   "outputs": [
    {
     "data": {
      "text/plain": [
       "array([False,  True])"
      ]
     },
     "execution_count": 110,
     "metadata": {},
     "output_type": "execute_result"
    }
   ],
   "source": [
    "np.unique(data.windy)"
   ]
  },
  {
   "cell_type": "code",
   "execution_count": 113,
   "id": "c396c4e4-e927-42e3-b2ef-116abf35f195",
   "metadata": {},
   "outputs": [
    {
     "data": {
      "text/plain": [
       "6    no\n",
       "8    no\n",
       "Name: play, dtype: object"
      ]
     },
     "execution_count": 113,
     "metadata": {},
     "output_type": "execute_result"
    }
   ],
   "source": [
    "sub_data.loc[sub_data.windy == True, 'play']"
   ]
  },
  {
   "cell_type": "code",
   "execution_count": 114,
   "id": "9b8e592a-1401-4b01-b41d-d08feeab9027",
   "metadata": {},
   "outputs": [
    {
     "data": {
      "text/plain": [
       "4    yes\n",
       "5    yes\n",
       "7    yes\n",
       "Name: play, dtype: object"
      ]
     },
     "execution_count": 114,
     "metadata": {},
     "output_type": "execute_result"
    }
   ],
   "source": [
    "sub_data.loc[sub_data.windy == False, 'play']"
   ]
  },
  {
   "cell_type": "code",
   "execution_count": null,
   "id": "1690ae15-2a73-457a-aa0b-bd97c59f1afc",
   "metadata": {},
   "outputs": [],
   "source": []
  },
  {
   "cell_type": "code",
   "execution_count": null,
   "id": "ca975f58-68c5-40c7-9232-c9b808ad2b60",
   "metadata": {},
   "outputs": [],
   "source": []
  },
  {
   "cell_type": "code",
   "execution_count": 188,
   "id": "803c69b8-d885-4978-beae-9ad11a3da77e",
   "metadata": {},
   "outputs": [],
   "source": [
    "def entropy(x):\n",
    "    px = np.unique(x, return_counts=True)[1]/len(x) # numpy 사용\n",
    "    # px = x.value_counts()/ np.sum(x.value_counts())  # 시리즈  values 응용\n",
    "    return -np.sum(px*np.log2(px))\n",
    "\n",
    "def info_gain(data, x, y):\n",
    "    total = entropy(data[y])\n",
    "    vals, counts = np.unique(data[x], return_counts=True)\n",
    "    gain = np.sum([ count/len(data)*entropy(data.loc[data[x]==val, y]) for val, count in zip(vals, counts)])\n",
    "    return total - gain\n",
    "                                     \n",
    "def max_gain(data, x, y):\n",
    "    return x[np.argmax([info_gain(data,i,y) for i in x])]"
   ]
  },
  {
   "cell_type": "code",
   "execution_count": null,
   "id": "519fe0e7-2ef6-43f6-8cc5-ee23ad310912",
   "metadata": {},
   "outputs": [],
   "source": []
  },
  {
   "cell_type": "code",
   "execution_count": 161,
   "id": "8194bea5-8876-425f-993f-57698a1d77d2",
   "metadata": {},
   "outputs": [],
   "source": [
    "def make_tree(data,x,y):\n",
    "    best_feature = max_gain(data,x,y)\n",
    "    tree = {best_feature:{}}\n",
    "    return tree"
   ]
  },
  {
   "cell_type": "code",
   "execution_count": 193,
   "id": "4205436b-00d5-4523-b944-77b136349c8c",
   "metadata": {},
   "outputs": [],
   "source": [
    "def make_tree(data,x,y):\n",
    "    try:\n",
    "        if np.unique(data[y]).size == 1:\n",
    "            return np.unique(data[y])[0]\n",
    "        best_feature = max_gain(data,x,y)\n",
    "        columns = x[ x != best_feature]\n",
    "        tree = {best_feature:{}}\n",
    "        for val in np.unique(data[best_feature]):\n",
    "            sub_data = data.loc[data[best_feature] == val, :]\n",
    "            sub_tree = make_tree(sub_data, columns, y)\n",
    "            tree[best_feature][val] = sub_tree\n",
    "        return tree\n",
    "    except Exception as e:\n",
    "        print(e)"
   ]
  },
  {
   "cell_type": "code",
   "execution_count": 194,
   "id": "31c2f461-1a48-4711-8336-90df55780503",
   "metadata": {},
   "outputs": [
    {
     "data": {
      "text/plain": [
       "1"
      ]
     },
     "execution_count": 194,
     "metadata": {},
     "output_type": "execute_result"
    }
   ],
   "source": [
    "np.unique(data.loc[data.outlook == 'overcast', 'play']).size"
   ]
  },
  {
   "cell_type": "code",
   "execution_count": 195,
   "id": "6ddfd200-d467-4df6-a7d4-395e6edff2e2",
   "metadata": {},
   "outputs": [],
   "source": [
    "features = data.columns[:-1]\n",
    "target = data.columns[-1]"
   ]
  },
  {
   "cell_type": "code",
   "execution_count": 196,
   "id": "9c0a5459-336e-40d9-b15e-d1ae7e344ca0",
   "metadata": {},
   "outputs": [
    {
     "data": {
      "text/plain": [
       "{'outlook': {'overcast': 'yes',\n",
       "  'rainy': {'windy': {False: 'yes', True: 'no'}},\n",
       "  'sunny': {'humidity': {'high': 'no', 'normal': 'yes'}}}}"
      ]
     },
     "execution_count": 196,
     "metadata": {},
     "output_type": "execute_result"
    }
   ],
   "source": [
    "make_tree(data, features, target)"
   ]
  },
  {
   "cell_type": "code",
   "execution_count": null,
   "id": "d6d48b40-7da0-4e05-914a-560174a1c123",
   "metadata": {},
   "outputs": [],
   "source": []
  },
  {
   "cell_type": "code",
   "execution_count": 197,
   "id": "1a7e7376-9174-4fb9-b1de-942fdd90a38c",
   "metadata": {},
   "outputs": [],
   "source": [
    "def make_tree(data,x,y):\n",
    "    if np.unique(data[y]).size == 1:\n",
    "        return np.unique(data[y])[0]\n",
    "    best_feature = max_gain(data,x,y)\n",
    "    columns = x[ x != best_feature]\n",
    "    tree = {best_feature:{}}\n",
    "    for val in np.unique(data[best_feature]):\n",
    "        sub_data = data.loc[data[best_feature] == val, :]\n",
    "        sub_tree = make_tree(sub_data, columns, y)\n",
    "        tree[best_feature][val] = sub_tree\n",
    "    return tree"
   ]
  },
  {
   "cell_type": "code",
   "execution_count": 198,
   "id": "16631347-4aea-463b-8d76-9b3c1ff1ed90",
   "metadata": {},
   "outputs": [
    {
     "data": {
      "text/plain": [
       "{'outlook': {'overcast': 'yes',\n",
       "  'rainy': {'windy': {False: 'yes', True: 'no'}},\n",
       "  'sunny': {'humidity': {'high': 'no', 'normal': 'yes'}}}}"
      ]
     },
     "execution_count": 198,
     "metadata": {},
     "output_type": "execute_result"
    }
   ],
   "source": [
    "features = data.columns[:-1]\n",
    "target = data.columns[-1]\n",
    "make_tree(data, features, target)"
   ]
  },
  {
   "cell_type": "code",
   "execution_count": 199,
   "id": "73b07f46-90ed-476d-87c1-a472948a7442",
   "metadata": {},
   "outputs": [],
   "source": [
    "from pprint import pprint"
   ]
  },
  {
   "cell_type": "code",
   "execution_count": 200,
   "id": "0a41450a-295a-4b36-837b-c49fcc74893d",
   "metadata": {},
   "outputs": [
    {
     "name": "stdout",
     "output_type": "stream",
     "text": [
      "{'outlook': {'overcast': 'yes',\n",
      "             'rainy': {'windy': {False: 'yes', True: 'no'}},\n",
      "             'sunny': {'humidity': {'high': 'no', 'normal': 'yes'}}}}\n"
     ]
    }
   ],
   "source": [
    "pprint(make_tree(data, features, target))"
   ]
  },
  {
   "cell_type": "code",
   "execution_count": null,
   "id": "74bd4972-ea79-4e52-8547-277979b82343",
   "metadata": {},
   "outputs": [],
   "source": []
  },
  {
   "cell_type": "code",
   "execution_count": 262,
   "id": "c9c33112-a342-407f-94f1-3c8d26593739",
   "metadata": {},
   "outputs": [],
   "source": [
    "data = {'no_insects': {0: True,\n",
    "  1: True,\n",
    "  2: True,\n",
    "  3: False,\n",
    "  4: True,\n",
    "  5: True,\n",
    "  6: True,\n",
    "  7: True,\n",
    "  8: True,\n",
    "  9: False},\n",
    " 'no_dead': {0: True,\n",
    "  1: True,\n",
    "  2: False,\n",
    "  3: True,\n",
    "  4: True,\n",
    "  5: True,\n",
    "  6: False,\n",
    "  7: False,\n",
    "  8: True,\n",
    "  9: False},\n",
    " 'no_wilting': {0: True,\n",
    "  1: True,\n",
    "  2: True,\n",
    "  3: True,\n",
    "  4: True,\n",
    "  5: True,\n",
    "  6: False,\n",
    "  7: True,\n",
    "  8: True,\n",
    "  9: True},\n",
    " 'no_diseases': {0: True,\n",
    "  1: True,\n",
    "  2: False,\n",
    "  3: True,\n",
    "  4: True,\n",
    "  5: True,\n",
    "  6: False,\n",
    "  7: False,\n",
    "  8: True,\n",
    "  9: True},\n",
    " 'tree_health': {0: 'Good',\n",
    "  1: 'Good',\n",
    "  2: 'Poor',\n",
    "  3: 'Good',\n",
    "  4: 'Good',\n",
    "  5: 'Good',\n",
    "  6: 'Poor',\n",
    "  7: 'Poor',\n",
    "  8: 'Good',\n",
    "  9: 'Poor'}}"
   ]
  },
  {
   "cell_type": "code",
   "execution_count": 263,
   "id": "a01076ba-6100-40ed-ada7-8291afd255dc",
   "metadata": {},
   "outputs": [],
   "source": [
    "data = pd.DataFrame(data)"
   ]
  },
  {
   "cell_type": "code",
   "execution_count": 264,
   "id": "f108a0ba-713d-46d1-b742-de6ad773fbcb",
   "metadata": {},
   "outputs": [],
   "source": [
    "features = np.array(['no_insects', 'no_wilting', 'no_diseases'])\n",
    "target = 'tree_health'"
   ]
  },
  {
   "cell_type": "code",
   "execution_count": 281,
   "id": "9a9e68df-60b9-4efa-9fdc-abaf4e1aef8c",
   "metadata": {},
   "outputs": [],
   "source": [
    "def make_tree(data,x,y, parent_class=None):\n",
    "    try:\n",
    "        if np.unique(data[y]).size == 1:\n",
    "            return np.unique(data[y])[0]\n",
    "        elif len(data) == 0:\n",
    "            return 'case1'\n",
    "        elif len(x) == 0:\n",
    "            return parent_class\n",
    "        best_feature = max_gain(data,x,y)\n",
    "        columns = x[ x != best_feature]\n",
    "        tree = {best_feature:{}}\n",
    "        for val in np.unique(data[best_feature]):\n",
    "            vals, counts = np.unique(data.loc[data[best_feature], y], return_counts=True)\n",
    "            parent_class = vals[np.argmax(counts)]\n",
    "            sub_data = data.loc[data[best_feature] == val, :]\n",
    "            sub_tree = make_tree(sub_data, columns, y, parent_class)\n",
    "            tree[best_feature][val] = sub_tree\n",
    "        return tree\n",
    "    except Exception as e:\n",
    "        print(e)"
   ]
  },
  {
   "cell_type": "code",
   "execution_count": 282,
   "id": "e2c1b99d-5c91-4c8e-ac67-355e2564970b",
   "metadata": {},
   "outputs": [
    {
     "data": {
      "text/plain": [
       "{'no_diseases': {False: 'Poor',\n",
       "  True: {'no_insects': {False: {'no_wilting': {True: 'poor'}}, True: 'Good'}}}}"
      ]
     },
     "execution_count": 282,
     "metadata": {},
     "output_type": "execute_result"
    }
   ],
   "source": [
    "features = np.array(['no_insects', 'no_wilting', 'no_diseases'])\n",
    "target = 'tree_health'\n",
    "make_tree(data, features, target)"
   ]
  },
  {
   "cell_type": "code",
   "execution_count": null,
   "id": "3eff1823-5754-43fd-a194-b51cb5a5953a",
   "metadata": {},
   "outputs": [],
   "source": []
  },
  {
   "cell_type": "code",
   "execution_count": 277,
   "id": "f3bc1eca-275f-4c7b-90c1-f52bde01001f",
   "metadata": {},
   "outputs": [],
   "source": [
    "x = pd.DataFrame(\n",
    "    {\n",
    "        'no_insects': [False],\n",
    "        'no_dead' : [True],\n",
    "        'no_wilting' : [True],\n",
    "        'no_diseases' : [True],\n",
    "        'tree_health' : ['poor']\n",
    "    }\n",
    ")"
   ]
  },
  {
   "cell_type": "code",
   "execution_count": 278,
   "id": "8d20aa6a-8b70-4a44-9993-76dc414771e8",
   "metadata": {},
   "outputs": [],
   "source": [
    "data = pd.concat([data, x])"
   ]
  },
  {
   "cell_type": "code",
   "execution_count": null,
   "id": "509ff121-1785-48fc-9ac6-840239d92780",
   "metadata": {},
   "outputs": [],
   "source": []
  },
  {
   "cell_type": "code",
   "execution_count": 279,
   "id": "ab26462f-09ae-4b3d-8181-b28cf443ec74",
   "metadata": {},
   "outputs": [],
   "source": [
    "aa = data.loc[(data['no_diseases'] == True) & (data['no_insects'] == False), :] "
   ]
  },
  {
   "cell_type": "code",
   "execution_count": 280,
   "id": "49cb1082-3106-4b30-94e8-c243e4a9a9a7",
   "metadata": {},
   "outputs": [
    {
     "data": {
      "text/plain": [
       "'poor'"
      ]
     },
     "execution_count": 280,
     "metadata": {},
     "output_type": "execute_result"
    }
   ],
   "source": [
    "np.unique(aa['tree_health'])[np.argmax(np.unique(aa['tree_health'], return_counts=True)[1])]"
   ]
  },
  {
   "cell_type": "code",
   "execution_count": 273,
   "id": "4fc01d0d-df56-4194-910a-2935b1d85550",
   "metadata": {},
   "outputs": [
    {
     "data": {
      "text/html": [
       "<div>\n",
       "<style scoped>\n",
       "    .dataframe tbody tr th:only-of-type {\n",
       "        vertical-align: middle;\n",
       "    }\n",
       "\n",
       "    .dataframe tbody tr th {\n",
       "        vertical-align: top;\n",
       "    }\n",
       "\n",
       "    .dataframe thead th {\n",
       "        text-align: right;\n",
       "    }\n",
       "</style>\n",
       "<table border=\"1\" class=\"dataframe\">\n",
       "  <thead>\n",
       "    <tr style=\"text-align: right;\">\n",
       "      <th></th>\n",
       "      <th>no_insects</th>\n",
       "      <th>no_dead</th>\n",
       "      <th>no_wilting</th>\n",
       "      <th>no_diseases</th>\n",
       "      <th>tree_health</th>\n",
       "    </tr>\n",
       "  </thead>\n",
       "  <tbody>\n",
       "    <tr>\n",
       "      <th>3</th>\n",
       "      <td>False</td>\n",
       "      <td>True</td>\n",
       "      <td>True</td>\n",
       "      <td>True</td>\n",
       "      <td>Good</td>\n",
       "    </tr>\n",
       "    <tr>\n",
       "      <th>9</th>\n",
       "      <td>False</td>\n",
       "      <td>False</td>\n",
       "      <td>True</td>\n",
       "      <td>True</td>\n",
       "      <td>Poor</td>\n",
       "    </tr>\n",
       "    <tr>\n",
       "      <th>0</th>\n",
       "      <td>False</td>\n",
       "      <td>True</td>\n",
       "      <td>True</td>\n",
       "      <td>True</td>\n",
       "      <td>poor</td>\n",
       "    </tr>\n",
       "  </tbody>\n",
       "</table>\n",
       "</div>"
      ],
      "text/plain": [
       "   no_insects  no_dead  no_wilting  no_diseases tree_health\n",
       "3       False     True        True         True        Good\n",
       "9       False    False        True         True        Poor\n",
       "0       False     True        True         True        poor"
      ]
     },
     "execution_count": 273,
     "metadata": {},
     "output_type": "execute_result"
    }
   ],
   "source": [
    "data.loc[(data['no_diseases'] == True) & (data['no_insects'] == False) &\n",
    "              (data['no_wilting']==True), :] "
   ]
  },
  {
   "cell_type": "code",
   "execution_count": null,
   "id": "a9c0346f-d5a8-4121-bf83-30aa47e1fcd7",
   "metadata": {},
   "outputs": [],
   "source": []
  },
  {
   "cell_type": "code",
   "execution_count": null,
   "id": "87232e1b-a8c7-439c-9e92-e1a955f2f690",
   "metadata": {},
   "outputs": [],
   "source": [
    "## 랜덤하게 발생하는 변수"
   ]
  },
  {
   "cell_type": "code",
   "execution_count": 287,
   "id": "57c5cf62-71b2-4905-a7c8-4bea5f6527f6",
   "metadata": {
    "tags": []
   },
   "outputs": [],
   "source": [
    "np.random.seed(100)\n",
    "X = np.random.randint(10, 100, size=(50, 5))\n",
    "y = np.random.choice([0,1], 50)\n",
    "df = pd.DataFrame(np.c_[X,y])"
   ]
  },
  {
   "cell_type": "code",
   "execution_count": 288,
   "id": "8072de83-ad55-4f45-8c8a-cd28f828e4b4",
   "metadata": {},
   "outputs": [],
   "source": [
    "df.rename({ i:'col_' + str(i) for i in df.columns}, axis=1, inplace=True)"
   ]
  },
  {
   "cell_type": "code",
   "execution_count": 290,
   "id": "36dfcf03-7348-42fe-a5c3-0118b3b12a11",
   "metadata": {},
   "outputs": [],
   "source": [
    "df.rename({'col_5' : 'target'}, axis='columns', inplace=True)"
   ]
  },
  {
   "cell_type": "code",
   "execution_count": 293,
   "id": "1e0d1b4e-9b62-4817-bd42-cbd4081203c5",
   "metadata": {},
   "outputs": [],
   "source": [
    "X = df.iloc[:,:-1].apply(lambda x: x>=50)\n",
    "y = df.iloc[:,-1]"
   ]
  },
  {
   "cell_type": "code",
   "execution_count": 294,
   "id": "716cffd0-dc66-4e99-8c8a-add99dad63d0",
   "metadata": {},
   "outputs": [],
   "source": [
    "df = pd.concat([X,y], axis=1)"
   ]
  },
  {
   "cell_type": "code",
   "execution_count": 297,
   "id": "b1921bdb-4e96-4098-9a92-63b11fec6442",
   "metadata": {},
   "outputs": [
    {
     "name": "stdout",
     "output_type": "stream",
     "text": [
      "{'col_0': {False: {'col_1': {False: {'col_2': {False: 1,\n",
      "                                               True: {'col_4': {False: {'col_3': {True: 0}},\n",
      "                                                                True: 0}}}},\n",
      "                             True: {'col_2': {False: {'col_3': {False: 1,\n",
      "                                                                True: {'col_4': {False: 0,\n",
      "                                                                                 True: 0}}}},\n",
      "                                              True: 1}}}},\n",
      "           True: {'col_4': {False: {'col_2': {False: {'col_1': {False: 0,\n",
      "                                                                True: {'col_3': {False: 0,\n",
      "                                                                                 True: 0}}}},\n",
      "                                              True: {'col_1': {False: {'col_3': {False: 0,\n",
      "                                                                                 True: 1}},\n",
      "                                                               True: {'col_3': {False: 0,\n",
      "                                                                                True: 0}}}}}},\n",
      "                            True: {'col_3': {False: {'col_1': {False: 0,\n",
      "                                                               True: 1}},\n",
      "                                             True: {'col_2': {False: 0,\n",
      "                                                              True: {'col_1': {False: 1,\n",
      "                                                                               True: 1}}}}}}}}}}\n"
     ]
    }
   ],
   "source": [
    "pprint(make_tree(df, df.columns[:-1], df.columns[-1]))"
   ]
  },
  {
   "cell_type": "code",
   "execution_count": null,
   "id": "bf2033d1-6b5e-422e-ba04-d5652bbcdc13",
   "metadata": {},
   "outputs": [],
   "source": []
  }
 ],
 "metadata": {
  "kernelspec": {
   "display_name": "bteam",
   "language": "python",
   "name": "bteam"
  },
  "language_info": {
   "codemirror_mode": {
    "name": "ipython",
    "version": 3
   },
   "file_extension": ".py",
   "mimetype": "text/x-python",
   "name": "python",
   "nbconvert_exporter": "python",
   "pygments_lexer": "ipython3",
   "version": "3.9.16"
  }
 },
 "nbformat": 4,
 "nbformat_minor": 5
}
