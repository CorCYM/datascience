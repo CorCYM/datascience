{
 "cells": [
  {
   "cell_type": "code",
   "execution_count": 1,
   "id": "75cfa9de-fbbb-43be-bb05-95fcc183de67",
   "metadata": {},
   "outputs": [],
   "source": [
    "import numpy as np"
   ]
  },
  {
   "cell_type": "code",
   "execution_count": 6,
   "id": "58c04e99-7b33-43af-aa59-3365245f09d0",
   "metadata": {},
   "outputs": [],
   "source": [
    "nd_ = dir(np.array([1,2,3]))"
   ]
  },
  {
   "cell_type": "code",
   "execution_count": 8,
   "id": "f5272ed8-8673-4ae9-a49b-92168160ac7b",
   "metadata": {},
   "outputs": [],
   "source": [
    "np_ = dir(np)"
   ]
  },
  {
   "cell_type": "code",
   "execution_count": 9,
   "id": "37c94476-c56d-4e93-a1fb-7fdd375eb60e",
   "metadata": {
    "collapsed": true,
    "jupyter": {
     "outputs_hidden": true
    },
    "tags": []
   },
   "outputs": [
    {
     "data": {
      "text/plain": [
       "{'ALLOW_THREADS',\n",
       " 'AxisError',\n",
       " 'BUFSIZE',\n",
       " 'CLIP',\n",
       " 'ComplexWarning',\n",
       " 'DataSource',\n",
       " 'ERR_CALL',\n",
       " 'ERR_DEFAULT',\n",
       " 'ERR_IGNORE',\n",
       " 'ERR_LOG',\n",
       " 'ERR_PRINT',\n",
       " 'ERR_RAISE',\n",
       " 'ERR_WARN',\n",
       " 'FLOATING_POINT_SUPPORT',\n",
       " 'FPE_DIVIDEBYZERO',\n",
       " 'FPE_INVALID',\n",
       " 'FPE_OVERFLOW',\n",
       " 'FPE_UNDERFLOW',\n",
       " 'False_',\n",
       " 'Inf',\n",
       " 'Infinity',\n",
       " 'MAXDIMS',\n",
       " 'MAY_SHARE_BOUNDS',\n",
       " 'MAY_SHARE_EXACT',\n",
       " 'ModuleDeprecationWarning',\n",
       " 'NAN',\n",
       " 'NINF',\n",
       " 'NZERO',\n",
       " 'NaN',\n",
       " 'PINF',\n",
       " 'PZERO',\n",
       " 'RAISE',\n",
       " 'RankWarning',\n",
       " 'SHIFT_DIVIDEBYZERO',\n",
       " 'SHIFT_INVALID',\n",
       " 'SHIFT_OVERFLOW',\n",
       " 'SHIFT_UNDERFLOW',\n",
       " 'ScalarType',\n",
       " 'Tester',\n",
       " 'TooHardError',\n",
       " 'True_',\n",
       " 'UFUNC_BUFSIZE_DEFAULT',\n",
       " 'UFUNC_PYVALS_NAME',\n",
       " 'VisibleDeprecationWarning',\n",
       " 'WRAP',\n",
       " '_CopyMode',\n",
       " '_NoValue',\n",
       " '_UFUNC_API',\n",
       " '__NUMPY_SETUP__',\n",
       " '__all__',\n",
       " '__builtins__',\n",
       " '__cached__',\n",
       " '__config__',\n",
       " '__deprecated_attrs__',\n",
       " '__expired_functions__',\n",
       " '__file__',\n",
       " '__former_attrs__',\n",
       " '__future_scalars__',\n",
       " '__getattr__',\n",
       " '__git_version__',\n",
       " '__loader__',\n",
       " '__mkl_version__',\n",
       " '__name__',\n",
       " '__package__',\n",
       " '__path__',\n",
       " '__spec__',\n",
       " '__version__',\n",
       " '_add_newdoc_ufunc',\n",
       " '_builtins',\n",
       " '_distributor_init',\n",
       " '_financial_names',\n",
       " '_get_promotion_state',\n",
       " '_globals',\n",
       " '_int_extended_msg',\n",
       " '_mat',\n",
       " '_no_nep50_warning',\n",
       " '_pyinstaller_hooks_dir',\n",
       " '_pytesttester',\n",
       " '_set_promotion_state',\n",
       " '_specific_msg',\n",
       " '_version',\n",
       " 'abs',\n",
       " 'absolute',\n",
       " 'add',\n",
       " 'add_docstring',\n",
       " 'add_newdoc',\n",
       " 'add_newdoc_ufunc',\n",
       " 'allclose',\n",
       " 'alltrue',\n",
       " 'amax',\n",
       " 'amin',\n",
       " 'angle',\n",
       " 'append',\n",
       " 'apply_along_axis',\n",
       " 'apply_over_axes',\n",
       " 'arange',\n",
       " 'arccos',\n",
       " 'arccosh',\n",
       " 'arcsin',\n",
       " 'arcsinh',\n",
       " 'arctan',\n",
       " 'arctan2',\n",
       " 'arctanh',\n",
       " 'argwhere',\n",
       " 'around',\n",
       " 'array',\n",
       " 'array2string',\n",
       " 'array_equal',\n",
       " 'array_equiv',\n",
       " 'array_repr',\n",
       " 'array_split',\n",
       " 'array_str',\n",
       " 'asanyarray',\n",
       " 'asarray',\n",
       " 'asarray_chkfinite',\n",
       " 'ascontiguousarray',\n",
       " 'asfarray',\n",
       " 'asfortranarray',\n",
       " 'asmatrix',\n",
       " 'atleast_1d',\n",
       " 'atleast_2d',\n",
       " 'atleast_3d',\n",
       " 'average',\n",
       " 'bartlett',\n",
       " 'base_repr',\n",
       " 'binary_repr',\n",
       " 'bincount',\n",
       " 'bitwise_and',\n",
       " 'bitwise_not',\n",
       " 'bitwise_or',\n",
       " 'bitwise_xor',\n",
       " 'blackman',\n",
       " 'block',\n",
       " 'bmat',\n",
       " 'bool_',\n",
       " 'broadcast',\n",
       " 'broadcast_arrays',\n",
       " 'broadcast_shapes',\n",
       " 'broadcast_to',\n",
       " 'busday_count',\n",
       " 'busday_offset',\n",
       " 'busdaycalendar',\n",
       " 'byte',\n",
       " 'byte_bounds',\n",
       " 'bytes_',\n",
       " 'c_',\n",
       " 'can_cast',\n",
       " 'cast',\n",
       " 'cbrt',\n",
       " 'cdouble',\n",
       " 'ceil',\n",
       " 'cfloat',\n",
       " 'char',\n",
       " 'character',\n",
       " 'chararray',\n",
       " 'clongdouble',\n",
       " 'clongfloat',\n",
       " 'column_stack',\n",
       " 'common_type',\n",
       " 'compare_chararrays',\n",
       " 'compat',\n",
       " 'complex128',\n",
       " 'complex256',\n",
       " 'complex64',\n",
       " 'complex_',\n",
       " 'complexfloating',\n",
       " 'concatenate',\n",
       " 'convolve',\n",
       " 'copysign',\n",
       " 'copyto',\n",
       " 'corrcoef',\n",
       " 'correlate',\n",
       " 'cos',\n",
       " 'cosh',\n",
       " 'count_nonzero',\n",
       " 'cov',\n",
       " 'cross',\n",
       " 'csingle',\n",
       " 'ctypeslib',\n",
       " 'cumproduct',\n",
       " 'datetime64',\n",
       " 'datetime_as_string',\n",
       " 'datetime_data',\n",
       " 'deg2rad',\n",
       " 'degrees',\n",
       " 'delete',\n",
       " 'deprecate',\n",
       " 'deprecate_with_doc',\n",
       " 'diag',\n",
       " 'diag_indices',\n",
       " 'diag_indices_from',\n",
       " 'diagflat',\n",
       " 'diff',\n",
       " 'digitize',\n",
       " 'disp',\n",
       " 'divide',\n",
       " 'divmod',\n",
       " 'double',\n",
       " 'dsplit',\n",
       " 'dstack',\n",
       " 'e',\n",
       " 'ediff1d',\n",
       " 'einsum',\n",
       " 'einsum_path',\n",
       " 'emath',\n",
       " 'empty',\n",
       " 'empty_like',\n",
       " 'equal',\n",
       " 'errstate',\n",
       " 'euler_gamma',\n",
       " 'exp',\n",
       " 'exp2',\n",
       " 'expand_dims',\n",
       " 'expm1',\n",
       " 'extract',\n",
       " 'eye',\n",
       " 'fabs',\n",
       " 'fastCopyAndTranspose',\n",
       " 'fft',\n",
       " 'fill_diagonal',\n",
       " 'find_common_type',\n",
       " 'finfo',\n",
       " 'fix',\n",
       " 'flatiter',\n",
       " 'flatnonzero',\n",
       " 'flexible',\n",
       " 'flip',\n",
       " 'fliplr',\n",
       " 'flipud',\n",
       " 'float128',\n",
       " 'float16',\n",
       " 'float32',\n",
       " 'float64',\n",
       " 'float_',\n",
       " 'float_power',\n",
       " 'floating',\n",
       " 'floor',\n",
       " 'floor_divide',\n",
       " 'fmax',\n",
       " 'fmin',\n",
       " 'fmod',\n",
       " 'format_float_positional',\n",
       " 'format_float_scientific',\n",
       " 'format_parser',\n",
       " 'frexp',\n",
       " 'from_dlpack',\n",
       " 'frombuffer',\n",
       " 'fromfile',\n",
       " 'fromfunction',\n",
       " 'fromiter',\n",
       " 'frompyfunc',\n",
       " 'fromregex',\n",
       " 'fromstring',\n",
       " 'full',\n",
       " 'full_like',\n",
       " 'gcd',\n",
       " 'generic',\n",
       " 'genfromtxt',\n",
       " 'geomspace',\n",
       " 'get_array_wrap',\n",
       " 'get_include',\n",
       " 'get_printoptions',\n",
       " 'getbufsize',\n",
       " 'geterr',\n",
       " 'geterrcall',\n",
       " 'geterrobj',\n",
       " 'gradient',\n",
       " 'greater',\n",
       " 'greater_equal',\n",
       " 'half',\n",
       " 'hamming',\n",
       " 'hanning',\n",
       " 'heaviside',\n",
       " 'histogram',\n",
       " 'histogram2d',\n",
       " 'histogram_bin_edges',\n",
       " 'histogramdd',\n",
       " 'hsplit',\n",
       " 'hstack',\n",
       " 'hypot',\n",
       " 'i0',\n",
       " 'identity',\n",
       " 'iinfo',\n",
       " 'in1d',\n",
       " 'index_exp',\n",
       " 'indices',\n",
       " 'inexact',\n",
       " 'inf',\n",
       " 'info',\n",
       " 'infty',\n",
       " 'inner',\n",
       " 'insert',\n",
       " 'int16',\n",
       " 'int32',\n",
       " 'int64',\n",
       " 'int8',\n",
       " 'int_',\n",
       " 'intc',\n",
       " 'integer',\n",
       " 'interp',\n",
       " 'intersect1d',\n",
       " 'intp',\n",
       " 'invert',\n",
       " 'is_busday',\n",
       " 'isclose',\n",
       " 'iscomplex',\n",
       " 'iscomplexobj',\n",
       " 'isfinite',\n",
       " 'isfortran',\n",
       " 'isin',\n",
       " 'isinf',\n",
       " 'isnan',\n",
       " 'isnat',\n",
       " 'isneginf',\n",
       " 'isposinf',\n",
       " 'isreal',\n",
       " 'isrealobj',\n",
       " 'isscalar',\n",
       " 'issctype',\n",
       " 'issubclass_',\n",
       " 'issubdtype',\n",
       " 'issubsctype',\n",
       " 'iterable',\n",
       " 'ix_',\n",
       " 'kaiser',\n",
       " 'kernel_version',\n",
       " 'kron',\n",
       " 'lcm',\n",
       " 'ldexp',\n",
       " 'left_shift',\n",
       " 'less',\n",
       " 'less_equal',\n",
       " 'lexsort',\n",
       " 'lib',\n",
       " 'linalg',\n",
       " 'linspace',\n",
       " 'little_endian',\n",
       " 'load',\n",
       " 'loadtxt',\n",
       " 'log',\n",
       " 'log10',\n",
       " 'log1p',\n",
       " 'log2',\n",
       " 'logaddexp',\n",
       " 'logaddexp2',\n",
       " 'logical_and',\n",
       " 'logical_not',\n",
       " 'logical_or',\n",
       " 'logical_xor',\n",
       " 'logspace',\n",
       " 'longcomplex',\n",
       " 'longdouble',\n",
       " 'longfloat',\n",
       " 'longlong',\n",
       " 'lookfor',\n",
       " 'ma',\n",
       " 'mask_indices',\n",
       " 'mat',\n",
       " 'math',\n",
       " 'matmul',\n",
       " 'matrix',\n",
       " 'maximum',\n",
       " 'maximum_sctype',\n",
       " 'may_share_memory',\n",
       " 'median',\n",
       " 'memmap',\n",
       " 'meshgrid',\n",
       " 'mgrid',\n",
       " 'min_scalar_type',\n",
       " 'minimum',\n",
       " 'mintypecode',\n",
       " 'mkl',\n",
       " 'mod',\n",
       " 'modf',\n",
       " 'moveaxis',\n",
       " 'msort',\n",
       " 'multiply',\n",
       " 'nan',\n",
       " 'nan_to_num',\n",
       " 'nanargmax',\n",
       " 'nanargmin',\n",
       " 'nancumprod',\n",
       " 'nancumsum',\n",
       " 'nanmax',\n",
       " 'nanmean',\n",
       " 'nanmedian',\n",
       " 'nanmin',\n",
       " 'nanpercentile',\n",
       " 'nanprod',\n",
       " 'nanquantile',\n",
       " 'nanstd',\n",
       " 'nansum',\n",
       " 'nanvar',\n",
       " 'ndarray',\n",
       " 'ndenumerate',\n",
       " 'ndindex',\n",
       " 'nditer',\n",
       " 'negative',\n",
       " 'nested_iters',\n",
       " 'newaxis',\n",
       " 'nextafter',\n",
       " 'not_equal',\n",
       " 'numarray',\n",
       " 'number',\n",
       " 'obj2sctype',\n",
       " 'object_',\n",
       " 'ogrid',\n",
       " 'oldnumeric',\n",
       " 'ones',\n",
       " 'ones_like',\n",
       " 'outer',\n",
       " 'packbits',\n",
       " 'pad',\n",
       " 'percentile',\n",
       " 'pi',\n",
       " 'piecewise',\n",
       " 'place',\n",
       " 'poly',\n",
       " 'poly1d',\n",
       " 'polyadd',\n",
       " 'polyder',\n",
       " 'polydiv',\n",
       " 'polyfit',\n",
       " 'polyint',\n",
       " 'polymul',\n",
       " 'polynomial',\n",
       " 'polysub',\n",
       " 'polyval',\n",
       " 'positive',\n",
       " 'power',\n",
       " 'printoptions',\n",
       " 'product',\n",
       " 'promote_types',\n",
       " 'put_along_axis',\n",
       " 'putmask',\n",
       " 'quantile',\n",
       " 'r_',\n",
       " 'rad2deg',\n",
       " 'radians',\n",
       " 'random',\n",
       " 'ravel_multi_index',\n",
       " 'real_if_close',\n",
       " 'rec',\n",
       " 'recarray',\n",
       " 'recfromcsv',\n",
       " 'recfromtxt',\n",
       " 'reciprocal',\n",
       " 'record',\n",
       " 'remainder',\n",
       " 'require',\n",
       " 'result_type',\n",
       " 'right_shift',\n",
       " 'rint',\n",
       " 'roll',\n",
       " 'rollaxis',\n",
       " 'roots',\n",
       " 'rot90',\n",
       " 'round_',\n",
       " 'row_stack',\n",
       " 's_',\n",
       " 'safe_eval',\n",
       " 'save',\n",
       " 'savetxt',\n",
       " 'savez',\n",
       " 'savez_compressed',\n",
       " 'sctype2char',\n",
       " 'sctypeDict',\n",
       " 'sctypes',\n",
       " 'select',\n",
       " 'set_numeric_ops',\n",
       " 'set_printoptions',\n",
       " 'set_string_function',\n",
       " 'setbufsize',\n",
       " 'setdiff1d',\n",
       " 'seterr',\n",
       " 'seterrcall',\n",
       " 'seterrobj',\n",
       " 'setxor1d',\n",
       " 'shares_memory',\n",
       " 'short',\n",
       " 'show_config',\n",
       " 'show_runtime',\n",
       " 'sign',\n",
       " 'signbit',\n",
       " 'signedinteger',\n",
       " 'sin',\n",
       " 'sinc',\n",
       " 'single',\n",
       " 'singlecomplex',\n",
       " 'sinh',\n",
       " 'sometrue',\n",
       " 'sort_complex',\n",
       " 'source',\n",
       " 'spacing',\n",
       " 'split',\n",
       " 'sqrt',\n",
       " 'square',\n",
       " 'stack',\n",
       " 'str_',\n",
       " 'string_',\n",
       " 'subtract',\n",
       " 'take_along_axis',\n",
       " 'tan',\n",
       " 'tanh',\n",
       " 'tensordot',\n",
       " 'test',\n",
       " 'testing',\n",
       " 'tile',\n",
       " 'timedelta64',\n",
       " 'tracemalloc_domain',\n",
       " 'trapz',\n",
       " 'tri',\n",
       " 'tril',\n",
       " 'tril_indices',\n",
       " 'tril_indices_from',\n",
       " 'trim_zeros',\n",
       " 'triu',\n",
       " 'triu_indices',\n",
       " 'triu_indices_from',\n",
       " 'true_divide',\n",
       " 'trunc',\n",
       " 'typecodes',\n",
       " 'typename',\n",
       " 'ubyte',\n",
       " 'ufunc',\n",
       " 'uint',\n",
       " 'uint16',\n",
       " 'uint32',\n",
       " 'uint64',\n",
       " 'uint8',\n",
       " 'uintc',\n",
       " 'uintp',\n",
       " 'ulonglong',\n",
       " 'unicode_',\n",
       " 'union1d',\n",
       " 'unique',\n",
       " 'unpackbits',\n",
       " 'unravel_index',\n",
       " 'unsignedinteger',\n",
       " 'unwrap',\n",
       " 'use_hugepage',\n",
       " 'ushort',\n",
       " 'vander',\n",
       " 'vdot',\n",
       " 'vectorize',\n",
       " 'version',\n",
       " 'void',\n",
       " 'vsplit',\n",
       " 'vstack',\n",
       " 'where',\n",
       " 'who',\n",
       " 'zeros',\n",
       " 'zeros_like'}"
      ]
     },
     "execution_count": 9,
     "metadata": {},
     "output_type": "execute_result"
    }
   ],
   "source": [
    "set(np_) - set(nd_)"
   ]
  },
  {
   "cell_type": "code",
   "execution_count": 13,
   "id": "edaf5d95-962b-499f-8a24-c42d75bc08c4",
   "metadata": {
    "collapsed": true,
    "jupyter": {
     "outputs_hidden": true
    },
    "tags": []
   },
   "outputs": [
    {
     "data": {
      "text/plain": [
       "['LinAlgError',\n",
       " '__all__',\n",
       " '__builtins__',\n",
       " '__cached__',\n",
       " '__doc__',\n",
       " '__file__',\n",
       " '__loader__',\n",
       " '__name__',\n",
       " '__package__',\n",
       " '__path__',\n",
       " '__spec__',\n",
       " '_umath_linalg',\n",
       " 'cholesky',\n",
       " 'cond',\n",
       " 'det',\n",
       " 'eig',\n",
       " 'eigh',\n",
       " 'eigvals',\n",
       " 'eigvalsh',\n",
       " 'inv',\n",
       " 'linalg',\n",
       " 'lstsq',\n",
       " 'matrix_power',\n",
       " 'matrix_rank',\n",
       " 'multi_dot',\n",
       " 'norm',\n",
       " 'pinv',\n",
       " 'qr',\n",
       " 'slogdet',\n",
       " 'solve',\n",
       " 'svd',\n",
       " 'tensorinv',\n",
       " 'tensorsolve',\n",
       " 'test']"
      ]
     },
     "execution_count": 13,
     "metadata": {},
     "output_type": "execute_result"
    }
   ],
   "source": [
    "dir(np.linalg) ## 넘파이 선형대수 함수"
   ]
  },
  {
   "cell_type": "code",
   "execution_count": null,
   "id": "93711131-0bc0-4539-892b-2ea184d63e29",
   "metadata": {},
   "outputs": [],
   "source": []
  },
  {
   "cell_type": "code",
   "execution_count": 16,
   "id": "19d65efa-0d06-4c7c-a12a-1a0c9bc1fdf9",
   "metadata": {},
   "outputs": [],
   "source": [
    "def sgn(x):\n",
    "    return np.where(x > 0, 1, np.where(x==0,0, -1))  ## signum 함수"
   ]
  },
  {
   "cell_type": "code",
   "execution_count": 17,
   "id": "6c2bcab5-58b9-470a-985a-1545bdd36296",
   "metadata": {},
   "outputs": [
    {
     "data": {
      "text/plain": [
       "[<matplotlib.lines.Line2D at 0x7f758dbe2340>]"
      ]
     },
     "execution_count": 17,
     "metadata": {},
     "output_type": "execute_result"
    },
    {
     "data": {
      "image/png": "[encoded data removed]",
      "text/plain": [
       "<Figure size 640x480 with 1 Axes>"
      ]
     },
     "metadata": {},
     "output_type": "display_data"
    }
   ],
   "source": [
    "import matplotlib.pyplot as plt\n",
    "x = np.linspace(-1,1,10)\n",
    "plt.plot(x, sgn(x))"
   ]
  },
  {
   "cell_type": "code",
   "execution_count": 18,
   "id": "1ffcf732-d493-45f6-af7b-440555470aee",
   "metadata": {},
   "outputs": [
    {
     "data": {
      "image/png": "[encoded data removed]",
      "text/plain": [
       "<Figure size 640x480 with 1 Axes>"
      ]
     },
     "metadata": {},
     "output_type": "display_data"
    }
   ],
   "source": [
    "t = np.arange(-3, 3, 0.1)\n",
    "x = np.heaviside(t, 1)\n",
    "plt.plot(t, x)\n",
    "plt.show()"
   ]
  },
  {
   "cell_type": "code",
   "execution_count": 22,
   "id": "f3d30cd3-1738-4f94-ac21-584d49a2ecb1",
   "metadata": {},
   "outputs": [
    {
     "data": {
      "image/png": "[encoded data removed]",
      "text/plain": [
       "<Figure size 640x480 with 1 Axes>"
      ]
     },
     "metadata": {},
     "output_type": "display_data"
    }
   ],
   "source": [
    "def step_function(x):\n",
    "    return np.array(x > 0, dtype=int)\n",
    "\n",
    "x = np.arange(-5.0, 5.0, 0.1)\n",
    "y = step_function(x)\n",
    "\n",
    "plt.plot(x, y)\n",
    "plt.ylim(-1.1, 2.1)\n",
    "plt.show()"
   ]
  },
  {
   "cell_type": "code",
   "execution_count": null,
   "id": "b461def4-6729-4e5f-917d-2a9d25111cb6",
   "metadata": {},
   "outputs": [],
   "source": []
  },
  {
   "cell_type": "code",
   "execution_count": 38,
   "id": "53b800d3-30bd-4b72-b376-0a918ae4139b",
   "metadata": {},
   "outputs": [
    {
     "data": {
      "text/plain": [
       "array([[0, 0],\n",
       "       [1, 0],\n",
       "       [0, 1],\n",
       "       [1, 1]])"
      ]
     },
     "execution_count": 38,
     "metadata": {},
     "output_type": "execute_result"
    }
   ],
   "source": [
    "X = np.array([[0,1,0,1],[0,0,1,1]])\n",
    "X = X.T\n",
    "X\n",
    "# X.shape"
   ]
  },
  {
   "cell_type": "code",
   "execution_count": 32,
   "id": "a0926c7e-f839-402a-8505-30bc44dbf8b1",
   "metadata": {},
   "outputs": [],
   "source": [
    "y_and = np.array([[0],[0], [0],[1]])"
   ]
  },
  {
   "cell_type": "code",
   "execution_count": 65,
   "id": "18d7ced8-c8a0-4825-8d14-a6dc48fb996b",
   "metadata": {},
   "outputs": [],
   "source": [
    "def AND(x ,w, b):\n",
    "    result = np.where(np.dot(x,w) + b >0, 1, 0)\n",
    "    return np.sum(result == y_and)/4, result"
   ]
  },
  {
   "cell_type": "code",
   "execution_count": 66,
   "id": "3a37447e-e18e-4bfe-afbc-1c5432e77392",
   "metadata": {},
   "outputs": [
    {
     "data": {
      "text/plain": [
       "array([[0],\n",
       "       [0],\n",
       "       [0],\n",
       "       [1]])"
      ]
     },
     "execution_count": 66,
     "metadata": {},
     "output_type": "execute_result"
    }
   ],
   "source": [
    "W = np.array([0.0526,1.0]).reshape(2,1)\n",
    "b= -1\n",
    "np.where(np.dot(X,W) +b > 0, 1, 0)"
   ]
  },
  {
   "cell_type": "code",
   "execution_count": 67,
   "id": "7454594b-429b-4bd5-8611-012f65eee2f7",
   "metadata": {},
   "outputs": [
    {
     "data": {
      "text/plain": [
       "(1.0,\n",
       " array([[0],\n",
       "        [0],\n",
       "        [0],\n",
       "        [1]]))"
      ]
     },
     "execution_count": 67,
     "metadata": {},
     "output_type": "execute_result"
    }
   ],
   "source": [
    "AND(X, W, b)"
   ]
  },
  {
   "cell_type": "code",
   "execution_count": 76,
   "id": "a739519f-ef82-4261-b4b8-c34695e4027a",
   "metadata": {
    "tags": []
   },
   "outputs": [],
   "source": [
    "w1s = np.linspace(-1,1,20)\n",
    "w2s = np.linspace(-1,1,20)\n",
    "bs = np.linspace(-1,1,1,20)\n",
    "\n",
    "for b in bs:\n",
    "    for w1 in w1s:\n",
    "        for w2 in w2s:\n",
    "            W = np.array([w1, w2]).reshape(2,1)\n",
    "            result = np.where(np.dot(X, W) + b > 0, 1, 0)\n",
    "            if np.sum(result == y_and) < 4:\n",
    "                continue;   \n",
    "            W_and = W\n",
    "            B_and = b"
   ]
  },
  {
   "cell_type": "code",
   "execution_count": 77,
   "id": "b36892c1-8ddd-49aa-be25-f683d8a9d3d5",
   "metadata": {},
   "outputs": [
    {
     "data": {
      "text/plain": [
       "(1.0,\n",
       " array([[0],\n",
       "        [0],\n",
       "        [0],\n",
       "        [1]]))"
      ]
     },
     "execution_count": 77,
     "metadata": {},
     "output_type": "execute_result"
    }
   ],
   "source": [
    "AND(X, W_and, B_and)"
   ]
  },
  {
   "cell_type": "code",
   "execution_count": 115,
   "id": "bcc7ee63-7549-4548-b104-bfd902ef4bcf",
   "metadata": {},
   "outputs": [],
   "source": [
    "y_and = np.array([[0],[0],[0],[1]])\n",
    "y_or = np.array([[0],[1],[1],[1]])\n",
    "y_nand = np.array([[1],[1],[1],[0]])\n",
    "y_xor = np.array([[0],[1],[1],[0]])"
   ]
  },
  {
   "cell_type": "code",
   "execution_count": 162,
   "id": "260d5dbb-2e55-426c-876a-0d0aae7397d9",
   "metadata": {},
   "outputs": [],
   "source": [
    "def AND(w, b):\n",
    "    result = np.where(np.dot(X,w) + b >0, 1, 0)\n",
    "    return np.sum(result == y_and)/4, result\n",
    "\n",
    "def OR(w, b):\n",
    "    result = np.where(np.dot(X,w) + b >0, 1, 0)\n",
    "    return np.sum(result == y_or)/4, result\n",
    "\n",
    "def NAND(w, b):\n",
    "    result = np.where(np.dot(X,w) + b >0, 1, 0)\n",
    "    return np.sum(result == y_nand)/4, result\n",
    "\n",
    "def XOR(x, w, b):\n",
    "    result = np.where(np.dot(x,w) + b >0, 1, 0)\n",
    "    return np.sum(result == y_xor)/4, result"
   ]
  },
  {
   "cell_type": "code",
   "execution_count": 163,
   "id": "4632f0eb-df55-44eb-ab52-97691869dd8a",
   "metadata": {
    "tags": []
   },
   "outputs": [],
   "source": [
    "def logical_test(method):\n",
    "    w1s = np.linspace(-1,1,20)\n",
    "    w2s = np.linspace(-1,1,20)\n",
    "    bs = np.linspace(-1,1,20)\n",
    "    if method == 'AND':\n",
    "        y = y_and\n",
    "    elif method == 'OR':\n",
    "        y = y_or\n",
    "    elif method == 'NAND':\n",
    "        y = y_nand\n",
    "    elif method == 'XOR':\n",
    "        y = y_xor\n",
    "        \n",
    "    for b in bs:\n",
    "        for w1 in w1s:\n",
    "            for w2 in w2s:\n",
    "                W = np.array([w1, w2]).reshape(2,1)\n",
    "                result = np.where(np.dot(X, W) + b > 0, 1, 0)\n",
    "                if np.sum(result == y) >= 4:\n",
    "                    W_ = W\n",
    "                    b_ = b\n",
    "    try:\n",
    "        W_ = W_\n",
    "        b_ = b_\n",
    "        return W_, b_\n",
    "    except Exception as e:\n",
    "        print(e)\n",
    "    "
   ]
  },
  {
   "cell_type": "code",
   "execution_count": 164,
   "id": "e4f20b1c-0588-4ab2-9948-f4983a03cd9e",
   "metadata": {},
   "outputs": [],
   "source": [
    "w_nand, b_nand = logical_test('NAND')\n",
    "w_or, b_or = logical_test('OR')\n",
    "w_and, b_and = logical_test('AND')"
   ]
  },
  {
   "cell_type": "code",
   "execution_count": 166,
   "id": "aba1f5e6-ec75-44a8-a839-e88d155036a3",
   "metadata": {},
   "outputs": [
    {
     "data": {
      "text/plain": [
       "(1.0,\n",
       " array([[0],\n",
       "        [1],\n",
       "        [1],\n",
       "        [0]]))"
      ]
     },
     "execution_count": 166,
     "metadata": {},
     "output_type": "execute_result"
    }
   ],
   "source": [
    "_,s1 = NAND(w_nand, b_nand)\n",
    "_,s2 = OR(w_or, b_or)\n",
    "s = np.c_[s1, s2]\n",
    "XOR(s, w_and, b_and)"
   ]
  },
  {
   "cell_type": "code",
   "execution_count": 167,
   "id": "6c1a60ea-d20d-4c94-87c4-8f75ff340905",
   "metadata": {},
   "outputs": [
    {
     "data": {
      "text/plain": [
       "array([[0, 0],\n",
       "       [1, 0],\n",
       "       [0, 1],\n",
       "       [1, 1]])"
      ]
     },
     "execution_count": 167,
     "metadata": {},
     "output_type": "execute_result"
    }
   ],
   "source": [
    "X"
   ]
  },
  {
   "cell_type": "code",
   "execution_count": 169,
   "id": "39fe1d2d-0adb-4bf1-869e-597e631b3cf6",
   "metadata": {},
   "outputs": [],
   "source": [
    "w_nand, b_nand, = logical_test('NAND')\n",
    "w_or, b_or = logical_test('OR')\n",
    "w_and, b_and = logical_test('AND')"
   ]
  },
  {
   "cell_type": "code",
   "execution_count": 182,
   "id": "508cf9b6-cb9a-419b-8fd8-9c03fdaf5678",
   "metadata": {},
   "outputs": [],
   "source": [
    "def activation(x):\n",
    "    return np.where(x > 0, 1, 0) ## 딥러닝에서는 액티베이션이 반드시 있어야 한다"
   ]
  },
  {
   "cell_type": "code",
   "execution_count": 179,
   "id": "1f6cca40-fa57-4015-b903-a70a34045471",
   "metadata": {},
   "outputs": [],
   "source": [
    "W1 = np.c_[w_nand, w_or]\n",
    "W2 = w_and\n",
    "\n",
    "b1 = np.array([b_nand, b_or])\n",
    "b2 = b_and\n",
    "\n",
    "y_hat = np.dot(X,W1) + b1\n",
    "y_hat = activation(y_hat)\n",
    "y_hat = np.dot(y_hat, W2) + b2\n",
    "y_hat = activation(y_hat)"
   ]
  },
  {
   "cell_type": "code",
   "execution_count": 180,
   "id": "5137e67f-fb82-4d88-8d81-d8c8279e285c",
   "metadata": {},
   "outputs": [
    {
     "data": {
      "text/plain": [
       "array([[0],\n",
       "       [1],\n",
       "       [1],\n",
       "       [0]])"
      ]
     },
     "execution_count": 180,
     "metadata": {},
     "output_type": "execute_result"
    }
   ],
   "source": [
    "y_hat"
   ]
  },
  {
   "cell_type": "code",
   "execution_count": null,
   "id": "38efc27b-037b-4eb1-88f9-2f5a6e23717f",
   "metadata": {},
   "outputs": [],
   "source": []
  },
  {
   "cell_type": "code",
   "execution_count": 196,
   "id": "cf55a6e9-f53f-4fdf-b688-7ac85cdae751",
   "metadata": {},
   "outputs": [],
   "source": [
    "def grad(func, x):\n",
    "    h = 1e-4\n",
    "    fxh = func(x+h)\n",
    "    fx = func(x)\n",
    "    return (fxh - fx) / h"
   ]
  },
  {
   "cell_type": "code",
   "execution_count": 197,
   "id": "906f2444-863c-4e1a-848d-bc87a51e5ce5",
   "metadata": {},
   "outputs": [],
   "source": [
    "def f(x):\n",
    "    return 'aaaa'+x"
   ]
  },
  {
   "cell_type": "code",
   "execution_count": 199,
   "id": "33413a37-46ce-45f5-9fe1-e908ccb5fa3b",
   "metadata": {},
   "outputs": [
    {
     "data": {
      "text/plain": [
       "True"
      ]
     },
     "execution_count": 199,
     "metadata": {},
     "output_type": "execute_result"
    }
   ],
   "source": [
    "callable(f)"
   ]
  },
  {
   "cell_type": "code",
   "execution_count": 198,
   "id": "22656fa9-7448-4592-aba4-318980b73490",
   "metadata": {},
   "outputs": [
    {
     "data": {
      "text/plain": [
       "12.000600010022566"
      ]
     },
     "execution_count": 198,
     "metadata": {},
     "output_type": "execute_result"
    }
   ],
   "source": [
    "f = lambda x:x**3\n",
    "grad(f,2)"
   ]
  },
  {
   "cell_type": "code",
   "execution_count": 294,
   "id": "8eb2e08c-30f5-4974-b45c-ccc511cb62ac",
   "metadata": {},
   "outputs": [],
   "source": [
    "x = np.arange(8).reshape(4,2).astype('float')"
   ]
  },
  {
   "cell_type": "code",
   "execution_count": 295,
   "id": "d88aee6d-2536-4f78-b018-9fcdccdaa4a6",
   "metadata": {},
   "outputs": [],
   "source": [
    "loss = lambda x : np.mean(x**2+np.log(x+1e-4) - 3)"
   ]
  },
  {
   "cell_type": "code",
   "execution_count": 276,
   "id": "eee5b521-70b4-428b-b806-acb83ed07e12",
   "metadata": {
    "jupyter": {
     "source_hidden": true
    },
    "tags": []
   },
   "outputs": [],
   "source": [
    "# h = 1e-4\n",
    "# tmp = x[0,0] \n",
    "# fx = loss(x)\n",
    "# x[0,0] = tmp+h\n",
    "# fxh = loss(x)\n",
    "# (fxh - fx)/h\n",
    "# x[0,0] = tmp\n",
    "\n",
    "# tmp = x[1,0]\n",
    "# fx = loss(x)\n",
    "# x[1,0] = tmp+h\n",
    "# fxh = loss(x)\n",
    "# (fxh - fx)/h\n",
    "# # x[1,0] = tmp"
   ]
  },
  {
   "cell_type": "code",
   "execution_count": 242,
   "id": "7f6dd273-c047-4ce3-b135-892b9437c973",
   "metadata": {
    "jupyter": {
     "source_hidden": true
    },
    "tags": []
   },
   "outputs": [],
   "source": [
    "# x[0,0] = 866.6839756999334\n",
    "# x[1,0] = 0.56"
   ]
  },
  {
   "cell_type": "code",
   "execution_count": 296,
   "id": "f1f97999-3933-40fd-a5d2-02ac12c4845b",
   "metadata": {},
   "outputs": [],
   "source": [
    "def grad(loss,x):\n",
    "    h = 1e-4\n",
    "    grad_ = np.zeros_like(x)\n",
    "    for i in range(x.shape[0]):\n",
    "        for j in range(x.shape[1]):\n",
    "            tmp = x[i,j]\n",
    "            fx = loss(x)\n",
    "            x[i,j] += h\n",
    "            fxh = loss(x)\n",
    "            grad_[i,j] = (fxh - fx)/h\n",
    "    return grad_"
   ]
  },
  {
   "cell_type": "code",
   "execution_count": 297,
   "id": "f6467635-c48c-4546-bca6-81270ca18d72",
   "metadata": {},
   "outputs": [
    {
     "data": {
      "text/plain": [
       "array([[8.66433988e+02, 3.74993753e-01],\n",
       "       [5.62507813e-01, 7.91677083e-01],\n",
       "       [1.03126133e+00, 1.27501175e+00],\n",
       "       [1.52084531e+00, 1.76786926e+00]])"
      ]
     },
     "execution_count": 297,
     "metadata": {},
     "output_type": "execute_result"
    }
   ],
   "source": [
    "grad(loss, x)"
   ]
  },
  {
   "cell_type": "code",
   "execution_count": 298,
   "id": "deb3719e-bdb5-468e-87e9-1b5eaf605083",
   "metadata": {},
   "outputs": [
    {
     "data": {
      "text/plain": [
       "14.501760848855625"
      ]
     },
     "execution_count": 298,
     "metadata": {},
     "output_type": "execute_result"
    }
   ],
   "source": [
    "loss(x)"
   ]
  },
  {
   "cell_type": "code",
   "execution_count": 299,
   "id": "9fdcb37b-1261-440e-93e0-ac4fc4e84fde",
   "metadata": {},
   "outputs": [
    {
     "data": {
      "text/plain": [
       "array([[1.0000e-04, 1.0001e+00],\n",
       "       [2.0001e+00, 3.0001e+00],\n",
       "       [4.0001e+00, 5.0001e+00],\n",
       "       [6.0001e+00, 7.0001e+00]])"
      ]
     },
     "execution_count": 299,
     "metadata": {},
     "output_type": "execute_result"
    }
   ],
   "source": [
    "x"
   ]
  },
  {
   "cell_type": "code",
   "execution_count": null,
   "id": "185b080b-dc66-4aae-92f7-84d5f527ab3b",
   "metadata": {},
   "outputs": [],
   "source": []
  },
  {
   "cell_type": "code",
   "execution_count": 395,
   "id": "86f7296e-1d00-43de-a7cb-cab56ef9465c",
   "metadata": {},
   "outputs": [],
   "source": [
    "x = np.linspace(-4,3,5)"
   ]
  },
  {
   "cell_type": "code",
   "execution_count": 396,
   "id": "aeadeaaf-2ef4-41a9-af08-849f977b0ff2",
   "metadata": {},
   "outputs": [
    {
     "data": {
      "text/plain": [
       "array([0, 0, 0, 1, 1])"
      ]
     },
     "execution_count": 396,
     "metadata": {},
     "output_type": "execute_result"
    }
   ],
   "source": [
    "Activation('step')(x)"
   ]
  },
  {
   "cell_type": "code",
   "execution_count": null,
   "id": "3376bdb2-6cce-495b-97ca-c6e097461f02",
   "metadata": {},
   "outputs": [],
   "source": []
  },
  {
   "cell_type": "code",
   "execution_count": 394,
   "id": "01bde3e1-d799-43fe-8fa5-9f870b7125bd",
   "metadata": {},
   "outputs": [],
   "source": [
    "def grad(loss,*x):\n",
    "    h = 1e-4\n",
    "    W, b = x\n",
    "    \n",
    "    grad_ = np.zeros_like(W)\n",
    "    for i in range(W.shape[0]):\n",
    "        for j in range(W.shape[1]):\n",
    "            tmp = W[i,j]\n",
    "            fx = loss(W,b)\n",
    "            x[i,j] += h\n",
    "            fxh = loss(W,b)\n",
    "            grad_[i,j] = (fxh - fx)/h\n",
    "    b_ = np.zeros_like(b)\n",
    "    for i in range(b.size):\n",
    "        tmp = b[i]\n",
    "        fx = loss(W,b)\n",
    "        b[i] += h\n",
    "        fxh = loss(W,b)\n",
    "        b_[i] = (fxh-fx)/2\n",
    "    return grad_, b_"
   ]
  },
  {
   "cell_type": "code",
   "execution_count": 390,
   "id": "1eb6e840-f2e9-4cc3-8a49-ffbd708fccea",
   "metadata": {},
   "outputs": [],
   "source": [
    "class Activation:\n",
    "    def __init__(self, activation):\n",
    "        self.activation = activation\n",
    "        \n",
    "    def __call__(self, x):\n",
    "        if self.activation == 'step':\n",
    "            return self.step(x)\n",
    "        else:\n",
    "            return 'Choose your activation !!'\n",
    "        \n",
    "    def step(self, x):\n",
    "        return np.where(x>0,1,0)"
   ]
  },
  {
   "cell_type": "code",
   "execution_count": 391,
   "id": "a23d38b1-5694-4d92-9589-d26121bfc2bc",
   "metadata": {},
   "outputs": [],
   "source": [
    "def mean_squared_error(*x):\n",
    "    W, b = x\n",
    "    y_pred = np.dot(X, W) + b\n",
    "    y_pred = Activation('step')(y_pred)\n",
    "    return np.mean(np.square(y_pred - y_nand))"
   ]
  },
  {
   "cell_type": "code",
   "execution_count": 397,
   "id": "cdc58a2c-4cae-486c-87f9-9407e839355e",
   "metadata": {},
   "outputs": [],
   "source": [
    "# def mse(*x):\n",
    "#     W,b = x\n",
    "#     pred = np.dot(X,W) + b\n",
    "#     pred = Activation('step')(pred)\n",
    "#     return np.mean(np.square(pred - y_nand)), W, b"
   ]
  },
  {
   "cell_type": "code",
   "execution_count": 398,
   "id": "affc7603-184f-4457-aefc-77e260796303",
   "metadata": {},
   "outputs": [],
   "source": [
    "# mse(np.random.randn(2,1),0)"
   ]
  },
  {
   "cell_type": "code",
   "execution_count": 388,
   "id": "87f8bc49-d251-4a60-9807-a2fc574d95bb",
   "metadata": {},
   "outputs": [],
   "source": [
    "X = np.array([[0,1,0,1],[0,0,1,1]])\n",
    "X = X.T\n",
    "y_nand\n",
    "#w_nand, b_nand = logical_test('NAND')\n",
    "w_nand = np.random.randn(2,1)\n",
    "b_nand = 0\n",
    "predict = np.dot(X,w_nand) + b_nand\n",
    "predict = Activation('step')(predict)\n",
    "# mean_squared_error(predict)"
   ]
  },
  {
   "cell_type": "code",
   "execution_count": 399,
   "id": "692572a1-13e5-4b74-97e5-957a9cee85a7",
   "metadata": {},
   "outputs": [
    {
     "ename": "TypeError",
     "evalue": "'>' not supported between instances of 'tuple' and 'int'",
     "output_type": "error",
     "traceback": [
      "\u001b[0;31m---------------------------------------------------------------------------\u001b[0m",
      "\u001b[0;31mTypeError\u001b[0m                                 Traceback (most recent call last)",
      "Cell \u001b[0;32mIn[399], line 1\u001b[0m\n\u001b[0;32m----> 1\u001b[0m \u001b[43mgrad\u001b[49m\u001b[43m(\u001b[49m\u001b[43mmean_squared_error\u001b[49m\u001b[43m,\u001b[49m\u001b[43m \u001b[49m\u001b[43mw_nand\u001b[49m\u001b[43m,\u001b[49m\u001b[43m \u001b[49m\u001b[43mb_nand\u001b[49m\u001b[43m \u001b[49m\u001b[43m)\u001b[49m\n",
      "Cell \u001b[0;32mIn[394], line 9\u001b[0m, in \u001b[0;36mgrad\u001b[0;34m(loss, *x)\u001b[0m\n\u001b[1;32m      7\u001b[0m \u001b[38;5;28;01mfor\u001b[39;00m j \u001b[38;5;129;01min\u001b[39;00m \u001b[38;5;28mrange\u001b[39m(W\u001b[38;5;241m.\u001b[39mshape[\u001b[38;5;241m1\u001b[39m]):\n\u001b[1;32m      8\u001b[0m     tmp \u001b[38;5;241m=\u001b[39m W[i,j]\n\u001b[0;32m----> 9\u001b[0m     fx \u001b[38;5;241m=\u001b[39m \u001b[43mloss\u001b[49m\u001b[43m(\u001b[49m\u001b[43mW\u001b[49m\u001b[43m,\u001b[49m\u001b[43mb\u001b[49m\u001b[43m)\u001b[49m\n\u001b[1;32m     10\u001b[0m     x[i,j] \u001b[38;5;241m+\u001b[39m\u001b[38;5;241m=\u001b[39m h\n\u001b[1;32m     11\u001b[0m     fxh \u001b[38;5;241m=\u001b[39m loss(W,b)\n",
      "Cell \u001b[0;32mIn[391], line 3\u001b[0m, in \u001b[0;36mmean_squared_error\u001b[0;34m(*x)\u001b[0m\n\u001b[1;32m      1\u001b[0m \u001b[38;5;28;01mdef\u001b[39;00m \u001b[38;5;21mmean_squared_error\u001b[39m(\u001b[38;5;241m*\u001b[39mx):\n\u001b[1;32m      2\u001b[0m     y_pred \u001b[38;5;241m=\u001b[39m np\u001b[38;5;241m.\u001b[39mdot(X, W) \u001b[38;5;241m+\u001b[39m b\n\u001b[0;32m----> 3\u001b[0m     y_pred \u001b[38;5;241m=\u001b[39m \u001b[43mActivation\u001b[49m\u001b[43m(\u001b[49m\u001b[38;5;124;43m'\u001b[39;49m\u001b[38;5;124;43mstep\u001b[39;49m\u001b[38;5;124;43m'\u001b[39;49m\u001b[43m)\u001b[49m\u001b[43m(\u001b[49m\u001b[43mx\u001b[49m\u001b[43m)\u001b[49m\n\u001b[1;32m      4\u001b[0m     \u001b[38;5;28;01mreturn\u001b[39;00m np\u001b[38;5;241m.\u001b[39mmean(np\u001b[38;5;241m.\u001b[39msquare(y_pred \u001b[38;5;241m-\u001b[39m y_nand))\n",
      "Cell \u001b[0;32mIn[390], line 7\u001b[0m, in \u001b[0;36mActivation.__call__\u001b[0;34m(self, x)\u001b[0m\n\u001b[1;32m      5\u001b[0m \u001b[38;5;28;01mdef\u001b[39;00m \u001b[38;5;21m__call__\u001b[39m(\u001b[38;5;28mself\u001b[39m, x):\n\u001b[1;32m      6\u001b[0m     \u001b[38;5;28;01mif\u001b[39;00m \u001b[38;5;28mself\u001b[39m\u001b[38;5;241m.\u001b[39mactivation \u001b[38;5;241m==\u001b[39m \u001b[38;5;124m'\u001b[39m\u001b[38;5;124mstep\u001b[39m\u001b[38;5;124m'\u001b[39m:\n\u001b[0;32m----> 7\u001b[0m         \u001b[38;5;28;01mreturn\u001b[39;00m \u001b[38;5;28;43mself\u001b[39;49m\u001b[38;5;241;43m.\u001b[39;49m\u001b[43mstep\u001b[49m\u001b[43m(\u001b[49m\u001b[43mx\u001b[49m\u001b[43m)\u001b[49m\n\u001b[1;32m      8\u001b[0m     \u001b[38;5;28;01melse\u001b[39;00m:\n\u001b[1;32m      9\u001b[0m         \u001b[38;5;28;01mreturn\u001b[39;00m \u001b[38;5;124m'\u001b[39m\u001b[38;5;124mChoose your activation !!\u001b[39m\u001b[38;5;124m'\u001b[39m\n",
      "Cell \u001b[0;32mIn[390], line 12\u001b[0m, in \u001b[0;36mActivation.step\u001b[0;34m(self, x)\u001b[0m\n\u001b[1;32m     11\u001b[0m \u001b[38;5;28;01mdef\u001b[39;00m \u001b[38;5;21mstep\u001b[39m(\u001b[38;5;28mself\u001b[39m, x):\n\u001b[0;32m---> 12\u001b[0m     \u001b[38;5;28;01mreturn\u001b[39;00m np\u001b[38;5;241m.\u001b[39mwhere(\u001b[43mx\u001b[49m\u001b[38;5;241;43m>\u001b[39;49m\u001b[38;5;241;43m0\u001b[39;49m,\u001b[38;5;241m1\u001b[39m,\u001b[38;5;241m0\u001b[39m)\n",
      "\u001b[0;31mTypeError\u001b[0m: '>' not supported between instances of 'tuple' and 'int'"
     ]
    }
   ],
   "source": [
    "grad(mean_squared_error, w_nand, b_nand )"
   ]
  },
  {
   "cell_type": "code",
   "execution_count": null,
   "id": "9dc512fc-3e54-4dea-8ef7-7ecccb12b0ce",
   "metadata": {},
   "outputs": [],
   "source": []
  }
 ],
 "metadata": {
  "kernelspec": {
   "display_name": "bteam",
   "language": "python",
   "name": "bteam"
  },
  "language_info": {
   "codemirror_mode": {
    "name": "ipython",
    "version": 3
   },
   "file_extension": ".py",
   "mimetype": "text/x-python",
   "name": "python",
   "nbconvert_exporter": "python",
   "pygments_lexer": "ipython3",
   "version": "3.9.16"
  }
 },
 "nbformat": 4,
 "nbformat_minor": 5
}
