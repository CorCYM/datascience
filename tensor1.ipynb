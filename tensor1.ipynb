{
 "cells": [
  {
   "cell_type": "code",
   "execution_count": 4,
   "id": "817555a7-9f76-4736-8054-5bc22c04c88d",
   "metadata": {
    "collapsed": true,
    "jupyter": {
     "outputs_hidden": true
    },
    "tags": []
   },
   "outputs": [
    {
     "name": "stdout",
     "output_type": "stream",
     "text": [
      "Retrieving notices: ...working... done\n",
      "Collecting package metadata (current_repodata.json): done\n",
      "Solving environment: done\n",
      "\n",
      "## Package Plan ##\n",
      "\n",
      "  environment location: /home/bteam/anaconda3/envs/bteam\n",
      "\n",
      "  added / updated specs:\n",
      "    - networkx\n",
      "\n",
      "\n",
      "The following packages will be downloaded:\n",
      "\n",
      "    package                    |            build\n",
      "    ---------------------------|-----------------\n",
      "    networkx-2.8.4             |   py39h06a4308_1         2.6 MB\n",
      "    ------------------------------------------------------------\n",
      "                                           Total:         2.6 MB\n",
      "\n",
      "The following NEW packages will be INSTALLED:\n",
      "\n",
      "  networkx           pkgs/main/linux-64::networkx-2.8.4-py39h06a4308_1 \n",
      "\n",
      "\n",
      "\n",
      "Downloading and Extracting Packages\n",
      "                                                                                \n",
      "Preparing transaction: done\n",
      "Verifying transaction: done\n",
      "Executing transaction: done\n"
     ]
    }
   ],
   "source": [
    "!conda install networkx -y"
   ]
  },
  {
   "cell_type": "code",
   "execution_count": 5,
   "id": "b42c3cf6-142a-419f-a0f0-ade873c7ab4f",
   "metadata": {},
   "outputs": [
    {
     "name": "stdout",
     "output_type": "stream",
     "text": [
      "Requirement already satisfied: tensorflow in /home/bteam/anaconda3/envs/bteam/lib/python3.9/site-packages (2.12.0)\n",
      "Requirement already satisfied: typing-extensions>=3.6.6 in /home/bteam/anaconda3/envs/bteam/lib/python3.9/site-packages (from tensorflow) (4.5.0)\n",
      "Requirement already satisfied: astunparse>=1.6.0 in /home/bteam/anaconda3/envs/bteam/lib/python3.9/site-packages (from tensorflow) (1.6.3)\n",
      "Requirement already satisfied: termcolor>=1.1.0 in /home/bteam/anaconda3/envs/bteam/lib/python3.9/site-packages (from tensorflow) (2.3.0)\n",
      "Requirement already satisfied: libclang>=13.0.0 in /home/bteam/anaconda3/envs/bteam/lib/python3.9/site-packages (from tensorflow) (16.0.0)\n",
      "Requirement already satisfied: setuptools in /home/bteam/anaconda3/envs/bteam/lib/python3.9/site-packages (from tensorflow) (66.0.0)\n",
      "Requirement already satisfied: jax>=0.3.15 in /home/bteam/anaconda3/envs/bteam/lib/python3.9/site-packages (from tensorflow) (0.4.10)\n",
      "Requirement already satisfied: packaging in /home/bteam/anaconda3/envs/bteam/lib/python3.9/site-packages (from tensorflow) (23.0)\n",
      "Requirement already satisfied: google-pasta>=0.1.1 in /home/bteam/anaconda3/envs/bteam/lib/python3.9/site-packages (from tensorflow) (0.2.0)\n",
      "Requirement already satisfied: tensorboard<2.13,>=2.12 in /home/bteam/anaconda3/envs/bteam/lib/python3.9/site-packages (from tensorflow) (2.12.3)\n",
      "Requirement already satisfied: grpcio<2.0,>=1.24.3 in /home/bteam/anaconda3/envs/bteam/lib/python3.9/site-packages (from tensorflow) (1.54.2)\n",
      "Requirement already satisfied: h5py>=2.9.0 in /home/bteam/anaconda3/envs/bteam/lib/python3.9/site-packages (from tensorflow) (3.8.0)\n",
      "Requirement already satisfied: numpy<1.24,>=1.22 in /home/bteam/anaconda3/envs/bteam/lib/python3.9/site-packages (from tensorflow) (1.23.5)\n",
      "Requirement already satisfied: keras<2.13,>=2.12.0 in /home/bteam/anaconda3/envs/bteam/lib/python3.9/site-packages (from tensorflow) (2.12.0)\n",
      "Requirement already satisfied: tensorflow-estimator<2.13,>=2.12.0 in /home/bteam/anaconda3/envs/bteam/lib/python3.9/site-packages (from tensorflow) (2.12.0)\n",
      "Requirement already satisfied: six>=1.12.0 in /home/bteam/anaconda3/envs/bteam/lib/python3.9/site-packages (from tensorflow) (1.16.0)\n",
      "Requirement already satisfied: tensorflow-io-gcs-filesystem>=0.23.1 in /home/bteam/anaconda3/envs/bteam/lib/python3.9/site-packages (from tensorflow) (0.32.0)\n",
      "Requirement already satisfied: opt-einsum>=2.3.2 in /home/bteam/anaconda3/envs/bteam/lib/python3.9/site-packages (from tensorflow) (3.3.0)\n",
      "Requirement already satisfied: absl-py>=1.0.0 in /home/bteam/anaconda3/envs/bteam/lib/python3.9/site-packages (from tensorflow) (1.4.0)\n",
      "Requirement already satisfied: protobuf!=4.21.0,!=4.21.1,!=4.21.2,!=4.21.3,!=4.21.4,!=4.21.5,<5.0.0dev,>=3.20.3 in /home/bteam/anaconda3/envs/bteam/lib/python3.9/site-packages (from tensorflow) (4.23.0)\n",
      "Requirement already satisfied: gast<=0.4.0,>=0.2.1 in /home/bteam/anaconda3/envs/bteam/lib/python3.9/site-packages (from tensorflow) (0.4.0)\n",
      "Requirement already satisfied: flatbuffers>=2.0 in /home/bteam/anaconda3/envs/bteam/lib/python3.9/site-packages (from tensorflow) (23.5.9)\n",
      "Requirement already satisfied: wrapt<1.15,>=1.11.0 in /home/bteam/anaconda3/envs/bteam/lib/python3.9/site-packages (from tensorflow) (1.14.1)\n",
      "Requirement already satisfied: wheel<1.0,>=0.23.0 in /home/bteam/anaconda3/envs/bteam/lib/python3.9/site-packages (from astunparse>=1.6.0->tensorflow) (0.38.4)\n",
      "Requirement already satisfied: scipy>=1.7 in /home/bteam/anaconda3/envs/bteam/lib/python3.9/site-packages (from jax>=0.3.15->tensorflow) (1.10.1)\n",
      "Requirement already satisfied: ml-dtypes>=0.1.0 in /home/bteam/anaconda3/envs/bteam/lib/python3.9/site-packages (from jax>=0.3.15->tensorflow) (0.1.0)\n",
      "Requirement already satisfied: tensorboard-data-server<0.8.0,>=0.7.0 in /home/bteam/anaconda3/envs/bteam/lib/python3.9/site-packages (from tensorboard<2.13,>=2.12->tensorflow) (0.7.0)\n",
      "Requirement already satisfied: google-auth<3,>=1.6.3 in /home/bteam/anaconda3/envs/bteam/lib/python3.9/site-packages (from tensorboard<2.13,>=2.12->tensorflow) (2.18.0)\n",
      "Requirement already satisfied: google-auth-oauthlib<1.1,>=0.5 in /home/bteam/anaconda3/envs/bteam/lib/python3.9/site-packages (from tensorboard<2.13,>=2.12->tensorflow) (1.0.0)\n",
      "Requirement already satisfied: werkzeug>=1.0.1 in /home/bteam/anaconda3/envs/bteam/lib/python3.9/site-packages (from tensorboard<2.13,>=2.12->tensorflow) (2.3.4)\n",
      "Requirement already satisfied: markdown>=2.6.8 in /home/bteam/anaconda3/envs/bteam/lib/python3.9/site-packages (from tensorboard<2.13,>=2.12->tensorflow) (3.4.3)\n",
      "Requirement already satisfied: requests<3,>=2.21.0 in /home/bteam/anaconda3/envs/bteam/lib/python3.9/site-packages (from tensorboard<2.13,>=2.12->tensorflow) (2.29.0)\n",
      "Requirement already satisfied: urllib3<2.0 in /home/bteam/anaconda3/envs/bteam/lib/python3.9/site-packages (from google-auth<3,>=1.6.3->tensorboard<2.13,>=2.12->tensorflow) (1.26.15)\n",
      "Requirement already satisfied: rsa<5,>=3.1.4 in /home/bteam/anaconda3/envs/bteam/lib/python3.9/site-packages (from google-auth<3,>=1.6.3->tensorboard<2.13,>=2.12->tensorflow) (4.9)\n",
      "Requirement already satisfied: cachetools<6.0,>=2.0.0 in /home/bteam/anaconda3/envs/bteam/lib/python3.9/site-packages (from google-auth<3,>=1.6.3->tensorboard<2.13,>=2.12->tensorflow) (5.3.0)\n",
      "Requirement already satisfied: pyasn1-modules>=0.2.1 in /home/bteam/anaconda3/envs/bteam/lib/python3.9/site-packages (from google-auth<3,>=1.6.3->tensorboard<2.13,>=2.12->tensorflow) (0.3.0)\n",
      "Requirement already satisfied: requests-oauthlib>=0.7.0 in /home/bteam/anaconda3/envs/bteam/lib/python3.9/site-packages (from google-auth-oauthlib<1.1,>=0.5->tensorboard<2.13,>=2.12->tensorflow) (1.3.1)\n",
      "Requirement already satisfied: importlib-metadata>=4.4 in /home/bteam/anaconda3/envs/bteam/lib/python3.9/site-packages (from markdown>=2.6.8->tensorboard<2.13,>=2.12->tensorflow) (6.0.0)\n",
      "Requirement already satisfied: idna<4,>=2.5 in /home/bteam/anaconda3/envs/bteam/lib/python3.9/site-packages (from requests<3,>=2.21.0->tensorboard<2.13,>=2.12->tensorflow) (3.4)\n",
      "Requirement already satisfied: certifi>=2017.4.17 in /home/bteam/anaconda3/envs/bteam/lib/python3.9/site-packages (from requests<3,>=2.21.0->tensorboard<2.13,>=2.12->tensorflow) (2023.5.7)\n",
      "Requirement already satisfied: charset-normalizer<4,>=2 in /home/bteam/anaconda3/envs/bteam/lib/python3.9/site-packages (from requests<3,>=2.21.0->tensorboard<2.13,>=2.12->tensorflow) (2.0.4)\n",
      "Requirement already satisfied: MarkupSafe>=2.1.1 in /home/bteam/anaconda3/envs/bteam/lib/python3.9/site-packages (from werkzeug>=1.0.1->tensorboard<2.13,>=2.12->tensorflow) (2.1.1)\n",
      "Requirement already satisfied: zipp>=0.5 in /home/bteam/anaconda3/envs/bteam/lib/python3.9/site-packages (from importlib-metadata>=4.4->markdown>=2.6.8->tensorboard<2.13,>=2.12->tensorflow) (3.11.0)\n",
      "Requirement already satisfied: pyasn1<0.6.0,>=0.4.6 in /home/bteam/anaconda3/envs/bteam/lib/python3.9/site-packages (from pyasn1-modules>=0.2.1->google-auth<3,>=1.6.3->tensorboard<2.13,>=2.12->tensorflow) (0.5.0)\n",
      "Requirement already satisfied: oauthlib>=3.0.0 in /home/bteam/anaconda3/envs/bteam/lib/python3.9/site-packages (from requests-oauthlib>=0.7.0->google-auth-oauthlib<1.1,>=0.5->tensorboard<2.13,>=2.12->tensorflow) (3.2.2)\n"
     ]
    }
   ],
   "source": [
    "!pip install tensorflow"
   ]
  },
  {
   "cell_type": "code",
   "execution_count": 35,
   "id": "20b59c95-cc47-40d4-a193-c6fc523d0fdd",
   "metadata": {},
   "outputs": [],
   "source": [
    "import numpy as np"
   ]
  },
  {
   "cell_type": "code",
   "execution_count": 7,
   "id": "e5d4ba89-c499-4f56-8ab2-d45fdd4cdd4a",
   "metadata": {},
   "outputs": [],
   "source": [
    "import tensorflow as tf"
   ]
  },
  {
   "cell_type": "code",
   "execution_count": 8,
   "id": "2aa32511-9607-4b3d-bedb-dae21f9ba068",
   "metadata": {},
   "outputs": [],
   "source": [
    "from tensorflow import keras"
   ]
  },
  {
   "cell_type": "code",
   "execution_count": 9,
   "id": "093f3609-9270-43c6-ba32-a32f15c221d4",
   "metadata": {},
   "outputs": [],
   "source": [
    "from keras.datasets import mnist"
   ]
  },
  {
   "cell_type": "code",
   "execution_count": 13,
   "id": "04c76937-3ad2-473a-9104-1d5ea14125ee",
   "metadata": {},
   "outputs": [],
   "source": [
    "import warnings\n",
    "warnings.filterwarnings('ignore')\n",
    "from tensorflow.keras.datasets import mnist\n",
    "from sklearn.model_selection import train_test_split\n",
    "from tensorflow.keras.models import Sequential\n",
    "from tensorflow.keras.utils import to_categorical\n",
    "from tensorflow.keras.layers import Dense, Flatten, Input\n",
    "import matplotlib.pyplot as plt"
   ]
  },
  {
   "cell_type": "code",
   "execution_count": null,
   "id": "3f2615ad-ff2f-4e30-a401-09aee71ab354",
   "metadata": {},
   "outputs": [],
   "source": []
  },
  {
   "cell_type": "code",
   "execution_count": 14,
   "id": "1e0e429b-7512-4c2f-b8d8-2ef7c1733e5e",
   "metadata": {},
   "outputs": [
    {
     "name": "stdout",
     "output_type": "stream",
     "text": [
      "Downloading data from https://storage.googleapis.com/tensorflow/tf-keras-datasets/mnist.npz\n",
      "11490434/11490434 [==============================] - 1s 0us/step\n"
     ]
    }
   ],
   "source": [
    "(X, y),(X_test, y_test) = mnist.load_data()"
   ]
  },
  {
   "cell_type": "code",
   "execution_count": 24,
   "id": "8b08651d-e35c-40be-acb1-d9cbddf0d1a2",
   "metadata": {},
   "outputs": [],
   "source": [
    "X_train, X_val, y_train, y_val = train_test_split(X,y)"
   ]
  },
  {
   "cell_type": "code",
   "execution_count": 25,
   "id": "522b3494-32c6-4242-96c0-5589e3042c56",
   "metadata": {},
   "outputs": [],
   "source": [
    "model = Sequential(\n",
    "    [\n",
    "        Input(shape=(28,28,)),\n",
    "        Flatten(),\n",
    "        Dense(34, activation='relu'),\n",
    "        Dense(16, activation='relu'),\n",
    "        Dense(10, activation='softmax')\n",
    "    ]\n",
    ")"
   ]
  },
  {
   "cell_type": "code",
   "execution_count": 26,
   "id": "21a78762-a09d-4482-ae73-55023ddc0aa5",
   "metadata": {},
   "outputs": [],
   "source": [
    "y_train = to_categorical(y_train)\n",
    "y_val = to_categorical(y_val)\n",
    "y_test = to_categorical(y_test)"
   ]
  },
  {
   "cell_type": "code",
   "execution_count": 40,
   "id": "0256cf72-132f-44e4-93c9-6841784f3bff",
   "metadata": {},
   "outputs": [
    {
     "name": "stdout",
     "output_type": "stream",
     "text": [
      "Epoch 1/10\n",
      "1407/1407 [==============================] - 2s 1ms/step - loss: 0.1661 - accuracy: 0.9546 - val_loss: 0.2345 - val_accuracy: 0.9469\n",
      "Epoch 2/10\n",
      "1407/1407 [==============================] - 2s 1ms/step - loss: 0.1537 - accuracy: 0.9584 - val_loss: 0.2182 - val_accuracy: 0.9468\n",
      "Epoch 3/10\n",
      "1407/1407 [==============================] - 2s 1ms/step - loss: 0.1434 - accuracy: 0.9614 - val_loss: 0.2698 - val_accuracy: 0.9406\n",
      "Epoch 4/10\n",
      "1407/1407 [==============================] - 2s 1ms/step - loss: 0.1374 - accuracy: 0.9635 - val_loss: 0.2253 - val_accuracy: 0.9451\n",
      "Epoch 5/10\n",
      "1407/1407 [==============================] - 2s 1ms/step - loss: 0.1321 - accuracy: 0.9643 - val_loss: 0.2355 - val_accuracy: 0.9471\n",
      "Epoch 6/10\n",
      "1407/1407 [==============================] - 2s 1ms/step - loss: 0.1298 - accuracy: 0.9645 - val_loss: 0.2192 - val_accuracy: 0.9501\n",
      "Epoch 7/10\n",
      "1407/1407 [==============================] - 2s 1ms/step - loss: 0.1198 - accuracy: 0.9672 - val_loss: 0.2577 - val_accuracy: 0.9411\n",
      "Epoch 8/10\n",
      "1407/1407 [==============================] - 2s 1ms/step - loss: 0.1198 - accuracy: 0.9674 - val_loss: 0.2590 - val_accuracy: 0.9503\n",
      "Epoch 9/10\n",
      "1407/1407 [==============================] - 2s 1ms/step - loss: 0.1109 - accuracy: 0.9691 - val_loss: 0.2544 - val_accuracy: 0.9519\n",
      "Epoch 10/10\n",
      "1407/1407 [==============================] - 2s 1ms/step - loss: 0.1150 - accuracy: 0.9687 - val_loss: 0.2441 - val_accuracy: 0.9524\n"
     ]
    },
    {
     "data": {
      "text/plain": [
       "<keras.callbacks.History at 0x7f2ed40aeb50>"
      ]
     },
     "execution_count": 40,
     "metadata": {},
     "output_type": "execute_result"
    }
   ],
   "source": [
    "model.compile(optimizer='adam',\n",
    "             loss='categorical_crossentropy',\n",
    "             metrics=['accuracy'])\n",
    "model.fit(\n",
    "    X_train,\n",
    "    y_train,\n",
    "    epochs=10,\n",
    "    validation_data=(X_val,y_val)\n",
    "\n",
    ")"
   ]
  },
  {
   "cell_type": "code",
   "execution_count": 41,
   "id": "52e8c782-ab1b-4c22-8737-1bc7c5f4f475",
   "metadata": {},
   "outputs": [
    {
     "data": {
      "text/plain": [
       "{'loss': [0.16607563197612762,\n",
       "  0.15374118089675903,\n",
       "  0.1434447318315506,\n",
       "  0.1374041736125946,\n",
       "  0.1320541352033615,\n",
       "  0.12977111339569092,\n",
       "  0.11979872733354568,\n",
       "  0.11978529393672943,\n",
       "  0.11094518005847931,\n",
       "  0.11495984345674515],\n",
       " 'accuracy': [0.9545999765396118,\n",
       "  0.9584222435951233,\n",
       "  0.9614222049713135,\n",
       "  0.9634888768196106,\n",
       "  0.9642888903617859,\n",
       "  0.9644888639450073,\n",
       "  0.9671555757522583,\n",
       "  0.9673555493354797,\n",
       "  0.9691110849380493,\n",
       "  0.9687111377716064],\n",
       " 'val_loss': [0.23450259864330292,\n",
       "  0.21818380057811737,\n",
       "  0.269806832075119,\n",
       "  0.225280299782753,\n",
       "  0.2354503720998764,\n",
       "  0.21923580765724182,\n",
       "  0.25769853591918945,\n",
       "  0.2589511573314667,\n",
       "  0.2544099688529968,\n",
       "  0.24405865371227264],\n",
       " 'val_accuracy': [0.9469333291053772,\n",
       "  0.9467999935150146,\n",
       "  0.9405999779701233,\n",
       "  0.9450666904449463,\n",
       "  0.9470666646957397,\n",
       "  0.9501333236694336,\n",
       "  0.9411333203315735,\n",
       "  0.9502666592597961,\n",
       "  0.9519333243370056,\n",
       "  0.9524000287055969]}"
      ]
     },
     "execution_count": 41,
     "metadata": {},
     "output_type": "execute_result"
    }
   ],
   "source": [
    "model.history.history"
   ]
  },
  {
   "cell_type": "code",
   "execution_count": 42,
   "id": "dbc4dca7-e9e1-4d05-972f-aaa2bfe813ee",
   "metadata": {},
   "outputs": [
    {
     "data": {
      "text/plain": [
       "[<matplotlib.lines.Line2D at 0x7f2ee1e88460>]"
      ]
     },
     "execution_count": 42,
     "metadata": {},
     "output_type": "execute_result"
    },
    {
     "data": {
      "image/png": "[encoded data removed]",
      "text/plain": [
       "<Figure size 640x480 with 1 Axes>"
      ]
     },
     "metadata": {},
     "output_type": "display_data"
    }
   ],
   "source": [
    "plt.plot(np.arange(1,11), model.history.history['val_loss'])"
   ]
  },
  {
   "cell_type": "code",
   "execution_count": 43,
   "id": "46a9c222-f259-4ad7-bda0-bb241581022a",
   "metadata": {},
   "outputs": [
    {
     "name": "stdout",
     "output_type": "stream",
     "text": [
      "313/313 [==============================] - 0s 827us/step - loss: 0.2788 - accuracy: 0.9520\n"
     ]
    },
    {
     "data": {
      "text/plain": [
       "[0.2788240611553192, 0.9520000219345093]"
      ]
     },
     "execution_count": 43,
     "metadata": {},
     "output_type": "execute_result"
    }
   ],
   "source": [
    "model.evaluate(X_test, y_test)"
   ]
  },
  {
   "cell_type": "code",
   "execution_count": null,
   "id": "e0310ee0-a774-4cc9-933c-ae080a43da15",
   "metadata": {},
   "outputs": [],
   "source": []
  }
 ],
 "metadata": {
  "kernelspec": {
   "display_name": "bteam",
   "language": "python",
   "name": "bteam"
  },
  "language_info": {
   "codemirror_mode": {
    "name": "ipython",
    "version": 3
   },
   "file_extension": ".py",
   "mimetype": "text/x-python",
   "name": "python",
   "nbconvert_exporter": "python",
   "pygments_lexer": "ipython3",
   "version": "3.9.16"
  }
 },
 "nbformat": 4,
 "nbformat_minor": 5
}
