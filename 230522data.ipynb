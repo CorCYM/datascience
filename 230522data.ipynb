{
 "cells": [
  {
   "cell_type": "code",
   "execution_count": 1,
   "id": "4d1db978-1a64-463f-961e-7187601cdc56",
   "metadata": {},
   "outputs": [],
   "source": [
    "from sklearn.model_selection import train_test_split\n",
    "from sklearn.linear_model import LogisticRegression\n",
    "from sklearn.tree import DecisionTreeClassifier\n",
    "from sklearn.svm import SVC\n",
    "from sklearn.naive_bayes import GaussianNB\n",
    "from sklearn.ensemble import RandomForestClassifier\n",
    "from sklearn.ensemble import AdaBoostClassifier\n",
    "from xgboost import XGBClassifier\n",
    "from sklearn.decomposition import PCA\n",
    "from sklearn.cluster import KMeans\n",
    "from sklearn.preprocessing import LabelEncoder\n",
    "import seaborn as sns\n",
    "import numpy as np\n",
    "import pandas as pd"
   ]
  },
  {
   "cell_type": "code",
   "execution_count": 2,
   "id": "e6223943-1b7e-4b35-9f49-abe0fc4870a2",
   "metadata": {},
   "outputs": [],
   "source": [
    "titanic = sns.load_dataset('titanic')"
   ]
  },
  {
   "cell_type": "code",
   "execution_count": 3,
   "id": "d9a37a02-011b-499b-8434-b38c0f3947d8",
   "metadata": {},
   "outputs": [
    {
     "data": {
      "text/plain": [
       "survived         0\n",
       "pclass           0\n",
       "sex              0\n",
       "age            177\n",
       "sibsp            0\n",
       "parch            0\n",
       "fare             0\n",
       "embarked         2\n",
       "class            0\n",
       "who              0\n",
       "adult_male       0\n",
       "deck           688\n",
       "embark_town      2\n",
       "alive            0\n",
       "alone            0\n",
       "dtype: int64"
      ]
     },
     "execution_count": 3,
     "metadata": {},
     "output_type": "execute_result"
    }
   ],
   "source": [
    "titanic.isna().sum()"
   ]
  },
  {
   "cell_type": "code",
   "execution_count": 4,
   "id": "45303b22-c8b6-430b-a247-81ba0e8d5fe8",
   "metadata": {},
   "outputs": [
    {
     "name": "stderr",
     "output_type": "stream",
     "text": [
      "/tmp/ipykernel_1694/1775159437.py:1: FutureWarning: The default value of numeric_only in DataFrameGroupBy.mean is deprecated. In a future version, numeric_only will default to False. Either specify numeric_only or select only columns which should be valid for the function.\n",
      "  titanic.groupby(['pclass','age']).mean().fare\n"
     ]
    },
    {
     "data": {
      "text/plain": [
       "pclass  age  \n",
       "1       0.92     151.5500\n",
       "        2.00     151.5500\n",
       "        4.00      81.8583\n",
       "        11.00    120.0000\n",
       "        14.00    120.0000\n",
       "                   ...   \n",
       "3       61.00      6.2375\n",
       "        63.00      9.5875\n",
       "        65.00      7.7500\n",
       "        70.50      7.7500\n",
       "        74.00      7.7750\n",
       "Name: fare, Length: 182, dtype: float64"
      ]
     },
     "execution_count": 4,
     "metadata": {},
     "output_type": "execute_result"
    }
   ],
   "source": [
    "titanic.groupby(['pclass','age']).mean().fare"
   ]
  },
  {
   "cell_type": "code",
   "execution_count": 5,
   "id": "e3dfcffb-d09e-4130-9a74-b790e867d45f",
   "metadata": {
    "tags": []
   },
   "outputs": [
    {
     "name": "stderr",
     "output_type": "stream",
     "text": [
      "/tmp/ipykernel_1694/3714195747.py:2: FutureWarning: The default value of numeric_only in DataFrameGroupBy.mean is deprecated. In a future version, numeric_only will default to False. Either specify numeric_only or select only columns which should be valid for the function.\n",
      "  class_age = titanic.groupby(['pclass','age']).mean().fare.reset_index()\n"
     ]
    },
    {
     "data": {
      "text/html": [
       "<div>\n",
       "<style scoped>\n",
       "    .dataframe tbody tr th:only-of-type {\n",
       "        vertical-align: middle;\n",
       "    }\n",
       "\n",
       "    .dataframe tbody tr th {\n",
       "        vertical-align: top;\n",
       "    }\n",
       "\n",
       "    .dataframe thead th {\n",
       "        text-align: right;\n",
       "    }\n",
       "</style>\n",
       "<table border=\"1\" class=\"dataframe\">\n",
       "  <thead>\n",
       "    <tr style=\"text-align: right;\">\n",
       "      <th></th>\n",
       "      <th>pclass</th>\n",
       "      <th>age</th>\n",
       "      <th>fare</th>\n",
       "    </tr>\n",
       "  </thead>\n",
       "  <tbody>\n",
       "    <tr>\n",
       "      <th>0</th>\n",
       "      <td>1</td>\n",
       "      <td>0.92</td>\n",
       "      <td>151</td>\n",
       "    </tr>\n",
       "    <tr>\n",
       "      <th>1</th>\n",
       "      <td>1</td>\n",
       "      <td>2.00</td>\n",
       "      <td>151</td>\n",
       "    </tr>\n",
       "    <tr>\n",
       "      <th>2</th>\n",
       "      <td>1</td>\n",
       "      <td>4.00</td>\n",
       "      <td>81</td>\n",
       "    </tr>\n",
       "    <tr>\n",
       "      <th>3</th>\n",
       "      <td>1</td>\n",
       "      <td>11.00</td>\n",
       "      <td>120</td>\n",
       "    </tr>\n",
       "    <tr>\n",
       "      <th>4</th>\n",
       "      <td>1</td>\n",
       "      <td>14.00</td>\n",
       "      <td>120</td>\n",
       "    </tr>\n",
       "    <tr>\n",
       "      <th>...</th>\n",
       "      <td>...</td>\n",
       "      <td>...</td>\n",
       "      <td>...</td>\n",
       "    </tr>\n",
       "    <tr>\n",
       "      <th>177</th>\n",
       "      <td>3</td>\n",
       "      <td>61.00</td>\n",
       "      <td>6</td>\n",
       "    </tr>\n",
       "    <tr>\n",
       "      <th>178</th>\n",
       "      <td>3</td>\n",
       "      <td>63.00</td>\n",
       "      <td>9</td>\n",
       "    </tr>\n",
       "    <tr>\n",
       "      <th>179</th>\n",
       "      <td>3</td>\n",
       "      <td>65.00</td>\n",
       "      <td>7</td>\n",
       "    </tr>\n",
       "    <tr>\n",
       "      <th>180</th>\n",
       "      <td>3</td>\n",
       "      <td>70.50</td>\n",
       "      <td>7</td>\n",
       "    </tr>\n",
       "    <tr>\n",
       "      <th>181</th>\n",
       "      <td>3</td>\n",
       "      <td>74.00</td>\n",
       "      <td>7</td>\n",
       "    </tr>\n",
       "  </tbody>\n",
       "</table>\n",
       "<p>182 rows × 3 columns</p>\n",
       "</div>"
      ],
      "text/plain": [
       "     pclass    age  fare\n",
       "0         1   0.92   151\n",
       "1         1   2.00   151\n",
       "2         1   4.00    81\n",
       "3         1  11.00   120\n",
       "4         1  14.00   120\n",
       "..      ...    ...   ...\n",
       "177       3  61.00     6\n",
       "178       3  63.00     9\n",
       "179       3  65.00     7\n",
       "180       3  70.50     7\n",
       "181       3  74.00     7\n",
       "\n",
       "[182 rows x 3 columns]"
      ]
     },
     "execution_count": 5,
     "metadata": {},
     "output_type": "execute_result"
    }
   ],
   "source": [
    "## age 칼럼 정리\n",
    "class_age = titanic.groupby(['pclass','age']).mean().fare.reset_index()\n",
    "class_age.fare = class_age.fare.astype('int')\n",
    "class_age.groupby(['pclass', 'fare']).mean().age.reset_index()\n",
    "class_age"
   ]
  },
  {
   "cell_type": "code",
   "execution_count": 6,
   "id": "885821bc-4e29-46ae-bb15-91d6f1ec079d",
   "metadata": {},
   "outputs": [],
   "source": [
    "# class_age.loc[(class_age.pclass == 3) & (class_age.fare == 8), 'age']"
   ]
  },
  {
   "cell_type": "code",
   "execution_count": 7,
   "id": "93f5507d-924c-4a3d-a92d-97f8ad62cb13",
   "metadata": {},
   "outputs": [],
   "source": [
    "# def find_age(x):\n",
    "#     try:\n",
    "#         class_age.loc[(class_age.pclass == x[0]) & (class_age.fare == x[1]), 'age'].values[0]\n",
    "#     except:\n",
    "#         fare = np.min(np.abs(class_age.loc[(class_age.pclass == x[0]), 'fare'] - x[1]))\n",
    "#         try:\n",
    "#             fare = x[1] - fare\n",
    "#             age = class_age.loc[(class_age.pclass == x[0]) & (class_age.fare == fare), 'age'].values[0]\n",
    "#         except:\n",
    "#             fare = x[1] + fare\n",
    "#             age = class_age.loc[(class_age.pclass == x[0]) & (class_age.fare == fare), 'age'].values[0]\n",
    "#     return age"
   ]
  },
  {
   "cell_type": "code",
   "execution_count": 8,
   "id": "d0aaf6be-cd2b-4495-8baf-aec3caf72320",
   "metadata": {},
   "outputs": [],
   "source": [
    "def find_age(x):\n",
    "    if ~np.isnan(x[2]):\n",
    "        return x[2]\n",
    "    else:\n",
    "        dists=np.abs(class_age.loc[(class_age.pclass==x[0]), 'fare'] - x[1])\n",
    "    # return dists\n",
    "    return class_age.loc[dists[dists==np.min(dists)].index[0],'age']"
   ]
  },
  {
   "cell_type": "code",
   "execution_count": null,
   "id": "2966c586-8b07-461c-b6dc-9b85ab1ad1d9",
   "metadata": {},
   "outputs": [],
   "source": []
  },
  {
   "cell_type": "code",
   "execution_count": 9,
   "id": "95ff1316-2d44-4158-b4d9-6be87a476004",
   "metadata": {},
   "outputs": [],
   "source": [
    "titanic['cl_age'] = titanic.loc[:, ['pclass','fare', 'age']].apply(find_age, axis=1)"
   ]
  },
  {
   "cell_type": "code",
   "execution_count": 10,
   "id": "7d9e4fe4-56c7-44f2-ac82-78a59be4bbf7",
   "metadata": {},
   "outputs": [
    {
     "data": {
      "text/plain": [
       "survived       0\n",
       "pclass         0\n",
       "sibsp          0\n",
       "parch          0\n",
       "fare           0\n",
       "embarked       2\n",
       "who            0\n",
       "adult_male     0\n",
       "embark_town    2\n",
       "alone          0\n",
       "cl_age         0\n",
       "dtype: int64"
      ]
     },
     "execution_count": 10,
     "metadata": {},
     "output_type": "execute_result"
    }
   ],
   "source": [
    "drop_cols = ['age', 'deck', 'class', 'alive', 'sex']\n",
    "titanic.drop(columns = drop_cols, inplace=True)\n",
    "titanic.isna().sum()"
   ]
  },
  {
   "cell_type": "code",
   "execution_count": 11,
   "id": "24c6a055-91d2-4fa7-ad11-2da6e2aaf38a",
   "metadata": {},
   "outputs": [],
   "source": [
    "titanic = titanic.loc[~titanic.embarked.isna(),:]"
   ]
  },
  {
   "cell_type": "code",
   "execution_count": 12,
   "id": "452c0ea1-adc1-4aee-9fe4-74f5c3139062",
   "metadata": {},
   "outputs": [
    {
     "data": {
      "text/plain": [
       "survived       0\n",
       "pclass         0\n",
       "sibsp          0\n",
       "parch          0\n",
       "fare           0\n",
       "embarked       0\n",
       "who            0\n",
       "adult_male     0\n",
       "embark_town    0\n",
       "alone          0\n",
       "cl_age         0\n",
       "dtype: int64"
      ]
     },
     "execution_count": 12,
     "metadata": {},
     "output_type": "execute_result"
    }
   ],
   "source": [
    "titanic.isna().sum()"
   ]
  },
  {
   "cell_type": "code",
   "execution_count": 15,
   "id": "bc22b4ae-7fcc-4021-b02f-22377f98990b",
   "metadata": {
    "collapsed": true,
    "jupyter": {
     "outputs_hidden": true
    },
    "tags": []
   },
   "outputs": [
    {
     "name": "stderr",
     "output_type": "stream",
     "text": [
      "/home/bteam/anaconda3/envs/bteam/lib/python3.9/site-packages/sklearn/cluster/_kmeans.py:870: FutureWarning: The default value of `n_init` will change from 10 to 'auto' in 1.4. Set the value of `n_init` explicitly to suppress the warning\n",
      "  warnings.warn(\n",
      "Exception ignored on calling ctypes callback function: <function _ThreadpoolInfo._find_modules_with_dl_iterate_phdr.<locals>.match_module_callback at 0x7f3de3a6b940>\n",
      "Traceback (most recent call last):\n",
      "  File \"/home/bteam/anaconda3/envs/bteam/lib/python3.9/site-packages/threadpoolctl.py\", line 400, in match_module_callback\n",
      "    self._make_module_from_path(filepath)\n",
      "  File \"/home/bteam/anaconda3/envs/bteam/lib/python3.9/site-packages/threadpoolctl.py\", line 515, in _make_module_from_path\n",
      "    module = module_class(filepath, prefix, user_api, internal_api)\n",
      "  File \"/home/bteam/anaconda3/envs/bteam/lib/python3.9/site-packages/threadpoolctl.py\", line 606, in __init__\n",
      "    self.version = self.get_version()\n",
      "  File \"/home/bteam/anaconda3/envs/bteam/lib/python3.9/site-packages/threadpoolctl.py\", line 646, in get_version\n",
      "    config = get_config().split()\n",
      "AttributeError: 'NoneType' object has no attribute 'split'\n",
      "Exception ignored on calling ctypes callback function: <function _ThreadpoolInfo._find_modules_with_dl_iterate_phdr.<locals>.match_module_callback at 0x7f3de3a01940>\n",
      "Traceback (most recent call last):\n",
      "  File \"/home/bteam/anaconda3/envs/bteam/lib/python3.9/site-packages/threadpoolctl.py\", line 400, in match_module_callback\n",
      "    self._make_module_from_path(filepath)\n",
      "  File \"/home/bteam/anaconda3/envs/bteam/lib/python3.9/site-packages/threadpoolctl.py\", line 515, in _make_module_from_path\n",
      "    module = module_class(filepath, prefix, user_api, internal_api)\n",
      "  File \"/home/bteam/anaconda3/envs/bteam/lib/python3.9/site-packages/threadpoolctl.py\", line 606, in __init__\n",
      "    self.version = self.get_version()\n",
      "  File \"/home/bteam/anaconda3/envs/bteam/lib/python3.9/site-packages/threadpoolctl.py\", line 646, in get_version\n",
      "    config = get_config().split()\n",
      "AttributeError: 'NoneType' object has no attribute 'split'\n",
      "Exception ignored on calling ctypes callback function: <function _ThreadpoolInfo._find_modules_with_dl_iterate_phdr.<locals>.match_module_callback at 0x7f3de3a6b940>\n",
      "Traceback (most recent call last):\n",
      "  File \"/home/bteam/anaconda3/envs/bteam/lib/python3.9/site-packages/threadpoolctl.py\", line 400, in match_module_callback\n",
      "    self._make_module_from_path(filepath)\n",
      "  File \"/home/bteam/anaconda3/envs/bteam/lib/python3.9/site-packages/threadpoolctl.py\", line 515, in _make_module_from_path\n",
      "    module = module_class(filepath, prefix, user_api, internal_api)\n",
      "  File \"/home/bteam/anaconda3/envs/bteam/lib/python3.9/site-packages/threadpoolctl.py\", line 606, in __init__\n",
      "    self.version = self.get_version()\n",
      "  File \"/home/bteam/anaconda3/envs/bteam/lib/python3.9/site-packages/threadpoolctl.py\", line 646, in get_version\n",
      "    config = get_config().split()\n",
      "AttributeError: 'NoneType' object has no attribute 'split'\n",
      "Exception ignored on calling ctypes callback function: <function _ThreadpoolInfo._find_modules_with_dl_iterate_phdr.<locals>.match_module_callback at 0x7f3de3a6b940>\n",
      "Traceback (most recent call last):\n",
      "  File \"/home/bteam/anaconda3/envs/bteam/lib/python3.9/site-packages/threadpoolctl.py\", line 400, in match_module_callback\n",
      "    self._make_module_from_path(filepath)\n",
      "  File \"/home/bteam/anaconda3/envs/bteam/lib/python3.9/site-packages/threadpoolctl.py\", line 515, in _make_module_from_path\n",
      "    module = module_class(filepath, prefix, user_api, internal_api)\n",
      "  File \"/home/bteam/anaconda3/envs/bteam/lib/python3.9/site-packages/threadpoolctl.py\", line 606, in __init__\n",
      "    self.version = self.get_version()\n",
      "  File \"/home/bteam/anaconda3/envs/bteam/lib/python3.9/site-packages/threadpoolctl.py\", line 646, in get_version\n",
      "    config = get_config().split()\n",
      "AttributeError: 'NoneType' object has no attribute 'split'\n",
      "Exception ignored on calling ctypes callback function: <function _ThreadpoolInfo._find_modules_with_dl_iterate_phdr.<locals>.match_module_callback at 0x7f3de3a6b940>\n",
      "Traceback (most recent call last):\n",
      "  File \"/home/bteam/anaconda3/envs/bteam/lib/python3.9/site-packages/threadpoolctl.py\", line 400, in match_module_callback\n",
      "    self._make_module_from_path(filepath)\n",
      "  File \"/home/bteam/anaconda3/envs/bteam/lib/python3.9/site-packages/threadpoolctl.py\", line 515, in _make_module_from_path\n",
      "    module = module_class(filepath, prefix, user_api, internal_api)\n",
      "  File \"/home/bteam/anaconda3/envs/bteam/lib/python3.9/site-packages/threadpoolctl.py\", line 606, in __init__\n",
      "    self.version = self.get_version()\n",
      "  File \"/home/bteam/anaconda3/envs/bteam/lib/python3.9/site-packages/threadpoolctl.py\", line 646, in get_version\n",
      "    config = get_config().split()\n",
      "AttributeError: 'NoneType' object has no attribute 'split'\n",
      "Exception ignored on calling ctypes callback function: <function _ThreadpoolInfo._find_modules_with_dl_iterate_phdr.<locals>.match_module_callback at 0x7f3de3a6b940>\n",
      "Traceback (most recent call last):\n",
      "  File \"/home/bteam/anaconda3/envs/bteam/lib/python3.9/site-packages/threadpoolctl.py\", line 400, in match_module_callback\n",
      "    self._make_module_from_path(filepath)\n",
      "  File \"/home/bteam/anaconda3/envs/bteam/lib/python3.9/site-packages/threadpoolctl.py\", line 515, in _make_module_from_path\n",
      "    module = module_class(filepath, prefix, user_api, internal_api)\n",
      "  File \"/home/bteam/anaconda3/envs/bteam/lib/python3.9/site-packages/threadpoolctl.py\", line 606, in __init__\n",
      "    self.version = self.get_version()\n",
      "  File \"/home/bteam/anaconda3/envs/bteam/lib/python3.9/site-packages/threadpoolctl.py\", line 646, in get_version\n",
      "    config = get_config().split()\n",
      "AttributeError: 'NoneType' object has no attribute 'split'\n",
      "Exception ignored on calling ctypes callback function: <function _ThreadpoolInfo._find_modules_with_dl_iterate_phdr.<locals>.match_module_callback at 0x7f3de3a6b940>\n",
      "Traceback (most recent call last):\n",
      "  File \"/home/bteam/anaconda3/envs/bteam/lib/python3.9/site-packages/threadpoolctl.py\", line 400, in match_module_callback\n",
      "    self._make_module_from_path(filepath)\n",
      "  File \"/home/bteam/anaconda3/envs/bteam/lib/python3.9/site-packages/threadpoolctl.py\", line 515, in _make_module_from_path\n",
      "    module = module_class(filepath, prefix, user_api, internal_api)\n",
      "  File \"/home/bteam/anaconda3/envs/bteam/lib/python3.9/site-packages/threadpoolctl.py\", line 606, in __init__\n",
      "    self.version = self.get_version()\n",
      "  File \"/home/bteam/anaconda3/envs/bteam/lib/python3.9/site-packages/threadpoolctl.py\", line 646, in get_version\n",
      "    config = get_config().split()\n",
      "AttributeError: 'NoneType' object has no attribute 'split'\n",
      "Exception ignored on calling ctypes callback function: <function _ThreadpoolInfo._find_modules_with_dl_iterate_phdr.<locals>.match_module_callback at 0x7f3de3a6b940>\n",
      "Traceback (most recent call last):\n",
      "  File \"/home/bteam/anaconda3/envs/bteam/lib/python3.9/site-packages/threadpoolctl.py\", line 400, in match_module_callback\n",
      "    self._make_module_from_path(filepath)\n",
      "  File \"/home/bteam/anaconda3/envs/bteam/lib/python3.9/site-packages/threadpoolctl.py\", line 515, in _make_module_from_path\n",
      "    module = module_class(filepath, prefix, user_api, internal_api)\n",
      "  File \"/home/bteam/anaconda3/envs/bteam/lib/python3.9/site-packages/threadpoolctl.py\", line 606, in __init__\n",
      "    self.version = self.get_version()\n",
      "  File \"/home/bteam/anaconda3/envs/bteam/lib/python3.9/site-packages/threadpoolctl.py\", line 646, in get_version\n",
      "    config = get_config().split()\n",
      "AttributeError: 'NoneType' object has no attribute 'split'\n",
      "Exception ignored on calling ctypes callback function: <function _ThreadpoolInfo._find_modules_with_dl_iterate_phdr.<locals>.match_module_callback at 0x7f3de3a6b940>\n",
      "Traceback (most recent call last):\n",
      "  File \"/home/bteam/anaconda3/envs/bteam/lib/python3.9/site-packages/threadpoolctl.py\", line 400, in match_module_callback\n",
      "    self._make_module_from_path(filepath)\n",
      "  File \"/home/bteam/anaconda3/envs/bteam/lib/python3.9/site-packages/threadpoolctl.py\", line 515, in _make_module_from_path\n",
      "    module = module_class(filepath, prefix, user_api, internal_api)\n",
      "  File \"/home/bteam/anaconda3/envs/bteam/lib/python3.9/site-packages/threadpoolctl.py\", line 606, in __init__\n",
      "    self.version = self.get_version()\n",
      "  File \"/home/bteam/anaconda3/envs/bteam/lib/python3.9/site-packages/threadpoolctl.py\", line 646, in get_version\n",
      "    config = get_config().split()\n",
      "AttributeError: 'NoneType' object has no attribute 'split'\n",
      "Exception ignored on calling ctypes callback function: <function _ThreadpoolInfo._find_modules_with_dl_iterate_phdr.<locals>.match_module_callback at 0x7f3de3a6b940>\n",
      "Traceback (most recent call last):\n",
      "  File \"/home/bteam/anaconda3/envs/bteam/lib/python3.9/site-packages/threadpoolctl.py\", line 400, in match_module_callback\n",
      "    self._make_module_from_path(filepath)\n",
      "  File \"/home/bteam/anaconda3/envs/bteam/lib/python3.9/site-packages/threadpoolctl.py\", line 515, in _make_module_from_path\n",
      "    module = module_class(filepath, prefix, user_api, internal_api)\n",
      "  File \"/home/bteam/anaconda3/envs/bteam/lib/python3.9/site-packages/threadpoolctl.py\", line 606, in __init__\n",
      "    self.version = self.get_version()\n",
      "  File \"/home/bteam/anaconda3/envs/bteam/lib/python3.9/site-packages/threadpoolctl.py\", line 646, in get_version\n",
      "    config = get_config().split()\n",
      "AttributeError: 'NoneType' object has no attribute 'split'\n"
     ]
    }
   ],
   "source": [
    "km = KMeans(6)\n",
    "age_gr = km.fit(titanic.loc[:,['cl_age']]).labels_"
   ]
  },
  {
   "cell_type": "code",
   "execution_count": 16,
   "id": "ff758c8a-a07b-4419-b47e-afc08774a4d2",
   "metadata": {},
   "outputs": [],
   "source": [
    "titanic['age_gr'] = age_gr"
   ]
  },
  {
   "cell_type": "code",
   "execution_count": 17,
   "id": "2ff64bc7-1ab0-488f-82de-f1b5ee09f3d8",
   "metadata": {},
   "outputs": [],
   "source": [
    "# titanic.dtypes"
   ]
  },
  {
   "cell_type": "code",
   "execution_count": 18,
   "id": "7429c62c-fd75-4304-9d22-2b5b2ae045a9",
   "metadata": {},
   "outputs": [],
   "source": [
    "X = titanic.iloc[:,1:]\n",
    "y = titanic.iloc[:,0]"
   ]
  },
  {
   "cell_type": "code",
   "execution_count": 19,
   "id": "7b64fd47-c8fb-467f-bf29-b093cc8f334f",
   "metadata": {},
   "outputs": [
    {
     "data": {
      "text/plain": [
       "Index(['embarked', 'who', 'embark_town'], dtype='object')"
      ]
     },
     "execution_count": 19,
     "metadata": {},
     "output_type": "execute_result"
    }
   ],
   "source": [
    "object_cols = X.dtypes[X.dtypes == 'object'].index\n",
    "object_cols"
   ]
  },
  {
   "cell_type": "code",
   "execution_count": 20,
   "id": "a19fe156-df6e-4df1-aad4-9eb078fa169c",
   "metadata": {},
   "outputs": [],
   "source": [
    "for col in object_cols:\n",
    "    encoder = LabelEncoder().fit_transform(X[col])\n",
    "    X.drop(columns=col, inplace=True)\n",
    "    X[col] = encoder"
   ]
  },
  {
   "cell_type": "code",
   "execution_count": 21,
   "id": "9e4ea012-7987-4b8a-a891-26c20632b998",
   "metadata": {},
   "outputs": [],
   "source": [
    "lor_model = LogisticRegression()\n",
    "tree_model = DecisionTreeClassifier()\n",
    "svm_model = SVC(probability=True)\n",
    "ada_model = AdaBoostClassifier()"
   ]
  },
  {
   "cell_type": "code",
   "execution_count": 22,
   "id": "307338f4-1d97-440d-8c41-4b7b8663800f",
   "metadata": {},
   "outputs": [
    {
     "name": "stderr",
     "output_type": "stream",
     "text": [
      "/home/bteam/anaconda3/envs/bteam/lib/python3.9/site-packages/sklearn/linear_model/_logistic.py:458: ConvergenceWarning: lbfgs failed to converge (status=1):\n",
      "STOP: TOTAL NO. of ITERATIONS REACHED LIMIT.\n",
      "\n",
      "Increase the number of iterations (max_iter) or scale the data as shown in:\n",
      "    https://scikit-learn.org/stable/modules/preprocessing.html\n",
      "Please also refer to the documentation for alternative solver options:\n",
      "    https://scikit-learn.org/stable/modules/linear_model.html#logistic-regression\n",
      "  n_iter_i = _check_optimize_result(\n"
     ]
    },
    {
     "data": {
      "text/html": [
       "<style>#sk-container-id-1 {color: black;background-color: white;}#sk-container-id-1 pre{padding: 0;}#sk-container-id-1 div.sk-toggleable {background-color: white;}#sk-container-id-1 label.sk-toggleable__label {cursor: pointer;display: block;width: 100%;margin-bottom: 0;padding: 0.3em;box-sizing: border-box;text-align: center;}#sk-container-id-1 label.sk-toggleable__label-arrow:before {content: \"▸\";float: left;margin-right: 0.25em;color: #696969;}#sk-container-id-1 label.sk-toggleable__label-arrow:hover:before {color: black;}#sk-container-id-1 div.sk-estimator:hover label.sk-toggleable__label-arrow:before {color: black;}#sk-container-id-1 div.sk-toggleable__content {max-height: 0;max-width: 0;overflow: hidden;text-align: left;background-color: #f0f8ff;}#sk-container-id-1 div.sk-toggleable__content pre {margin: 0.2em;color: black;border-radius: 0.25em;background-color: #f0f8ff;}#sk-container-id-1 input.sk-toggleable__control:checked~div.sk-toggleable__content {max-height: 200px;max-width: 100%;overflow: auto;}#sk-container-id-1 input.sk-toggleable__control:checked~label.sk-toggleable__label-arrow:before {content: \"▾\";}#sk-container-id-1 div.sk-estimator input.sk-toggleable__control:checked~label.sk-toggleable__label {background-color: #d4ebff;}#sk-container-id-1 div.sk-label input.sk-toggleable__control:checked~label.sk-toggleable__label {background-color: #d4ebff;}#sk-container-id-1 input.sk-hidden--visually {border: 0;clip: rect(1px 1px 1px 1px);clip: rect(1px, 1px, 1px, 1px);height: 1px;margin: -1px;overflow: hidden;padding: 0;position: absolute;width: 1px;}#sk-container-id-1 div.sk-estimator {font-family: monospace;background-color: #f0f8ff;border: 1px dotted black;border-radius: 0.25em;box-sizing: border-box;margin-bottom: 0.5em;}#sk-container-id-1 div.sk-estimator:hover {background-color: #d4ebff;}#sk-container-id-1 div.sk-parallel-item::after {content: \"\";width: 100%;border-bottom: 1px solid gray;flex-grow: 1;}#sk-container-id-1 div.sk-label:hover label.sk-toggleable__label {background-color: #d4ebff;}#sk-container-id-1 div.sk-serial::before {content: \"\";position: absolute;border-left: 1px solid gray;box-sizing: border-box;top: 0;bottom: 0;left: 50%;z-index: 0;}#sk-container-id-1 div.sk-serial {display: flex;flex-direction: column;align-items: center;background-color: white;padding-right: 0.2em;padding-left: 0.2em;position: relative;}#sk-container-id-1 div.sk-item {position: relative;z-index: 1;}#sk-container-id-1 div.sk-parallel {display: flex;align-items: stretch;justify-content: center;background-color: white;position: relative;}#sk-container-id-1 div.sk-item::before, #sk-container-id-1 div.sk-parallel-item::before {content: \"\";position: absolute;border-left: 1px solid gray;box-sizing: border-box;top: 0;bottom: 0;left: 50%;z-index: -1;}#sk-container-id-1 div.sk-parallel-item {display: flex;flex-direction: column;z-index: 1;position: relative;background-color: white;}#sk-container-id-1 div.sk-parallel-item:first-child::after {align-self: flex-end;width: 50%;}#sk-container-id-1 div.sk-parallel-item:last-child::after {align-self: flex-start;width: 50%;}#sk-container-id-1 div.sk-parallel-item:only-child::after {width: 0;}#sk-container-id-1 div.sk-dashed-wrapped {border: 1px dashed gray;margin: 0 0.4em 0.5em 0.4em;box-sizing: border-box;padding-bottom: 0.4em;background-color: white;}#sk-container-id-1 div.sk-label label {font-family: monospace;font-weight: bold;display: inline-block;line-height: 1.2em;}#sk-container-id-1 div.sk-label-container {text-align: center;}#sk-container-id-1 div.sk-container {/* jupyter's `normalize.less` sets `[hidden] { display: none; }` but bootstrap.min.css set `[hidden] { display: none !important; }` so we also need the `!important` here to be able to override the default hidden behavior on the sphinx rendered scikit-learn.org. See: https://github.com/scikit-learn/scikit-learn/issues/21755 */display: inline-block !important;position: relative;}#sk-container-id-1 div.sk-text-repr-fallback {display: none;}</style><div id=\"sk-container-id-1\" class=\"sk-top-container\"><div class=\"sk-text-repr-fallback\"><pre>AdaBoostClassifier()</pre><b>In a Jupyter environment, please rerun this cell to show the HTML representation or trust the notebook. <br />On GitHub, the HTML representation is unable to render, please try loading this page with nbviewer.org.</b></div><div class=\"sk-container\" hidden><div class=\"sk-item\"><div class=\"sk-estimator sk-toggleable\"><input class=\"sk-toggleable__control sk-hidden--visually\" id=\"sk-estimator-id-1\" type=\"checkbox\" checked><label for=\"sk-estimator-id-1\" class=\"sk-toggleable__label sk-toggleable__label-arrow\">AdaBoostClassifier</label><div class=\"sk-toggleable__content\"><pre>AdaBoostClassifier()</pre></div></div></div></div></div>"
      ],
      "text/plain": [
       "AdaBoostClassifier()"
      ]
     },
     "execution_count": 22,
     "metadata": {},
     "output_type": "execute_result"
    }
   ],
   "source": [
    "X_train, X_test, y_train, y_test = train_test_split(X,y)\n",
    "lor_model.fit(X_train, y_train)\n",
    "tree_model.fit(X_train, y_train)\n",
    "svm_model.fit(X_train, y_train)\n",
    "ada_model.fit(X_train, y_train)"
   ]
  },
  {
   "cell_type": "code",
   "execution_count": 23,
   "id": "f3c4c6a9-73b6-4e05-9c46-bbcacba0ff59",
   "metadata": {},
   "outputs": [],
   "source": [
    "# lr = lor_model.predict_proba(X_train)\n",
    "# tree = tree_model.predict_proba(X_train)\n",
    "# svm = svm_model.predict_proba(X_train)\n",
    "# ada = ada_model.predict_proba(X_train)\n",
    "\n",
    "lr = lor_model.predict(X_train)\n",
    "tree = tree_model.predict(X_train)\n",
    "svm = svm_model.predict(X_train)\n",
    "ada = ada_model.predict(X_train)"
   ]
  },
  {
   "cell_type": "code",
   "execution_count": 24,
   "id": "5ba2d37a-0e18-4aa3-81b0-1fd8dd4ef716",
   "metadata": {
    "tags": []
   },
   "outputs": [],
   "source": [
    "meta_X = np.c_[lr, tree, svm, ada]"
   ]
  },
  {
   "cell_type": "code",
   "execution_count": 25,
   "id": "2904e6c9-8bef-44fd-a388-0d8d51942898",
   "metadata": {},
   "outputs": [
    {
     "data": {
      "text/plain": [
       "array([[1, 0, 0, 1],\n",
       "       [0, 0, 0, 0],\n",
       "       [1, 1, 0, 1],\n",
       "       ...,\n",
       "       [0, 0, 0, 0],\n",
       "       [0, 0, 1, 0],\n",
       "       [0, 0, 0, 0]])"
      ]
     },
     "execution_count": 25,
     "metadata": {},
     "output_type": "execute_result"
    }
   ],
   "source": [
    "meta_model = RandomForestClassifier()\n",
    "meta_model.fit(meta_X, y_train)\n",
    "meta_X"
   ]
  },
  {
   "cell_type": "code",
   "execution_count": 26,
   "id": "7d1f21fb-c1b3-4798-a818-ac255f00fbfd",
   "metadata": {},
   "outputs": [],
   "source": [
    "# lr = lor_model.predict_proba(X_test)\n",
    "# tree = tree_model.predict_proba(X_test)\n",
    "# svm = svm_model.predict_proba(X_test)\n",
    "# ada = ada_model.predict_proba(X_test)\n",
    "\n",
    "lr = lor_model.predict(X_test)\n",
    "tree = tree_model.predict(X_test)\n",
    "svm = svm_model.predict(X_test)\n",
    "ada = ada_model.predict(X_test)"
   ]
  },
  {
   "cell_type": "code",
   "execution_count": 27,
   "id": "1b10252d-87f2-4362-931c-7bed7f5c3e19",
   "metadata": {},
   "outputs": [],
   "source": [
    "meta_X = np.c_[lr, tree, svm, ada]"
   ]
  },
  {
   "cell_type": "code",
   "execution_count": 28,
   "id": "501caa9c-300c-4afa-83c8-b66849b8ba63",
   "metadata": {},
   "outputs": [
    {
     "data": {
      "text/plain": [
       "0.757847533632287"
      ]
     },
     "execution_count": 28,
     "metadata": {},
     "output_type": "execute_result"
    }
   ],
   "source": [
    "meta_model.score(meta_X, y_test)"
   ]
  },
  {
   "cell_type": "code",
   "execution_count": null,
   "id": "5f8ddee6-672d-4296-9cc8-9fc0cd8d5f13",
   "metadata": {},
   "outputs": [],
   "source": []
  },
  {
   "cell_type": "code",
   "execution_count": 29,
   "id": "12a06191-a58f-42c5-85ac-fc3035aa6ca2",
   "metadata": {},
   "outputs": [],
   "source": [
    "class Stacking:\n",
    "    def __init__(self,meta, *models):\n",
    "        self.models = models\n",
    "        self.meta_model = meta\n",
    "        \n",
    "    \n",
    "    def fit(self, x, y):\n",
    "        result_pred = np.zeros((len(x), len(self.models)))\n",
    "        self.clfs = []\n",
    "        for idx, model in enumerate(self.models):\n",
    "            clf = model()\n",
    "            self.clfs.append(clf.fit(x, y))\n",
    "            result_pred[:,idx] = clf.predict(x)\n",
    "            \n",
    "        self.clf = self.meta_model()\n",
    "        self.clf.fit(result_pred, y)\n",
    "    \n",
    "    def score(self, x, y):\n",
    "        result_pred = np.zeros((len(x), len(self.models)))\n",
    "        for idx, model in enumerate(self.clfs):\n",
    "            result_pred[:,idx] = model.predict(x)\n",
    "            \n",
    "        return np.sum(self.clf.predict(result_pred)==y) / len(y)\n",
    "    \n",
    "    "
   ]
  },
  {
   "cell_type": "code",
   "execution_count": 30,
   "id": "fddd57b1-8a4d-45d0-a6e6-857906f462a3",
   "metadata": {},
   "outputs": [],
   "source": [
    "stack = Stacking(AdaBoostClassifier, LogisticRegression, DecisionTreeClassifier, RandomForestClassifier)"
   ]
  },
  {
   "cell_type": "code",
   "execution_count": 31,
   "id": "7beabdc0-40f1-44f6-8a51-87bf99d0b48d",
   "metadata": {},
   "outputs": [
    {
     "name": "stderr",
     "output_type": "stream",
     "text": [
      "/home/bteam/anaconda3/envs/bteam/lib/python3.9/site-packages/sklearn/linear_model/_logistic.py:458: ConvergenceWarning: lbfgs failed to converge (status=1):\n",
      "STOP: TOTAL NO. of ITERATIONS REACHED LIMIT.\n",
      "\n",
      "Increase the number of iterations (max_iter) or scale the data as shown in:\n",
      "    https://scikit-learn.org/stable/modules/preprocessing.html\n",
      "Please also refer to the documentation for alternative solver options:\n",
      "    https://scikit-learn.org/stable/modules/linear_model.html#logistic-regression\n",
      "  n_iter_i = _check_optimize_result(\n"
     ]
    }
   ],
   "source": [
    "stack.fit(X_train, y_train)"
   ]
  },
  {
   "cell_type": "code",
   "execution_count": 32,
   "id": "fdbd2805-5782-400e-9340-637126b82dd6",
   "metadata": {},
   "outputs": [
    {
     "data": {
      "text/plain": [
       "0.8026905829596412"
      ]
     },
     "execution_count": 32,
     "metadata": {},
     "output_type": "execute_result"
    }
   ],
   "source": [
    "stack.score(X_test, y_test)"
   ]
  },
  {
   "cell_type": "code",
   "execution_count": 33,
   "id": "a7209a1d-deb5-4c5f-bf90-29cf506ef499",
   "metadata": {},
   "outputs": [
    {
     "name": "stderr",
     "output_type": "stream",
     "text": [
      "/home/bteam/anaconda3/envs/bteam/lib/python3.9/site-packages/sklearn/linear_model/_logistic.py:458: ConvergenceWarning: lbfgs failed to converge (status=1):\n",
      "STOP: TOTAL NO. of ITERATIONS REACHED LIMIT.\n",
      "\n",
      "Increase the number of iterations (max_iter) or scale the data as shown in:\n",
      "    https://scikit-learn.org/stable/modules/preprocessing.html\n",
      "Please also refer to the documentation for alternative solver options:\n",
      "    https://scikit-learn.org/stable/modules/linear_model.html#logistic-regression\n",
      "  n_iter_i = _check_optimize_result(\n"
     ]
    }
   ],
   "source": [
    "clfs = [stack.models[0]().fit(X_train, y_train)]"
   ]
  },
  {
   "cell_type": "code",
   "execution_count": 34,
   "id": "23727f06-369b-4a98-adcd-a752cc79b3b4",
   "metadata": {},
   "outputs": [],
   "source": [
    "clfs.append(stack.models[1]().fit(X_train, y_train))"
   ]
  },
  {
   "cell_type": "code",
   "execution_count": 35,
   "id": "848d5488-bb18-4e63-abec-17381870c88c",
   "metadata": {},
   "outputs": [
    {
     "data": {
      "text/plain": [
       "[LogisticRegression(), DecisionTreeClassifier()]"
      ]
     },
     "execution_count": 35,
     "metadata": {},
     "output_type": "execute_result"
    }
   ],
   "source": [
    "clfs"
   ]
  },
  {
   "cell_type": "code",
   "execution_count": null,
   "id": "b48c13b1-8065-4e0a-88f2-86090073da71",
   "metadata": {},
   "outputs": [],
   "source": []
  },
  {
   "cell_type": "code",
   "execution_count": 36,
   "id": "20416dec-21ef-45f9-b265-b76048aa1123",
   "metadata": {},
   "outputs": [],
   "source": [
    "### 최적 meta값 찾기"
   ]
  },
  {
   "cell_type": "code",
   "execution_count": 157,
   "id": "9b256d90-0314-440d-b867-4cbb21ea49b2",
   "metadata": {},
   "outputs": [],
   "source": [
    "class Stacking:\n",
    "    def __init__(self,*models):\n",
    "        self.models = np.array(models)\n",
    "\n",
    "    def fit(self, x, y):\n",
    "        X_train, X_test, y_train, y_test = train_test_split(x,y)\n",
    "        self.model_score = {}\n",
    "        for i in range(len(self.models)):\n",
    "            meta_model = self.models[i]\n",
    "            models = self.models[np.arange(len(self.models)) != i]\n",
    "            result_pred = np.zeros((len(X_train), len(self.models)))\n",
    "            result_pred_test = np.zeros((len(X_test), len(self.models)))\n",
    "            self.clfs = []\n",
    "            for idx, model in enumerate(models):\n",
    "                clf = model()\n",
    "                self.clfs.append(clf.fit(X_train,y_train))\n",
    "                result_pred[:,idx] = clf.predict(X_train)\n",
    "                result_pred_test[:,idx] = clf.predict(X_test)\n",
    "            self.clf = meta_model()\n",
    "            self.clf.fit(result_pred, y_train)\n",
    "            score = self.clf.score(result_pred_test, y_test)\n",
    "            self.model_score[self.models[i]] = score\n",
    "\n",
    "        meta_idx = np.argmax(np.array(list(stack.model_score.values())))\n",
    "        self.meta_model = self.models[meta_idx]\n",
    "        self.models_=self.models[ np.arange(len(self.models)) !=meta_idx ]\n",
    "\n",
    "        result_pred = np.zeros((len(x), len(self.models_)))\n",
    "\n",
    "        self.best_models = []\n",
    "        for idx, model in enumerate(self.models_):\n",
    "            clf = model()\n",
    "            clf.fit(x,y)\n",
    "            self.best_models.append(clf)\n",
    "            result_pred[:,idx] = clf.predict(x)\n",
    "        self.meta_model = self.meta_model().fit(result_pred, y)\n",
    "\n",
    "\n",
    "    def score(self, x, y):\n",
    "        result_pred = np.zeros((len(x), len(self.best_models)))\n",
    "        for idx, model in enumerate(self.best_models):\n",
    "            result_pred[:,idx] = model.predict(x)\n",
    "        score = np.sum(self.meta_model.predict(result_pred) ==y)/len(y)\n",
    "\n",
    "        return score\n",
    "    \n",
    "    def predict(self, x):\n",
    "        result_pred = np.zeros((len(x), len(self.best_models)))\n",
    "        for idx, model in enumerate(self.best_models):\n",
    "            result_pred[:,idx] = model.predict(x)\n",
    "        return np.where(self.meta_model.predict(result_pred)==1, 'alive', 'dead')[0]\n"
   ]
  },
  {
   "cell_type": "code",
   "execution_count": 158,
   "id": "491229a8-d9f6-4449-abeb-fcffd14b5bd2",
   "metadata": {},
   "outputs": [],
   "source": [
    "stack = Stacking(AdaBoostClassifier, LogisticRegression, DecisionTreeClassifier, RandomForestClassifier, XGBClassifier, SVC)"
   ]
  },
  {
   "cell_type": "code",
   "execution_count": 159,
   "id": "8793f87a-d439-4db1-b9c0-13730970042b",
   "metadata": {},
   "outputs": [],
   "source": [
    "# X_train, X_test, y_train, y_test = train_test_split(X,y)"
   ]
  },
  {
   "cell_type": "code",
   "execution_count": 160,
   "id": "a5d59d4a-0926-4615-830e-99b41f30be4e",
   "metadata": {},
   "outputs": [],
   "source": [
    "import warnings\n",
    "warnings.filterwarnings(action=\"ignore\")"
   ]
  },
  {
   "cell_type": "code",
   "execution_count": 161,
   "id": "0fa12509-f560-4b89-8af0-d80d7cf8a3ca",
   "metadata": {},
   "outputs": [],
   "source": [
    "stack.fit(X_train, y_train)"
   ]
  },
  {
   "cell_type": "code",
   "execution_count": 162,
   "id": "16f774eb-3592-44d1-b8d9-af7f9ed689a8",
   "metadata": {},
   "outputs": [
    {
     "data": {
      "text/plain": [
       "0.8340807174887892"
      ]
     },
     "execution_count": 162,
     "metadata": {},
     "output_type": "execute_result"
    }
   ],
   "source": [
    "stack.score(X_test, y_test)"
   ]
  },
  {
   "cell_type": "code",
   "execution_count": 163,
   "id": "9e1f3440-c5ad-43f5-b355-c5bc76690be0",
   "metadata": {},
   "outputs": [
    {
     "data": {
      "text/plain": [
       "'dead'"
      ]
     },
     "execution_count": 163,
     "metadata": {},
     "output_type": "execute_result"
    }
   ],
   "source": [
    "stack.predict(X_test.iloc[[1],:])"
   ]
  },
  {
   "cell_type": "code",
   "execution_count": null,
   "id": "0265802f-6c2d-4220-ab9f-e2e84e8066eb",
   "metadata": {},
   "outputs": [],
   "source": []
  },
  {
   "cell_type": "code",
   "execution_count": 109,
   "id": "3cd6a424-51aa-4498-8cff-b4384ff777f5",
   "metadata": {},
   "outputs": [],
   "source": [
    "## predict_proba 적용"
   ]
  },
  {
   "cell_type": "code",
   "execution_count": 113,
   "id": "31f3eef7-f406-42a5-ab4f-e776d7eee864",
   "metadata": {},
   "outputs": [
    {
     "data": {
      "text/plain": [
       "(223,)"
      ]
     },
     "execution_count": 113,
     "metadata": {},
     "output_type": "execute_result"
    }
   ],
   "source": [
    "a = SVC()\n",
    "a.fit(X_train, y_train)\n",
    "a.predict(X_test).shape"
   ]
  },
  {
   "cell_type": "code",
   "execution_count": 154,
   "id": "fa466ee4-6726-40f5-96fb-77182f9082a3",
   "metadata": {},
   "outputs": [
    {
     "data": {
      "text/plain": [
       "(223, 2)"
      ]
     },
     "execution_count": 154,
     "metadata": {},
     "output_type": "execute_result"
    }
   ],
   "source": [
    "b=SVC(probability=True)\n",
    "b.fit(X_train,y_train)\n",
    "b.predict_proba(X_test).shape"
   ]
  },
  {
   "cell_type": "code",
   "execution_count": 170,
   "id": "e220e113-625a-4329-b533-2d9e94b69fe7",
   "metadata": {},
   "outputs": [],
   "source": [
    "class Stacking:\n",
    "    def __init__(self,*models):\n",
    "        self.models = np.array(models)\n",
    "\n",
    "    def fit(self, x, y):\n",
    "        X_train, X_test, y_train, y_test = train_test_split(x,y)\n",
    "        self.model_score = {}\n",
    "        for i in range(len(self.models)):\n",
    "            meta_model = self.models[i]\n",
    "            models = self.models[np.arange(len(self.models)) != i]\n",
    "            # result_pred = np.zeros((len(X_train), len(self.models)))\n",
    "            # result_pred_test = np.zeros((len(X_test), len(self.models)))\n",
    "            \n",
    "            result_pred =np.zeros((len(X_train),1))\n",
    "            result_pred_test = np.zeros((len(X_test),1))\n",
    "            \n",
    "            self.clfs = []\n",
    "            for idx, model in enumerate(models):\n",
    "                if 'SVC' in repr(model):\n",
    "                    clf = model(property=True)\n",
    "                else:\n",
    "                    clf = model()\n",
    "                self.clfs.append(clf.fit(X_train,y_train))\n",
    "                result_pred = np.c_[result_pred, clf.predict_proba(X_train)]\n",
    "                result_pred_test = np.c_[result_pred_test, clf.predict(X_test)]\n",
    "            self.clf = meta_model()\n",
    "            self.clf.fit(result_pred[:, 1:], y_train)\n",
    "            score = self.clf.score(result_pred_test[:,1:], y_test)\n",
    "            self.model_score[self.models[i]] = score\n",
    "\n",
    "        meta_idx = np.argmax(np.array(list(stack.model_score.values())))\n",
    "        self.meta_model = self.models[meta_idx]\n",
    "        self.models_=self.models[ np.arange(len(self.models)) !=meta_idx ]\n",
    "\n",
    "        result_pred = np.zeros((len(x), 1))\n",
    "\n",
    "        self.best_models = []\n",
    "        for idx, model in enumerate(self.models_):\n",
    "            clf = model()\n",
    "            clf.fit(x,y)\n",
    "            self.best_models.append(clf)\n",
    "            result_pred =np.c_[result_pred, clf.predict(x)]\n",
    "        self.meta_model = self.meta_model().fit(result_pred[:,1:], y)\n",
    "\n",
    "\n",
    "    def score(self, x, y):\n",
    "        result_pred = np.zeros((len(x), len(self.best_models)))\n",
    "        for idx, model in enumerate(self.best_models):\n",
    "            result_pred[:,idx] = model.predict(x)\n",
    "            \n",
    "        score = np.sum(self.meta_model.predict(result_pred) ==y)/len(y)\n",
    "        return score\n",
    "    \n",
    "    def predict(self, x):\n",
    "        result_pred = np.zeros((len(x), len(self.best_models)))\n",
    "        for idx, model in enumerate(self.best_models):\n",
    "            result_pred[:,idx] = model.predict(x)\n",
    "        np.where(self.meta_model.predict(result_pred)==1, 'alive', 'dead')[0]\n"
   ]
  },
  {
   "cell_type": "code",
   "execution_count": 171,
   "id": "fcb6e553-473a-4780-b5e2-f65349570dbe",
   "metadata": {},
   "outputs": [],
   "source": [
    "stack = Stacking(AdaBoostClassifier, LogisticRegression, DecisionTreeClassifier, RandomForestClassifier, XGBClassifier, SVC)"
   ]
  },
  {
   "cell_type": "code",
   "execution_count": null,
   "id": "ec2962eb-7d47-4466-8113-b27bdfe28479",
   "metadata": {},
   "outputs": [],
   "source": []
  },
  {
   "cell_type": "code",
   "execution_count": null,
   "id": "f2c86044-abe5-4ba6-9453-a20b1d500672",
   "metadata": {},
   "outputs": [],
   "source": []
  },
  {
   "cell_type": "code",
   "execution_count": 166,
   "id": "9ae7ed13-c68d-4316-b8d9-89ea707a8c12",
   "metadata": {
    "collapsed": true,
    "jupyter": {
     "outputs_hidden": true
    },
    "tags": []
   },
   "outputs": [
    {
     "data": {
      "text/plain": [
       "array([[ 4.52912444e-01, -2.16638175e-02,  2.19473179e+00,\n",
       "         1.62642115e-01],\n",
       "       [ 1.02698489e+00,  3.23950776e-01,  6.23789398e-01,\n",
       "         3.28199106e-01],\n",
       "       [ 1.84230782e+00, -1.10657056e+00, -2.65080414e-01,\n",
       "        -4.10218420e-01],\n",
       "       [ 1.39328028e+00, -7.77684478e-01, -1.12915014e+00,\n",
       "        -3.27659699e-01],\n",
       "       [ 4.79983207e-01,  6.35537821e-01, -1.04680532e+00,\n",
       "         1.88200197e+00],\n",
       "       [-1.04488161e-01,  2.27962582e-01,  2.18250981e-01,\n",
       "         7.48466202e-01],\n",
       "       [ 1.41473200e-01, -1.12852338e+00, -1.07968765e+00,\n",
       "         1.16009178e+00],\n",
       "       [-1.47921243e-01,  6.68909156e-01,  1.22572546e+00,\n",
       "        -9.67929543e-01],\n",
       "       [ 2.96223900e-01, -2.74054633e-02,  4.93015310e-01,\n",
       "         1.08390271e+00],\n",
       "       [ 2.11999587e+00, -3.02731438e-01, -1.20926427e+00,\n",
       "        -5.95099305e-01],\n",
       "       [ 2.87115941e-01,  2.00067159e+00,  1.27035361e+00,\n",
       "         1.32719045e+00],\n",
       "       [ 1.01166050e+00,  7.40363590e-01,  7.23862547e-01,\n",
       "        -3.47675719e-01],\n",
       "       [ 1.16017737e+00, -1.47574211e+00, -5.77374726e-01,\n",
       "        -7.63373272e-01],\n",
       "       [ 6.16737520e-01,  8.80864982e-01, -9.40831110e-01,\n",
       "        -5.64333989e-01],\n",
       "       [-7.57016371e-01, -1.38286168e+00,  2.23427000e+00,\n",
       "         9.14233054e-01],\n",
       "       [-5.18918076e-01,  7.37791712e-03,  5.40866210e-01,\n",
       "        -4.86890671e-01],\n",
       "       [-7.58370635e-02, -8.99282929e-02,  1.69055191e+00,\n",
       "        -3.87521865e-02],\n",
       "       [-1.09686535e+00, -9.95880883e-01,  1.76644327e+00,\n",
       "         2.65405890e-01],\n",
       "       [-2.07213889e+00, -1.26606436e+00,  2.17418235e-01,\n",
       "         3.17472060e+00],\n",
       "       [ 8.12791603e-02,  8.37918165e-01,  4.04116520e-02,\n",
       "        -1.23061556e+00],\n",
       "       [-7.41030502e-01,  1.47756351e+00,  1.54616740e-01,\n",
       "        -1.22526532e+00],\n",
       "       [ 1.12663551e-01, -9.39876316e-01,  1.14530917e+00,\n",
       "         4.70093627e-01],\n",
       "       [-4.16315248e-01, -1.36765428e+00, -3.80808952e-01,\n",
       "        -1.01959003e-01],\n",
       "       [ 1.46427093e-01,  5.84497679e-01, -3.99012310e+00,\n",
       "        -1.11284633e+00],\n",
       "       [ 5.55014330e-02, -1.33460114e+00, -3.08574676e-01,\n",
       "         1.84030172e+00],\n",
       "       [-6.10215778e-01, -3.81767802e-01,  1.46592426e+00,\n",
       "         2.08949815e+00],\n",
       "       [ 1.11873100e+00, -9.17516038e-01,  4.17139552e-01,\n",
       "         4.78547859e-01],\n",
       "       [ 2.09497474e-01, -6.09075765e-01, -6.44896000e-01,\n",
       "        -4.96547843e-01],\n",
       "       [-9.42477961e-01, -6.49235346e-01,  2.02143784e-02,\n",
       "         1.28573993e+00],\n",
       "       [ 6.76420181e-01, -4.06785774e-01,  9.57939690e-01,\n",
       "         1.25643402e-01],\n",
       "       [ 8.09394896e-02, -4.18740185e-01, -1.82391726e+00,\n",
       "         1.44527502e+00],\n",
       "       [ 2.65338615e-01,  2.70297548e+00, -8.90421351e-01,\n",
       "         8.01255973e-02],\n",
       "       [ 3.82158888e-01, -4.57725929e-01,  5.81890704e-02,\n",
       "         1.05591919e+00],\n",
       "       [-2.27856090e+00, -4.26795675e-01,  8.12564576e-01,\n",
       "         8.68917020e-01],\n",
       "       [ 1.65229240e+00,  7.37520439e-01, -5.06332231e-01,\n",
       "        -1.84488017e-01],\n",
       "       [-1.32781591e+00, -2.78096027e+00,  2.87709049e+00,\n",
       "         1.13866608e+00],\n",
       "       [-2.29360906e+00,  1.75496031e-02, -8.82347321e-01,\n",
       "        -2.08619217e-01],\n",
       "       [ 1.33873442e+00, -1.48023941e-01, -9.97741884e-01,\n",
       "        -2.36073508e+00],\n",
       "       [-5.82264727e-02,  2.70689777e-01,  2.60420282e-01,\n",
       "        -2.05043029e-01],\n",
       "       [ 1.23556185e+00,  1.80497013e-01,  3.61869774e-01,\n",
       "         3.54244854e-01],\n",
       "       [ 2.51314830e+00, -9.48061536e-01, -3.25012514e-01,\n",
       "         2.20788788e+00],\n",
       "       [-1.49518007e+00, -5.46308965e-01, -2.26792097e-02,\n",
       "         1.15703163e-01],\n",
       "       [-5.63811616e-01, -1.60126697e+00, -5.68293887e-01,\n",
       "        -8.32133849e-01],\n",
       "       [ 1.67712620e+00, -4.37812431e-01,  4.61961104e-01,\n",
       "         1.25839028e+00],\n",
       "       [-6.12214816e-01, -1.99914467e-01,  1.49436105e+00,\n",
       "         1.05871654e+00],\n",
       "       [ 6.15735814e-01, -4.67014959e-01, -1.31449837e+00,\n",
       "         6.80867772e-01],\n",
       "       [-1.45423795e+00,  2.28755228e-01, -1.25441775e+00,\n",
       "         6.94153653e-01],\n",
       "       [-9.61602326e-01,  7.52961949e-01,  4.39780417e-01,\n",
       "         7.96908024e-01],\n",
       "       [ 6.73761953e-03, -2.06876240e+00, -8.60768765e-01,\n",
       "         7.12553213e-01],\n",
       "       [ 1.07115459e-01,  8.27873474e-02, -3.79606469e-01,\n",
       "         8.67621642e-02],\n",
       "       [-3.39544056e-01, -4.44508826e-01, -4.50266464e-01,\n",
       "        -9.90585429e-01],\n",
       "       [ 3.79098747e-02,  1.31012034e+00,  6.55921319e-01,\n",
       "        -7.15692007e-01],\n",
       "       [ 1.23230993e+00, -9.20254461e-01,  3.94018649e-01,\n",
       "        -1.86262226e+00],\n",
       "       [ 5.95866062e-02, -5.75345940e-01, -7.37997412e-01,\n",
       "         1.15239957e-01],\n",
       "       [-9.32398468e-01,  3.94863813e-01, -8.06894495e-01,\n",
       "         2.13258089e-01],\n",
       "       [-1.23711962e-02, -6.79963198e-01,  1.12860479e+00,\n",
       "         1.06285845e+00],\n",
       "       [-6.29433514e-01, -5.25411082e-01, -1.62904902e-01,\n",
       "         3.37810717e-01],\n",
       "       [ 4.46273154e-02, -1.39713960e-01, -6.51035612e-01,\n",
       "        -8.41779780e-01],\n",
       "       [-6.82013943e-01,  1.66793132e+00,  4.59100070e-02,\n",
       "         1.51650471e-01],\n",
       "       [ 7.62498700e-01, -2.75194387e-01,  4.51330208e-01,\n",
       "        -9.68394404e-01],\n",
       "       [ 8.90816978e-01, -5.42756994e-01, -5.85738872e-01,\n",
       "         9.10092132e-01],\n",
       "       [ 4.93809809e-01,  9.80070753e-01, -9.70246491e-01,\n",
       "         1.49977608e-01],\n",
       "       [-1.27426820e+00, -3.46179277e-01,  9.71304631e-01,\n",
       "        -6.40254747e-01],\n",
       "       [-8.89186690e-01,  1.23953993e+00,  4.05832801e-01,\n",
       "         8.06550841e-01],\n",
       "       [-9.79560509e-01,  1.27955725e+00,  5.93543798e-01,\n",
       "        -1.32133834e-01],\n",
       "       [-1.89303706e-01,  1.43624649e-01, -1.42674896e+00,\n",
       "         1.59923693e+00],\n",
       "       [ 1.51582134e+00, -9.38816552e-02, -2.16376052e-01,\n",
       "        -1.14473015e+00],\n",
       "       [ 6.97309987e-01, -2.23101882e+00, -2.90674920e-01,\n",
       "         1.03443799e+00],\n",
       "       [-1.37093026e+00, -4.14034846e-01,  5.60716290e-01,\n",
       "        -5.10073157e-01],\n",
       "       [-1.78550412e+00, -5.23677720e-01,  2.82550051e-02,\n",
       "        -7.46548087e-01],\n",
       "       [ 1.10471728e+00,  9.65952242e-01, -1.93956311e+00,\n",
       "         5.10160184e-01],\n",
       "       [-2.30042778e+00,  5.59011354e-01, -1.01902584e+00,\n",
       "        -1.43535725e-01],\n",
       "       [-1.51523733e-01,  3.21928050e-01, -1.00292957e+00,\n",
       "         2.43374271e+00],\n",
       "       [ 2.08453379e+00,  2.26497977e-01,  7.43852163e-01,\n",
       "        -1.54048497e+00],\n",
       "       [-1.08927375e+00,  8.89927783e-01,  1.06897090e+00,\n",
       "         4.29121100e-01],\n",
       "       [ 1.57311920e+00,  2.39976702e+00,  1.51912494e+00,\n",
       "         1.40645490e+00],\n",
       "       [-5.44828552e-01,  1.61339024e-01, -1.59629878e+00,\n",
       "        -3.35171984e-01],\n",
       "       [ 4.99107624e-01,  7.25781242e-01,  9.04270167e-01,\n",
       "         3.19256765e-01],\n",
       "       [-6.35042745e-01,  1.93798052e-01, -1.67568863e+00,\n",
       "        -1.05225651e-01],\n",
       "       [ 6.39435681e-01,  4.04488398e-01,  4.09085877e-01,\n",
       "         2.84190913e-01],\n",
       "       [ 1.52991910e+00,  1.58013927e-01, -1.50855380e+00,\n",
       "        -3.97666827e-01],\n",
       "       [ 1.33970259e+00,  4.06797612e-04, -1.17590759e+00,\n",
       "        -1.01871932e+00],\n",
       "       [ 6.28583010e-01, -1.31340685e-01,  1.41376470e+00,\n",
       "         6.86036487e-01],\n",
       "       [ 1.82763426e+00, -1.57514177e-01,  1.35344002e+00,\n",
       "        -1.33689519e+00],\n",
       "       [-1.76033798e+00, -1.08542586e+00, -1.09435129e+00,\n",
       "         3.36236928e-01],\n",
       "       [ 1.16819687e+00,  4.35865272e-02, -1.35879512e-01,\n",
       "        -1.05866331e+00],\n",
       "       [ 1.42326117e+00, -3.17780563e-01, -5.80836863e-01,\n",
       "        -3.71363243e-01],\n",
       "       [-1.28933342e+00, -1.18720999e+00,  3.42811496e-01,\n",
       "         1.67249998e+00],\n",
       "       [-2.67688977e-02, -5.35317701e-01, -4.48977069e-01,\n",
       "         1.74793159e+00],\n",
       "       [-5.16188147e-01,  2.40874415e+00, -2.99906155e-01,\n",
       "         1.14049433e+00],\n",
       "       [-9.16907525e-01,  3.80694626e-01,  2.39373104e+00,\n",
       "        -8.53566602e-01],\n",
       "       [-7.23068015e-01,  4.39801493e-01,  2.34209999e-02,\n",
       "         8.63325238e-02],\n",
       "       [-5.70182861e-01,  1.04367667e+00,  7.43250378e-01,\n",
       "         4.52291075e-01],\n",
       "       [ 2.80525222e-01, -8.21554712e-01,  1.84979934e+00,\n",
       "         1.10443495e+00],\n",
       "       [-2.10401329e-01, -3.88635454e-02,  1.02132163e-01,\n",
       "         2.76492738e-01],\n",
       "       [-9.06218533e-01, -7.66404629e-02, -6.23167023e-01,\n",
       "         1.23541578e+00],\n",
       "       [-8.09201270e-01,  8.37473882e-01,  7.81178254e-01,\n",
       "         6.77564554e-01],\n",
       "       [-1.34999421e-01, -5.06902612e-01, -8.94444670e-01,\n",
       "         6.02543766e-01],\n",
       "       [-6.86036188e-02,  2.17979805e-01, -1.41535416e+00,\n",
       "        -3.16221171e-01],\n",
       "       [-7.96303455e-01,  3.11699303e-01, -1.82191543e+00,\n",
       "        -1.25933539e-01],\n",
       "       [-4.19588955e-01, -1.22770696e+00,  9.69038001e-01,\n",
       "         5.46394971e-01],\n",
       "       [ 2.26261197e-01, -1.47314598e+00,  1.15834594e+00,\n",
       "        -1.25477949e+00],\n",
       "       [ 9.90300013e-01, -1.92039053e+00, -1.88390668e+00,\n",
       "        -3.69287308e-01],\n",
       "       [-1.51556303e+00, -6.40791622e-01,  2.84390987e-02,\n",
       "         1.86706401e-01],\n",
       "       [ 1.14311777e-01,  1.47795833e+00, -2.22336009e-02,\n",
       "         2.90429729e-01],\n",
       "       [ 3.09063152e-01, -6.88402471e-01, -1.07866601e-01,\n",
       "         1.18869630e+00],\n",
       "       [ 5.02494762e-01,  1.10157946e+00,  1.12207100e-01,\n",
       "        -8.80489309e-01],\n",
       "       [ 1.56597897e-01, -2.09912346e+00, -1.32913494e-01,\n",
       "        -4.01185372e-01],\n",
       "       [-2.38778689e+00, -1.51666196e+00, -1.74198096e-01,\n",
       "        -8.63736732e-01],\n",
       "       [ 6.45677463e-01, -4.42257273e-01, -2.48085995e+00,\n",
       "        -8.35004671e-01],\n",
       "       [-9.72916466e-01,  8.57157141e-01, -2.03555084e-01,\n",
       "         2.06350696e+00],\n",
       "       [-5.31013223e-04,  1.16522028e+00, -1.89428005e-01,\n",
       "         1.78862988e+00],\n",
       "       [-3.52939257e-01,  2.56496672e-01, -1.43280858e+00,\n",
       "         1.06339137e+00],\n",
       "       [ 6.29020954e-01,  4.30752300e-02, -7.30289755e-02,\n",
       "         1.90654567e-01],\n",
       "       [-7.06614098e-01,  8.43917295e-01,  1.04072437e+00,\n",
       "         6.80234754e-01],\n",
       "       [-8.10022035e-01,  1.07655945e+00, -4.45370338e-01,\n",
       "         6.06973631e-01],\n",
       "       [ 7.18366769e-01, -6.56127801e-01,  7.68694156e-01,\n",
       "         1.73800065e-01],\n",
       "       [-5.21661465e-01,  9.11790464e-01,  4.81512991e-01,\n",
       "        -8.07605580e-01],\n",
       "       [-9.81640833e-01, -1.40720758e+00, -4.93961143e-01,\n",
       "         1.60605290e-01],\n",
       "       [-3.54350337e-01,  2.43554547e-01, -3.03379910e-01,\n",
       "        -2.08357530e-01],\n",
       "       [-1.31645689e+00, -1.03888531e+00,  3.30084608e-01,\n",
       "         3.16526031e-01],\n",
       "       [-1.94963793e-01,  2.14545786e+00,  1.38640240e-01,\n",
       "         7.40620196e-01],\n",
       "       [-1.08293894e-01,  7.63929026e-01, -1.41991052e+00,\n",
       "        -1.18362621e+00],\n",
       "       [-3.03781194e-01,  3.18902087e-02, -1.36297955e-01,\n",
       "        -9.25721954e-01],\n",
       "       [ 7.50786842e-01,  1.83338304e+00,  1.11898059e+00,\n",
       "         1.44251290e+00],\n",
       "       [-1.11911488e+00,  3.56277286e-01,  1.65295597e+00,\n",
       "        -1.12805525e+00],\n",
       "       [-5.66784106e-01, -4.56945144e-01, -3.00515499e-01,\n",
       "         1.43151291e-01],\n",
       "       [-1.54533541e-01,  7.77714627e-01,  9.33800364e-01,\n",
       "         6.70758820e-01],\n",
       "       [-1.28507856e+00, -1.02225893e+00, -1.26116120e+00,\n",
       "         1.45326220e-01],\n",
       "       [ 1.36158097e+00,  4.03609001e-01, -9.67679024e-01,\n",
       "         2.00841696e+00],\n",
       "       [-4.15993615e-01,  1.84666756e+00,  6.80822534e-02,\n",
       "        -5.52725451e-01],\n",
       "       [ 1.03324326e+00, -2.04219916e-01, -1.24502714e+00,\n",
       "         2.06968855e+00],\n",
       "       [ 7.92709080e-01, -1.06831932e+00, -9.04369424e-01,\n",
       "         6.51792301e-02],\n",
       "       [-1.18688976e-01,  3.32398351e-01, -1.12541779e+00,\n",
       "         2.51664643e-01],\n",
       "       [ 8.14586466e-01,  1.21391061e+00,  1.60936834e+00,\n",
       "        -4.52188209e-01],\n",
       "       [ 1.64140352e+00,  7.07936156e-01,  7.22824569e-01,\n",
       "         2.14897815e+00],\n",
       "       [ 1.65378959e-01, -1.04397771e+00, -1.06922388e+00,\n",
       "         9.13419060e-01],\n",
       "       [ 5.04596273e-01,  1.12896729e-01, -1.17536937e+00,\n",
       "         1.02210407e-01],\n",
       "       [-1.89190949e-01,  7.45892219e-02,  7.43396548e-02,\n",
       "        -1.76160311e-01],\n",
       "       [-1.12795164e+00, -1.01707236e+00,  2.25260946e-01,\n",
       "        -1.52879657e+00],\n",
       "       [-1.61555459e+00,  2.49626193e+00,  6.45173512e-01,\n",
       "        -9.24555407e-01],\n",
       "       [-5.19656848e-01, -6.92880052e-01, -1.79736615e-01,\n",
       "         1.46818396e+00],\n",
       "       [ 5.87442387e-01,  5.38314858e-02,  1.15034920e-01,\n",
       "         1.03863341e-01],\n",
       "       [-4.32620852e-01,  4.45076765e-01,  8.17705707e-01,\n",
       "        -2.97347639e-01],\n",
       "       [ 4.59795155e-01, -3.89109890e-01, -1.32603705e-02,\n",
       "         1.30401731e-01],\n",
       "       [-1.61215854e+00, -6.87203025e-02, -1.03880252e+00,\n",
       "         1.40089085e+00],\n",
       "       [-6.89422872e-03,  3.91538478e-01, -2.07000931e-01,\n",
       "        -1.00072326e+00],\n",
       "       [-5.72525202e-01,  1.92294606e+00,  7.64723336e-01,\n",
       "        -1.50533575e+00],\n",
       "       [ 1.05422645e-01,  4.27013436e-01, -1.77841516e-01,\n",
       "         4.78772826e-01],\n",
       "       [ 3.71781517e-01, -1.10533189e+00,  6.59340735e-02,\n",
       "        -6.54075137e-01],\n",
       "       [-1.11520124e-01, -1.87644047e-01,  1.16373511e+00,\n",
       "        -1.13826838e+00],\n",
       "       [ 1.86620073e+00,  4.44632717e-01,  7.34078461e-01,\n",
       "         2.96443143e-01],\n",
       "       [-1.99534049e-02,  1.37170367e+00, -8.29199564e-01,\n",
       "         2.66637570e-01],\n",
       "       [ 2.24542995e-01, -2.02345215e+00,  5.03029623e-01,\n",
       "        -9.50934812e-01],\n",
       "       [ 5.44169697e-02, -6.06857798e-01, -1.89795457e+00,\n",
       "         1.24974493e-01],\n",
       "       [-1.34140162e+00, -9.57404327e-02, -1.65601478e+00,\n",
       "        -6.08464407e-01],\n",
       "       [-1.37117554e+00,  1.71189077e-01,  4.06552579e-02,\n",
       "         1.00775238e+00],\n",
       "       [ 3.84098035e-01,  1.30281500e+00,  9.63154732e-01,\n",
       "         1.92693968e+00],\n",
       "       [-1.91225304e-01, -1.31734586e-01,  6.05123354e-02,\n",
       "         4.14827451e-01],\n",
       "       [-1.59122689e-01,  3.96238756e-01,  1.40057916e+00,\n",
       "         1.23747912e-01],\n",
       "       [-6.91091743e-01,  9.72675565e-01, -2.65000854e-02,\n",
       "         5.35767290e-02],\n",
       "       [-2.11952043e+00,  1.38797471e+00, -2.73108363e-01,\n",
       "        -1.34288465e+00],\n",
       "       [-2.69190709e+00,  7.10837062e-01, -4.75061322e-01,\n",
       "         1.77451939e+00],\n",
       "       [-1.93324171e-01, -1.09792118e+00, -2.18439944e-01,\n",
       "         8.99125904e-01],\n",
       "       [-3.47071366e-01,  4.32766026e-01,  2.58734681e-01,\n",
       "         3.52838149e-01],\n",
       "       [ 1.10999974e+00,  3.12326420e-01,  1.34090773e+00,\n",
       "        -5.52122306e-02],\n",
       "       [-4.76992816e-01, -7.55424844e-01, -9.32543809e-02,\n",
       "         5.47406127e-01],\n",
       "       [-1.53396300e+00,  1.13983904e+00, -3.22115705e-01,\n",
       "         2.53685374e-01],\n",
       "       [-4.50417593e-01,  8.10491945e-01,  5.39457886e-01,\n",
       "        -5.50909220e-01],\n",
       "       [ 1.00950128e+00, -1.03811948e-01,  6.18188473e-01,\n",
       "         2.91678487e-01],\n",
       "       [-1.38881833e-01,  3.23070162e-01,  4.65952082e-01,\n",
       "        -1.06159525e+00],\n",
       "       [ 8.15974113e-01, -7.50104559e-01,  4.98917020e-01,\n",
       "        -9.39911780e-01],\n",
       "       [ 1.14280143e+00, -8.98467200e-01,  3.30450027e-01,\n",
       "         1.93993209e+00],\n",
       "       [ 2.31335770e-01,  1.22073484e+00, -1.01102864e-01,\n",
       "        -2.00066027e-01],\n",
       "       [-3.54327810e-03,  1.63862092e+00, -3.23430869e-01,\n",
       "         8.69028877e-01],\n",
       "       [-2.18074064e+00,  5.02140746e-01,  1.17060906e+00,\n",
       "         8.45180260e-02],\n",
       "       [ 5.27974238e-01,  8.35097603e-01, -1.32932875e-01,\n",
       "        -2.65352830e-01],\n",
       "       [-2.46563634e-01, -8.74417086e-01,  3.87148257e-01,\n",
       "         4.86630849e-01],\n",
       "       [-3.29513145e-01,  1.09773573e+00,  1.69634289e+00,\n",
       "         1.52490959e+00],\n",
       "       [-1.13037399e+00, -8.31347288e-01,  2.92707126e-01,\n",
       "         3.90176028e-01],\n",
       "       [ 1.12673902e+00, -9.29095059e-01, -1.62194961e-03,\n",
       "         1.19357621e-01],\n",
       "       [ 1.17165192e+00, -1.17602396e+00, -1.03442262e+00,\n",
       "         6.60815275e-01],\n",
       "       [ 5.83638338e-02,  1.63008051e+00,  3.18012969e-01,\n",
       "         2.55400809e-01],\n",
       "       [-1.24123580e+00, -7.11250702e-01,  3.83315714e-01,\n",
       "         6.37997179e-01],\n",
       "       [ 9.47174903e-01,  8.45613932e-01,  3.99378316e-02,\n",
       "         6.12958060e-01],\n",
       "       [-6.51989625e-01,  9.74682800e-01,  4.67899521e-01,\n",
       "         2.52756122e-01],\n",
       "       [ 5.90762263e-01, -6.42140038e-02,  2.70264709e-01,\n",
       "         1.25055968e+00],\n",
       "       [ 3.60446047e-01,  6.45270312e-02,  2.76173794e-01,\n",
       "         2.95986974e-01],\n",
       "       [ 2.21105707e-01, -4.04727633e-01, -9.24735230e-01,\n",
       "         8.01493166e-01],\n",
       "       [ 3.06806077e-01, -1.65358372e+00,  1.61643054e-01,\n",
       "         9.93352645e-01],\n",
       "       [-1.57593088e+00,  1.22111517e+00,  9.05170986e-01,\n",
       "        -5.28432458e-01],\n",
       "       [ 8.53576773e-01,  1.75774418e-01, -7.66815969e-02,\n",
       "        -6.15752166e-01],\n",
       "       [-1.25054131e+00,  4.24356494e-01, -2.48367625e-01,\n",
       "        -1.35927203e+00],\n",
       "       [ 1.05839909e+00,  6.24435532e-01, -4.01788046e-01,\n",
       "        -1.18240796e+00],\n",
       "       [ 1.33215926e+00,  1.77695061e+00, -2.06344232e+00,\n",
       "         4.64361033e-01],\n",
       "       [ 3.77756280e-01,  1.25624046e+00, -6.40265805e-01,\n",
       "         1.09468605e+00],\n",
       "       [-6.93049805e-01,  1.39657711e+00, -7.77137358e-01,\n",
       "         1.03639834e+00],\n",
       "       [-1.11945258e+00, -6.77749012e-01,  9.98512036e-01,\n",
       "         1.24846310e+00],\n",
       "       [ 9.66735839e-01,  1.05271567e+00,  6.59100486e-02,\n",
       "         1.63925541e+00],\n",
       "       [-7.14942971e-01, -1.58684871e-01, -8.17448746e-01,\n",
       "        -6.22363957e-02],\n",
       "       [-1.18076484e+00,  6.20586625e-01, -5.90615627e-01,\n",
       "        -4.14953400e-01],\n",
       "       [ 7.70669079e-01,  1.54411759e+00, -1.42755095e-01,\n",
       "         5.33528480e-01],\n",
       "       [-4.69257715e-01, -2.87050566e+00, -4.53048108e-01,\n",
       "         6.69651789e-02],\n",
       "       [-8.11273897e-02,  1.34669143e+00, -8.31363178e-01,\n",
       "        -1.74458334e+00],\n",
       "       [-5.02276187e-01, -2.15794772e+00, -1.76854843e+00,\n",
       "        -6.87401753e-01],\n",
       "       [-1.97201733e-02, -2.46835578e+00, -1.12215964e-02,\n",
       "         1.11652214e+00],\n",
       "       [ 5.67644043e-01, -1.69970399e+00, -7.47982988e-01,\n",
       "         1.19388984e+00],\n",
       "       [-2.62026372e-01, -2.84412295e-01, -1.19234100e+00,\n",
       "         8.67850420e-01],\n",
       "       [-1.58099817e+00,  9.32815880e-01, -9.16594549e-02,\n",
       "        -2.56720177e+00],\n",
       "       [ 2.03374977e-01, -2.99958429e-01, -2.82773983e+00,\n",
       "        -5.49598519e-01],\n",
       "       [-6.17878431e-01, -5.80959248e-01, -1.62198192e+00,\n",
       "         1.50197868e+00],\n",
       "       [-1.62106330e-01,  5.17704858e-01, -5.81276371e-01,\n",
       "        -8.72138833e-01],\n",
       "       [-8.88500257e-01,  7.02048707e-01, -1.47759542e+00,\n",
       "         9.46247758e-01],\n",
       "       [ 5.99587487e-01,  6.26903309e-01,  1.37983196e+00,\n",
       "         2.21151605e-01],\n",
       "       [-9.05642063e-01,  8.44337986e-01, -6.87508882e-01,\n",
       "        -2.91263992e-01],\n",
       "       [ 8.37353298e-01,  2.02870461e+00, -5.47310452e-02,\n",
       "        -1.74499624e+00],\n",
       "       [-4.23174542e-01,  2.36928773e+00,  6.58593258e-01,\n",
       "        -1.34835324e+00],\n",
       "       [-9.13652495e-01,  1.58398855e-01, -6.11494906e-01,\n",
       "         4.38924311e-01],\n",
       "       [-1.02356572e+00, -6.25957191e-01,  1.27213658e-02,\n",
       "         2.92303559e-01],\n",
       "       [-4.55959704e-02, -1.11595292e+00,  1.86063561e-01,\n",
       "         4.35221950e-01],\n",
       "       [ 6.16407584e-01, -1.11899593e+00, -1.43510036e-02,\n",
       "        -1.83988874e-01],\n",
       "       [ 5.92815395e-01,  5.50161281e-01,  1.31504377e+00,\n",
       "         1.47341881e+00],\n",
       "       [ 7.69986449e-01, -1.76694442e+00,  1.92034784e-01,\n",
       "        -7.46063524e-01]])"
      ]
     },
     "execution_count": 166,
     "metadata": {},
     "output_type": "execute_result"
    }
   ],
   "source": [
    "x = np.zeros((223,1))\n",
    "x = np.c_[x,np.random.randn(223,2)]\n",
    "x = np.c_[x,np.random.randn(223,2)]\n",
    "x = x[:,1:]\n",
    "x"
   ]
  },
  {
   "cell_type": "code",
   "execution_count": null,
   "id": "b20ba0dd-2902-4715-89cc-ef37f40f8a54",
   "metadata": {},
   "outputs": [],
   "source": []
  },
  {
   "cell_type": "code",
   "execution_count": 172,
   "id": "c37259f3-287a-4236-ba29-b895ba78d471",
   "metadata": {},
   "outputs": [],
   "source": [
    "from sklearn.datasets import load_iris"
   ]
  },
  {
   "cell_type": "code",
   "execution_count": 174,
   "id": "137abe11-ca04-4324-871c-54702f1758fe",
   "metadata": {},
   "outputs": [],
   "source": [
    "import pandas as pd\n",
    "data = pd.DataFrame(load_iris()['data'])\n",
    "data.columns = load_iris()['feature_names']\n",
    "data['target'] = load_iris()['target']\n",
    "data.to_csv('iris.csv', index=None)"
   ]
  },
  {
   "cell_type": "code",
   "execution_count": 176,
   "id": "2dd6c58c-9f1c-4d29-b69d-a3ba12f113b8",
   "metadata": {},
   "outputs": [
    {
     "name": "stdout",
     "output_type": "stream",
     "text": [
      "This SVC instance is not fitted yet. Call 'fit' with appropriate arguments before using this estimator.\n"
     ]
    }
   ],
   "source": [
    "clf = SVC()\n",
    "try:\n",
    "    clf.predict(X_test)\n",
    "except Exception as e:\n",
    "    print(e)"
   ]
  },
  {
   "cell_type": "code",
   "execution_count": null,
   "id": "fdf5f982-f3d5-446e-8e3d-f7245118d32e",
   "metadata": {},
   "outputs": [],
   "source": []
  }
 ],
 "metadata": {
  "kernelspec": {
   "display_name": "bteam",
   "language": "python",
   "name": "bteam"
  },
  "language_info": {
   "codemirror_mode": {
    "name": "ipython",
    "version": 3
   },
   "file_extension": ".py",
   "mimetype": "text/x-python",
   "name": "python",
   "nbconvert_exporter": "python",
   "pygments_lexer": "ipython3",
   "version": "3.9.16"
  }
 },
 "nbformat": 4,
 "nbformat_minor": 5
}
