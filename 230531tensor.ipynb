{
 "cells": [
  {
   "cell_type": "code",
   "execution_count": 69,
   "id": "c00b879c-c5e6-42b5-b0b4-ec96308231e5",
   "metadata": {},
   "outputs": [],
   "source": [
    "import numpy as np\n",
    "import matplotlib.pyplot as plt\n",
    "from tensorflow.keras.models import Sequential, Model\n",
    "from tensorflow.keras.layers import Dense, Input, Flatten\n",
    "from tensorflow.keras.layers import Activation, BatchNormalization, Conv2D, MaxPooling2D\n",
    "from tensorflow.keras.losses import CategoricalCrossentropy\n",
    "from tensorflow.keras.optimizers import Adam\n",
    "from tensorflow.keras.utils import to_categorical, pad_sequences\n",
    "from tensorflow.keras.datasets import mnist, fashion_mnist, cifar10"
   ]
  },
  {
   "cell_type": "code",
   "execution_count": 34,
   "id": "8c94930a-bccc-4964-8d95-3f3224fc09fb",
   "metadata": {},
   "outputs": [],
   "source": [
    "(X_train, y_train),(X_test, y_test) = mnist.load_data()"
   ]
  },
  {
   "cell_type": "code",
   "execution_count": 35,
   "id": "35596f06-6cfb-416d-92fc-d9f209ca0b0e",
   "metadata": {},
   "outputs": [],
   "source": [
    "X_train_r = X_train.reshape(-1, 784)\n",
    "y_train_r = to_categorical(y_train)\n",
    "X_test_r = X_test.reshape(-1, 784)\n",
    "y_test_r = to_categorical(y_test)"
   ]
  },
  {
   "cell_type": "code",
   "execution_count": 36,
   "id": "9bf16c01-8ea0-4ac6-bd2a-703d550bf8fc",
   "metadata": {},
   "outputs": [
    {
     "data": {
      "text/plain": [
       "(60000, 28, 28)"
      ]
     },
     "execution_count": 36,
     "metadata": {},
     "output_type": "execute_result"
    }
   ],
   "source": [
    "X_train.shape"
   ]
  },
  {
   "cell_type": "code",
   "execution_count": 37,
   "id": "961578b1-964c-43bf-b181-7efcde1329e9",
   "metadata": {},
   "outputs": [],
   "source": [
    "model = Sequential()\n",
    "model.add(Dense(256, activation='relu', input_shape=(784,))) ## Dense input_dim=784로도 쓸 수 있음\n",
    "model.add(Dense(128, activation='relu'))\n",
    "model.add(Dense(10, activation='softmax'))"
   ]
  },
  {
   "cell_type": "code",
   "execution_count": 38,
   "id": "021fe3ef-792e-4210-96d8-6698399eb149",
   "metadata": {},
   "outputs": [
    {
     "name": "stdout",
     "output_type": "stream",
     "text": [
      "Model: \"sequential_6\"\n",
      "_________________________________________________________________\n",
      " Layer (type)                Output Shape              Param #   \n",
      "=================================================================\n",
      " dense_19 (Dense)            (None, 256)               200960    \n",
      "                                                                 \n",
      " dense_20 (Dense)            (None, 128)               32896     \n",
      "                                                                 \n",
      " dense_21 (Dense)            (None, 10)                1290      \n",
      "                                                                 \n",
      "=================================================================\n",
      "Total params: 235,146\n",
      "Trainable params: 235,146\n",
      "Non-trainable params: 0\n",
      "_________________________________________________________________\n"
     ]
    }
   ],
   "source": [
    "model.summary()"
   ]
  },
  {
   "cell_type": "code",
   "execution_count": 10,
   "id": "0ff1d25c-c839-4abe-a17f-25f2debae9d0",
   "metadata": {},
   "outputs": [],
   "source": [
    "model.compile(optimizer='adam', \n",
    "              loss='categorical_crossentropy', \n",
    "              metrics=[])"
   ]
  },
  {
   "cell_type": "code",
   "execution_count": 12,
   "id": "32f224ea-2ee8-4159-ae45-b46e8184c1fc",
   "metadata": {},
   "outputs": [
    {
     "name": "stdout",
     "output_type": "stream",
     "text": [
      "Epoch 1/10\n",
      "60/60 [==============================] - 1s 14ms/step - loss: 9.7506 - val_loss: 1.9418\n",
      "Epoch 2/10\n",
      "60/60 [==============================] - 1s 12ms/step - loss: 1.3212 - val_loss: 1.1214\n",
      "Epoch 3/10\n",
      "60/60 [==============================] - 1s 11ms/step - loss: 0.7638 - val_loss: 0.9229\n",
      "Epoch 4/10\n",
      "60/60 [==============================] - 1s 12ms/step - loss: 0.4946 - val_loss: 0.7814\n",
      "Epoch 5/10\n",
      "60/60 [==============================] - 1s 12ms/step - loss: 0.3527 - val_loss: 0.7059\n",
      "Epoch 6/10\n",
      "60/60 [==============================] - 1s 12ms/step - loss: 0.2508 - val_loss: 0.6733\n",
      "Epoch 7/10\n",
      "60/60 [==============================] - 1s 12ms/step - loss: 0.1726 - val_loss: 0.6300\n",
      "Epoch 8/10\n",
      "60/60 [==============================] - 1s 13ms/step - loss: 0.1223 - val_loss: 0.6190\n",
      "Epoch 9/10\n",
      "60/60 [==============================] - 1s 12ms/step - loss: 0.0941 - val_loss: 0.6003\n",
      "Epoch 10/10\n",
      "60/60 [==============================] - 1s 12ms/step - loss: 0.0699 - val_loss: 0.5949\n"
     ]
    },
    {
     "data": {
      "text/plain": [
       "<keras.callbacks.History at 0x7fe49488a310>"
      ]
     },
     "execution_count": 12,
     "metadata": {},
     "output_type": "execute_result"
    }
   ],
   "source": [
    "model.fit(X_train_r,\n",
    "          y_train_r,\n",
    "          epochs=10,\n",
    "          batch_size=1000,\n",
    "          validation_data=(X_test_r, y_test_r))"
   ]
  },
  {
   "cell_type": "code",
   "execution_count": 14,
   "id": "57d68934-eb58-4ec6-84d0-89e302a36b9d",
   "metadata": {},
   "outputs": [
    {
     "name": "stdout",
     "output_type": "stream",
     "text": [
      "1/1 [==============================] - 0s 74ms/step\n"
     ]
    },
    {
     "data": {
      "text/plain": [
       "5"
      ]
     },
     "execution_count": 14,
     "metadata": {},
     "output_type": "execute_result"
    }
   ],
   "source": [
    "np.argmax(model.predict(X_train_r[[100]]))"
   ]
  },
  {
   "cell_type": "code",
   "execution_count": 15,
   "id": "2d4830c0-adce-497d-a5bc-89f5ba473491",
   "metadata": {},
   "outputs": [
    {
     "data": {
      "text/plain": [
       "<matplotlib.image.AxesImage at 0x7fe4639b1790>"
      ]
     },
     "execution_count": 15,
     "metadata": {},
     "output_type": "execute_result"
    },
    {
     "data": {
      "image/png": "[encoded data removed]",
      "text/plain": [
       "<Figure size 640x480 with 1 Axes>"
      ]
     },
     "metadata": {},
     "output_type": "display_data"
    }
   ],
   "source": [
    "plt.imshow(X_train[100])"
   ]
  },
  {
   "cell_type": "code",
   "execution_count": 29,
   "id": "1da94902-26af-4524-b391-289f4074eebd",
   "metadata": {},
   "outputs": [],
   "source": [
    "model1 = Sequential(\n",
    "    [\n",
    "        Dense(256, activation='relu', input_shape=(784,)),\n",
    "        Dense(128, activation='relu'),\n",
    "        Dense(10, activation='softmax')\n",
    "    ]\n",
    ")"
   ]
  },
  {
   "cell_type": "code",
   "execution_count": 39,
   "id": "f13d5fc0-42a1-4356-b66e-5a999bd03d0f",
   "metadata": {
    "tags": []
   },
   "outputs": [],
   "source": [
    "opt = 'adam'\n",
    "loss = 'categorical_crossentropy'\n",
    "metrics = ['accuracy']\n",
    "model1.compile(optimizer=opt,\n",
    "              loss=loss,\n",
    "              metrics=metrics)"
   ]
  },
  {
   "cell_type": "code",
   "execution_count": 43,
   "id": "d3431078-ec54-4883-b01b-7f0048ac6bb5",
   "metadata": {},
   "outputs": [
    {
     "name": "stdout",
     "output_type": "stream",
     "text": [
      "Epoch 1/10\n",
      "1875/1875 [==============================] - 6s 3ms/step - loss: 1.5421 - accuracy: 0.8861 - val_loss: 0.3974 - val_accuracy: 0.9132\n",
      "Epoch 2/10\n",
      "1875/1875 [==============================] - 5s 3ms/step - loss: 0.2438 - accuracy: 0.9372 - val_loss: 0.2774 - val_accuracy: 0.9359\n",
      "Epoch 3/10\n",
      "1875/1875 [==============================] - 5s 3ms/step - loss: 0.1786 - accuracy: 0.9513 - val_loss: 0.1898 - val_accuracy: 0.9539\n",
      "Epoch 4/10\n",
      "1875/1875 [==============================] - 5s 3ms/step - loss: 0.1534 - accuracy: 0.9576 - val_loss: 0.1969 - val_accuracy: 0.9486\n",
      "Epoch 5/10\n",
      "1875/1875 [==============================] - 5s 3ms/step - loss: 0.1311 - accuracy: 0.9639 - val_loss: 0.1413 - val_accuracy: 0.9630\n",
      "Epoch 6/10\n",
      "1875/1875 [==============================] - 5s 3ms/step - loss: 0.1249 - accuracy: 0.9666 - val_loss: 0.1469 - val_accuracy: 0.9630\n",
      "Epoch 7/10\n",
      "1875/1875 [==============================] - 5s 2ms/step - loss: 0.1049 - accuracy: 0.9722 - val_loss: 0.1469 - val_accuracy: 0.9682\n",
      "Epoch 8/10\n",
      "1875/1875 [==============================] - 5s 3ms/step - loss: 0.0947 - accuracy: 0.9746 - val_loss: 0.1637 - val_accuracy: 0.9640\n",
      "Epoch 9/10\n",
      "1875/1875 [==============================] - 5s 3ms/step - loss: 0.0925 - accuracy: 0.9754 - val_loss: 0.1561 - val_accuracy: 0.9671\n",
      "Epoch 10/10\n",
      "1875/1875 [==============================] - 5s 3ms/step - loss: 0.0838 - accuracy: 0.9793 - val_loss: 0.1101 - val_accuracy: 0.9733\n"
     ]
    },
    {
     "data": {
      "text/plain": [
       "<keras.callbacks.History at 0x7fe480331550>"
      ]
     },
     "execution_count": 43,
     "metadata": {},
     "output_type": "execute_result"
    }
   ],
   "source": [
    "model1.fit(X_train_r, y_train_r, epochs=10, validation_data=(X_test_r,y_test_r))"
   ]
  },
  {
   "cell_type": "code",
   "execution_count": 40,
   "id": "b55546d1-246c-4255-84c0-df45f33cbe10",
   "metadata": {
    "tags": []
   },
   "outputs": [
    {
     "name": "stdout",
     "output_type": "stream",
     "text": [
      "313/313 [==============================] - 1s 1ms/step - loss: 85.6591 - accuracy: 0.1252\n"
     ]
    },
    {
     "data": {
      "text/plain": [
       "0.12520000338554382"
      ]
     },
     "execution_count": 40,
     "metadata": {},
     "output_type": "execute_result"
    }
   ],
   "source": [
    "model1.evaluate(X_test_r, y_test_r)[1]"
   ]
  },
  {
   "cell_type": "code",
   "execution_count": 41,
   "id": "eeeeae31-de12-4e40-9dd1-0f95fc984817",
   "metadata": {},
   "outputs": [],
   "source": [
    "dense1 = Dense(256, activation='relu', input_shape=(784,))\n",
    "dense2 = Dense(128, activation='relu')\n",
    "out = Dense(10, activation='softmax')\n",
    "model3 = Sequential([\n",
    "    dense1,\n",
    "    dense2,\n",
    "    out\n",
    "])"
   ]
  },
  {
   "cell_type": "code",
   "execution_count": 25,
   "id": "908c5d74-923b-4efa-a35f-c5665fb2d04a",
   "metadata": {
    "collapsed": true,
    "jupyter": {
     "outputs_hidden": true
    },
    "tags": []
   },
   "outputs": [
    {
     "ename": "NameError",
     "evalue": "name 'opt' is not defined",
     "output_type": "error",
     "traceback": [
      "\u001b[0;31m---------------------------------------------------------------------------\u001b[0m",
      "\u001b[0;31mNameError\u001b[0m                                 Traceback (most recent call last)",
      "Cell \u001b[0;32mIn[25], line 1\u001b[0m\n\u001b[0;32m----> 1\u001b[0m model3\u001b[38;5;241m.\u001b[39mcompile(optimizer\u001b[38;5;241m=\u001b[39m\u001b[43mopt\u001b[49m, loss\u001b[38;5;241m=\u001b[39mloss, metrics\u001b[38;5;241m=\u001b[39mmetrics)\n",
      "\u001b[0;31mNameError\u001b[0m: name 'opt' is not defined"
     ]
    }
   ],
   "source": [
    "model3.compile(optimizer=opt, loss=loss, metrics=metrics)"
   ]
  },
  {
   "cell_type": "code",
   "execution_count": 26,
   "id": "56c3e9d1-ab75-4ed0-b817-f704afe39139",
   "metadata": {
    "collapsed": true,
    "jupyter": {
     "outputs_hidden": true
    },
    "tags": []
   },
   "outputs": [
    {
     "ename": "RuntimeError",
     "evalue": "You must compile your model before training/testing. Use `model.compile(optimizer, loss)`.",
     "output_type": "error",
     "traceback": [
      "\u001b[0;31m---------------------------------------------------------------------------\u001b[0m",
      "\u001b[0;31mRuntimeError\u001b[0m                              Traceback (most recent call last)",
      "Cell \u001b[0;32mIn[26], line 1\u001b[0m\n\u001b[0;32m----> 1\u001b[0m \u001b[43mmodel3\u001b[49m\u001b[38;5;241;43m.\u001b[39;49m\u001b[43mfit\u001b[49m\u001b[43m(\u001b[49m\u001b[43mX_train_r\u001b[49m\u001b[43m,\u001b[49m\u001b[43m \u001b[49m\u001b[43my_train_r\u001b[49m\u001b[43m,\u001b[49m\u001b[43m \u001b[49m\u001b[43mepochs\u001b[49m\u001b[38;5;241;43m=\u001b[39;49m\u001b[38;5;241;43m1\u001b[39;49m\u001b[43m,\u001b[49m\u001b[43m \u001b[49m\u001b[43mbatch_size\u001b[49m\u001b[38;5;241;43m=\u001b[39;49m\u001b[38;5;241;43m100\u001b[39;49m\u001b[43m)\u001b[49m\n",
      "File \u001b[0;32m~/anaconda3/envs/bteam/lib/python3.9/site-packages/keras/utils/traceback_utils.py:70\u001b[0m, in \u001b[0;36mfilter_traceback.<locals>.error_handler\u001b[0;34m(*args, **kwargs)\u001b[0m\n\u001b[1;32m     67\u001b[0m     filtered_tb \u001b[38;5;241m=\u001b[39m _process_traceback_frames(e\u001b[38;5;241m.\u001b[39m__traceback__)\n\u001b[1;32m     68\u001b[0m     \u001b[38;5;66;03m# To get the full stack trace, call:\u001b[39;00m\n\u001b[1;32m     69\u001b[0m     \u001b[38;5;66;03m# `tf.debugging.disable_traceback_filtering()`\u001b[39;00m\n\u001b[0;32m---> 70\u001b[0m     \u001b[38;5;28;01mraise\u001b[39;00m e\u001b[38;5;241m.\u001b[39mwith_traceback(filtered_tb) \u001b[38;5;28;01mfrom\u001b[39;00m \u001b[38;5;28;01mNone\u001b[39;00m\n\u001b[1;32m     71\u001b[0m \u001b[38;5;28;01mfinally\u001b[39;00m:\n\u001b[1;32m     72\u001b[0m     \u001b[38;5;28;01mdel\u001b[39;00m filtered_tb\n",
      "File \u001b[0;32m~/anaconda3/envs/bteam/lib/python3.9/site-packages/keras/engine/training.py:3685\u001b[0m, in \u001b[0;36mModel._assert_compile_was_called\u001b[0;34m(self)\u001b[0m\n\u001b[1;32m   3679\u001b[0m \u001b[38;5;28;01mdef\u001b[39;00m \u001b[38;5;21m_assert_compile_was_called\u001b[39m(\u001b[38;5;28mself\u001b[39m):\n\u001b[1;32m   3680\u001b[0m     \u001b[38;5;66;03m# Checks whether `compile` has been called. If it has been called,\u001b[39;00m\n\u001b[1;32m   3681\u001b[0m     \u001b[38;5;66;03m# then the optimizer is set. This is different from whether the\u001b[39;00m\n\u001b[1;32m   3682\u001b[0m     \u001b[38;5;66;03m# model is compiled\u001b[39;00m\n\u001b[1;32m   3683\u001b[0m     \u001b[38;5;66;03m# (i.e. whether the model is built and its inputs/outputs are set).\u001b[39;00m\n\u001b[1;32m   3684\u001b[0m     \u001b[38;5;28;01mif\u001b[39;00m \u001b[38;5;129;01mnot\u001b[39;00m \u001b[38;5;28mself\u001b[39m\u001b[38;5;241m.\u001b[39m_is_compiled:\n\u001b[0;32m-> 3685\u001b[0m         \u001b[38;5;28;01mraise\u001b[39;00m \u001b[38;5;167;01mRuntimeError\u001b[39;00m(\n\u001b[1;32m   3686\u001b[0m             \u001b[38;5;124m\"\u001b[39m\u001b[38;5;124mYou must compile your model before \u001b[39m\u001b[38;5;124m\"\u001b[39m\n\u001b[1;32m   3687\u001b[0m             \u001b[38;5;124m\"\u001b[39m\u001b[38;5;124mtraining/testing. \u001b[39m\u001b[38;5;124m\"\u001b[39m\n\u001b[1;32m   3688\u001b[0m             \u001b[38;5;124m\"\u001b[39m\u001b[38;5;124mUse `model.compile(optimizer, loss)`.\u001b[39m\u001b[38;5;124m\"\u001b[39m\n\u001b[1;32m   3689\u001b[0m         )\n",
      "\u001b[0;31mRuntimeError\u001b[0m: You must compile your model before training/testing. Use `model.compile(optimizer, loss)`."
     ]
    }
   ],
   "source": [
    "model3.fit(X_train_r, y_train_r, epochs=1, batch_size=100)"
   ]
  },
  {
   "cell_type": "code",
   "execution_count": 44,
   "id": "1b7e46bc-90ae-4638-a9c5-b7c631f1186b",
   "metadata": {
    "tags": []
   },
   "outputs": [],
   "source": [
    "input_ = Input(shape=(784,))\n",
    "x = Dense(256, activation='relu')(input_)\n",
    "x = Dense(128, activation='relu')(x)\n",
    "out = Dense(10, activation='softmax')(x)\n",
    "model4 = Model(inputs=[input_],outputs=[out])"
   ]
  },
  {
   "cell_type": "code",
   "execution_count": 45,
   "id": "a37842e5-48fd-4230-9003-214d86889444",
   "metadata": {},
   "outputs": [],
   "source": [
    "model4.compile(optimizer=opt, loss=loss, metrics=metrics)"
   ]
  },
  {
   "cell_type": "code",
   "execution_count": 46,
   "id": "4f67ad7f-bce9-43c1-8707-7470687c07c8",
   "metadata": {},
   "outputs": [
    {
     "name": "stdout",
     "output_type": "stream",
     "text": [
      "1875/1875 [==============================] - 5s 2ms/step - loss: 1.5180 - accuracy: 0.8858\n"
     ]
    },
    {
     "data": {
      "text/plain": [
       "<keras.callbacks.History at 0x7fe4801e43a0>"
      ]
     },
     "execution_count": 46,
     "metadata": {},
     "output_type": "execute_result"
    }
   ],
   "source": [
    "model4.fit(X_train_r,y_train_r,epochs=1)"
   ]
  },
  {
   "cell_type": "code",
   "execution_count": 47,
   "id": "30e26d7e-c9b6-4f02-b001-95972d4d6d64",
   "metadata": {},
   "outputs": [],
   "source": [
    "model5 = Sequential(\n",
    "    [\n",
    "        Flatten(input_shape=(28,28)),\n",
    "        Dense(256,activation='relu'),\n",
    "        Dense(128,activation='relu'),\n",
    "        Dense(10,activation='softmax')\n",
    "    ]\n",
    ")"
   ]
  },
  {
   "cell_type": "code",
   "execution_count": 48,
   "id": "877a489f-3cca-4a4e-b2cb-f7869b52cb24",
   "metadata": {},
   "outputs": [
    {
     "name": "stdout",
     "output_type": "stream",
     "text": [
      "Model: \"sequential_8\"\n",
      "_________________________________________________________________\n",
      " Layer (type)                Output Shape              Param #   \n",
      "=================================================================\n",
      " flatten (Flatten)           (None, 784)               0         \n",
      "                                                                 \n",
      " dense_28 (Dense)            (None, 256)               200960    \n",
      "                                                                 \n",
      " dense_29 (Dense)            (None, 128)               32896     \n",
      "                                                                 \n",
      " dense_30 (Dense)            (None, 10)                1290      \n",
      "                                                                 \n",
      "=================================================================\n",
      "Total params: 235,146\n",
      "Trainable params: 235,146\n",
      "Non-trainable params: 0\n",
      "_________________________________________________________________\n"
     ]
    }
   ],
   "source": [
    "model5.summary()"
   ]
  },
  {
   "cell_type": "code",
   "execution_count": 49,
   "id": "66aa23cf-351e-4626-9fed-daf5efb03824",
   "metadata": {},
   "outputs": [],
   "source": [
    "model5.compile(optimizer=opt,loss=loss, metrics=metrics)"
   ]
  },
  {
   "cell_type": "code",
   "execution_count": 50,
   "id": "a24a9572-6013-444e-8823-046f79513fbb",
   "metadata": {},
   "outputs": [
    {
     "name": "stdout",
     "output_type": "stream",
     "text": [
      "Epoch 1/2\n",
      "1875/1875 [==============================] - 6s 3ms/step - loss: 1.8320 - accuracy: 0.8907\n",
      "Epoch 2/2\n",
      "1875/1875 [==============================] - 6s 3ms/step - loss: 0.2744 - accuracy: 0.9380\n"
     ]
    },
    {
     "data": {
      "text/plain": [
       "<keras.callbacks.History at 0x7fe4809c4670>"
      ]
     },
     "execution_count": 50,
     "metadata": {},
     "output_type": "execute_result"
    }
   ],
   "source": [
    "model5.fit(X_train, y_train_r, epochs=2)"
   ]
  },
  {
   "cell_type": "code",
   "execution_count": 51,
   "id": "fd25c923-c577-4090-9cce-346822b9e8d5",
   "metadata": {},
   "outputs": [
    {
     "name": "stdout",
     "output_type": "stream",
     "text": [
      "1/1 [==============================] - 0s 53ms/step\n"
     ]
    },
    {
     "data": {
      "text/plain": [
       "1"
      ]
     },
     "execution_count": 51,
     "metadata": {},
     "output_type": "execute_result"
    }
   ],
   "source": [
    "np.argmax(model5.predict(X_train[[70]]))"
   ]
  },
  {
   "cell_type": "code",
   "execution_count": 52,
   "id": "c45274bd-5232-498b-8166-ed090ce0e37e",
   "metadata": {},
   "outputs": [
    {
     "data": {
      "text/plain": [
       "<matplotlib.image.AxesImage at 0x7fe4809b0820>"
      ]
     },
     "execution_count": 52,
     "metadata": {},
     "output_type": "execute_result"
    },
    {
     "data": {
      "image/png": "[encoded data removed]",
      "text/plain": [
       "<Figure size 640x480 with 1 Axes>"
      ]
     },
     "metadata": {},
     "output_type": "display_data"
    }
   ],
   "source": [
    "plt.imshow(X_train[70])"
   ]
  },
  {
   "cell_type": "code",
   "execution_count": 53,
   "id": "ccc51abb-9acc-4cc6-a1b7-f2398344d4ba",
   "metadata": {},
   "outputs": [],
   "source": [
    "model6 = Sequential(\n",
    "    [\n",
    "        Flatten(input_shape=(28,28)),\n",
    "        Dense(256),\n",
    "        Activation('relu'),\n",
    "        Dense(128),\n",
    "        Activation('relu'),\n",
    "        Dense(10),\n",
    "        Activation('softmax')\n",
    "    ]\n",
    ")"
   ]
  },
  {
   "cell_type": "code",
   "execution_count": 54,
   "id": "eb5a9d1e-a341-4e40-aefa-c2ddbe7dda98",
   "metadata": {},
   "outputs": [],
   "source": [
    "model6.compile(optimizer=Adam(),\n",
    "              loss=CategoricalCrossentropy(),\n",
    "              metrics=metrics)"
   ]
  },
  {
   "cell_type": "code",
   "execution_count": 55,
   "id": "6644fd67-aed8-45bf-9f74-891262229c13",
   "metadata": {},
   "outputs": [
    {
     "name": "stdout",
     "output_type": "stream",
     "text": [
      "Downloading data from https://www.cs.toronto.edu/~kriz/cifar-10-python.tar.gz\n",
      "170498071/170498071 [==============================] - 53s 0us/step\n"
     ]
    }
   ],
   "source": [
    "(X_train, y_train), (X_test,y_test) = cifar10.load_data()"
   ]
  },
  {
   "cell_type": "code",
   "execution_count": 56,
   "id": "78c118ca-9249-4ad1-8a48-2ea6bfaaf77c",
   "metadata": {},
   "outputs": [],
   "source": [
    "y_train_r = to_categorical(y_train)\n",
    "y_test_r = to_categorical(y_test)"
   ]
  },
  {
   "cell_type": "code",
   "execution_count": 59,
   "id": "3b41468c-9b71-46ef-b651-b2f6a9ca4d1a",
   "metadata": {},
   "outputs": [],
   "source": [
    "model = Sequential(\n",
    "    [\n",
    "        Flatten(input_shape=X_train.shape[1:]),\n",
    "        Dense(512,activation='relu'),\n",
    "        Dense(256,activation='relu'),\n",
    "        Dense(y_train_r.shape[1:][0],activation='softmax')\n",
    "    ]\n",
    ")"
   ]
  },
  {
   "cell_type": "code",
   "execution_count": 60,
   "id": "50923d67-ef4c-4901-acd5-f46c3f0326d5",
   "metadata": {},
   "outputs": [],
   "source": [
    "model.compile(optimizer='adam',loss='categorical_crossentropy',metrics=['accuracy'])"
   ]
  },
  {
   "cell_type": "code",
   "execution_count": 61,
   "id": "823f58bb-dcbc-415e-8277-469b69c548d3",
   "metadata": {
    "collapsed": true,
    "jupyter": {
     "outputs_hidden": true
    },
    "tags": []
   },
   "outputs": [
    {
     "name": "stdout",
     "output_type": "stream",
     "text": [
      "Epoch 1/50\n",
      "98/98 [==============================] - 4s 33ms/step - loss: 187.1268 - accuracy: 0.1764\n",
      "Epoch 2/50\n",
      "98/98 [==============================] - 3s 33ms/step - loss: 18.8599 - accuracy: 0.2143\n",
      "Epoch 3/50\n",
      "98/98 [==============================] - 3s 34ms/step - loss: 10.7117 - accuracy: 0.2375\n",
      "Epoch 4/50\n",
      "98/98 [==============================] - 3s 34ms/step - loss: 6.8703 - accuracy: 0.2410\n",
      "Epoch 5/50\n",
      "98/98 [==============================] - 3s 34ms/step - loss: 4.4416 - accuracy: 0.2586\n",
      "Epoch 6/50\n",
      "98/98 [==============================] - 3s 34ms/step - loss: 3.2944 - accuracy: 0.2689\n",
      "Epoch 7/50\n",
      "98/98 [==============================] - 3s 34ms/step - loss: 2.7175 - accuracy: 0.2851\n",
      "Epoch 8/50\n",
      "98/98 [==============================] - 3s 33ms/step - loss: 2.4867 - accuracy: 0.2964\n",
      "Epoch 9/50\n",
      "98/98 [==============================] - 3s 33ms/step - loss: 2.2340 - accuracy: 0.3139\n",
      "Epoch 10/50\n",
      "98/98 [==============================] - 3s 35ms/step - loss: 2.0975 - accuracy: 0.3289\n",
      "Epoch 11/50\n",
      "98/98 [==============================] - 3s 34ms/step - loss: 2.0230 - accuracy: 0.3336\n",
      "Epoch 12/50\n",
      "98/98 [==============================] - 3s 33ms/step - loss: 1.9405 - accuracy: 0.3461\n",
      "Epoch 13/50\n",
      "98/98 [==============================] - 3s 33ms/step - loss: 1.9028 - accuracy: 0.3500\n",
      "Epoch 14/50\n",
      "98/98 [==============================] - 3s 33ms/step - loss: 1.8530 - accuracy: 0.3612\n",
      "Epoch 15/50\n",
      "98/98 [==============================] - 3s 33ms/step - loss: 1.8196 - accuracy: 0.3671\n",
      "Epoch 16/50\n",
      "98/98 [==============================] - 3s 34ms/step - loss: 1.8119 - accuracy: 0.3698\n",
      "Epoch 17/50\n",
      "98/98 [==============================] - 3s 33ms/step - loss: 1.7574 - accuracy: 0.3852\n",
      "Epoch 18/50\n",
      "98/98 [==============================] - 3s 34ms/step - loss: 1.7568 - accuracy: 0.3840\n",
      "Epoch 19/50\n",
      "98/98 [==============================] - 3s 34ms/step - loss: 1.7447 - accuracy: 0.3868\n",
      "Epoch 20/50\n",
      "98/98 [==============================] - 3s 34ms/step - loss: 1.7277 - accuracy: 0.3955\n",
      "Epoch 21/50\n",
      "98/98 [==============================] - 3s 33ms/step - loss: 1.7168 - accuracy: 0.3961\n",
      "Epoch 22/50\n",
      "98/98 [==============================] - 3s 33ms/step - loss: 1.6859 - accuracy: 0.4036\n",
      "Epoch 23/50\n",
      "98/98 [==============================] - 3s 34ms/step - loss: 1.6730 - accuracy: 0.4129\n",
      "Epoch 24/50\n",
      "98/98 [==============================] - 3s 34ms/step - loss: 1.6816 - accuracy: 0.4082\n",
      "Epoch 25/50\n",
      "98/98 [==============================] - 3s 33ms/step - loss: 1.6794 - accuracy: 0.4083\n",
      "Epoch 26/50\n",
      "98/98 [==============================] - 3s 33ms/step - loss: 1.6771 - accuracy: 0.4072\n",
      "Epoch 27/50\n",
      "98/98 [==============================] - 3s 36ms/step - loss: 1.6548 - accuracy: 0.4143\n",
      "Epoch 28/50\n",
      "98/98 [==============================] - 3s 34ms/step - loss: 1.6570 - accuracy: 0.4133\n",
      "Epoch 29/50\n",
      "98/98 [==============================] - 4s 36ms/step - loss: 1.6265 - accuracy: 0.4252\n",
      "Epoch 30/50\n",
      "98/98 [==============================] - 3s 34ms/step - loss: 1.6360 - accuracy: 0.4206\n",
      "Epoch 31/50\n",
      "98/98 [==============================] - 3s 33ms/step - loss: 1.6282 - accuracy: 0.4223\n",
      "Epoch 32/50\n",
      "98/98 [==============================] - 3s 33ms/step - loss: 1.6151 - accuracy: 0.4295\n",
      "Epoch 33/50\n",
      "98/98 [==============================] - 3s 33ms/step - loss: 1.5983 - accuracy: 0.4339\n",
      "Epoch 34/50\n",
      "98/98 [==============================] - 3s 33ms/step - loss: 1.6415 - accuracy: 0.4192\n",
      "Epoch 35/50\n",
      "98/98 [==============================] - 4s 36ms/step - loss: 1.5779 - accuracy: 0.4399\n",
      "Epoch 36/50\n",
      "98/98 [==============================] - 3s 34ms/step - loss: 1.5690 - accuracy: 0.4427\n",
      "Epoch 37/50\n",
      "98/98 [==============================] - 3s 34ms/step - loss: 1.5999 - accuracy: 0.4333\n",
      "Epoch 38/50\n",
      "98/98 [==============================] - 3s 33ms/step - loss: 1.6067 - accuracy: 0.4294\n",
      "Epoch 39/50\n",
      "98/98 [==============================] - 3s 33ms/step - loss: 1.5895 - accuracy: 0.4369\n",
      "Epoch 40/50\n",
      "98/98 [==============================] - 3s 35ms/step - loss: 1.5805 - accuracy: 0.4396\n",
      "Epoch 41/50\n",
      "98/98 [==============================] - 3s 34ms/step - loss: 1.6149 - accuracy: 0.4283\n",
      "Epoch 42/50\n",
      "98/98 [==============================] - 3s 34ms/step - loss: 1.5645 - accuracy: 0.4453\n",
      "Epoch 43/50\n",
      "98/98 [==============================] - 3s 35ms/step - loss: 1.5723 - accuracy: 0.4422\n",
      "Epoch 44/50\n",
      "98/98 [==============================] - 3s 35ms/step - loss: 1.5606 - accuracy: 0.4449\n",
      "Epoch 45/50\n",
      "98/98 [==============================] - 3s 35ms/step - loss: 1.5796 - accuracy: 0.4407\n",
      "Epoch 46/50\n",
      "98/98 [==============================] - 3s 34ms/step - loss: 1.5698 - accuracy: 0.4420\n",
      "Epoch 47/50\n",
      "98/98 [==============================] - 3s 35ms/step - loss: 1.5453 - accuracy: 0.4517\n",
      "Epoch 48/50\n",
      "98/98 [==============================] - 3s 35ms/step - loss: 1.5465 - accuracy: 0.4486\n",
      "Epoch 49/50\n",
      "98/98 [==============================] - 3s 34ms/step - loss: 1.5833 - accuracy: 0.4352\n",
      "Epoch 50/50\n",
      "98/98 [==============================] - 3s 35ms/step - loss: 1.5632 - accuracy: 0.4466\n"
     ]
    },
    {
     "data": {
      "text/plain": [
       "<keras.callbacks.History at 0x7fe4809a8970>"
      ]
     },
     "execution_count": 61,
     "metadata": {},
     "output_type": "execute_result"
    }
   ],
   "source": [
    "model.fit(X_train, y_train_r, epochs=50, batch_size=512)"
   ]
  },
  {
   "cell_type": "code",
   "execution_count": null,
   "id": "f1a60a6e-5820-4ca1-b648-7d8ec4cc9378",
   "metadata": {},
   "outputs": [],
   "source": []
  },
  {
   "cell_type": "code",
   "execution_count": 63,
   "id": "b88320a4-d33d-4c0c-8e63-7f9df2dad6f8",
   "metadata": {},
   "outputs": [],
   "source": [
    "model = Sequential(\n",
    "    [\n",
    "        Flatten(input_shape=X_train.shape[1:]),\n",
    "        Dense(512,activation='relu'),\n",
    "        BatchNormalization(),\n",
    "        Dense(256,activation='relu'),\n",
    "        BatchNormalization(),\n",
    "        Dense(y_train_r.shape[1:][0],activation='softmax')\n",
    "    ]\n",
    ")"
   ]
  },
  {
   "cell_type": "code",
   "execution_count": 64,
   "id": "218763a3-d2a0-4324-8c4a-4819e90bab2b",
   "metadata": {},
   "outputs": [],
   "source": [
    "model.compile(optimizer='adam',loss='categorical_crossentropy',metrics=['accuracy'])"
   ]
  },
  {
   "cell_type": "code",
   "execution_count": 65,
   "id": "44a7a1d4-f38d-4902-8fdd-1485bb61e86c",
   "metadata": {},
   "outputs": [
    {
     "name": "stdout",
     "output_type": "stream",
     "text": [
      "Epoch 1/10\n",
      "98/98 [==============================] - 4s 37ms/step - loss: 1.7114 - accuracy: 0.4052\n",
      "Epoch 2/10\n",
      "98/98 [==============================] - 4s 36ms/step - loss: 1.4857 - accuracy: 0.4818\n",
      "Epoch 3/10\n",
      "98/98 [==============================] - 3s 36ms/step - loss: 1.3948 - accuracy: 0.5115\n",
      "Epoch 4/10\n",
      "98/98 [==============================] - 3s 35ms/step - loss: 1.3367 - accuracy: 0.5334\n",
      "Epoch 5/10\n",
      "98/98 [==============================] - 3s 35ms/step - loss: 1.2812 - accuracy: 0.5518\n",
      "Epoch 6/10\n",
      "98/98 [==============================] - 4s 36ms/step - loss: 1.2388 - accuracy: 0.5696\n",
      "Epoch 7/10\n",
      "98/98 [==============================] - 4s 36ms/step - loss: 1.2004 - accuracy: 0.5834\n",
      "Epoch 8/10\n",
      "98/98 [==============================] - 4s 36ms/step - loss: 1.1634 - accuracy: 0.5918\n",
      "Epoch 9/10\n",
      "98/98 [==============================] - 4s 36ms/step - loss: 1.1287 - accuracy: 0.6064\n",
      "Epoch 10/10\n",
      "98/98 [==============================] - 4s 36ms/step - loss: 1.0968 - accuracy: 0.6172\n"
     ]
    },
    {
     "data": {
      "text/plain": [
       "<keras.callbacks.History at 0x7fe4917eff10>"
      ]
     },
     "execution_count": 65,
     "metadata": {},
     "output_type": "execute_result"
    }
   ],
   "source": [
    "model.fit(X_train, y_train_r, epochs=10, batch_size=512)"
   ]
  },
  {
   "cell_type": "code",
   "execution_count": 66,
   "id": "67629590-3139-467f-9460-0abc27bc96b1",
   "metadata": {},
   "outputs": [
    {
     "data": {
      "text/plain": [
       "<matplotlib.image.AxesImage at 0x7fe4917b42b0>"
      ]
     },
     "execution_count": 66,
     "metadata": {},
     "output_type": "execute_result"
    },
    {
     "data": {
      "image/png": "[encoded data removed]",
      "text/plain": [
       "<Figure size 640x480 with 1 Axes>"
      ]
     },
     "metadata": {},
     "output_type": "display_data"
    }
   ],
   "source": [
    "plt.imshow(X_train[0])"
   ]
  },
  {
   "cell_type": "code",
   "execution_count": 67,
   "id": "4497d4aa-a9c6-4bad-b898-356b69b01edf",
   "metadata": {},
   "outputs": [
    {
     "data": {
      "text/plain": [
       "<matplotlib.image.AxesImage at 0x7fe492832c40>"
      ]
     },
     "execution_count": 67,
     "metadata": {},
     "output_type": "execute_result"
    },
    {
     "data": {
      "image/png": "[encoded data removed]",
      "text/plain": [
       "<Figure size 640x480 with 1 Axes>"
      ]
     },
     "metadata": {},
     "output_type": "display_data"
    }
   ],
   "source": [
    "x = X_train[0].reshape(1,32*32*3)\n",
    "plt.imshow(x)"
   ]
  },
  {
   "cell_type": "code",
   "execution_count": null,
   "id": "dfc3e045-0896-4460-bae5-2e9520fe9515",
   "metadata": {},
   "outputs": [],
   "source": []
  },
  {
   "cell_type": "code",
   "execution_count": null,
   "id": "f14bf4be-6f07-4248-9efa-fbd35246f34d",
   "metadata": {},
   "outputs": [],
   "source": []
  },
  {
   "cell_type": "code",
   "execution_count": null,
   "id": "0e0d3b2e-6db8-4afe-9db7-77d366fbecda",
   "metadata": {},
   "outputs": [],
   "source": []
  },
  {
   "cell_type": "code",
   "execution_count": 68,
   "id": "fd87fde5-f708-4c97-a855-e3a13aa38876",
   "metadata": {},
   "outputs": [
    {
     "data": {
      "text/plain": [
       "(50000, 32, 32, 3)"
      ]
     },
     "execution_count": 68,
     "metadata": {},
     "output_type": "execute_result"
    }
   ],
   "source": [
    "X_train.shape"
   ]
  },
  {
   "cell_type": "code",
   "execution_count": 70,
   "id": "d7ac9455-2110-4934-9be6-06f034bdddb6",
   "metadata": {},
   "outputs": [],
   "source": [
    "model = Sequential(\n",
    "    [\n",
    "        Conv2D(32,(3,3), activation='relu', strides=1, padding='same', input_shape=(32,32,3))\n",
    "    ]\n",
    ")"
   ]
  },
  {
   "cell_type": "code",
   "execution_count": 71,
   "id": "d4aa9d96-c399-4beb-b003-07560a601f95",
   "metadata": {},
   "outputs": [
    {
     "name": "stdout",
     "output_type": "stream",
     "text": [
      "Model: \"sequential_13\"\n",
      "_________________________________________________________________\n",
      " Layer (type)                Output Shape              Param #   \n",
      "=================================================================\n",
      " conv2d (Conv2D)             (None, 32, 32, 32)        896       \n",
      "                                                                 \n",
      "=================================================================\n",
      "Total params: 896\n",
      "Trainable params: 896\n",
      "Non-trainable params: 0\n",
      "_________________________________________________________________\n"
     ]
    }
   ],
   "source": [
    "model.summary()"
   ]
  },
  {
   "cell_type": "code",
   "execution_count": 93,
   "id": "26231d9c-bab8-4a79-8028-3717ce532f95",
   "metadata": {},
   "outputs": [],
   "source": [
    "model = Sequential(\n",
    "    [\n",
    "        Conv2D(16,(3,3), activation='relu', strides=1, padding='same', input_shape=(32,32,3)),\n",
    "        MaxPooling2D(2,2),\n",
    "        BatchNormalization(),\n",
    "        Conv2D(32,(3,3), activation='relu'),\n",
    "        MaxPooling2D(2,2),\n",
    "        BatchNormalization(),\n",
    "        Conv2D(64,(3,3), activation='relu'),\n",
    "        MaxPooling2D(2,2),\n",
    "        BatchNormalization(),\n",
    "        Flatten(),\n",
    "        Dense(1024, activation='relu'),\n",
    "        BatchNormalization(),\n",
    "        Dense(10,activation='softmax')\n",
    "    ]\n",
    ")"
   ]
  },
  {
   "cell_type": "code",
   "execution_count": 94,
   "id": "b42da475-d01e-43ec-ae66-1c57dddd7849",
   "metadata": {},
   "outputs": [
    {
     "name": "stdout",
     "output_type": "stream",
     "text": [
      "Model: \"sequential_22\"\n",
      "_________________________________________________________________\n",
      " Layer (type)                Output Shape              Param #   \n",
      "=================================================================\n",
      " conv2d_16 (Conv2D)          (None, 32, 32, 16)        448       \n",
      "                                                                 \n",
      " max_pooling2d_11 (MaxPoolin  (None, 16, 16, 16)       0         \n",
      " g2D)                                                            \n",
      "                                                                 \n",
      " batch_normalization_12 (Bat  (None, 16, 16, 16)       64        \n",
      " chNormalization)                                                \n",
      "                                                                 \n",
      " conv2d_17 (Conv2D)          (None, 14, 14, 32)        4640      \n",
      "                                                                 \n",
      " max_pooling2d_12 (MaxPoolin  (None, 7, 7, 32)         0         \n",
      " g2D)                                                            \n",
      "                                                                 \n",
      " batch_normalization_13 (Bat  (None, 7, 7, 32)         128       \n",
      " chNormalization)                                                \n",
      "                                                                 \n",
      " conv2d_18 (Conv2D)          (None, 5, 5, 64)          18496     \n",
      "                                                                 \n",
      " max_pooling2d_13 (MaxPoolin  (None, 2, 2, 64)         0         \n",
      " g2D)                                                            \n",
      "                                                                 \n",
      " batch_normalization_14 (Bat  (None, 2, 2, 64)         256       \n",
      " chNormalization)                                                \n",
      "                                                                 \n",
      " flatten_7 (Flatten)         (None, 256)               0         \n",
      "                                                                 \n",
      " dense_44 (Dense)            (None, 1024)              263168    \n",
      "                                                                 \n",
      " batch_normalization_15 (Bat  (None, 1024)             4096      \n",
      " chNormalization)                                                \n",
      "                                                                 \n",
      " dense_45 (Dense)            (None, 10)                10250     \n",
      "                                                                 \n",
      "=================================================================\n",
      "Total params: 301,546\n",
      "Trainable params: 299,274\n",
      "Non-trainable params: 2,272\n",
      "_________________________________________________________________\n"
     ]
    }
   ],
   "source": [
    "model.summary()"
   ]
  },
  {
   "cell_type": "code",
   "execution_count": 95,
   "id": "cefdb64a-5e60-4e12-a283-7c8a029f3ea9",
   "metadata": {},
   "outputs": [],
   "source": [
    "model.compile(optimizer='adam',\n",
    "              loss='categorical_crossentropy',\n",
    "              metrics=['accuracy'])"
   ]
  },
  {
   "cell_type": "code",
   "execution_count": 96,
   "id": "f86ce843-0b6e-4156-a041-e55087a02614",
   "metadata": {},
   "outputs": [
    {
     "name": "stdout",
     "output_type": "stream",
     "text": [
      "Epoch 1/10\n",
      "1563/1563 [==============================] - 24s 14ms/step - loss: 1.4827 - accuracy: 0.4981\n",
      "Epoch 2/10\n",
      "1563/1563 [==============================] - 22s 14ms/step - loss: 1.0901 - accuracy: 0.6228\n",
      "Epoch 3/10\n",
      "1563/1563 [==============================] - 23s 14ms/step - loss: 0.9353 - accuracy: 0.6743\n",
      "Epoch 4/10\n",
      "1563/1563 [==============================] - 22s 14ms/step - loss: 0.8323 - accuracy: 0.7085\n",
      "Epoch 5/10\n",
      "1563/1563 [==============================] - 22s 14ms/step - loss: 0.7449 - accuracy: 0.7400\n",
      "Epoch 6/10\n",
      "1563/1563 [==============================] - 22s 14ms/step - loss: 0.6727 - accuracy: 0.7629\n",
      "Epoch 7/10\n",
      "1563/1563 [==============================] - 22s 14ms/step - loss: 0.6107 - accuracy: 0.7858\n",
      "Epoch 8/10\n",
      "1563/1563 [==============================] - 23s 14ms/step - loss: 0.5525 - accuracy: 0.8066\n",
      "Epoch 9/10\n",
      "1563/1563 [==============================] - 23s 15ms/step - loss: 0.5040 - accuracy: 0.8211\n",
      "Epoch 10/10\n",
      "1563/1563 [==============================] - 22s 14ms/step - loss: 0.4592 - accuracy: 0.8377\n"
     ]
    },
    {
     "data": {
      "text/plain": [
       "<keras.callbacks.History at 0x7fe460bf3af0>"
      ]
     },
     "execution_count": 96,
     "metadata": {},
     "output_type": "execute_result"
    }
   ],
   "source": [
    "model.fit(X_train, y_train_r, epochs=10)"
   ]
  },
  {
   "cell_type": "code",
   "execution_count": 97,
   "id": "855cbc46-aaa6-4a27-ae9b-5aeb2d22df57",
   "metadata": {},
   "outputs": [
    {
     "name": "stdout",
     "output_type": "stream",
     "text": [
      "1/1 [==============================] - 0s 97ms/step\n"
     ]
    },
    {
     "data": {
      "text/plain": [
       "9"
      ]
     },
     "execution_count": 97,
     "metadata": {},
     "output_type": "execute_result"
    }
   ],
   "source": [
    "np.argmax(model.predict(X_train[[31]]))"
   ]
  },
  {
   "cell_type": "code",
   "execution_count": 98,
   "id": "5c63c8f8-7dff-4f1a-8da7-5e8155529bb7",
   "metadata": {},
   "outputs": [
    {
     "name": "stdout",
     "output_type": "stream",
     "text": [
      "1/1 [==============================] - 0s 19ms/step\n",
      "정답\n"
     ]
    },
    {
     "data": {
      "image/png": "[encoded data removed]",
      "text/plain": [
       "<Figure size 640x480 with 1 Axes>"
      ]
     },
     "metadata": {},
     "output_type": "display_data"
    },
    {
     "name": "stdout",
     "output_type": "stream",
     "text": [
      "1/1 [==============================] - 0s 16ms/step\n",
      "정답\n"
     ]
    },
    {
     "data": {
      "image/png": "[encoded data removed]",
      "text/plain": [
       "<Figure size 640x480 with 1 Axes>"
      ]
     },
     "metadata": {},
     "output_type": "display_data"
    },
    {
     "name": "stdout",
     "output_type": "stream",
     "text": [
      "1/1 [==============================] - 0s 16ms/step\n",
      "예측값은 6 ====> 실제값은 [0]\n"
     ]
    },
    {
     "data": {
      "image/png": "[encoded data removed]",
      "text/plain": [
       "<Figure size 640x480 with 1 Axes>"
      ]
     },
     "metadata": {},
     "output_type": "display_data"
    },
    {
     "name": "stdout",
     "output_type": "stream",
     "text": [
      "1/1 [==============================] - 0s 16ms/step\n",
      "정답\n"
     ]
    },
    {
     "data": {
      "image/png": "[encoded data removed]",
      "text/plain": [
       "<Figure size 640x480 with 1 Axes>"
      ]
     },
     "metadata": {},
     "output_type": "display_data"
    }
   ],
   "source": [
    "x = [31, 67, 30000, 19]\n",
    "for i in x:\n",
    "    y_pred = np.argmax(model.predict(X_train[[i]]))\n",
    "    real = y_train[i]\n",
    "    if y_pred == real:\n",
    "        print('정답')\n",
    "    else:\n",
    "        print(f'예측값은 {y_pred} ====> 실제값은 {real}')\n",
    "    plt.imshow(X_train[i])\n",
    "    plt.show()"
   ]
  },
  {
   "cell_type": "code",
   "execution_count": 99,
   "id": "65848a24-c19d-4fc5-b069-d2b316a9f470",
   "metadata": {},
   "outputs": [
    {
     "data": {
      "text/plain": [
       "array([[6],\n",
       "       [9],\n",
       "       [9],\n",
       "       ...,\n",
       "       [9],\n",
       "       [1],\n",
       "       [1]], dtype=uint8)"
      ]
     },
     "execution_count": 99,
     "metadata": {},
     "output_type": "execute_result"
    }
   ],
   "source": [
    "y_train"
   ]
  },
  {
   "cell_type": "code",
   "execution_count": 102,
   "id": "a06ae7c1-8cfa-41ed-86fa-d3175e99fbe4",
   "metadata": {},
   "outputs": [
    {
     "data": {
      "text/plain": [
       "<matplotlib.image.AxesImage at 0x7fe4605f6160>"
      ]
     },
     "execution_count": 102,
     "metadata": {},
     "output_type": "execute_result"
    },
    {
     "data": {
      "image/png": "[encoded data removed]",
      "text/plain": [
       "<Figure size 640x480 with 1 Axes>"
      ]
     },
     "metadata": {},
     "output_type": "display_data"
    }
   ],
   "source": [
    "plt.imshow(X_train[6])"
   ]
  },
  {
   "cell_type": "code",
   "execution_count": null,
   "id": "4d972ae3-0d22-4f03-a6f6-998590c888c0",
   "metadata": {},
   "outputs": [],
   "source": []
  },
  {
   "cell_type": "code",
   "execution_count": 108,
   "id": "c2b7a973-04e6-4f0b-871d-09b31a433aa5",
   "metadata": {},
   "outputs": [
    {
     "data": {
      "text/plain": [
       "(1, 32, 32, 3)"
      ]
     },
     "execution_count": 108,
     "metadata": {},
     "output_type": "execute_result"
    }
   ],
   "source": [
    "x = X_train[0:1]\n",
    "x.shape"
   ]
  },
  {
   "cell_type": "code",
   "execution_count": 106,
   "id": "8d74a1b7-46b7-4ddc-899c-c0d55681b7fe",
   "metadata": {},
   "outputs": [
    {
     "data": {
      "text/plain": [
       "(10, 10000)"
      ]
     },
     "execution_count": 106,
     "metadata": {},
     "output_type": "execute_result"
    }
   ],
   "source": [
    "np.dot(np.random.randn(10,3), np.random.randn(3,10000)).shape"
   ]
  },
  {
   "cell_type": "code",
   "execution_count": 107,
   "id": "56e2fcf0-5b95-4325-8153-6131ca2d410e",
   "metadata": {},
   "outputs": [
    {
     "data": {
      "text/plain": [
       "(1, 32, 32, 100)"
      ]
     },
     "execution_count": 107,
     "metadata": {},
     "output_type": "execute_result"
    }
   ],
   "source": [
    "np.dot(x, np.random.randn(3,100)).shape"
   ]
  },
  {
   "cell_type": "code",
   "execution_count": null,
   "id": "52292667-3a99-4611-8fa1-14b8263513f9",
   "metadata": {},
   "outputs": [],
   "source": [
    " "
   ]
  },
  {
   "cell_type": "code",
   "execution_count": 109,
   "id": "9d5b03eb-6b1f-479e-83e4-ed9084206c91",
   "metadata": {},
   "outputs": [
    {
     "name": "stdout",
     "output_type": "stream",
     "text": [
      "Model: \"sequential_22\"\n",
      "_________________________________________________________________\n",
      " Layer (type)                Output Shape              Param #   \n",
      "=================================================================\n",
      " conv2d_16 (Conv2D)          (None, 32, 32, 16)        448       \n",
      "                                                                 \n",
      " max_pooling2d_11 (MaxPoolin  (None, 16, 16, 16)       0         \n",
      " g2D)                                                            \n",
      "                                                                 \n",
      " batch_normalization_12 (Bat  (None, 16, 16, 16)       64        \n",
      " chNormalization)                                                \n",
      "                                                                 \n",
      " conv2d_17 (Conv2D)          (None, 14, 14, 32)        4640      \n",
      "                                                                 \n",
      " max_pooling2d_12 (MaxPoolin  (None, 7, 7, 32)         0         \n",
      " g2D)                                                            \n",
      "                                                                 \n",
      " batch_normalization_13 (Bat  (None, 7, 7, 32)         128       \n",
      " chNormalization)                                                \n",
      "                                                                 \n",
      " conv2d_18 (Conv2D)          (None, 5, 5, 64)          18496     \n",
      "                                                                 \n",
      " max_pooling2d_13 (MaxPoolin  (None, 2, 2, 64)         0         \n",
      " g2D)                                                            \n",
      "                                                                 \n",
      " batch_normalization_14 (Bat  (None, 2, 2, 64)         256       \n",
      " chNormalization)                                                \n",
      "                                                                 \n",
      " flatten_7 (Flatten)         (None, 256)               0         \n",
      "                                                                 \n",
      " dense_44 (Dense)            (None, 1024)              263168    \n",
      "                                                                 \n",
      " batch_normalization_15 (Bat  (None, 1024)             4096      \n",
      " chNormalization)                                                \n",
      "                                                                 \n",
      " dense_45 (Dense)            (None, 10)                10250     \n",
      "                                                                 \n",
      "=================================================================\n",
      "Total params: 301,546\n",
      "Trainable params: 299,274\n",
      "Non-trainable params: 2,272\n",
      "_________________________________________________________________\n"
     ]
    }
   ],
   "source": [
    "model.summary()"
   ]
  },
  {
   "cell_type": "code",
   "execution_count": 111,
   "id": "5dfc5e6f-1da0-4dbd-b0d6-a54ec59f1ea1",
   "metadata": {},
   "outputs": [
    {
     "data": {
      "text/plain": [
       "[<keras.layers.convolutional.conv2d.Conv2D at 0x7fe460bd0490>,\n",
       " <keras.layers.pooling.max_pooling2d.MaxPooling2D at 0x7fe460bd0e20>,\n",
       " <keras.layers.normalization.batch_normalization.BatchNormalization at 0x7fe460bd0970>,\n",
       " <keras.layers.convolutional.conv2d.Conv2D at 0x7fe460bd0430>,\n",
       " <keras.layers.pooling.max_pooling2d.MaxPooling2D at 0x7fe460bd05e0>,\n",
       " <keras.layers.normalization.batch_normalization.BatchNormalization at 0x7fe460bd0220>,\n",
       " <keras.layers.convolutional.conv2d.Conv2D at 0x7fe460bc14f0>,\n",
       " <keras.layers.pooling.max_pooling2d.MaxPooling2D at 0x7fe460bc1a00>,\n",
       " <keras.layers.normalization.batch_normalization.BatchNormalization at 0x7fe460bc12b0>,\n",
       " <keras.layers.reshaping.flatten.Flatten at 0x7fe4926d3ac0>,\n",
       " <keras.layers.core.dense.Dense at 0x7fe460c2df70>,\n",
       " <keras.layers.normalization.batch_normalization.BatchNormalization at 0x7fe460c2d5b0>,\n",
       " <keras.layers.core.dense.Dense at 0x7fe460bc1610>]"
      ]
     },
     "execution_count": 111,
     "metadata": {},
     "output_type": "execute_result"
    }
   ],
   "source": [
    "model.layers"
   ]
  },
  {
   "cell_type": "code",
   "execution_count": 128,
   "id": "efb930fd-f025-45da-8578-a3509fff9883",
   "metadata": {},
   "outputs": [
    {
     "data": {
      "text/plain": [
       "(3, 3, 32, 64)"
      ]
     },
     "execution_count": 128,
     "metadata": {},
     "output_type": "execute_result"
    }
   ],
   "source": [
    "model.layers[6].get_weights()[0].shape"
   ]
  },
  {
   "cell_type": "code",
   "execution_count": null,
   "id": "ae8b8329-6fbc-4ff5-8eee-7b9c50d85f22",
   "metadata": {},
   "outputs": [],
   "source": []
  }
 ],
 "metadata": {
  "kernelspec": {
   "display_name": "bteam",
   "language": "python",
   "name": "bteam"
  },
  "language_info": {
   "codemirror_mode": {
    "name": "ipython",
    "version": 3
   },
   "file_extension": ".py",
   "mimetype": "text/x-python",
   "name": "python",
   "nbconvert_exporter": "python",
   "pygments_lexer": "ipython3",
   "version": "3.9.16"
  }
 },
 "nbformat": 4,
 "nbformat_minor": 5
}
