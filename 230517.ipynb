{
 "cells": [
  {
   "cell_type": "code",
   "execution_count": 2,
   "id": "da085db5-f373-434f-ad1c-d6727c81eb69",
   "metadata": {},
   "outputs": [],
   "source": [
    "from sklearn.naive_bayes import GaussianNB"
   ]
  },
  {
   "cell_type": "code",
   "execution_count": 3,
   "id": "ff6abc11-a2ef-4284-9db8-bc4ecb18b394",
   "metadata": {},
   "outputs": [],
   "source": [
    "from sklearn.datasets import load_wine"
   ]
  },
  {
   "cell_type": "code",
   "execution_count": 4,
   "id": "bfc04ab1-f3e5-45cb-9002-cc1d082c0ffe",
   "metadata": {},
   "outputs": [],
   "source": [
    "X = load_wine()['data']\n",
    "y = load_wine()['target']"
   ]
  },
  {
   "cell_type": "code",
   "execution_count": 7,
   "id": "a7dd2196-546b-4160-8aa7-23169484813a",
   "metadata": {},
   "outputs": [
    {
     "data": {
      "text/html": [
       "<style>#sk-container-id-2 {color: black;background-color: white;}#sk-container-id-2 pre{padding: 0;}#sk-container-id-2 div.sk-toggleable {background-color: white;}#sk-container-id-2 label.sk-toggleable__label {cursor: pointer;display: block;width: 100%;margin-bottom: 0;padding: 0.3em;box-sizing: border-box;text-align: center;}#sk-container-id-2 label.sk-toggleable__label-arrow:before {content: \"▸\";float: left;margin-right: 0.25em;color: #696969;}#sk-container-id-2 label.sk-toggleable__label-arrow:hover:before {color: black;}#sk-container-id-2 div.sk-estimator:hover label.sk-toggleable__label-arrow:before {color: black;}#sk-container-id-2 div.sk-toggleable__content {max-height: 0;max-width: 0;overflow: hidden;text-align: left;background-color: #f0f8ff;}#sk-container-id-2 div.sk-toggleable__content pre {margin: 0.2em;color: black;border-radius: 0.25em;background-color: #f0f8ff;}#sk-container-id-2 input.sk-toggleable__control:checked~div.sk-toggleable__content {max-height: 200px;max-width: 100%;overflow: auto;}#sk-container-id-2 input.sk-toggleable__control:checked~label.sk-toggleable__label-arrow:before {content: \"▾\";}#sk-container-id-2 div.sk-estimator input.sk-toggleable__control:checked~label.sk-toggleable__label {background-color: #d4ebff;}#sk-container-id-2 div.sk-label input.sk-toggleable__control:checked~label.sk-toggleable__label {background-color: #d4ebff;}#sk-container-id-2 input.sk-hidden--visually {border: 0;clip: rect(1px 1px 1px 1px);clip: rect(1px, 1px, 1px, 1px);height: 1px;margin: -1px;overflow: hidden;padding: 0;position: absolute;width: 1px;}#sk-container-id-2 div.sk-estimator {font-family: monospace;background-color: #f0f8ff;border: 1px dotted black;border-radius: 0.25em;box-sizing: border-box;margin-bottom: 0.5em;}#sk-container-id-2 div.sk-estimator:hover {background-color: #d4ebff;}#sk-container-id-2 div.sk-parallel-item::after {content: \"\";width: 100%;border-bottom: 1px solid gray;flex-grow: 1;}#sk-container-id-2 div.sk-label:hover label.sk-toggleable__label {background-color: #d4ebff;}#sk-container-id-2 div.sk-serial::before {content: \"\";position: absolute;border-left: 1px solid gray;box-sizing: border-box;top: 0;bottom: 0;left: 50%;z-index: 0;}#sk-container-id-2 div.sk-serial {display: flex;flex-direction: column;align-items: center;background-color: white;padding-right: 0.2em;padding-left: 0.2em;position: relative;}#sk-container-id-2 div.sk-item {position: relative;z-index: 1;}#sk-container-id-2 div.sk-parallel {display: flex;align-items: stretch;justify-content: center;background-color: white;position: relative;}#sk-container-id-2 div.sk-item::before, #sk-container-id-2 div.sk-parallel-item::before {content: \"\";position: absolute;border-left: 1px solid gray;box-sizing: border-box;top: 0;bottom: 0;left: 50%;z-index: -1;}#sk-container-id-2 div.sk-parallel-item {display: flex;flex-direction: column;z-index: 1;position: relative;background-color: white;}#sk-container-id-2 div.sk-parallel-item:first-child::after {align-self: flex-end;width: 50%;}#sk-container-id-2 div.sk-parallel-item:last-child::after {align-self: flex-start;width: 50%;}#sk-container-id-2 div.sk-parallel-item:only-child::after {width: 0;}#sk-container-id-2 div.sk-dashed-wrapped {border: 1px dashed gray;margin: 0 0.4em 0.5em 0.4em;box-sizing: border-box;padding-bottom: 0.4em;background-color: white;}#sk-container-id-2 div.sk-label label {font-family: monospace;font-weight: bold;display: inline-block;line-height: 1.2em;}#sk-container-id-2 div.sk-label-container {text-align: center;}#sk-container-id-2 div.sk-container {/* jupyter's `normalize.less` sets `[hidden] { display: none; }` but bootstrap.min.css set `[hidden] { display: none !important; }` so we also need the `!important` here to be able to override the default hidden behavior on the sphinx rendered scikit-learn.org. See: https://github.com/scikit-learn/scikit-learn/issues/21755 */display: inline-block !important;position: relative;}#sk-container-id-2 div.sk-text-repr-fallback {display: none;}</style><div id=\"sk-container-id-2\" class=\"sk-top-container\"><div class=\"sk-text-repr-fallback\"><pre>GaussianNB()</pre><b>In a Jupyter environment, please rerun this cell to show the HTML representation or trust the notebook. <br />On GitHub, the HTML representation is unable to render, please try loading this page with nbviewer.org.</b></div><div class=\"sk-container\" hidden><div class=\"sk-item\"><div class=\"sk-estimator sk-toggleable\"><input class=\"sk-toggleable__control sk-hidden--visually\" id=\"sk-estimator-id-2\" type=\"checkbox\" checked><label for=\"sk-estimator-id-2\" class=\"sk-toggleable__label sk-toggleable__label-arrow\">GaussianNB</label><div class=\"sk-toggleable__content\"><pre>GaussianNB()</pre></div></div></div></div></div>"
      ],
      "text/plain": [
       "GaussianNB()"
      ]
     },
     "execution_count": 7,
     "metadata": {},
     "output_type": "execute_result"
    }
   ],
   "source": [
    "from sklearn.model_selection import train_test_split\n",
    "X_train, X_test, y_train, y_test = train_test_split(X,y)\n",
    "model = GaussianNB()\n",
    "model.fit(X,y)"
   ]
  },
  {
   "cell_type": "code",
   "execution_count": 8,
   "id": "3b6e3c81-aebf-42c4-b764-04d296eaa66e",
   "metadata": {},
   "outputs": [
    {
     "data": {
      "text/plain": [
       "1.0"
      ]
     },
     "execution_count": 8,
     "metadata": {},
     "output_type": "execute_result"
    }
   ],
   "source": [
    "model.score(X_test, y_test)"
   ]
  },
  {
   "cell_type": "code",
   "execution_count": 9,
   "id": "dcf0d019-29cb-4ea8-adac-737e000f2c28",
   "metadata": {
    "collapsed": true,
    "jupyter": {
     "outputs_hidden": true
    },
    "tags": []
   },
   "outputs": [
    {
     "data": {
      "text/plain": [
       "['ABCMeta',\n",
       " 'BaseEstimator',\n",
       " 'BernoulliNB',\n",
       " 'CategoricalNB',\n",
       " 'ClassifierMixin',\n",
       " 'ComplementNB',\n",
       " 'GaussianNB',\n",
       " 'Hidden',\n",
       " 'Integral',\n",
       " 'Interval',\n",
       " 'LabelBinarizer',\n",
       " 'MultinomialNB',\n",
       " 'Real',\n",
       " 'StrOptions',\n",
       " '_BaseDiscreteNB',\n",
       " '_BaseNB',\n",
       " '__all__',\n",
       " '__builtins__',\n",
       " '__cached__',\n",
       " '__doc__',\n",
       " '__file__',\n",
       " '__loader__',\n",
       " '__name__',\n",
       " '__package__',\n",
       " '__spec__',\n",
       " '_check_partial_fit_first_call',\n",
       " '_check_sample_weight',\n",
       " 'abstractmethod',\n",
       " 'binarize',\n",
       " 'check_is_fitted',\n",
       " 'check_non_negative',\n",
       " 'label_binarize',\n",
       " 'logsumexp',\n",
       " 'np',\n",
       " 'safe_sparse_dot',\n",
       " 'warnings']"
      ]
     },
     "execution_count": 9,
     "metadata": {},
     "output_type": "execute_result"
    }
   ],
   "source": [
    "import sklearn\n",
    "dir(sklearn.naive_bayes)\n",
    "# GaussianNB\n",
    "# BernoulliNB\n",
    "# CategorialNB"
   ]
  },
  {
   "cell_type": "code",
   "execution_count": 54,
   "id": "5da72331-d077-4e54-b4e6-0f7c01c541f8",
   "metadata": {},
   "outputs": [],
   "source": [
    "doc = \"\"\"\n",
    "(서울=연합뉴스) 전성훈 기자 = 국내 대표적인 외식 품목의 가격이 지난 4월에도 가파른 상승세를 이어갔다. 냉면은 1만1천원, 삼겹살은 2만원, 자장면은 7천원선을 위협하고 있다.\n",
    "\n",
    "17일 한국소비자원 가격정보종합포털 '참가격'에 따르면 소비자들이 많이 찾는 8개 외식 품목의 지난달 서울지역 평균 가격이 작년보다 최고 13% 가까이 뛰었다.\n",
    "\n",
    "가격 상승률이 가장 높은 품목은 삼계탕이었다. 지난해 4월 서울지역 평균 1만4천500원이던 삼계탕 1그릇 가격은 지난달 1만6천346원으로 12.7%나 상승했다.\n",
    "\n",
    "자장면은 6천146원에서 6천915원으로 12.5% 올랐고, 삼겹살(200ｇ 환산 기준)은 1만7천261원에서 1만9천236원으로 11.4% 상승했다.\n",
    "\n",
    "이밖에 김치찌개 백반(7천154원→7천769원, 8.6%↑), 김밥(2천908원→3천123원, 7.4%↑), 냉면(1만192원→1만923원, 7.2%↑), 비빔밥(9천538원→1만192원, 6.9%↑), 칼국수(8천269원→8천808원, 6.5%↑) 등 조사 대상 품목 가격이 모두 올랐다.\n",
    "\n",
    "8개 품목 가운데 냉면, 자장면, 김치찌개 백반, 칼국수 등 4개는 지난달보다도 1∼2%씩 가격이 뛴 것으로 나타났다.\n",
    "\n",
    "지난달 현재 1만원으로 한끼를 해결할 수 있는 외식 품목은 김치찌개 백반과 자장면, 칼국수, 김밥 등 4개에 불과하다. 지난해 4월에는 비빔밥도 포함돼 있었으나 올해 1월 1만원선을 넘으면서 빠졌다.\n",
    "\n",
    "통계청 국가통계포털을 보면 지난달 외식 물가 지수는 117.15(2020년=100)로 전달보다 0.7% 상승했다. 2020년 12월부터 29개월간 매달 쉼 없이 올랐다.\n",
    "\"\"\""
   ]
  },
  {
   "cell_type": "code",
   "execution_count": 55,
   "id": "a9dfb856-c55f-44ad-b37d-2df437af53bd",
   "metadata": {},
   "outputs": [],
   "source": [
    "doc = doc.split('\\n')"
   ]
  },
  {
   "cell_type": "code",
   "execution_count": 56,
   "id": "0ed37745-9444-4d94-b081-a6171be45eb8",
   "metadata": {},
   "outputs": [],
   "source": [
    "doc = doc[1:]"
   ]
  },
  {
   "cell_type": "code",
   "execution_count": 57,
   "id": "0726c842-8b33-450a-b83f-127235e33432",
   "metadata": {},
   "outputs": [],
   "source": [
    "import pandas as pd"
   ]
  },
  {
   "cell_type": "code",
   "execution_count": 58,
   "id": "618ceee9-edc5-4ecb-8167-43a8af651bc6",
   "metadata": {},
   "outputs": [],
   "source": [
    "def str_split(x):\n",
    "    return x.split()\n",
    "doc = pd.Series(doc).apply(str_split).iloc[range(0,15,2)]"
   ]
  },
  {
   "cell_type": "code",
   "execution_count": 91,
   "id": "ec52d4cd-4707-4da1-8ce2-711346aa43dc",
   "metadata": {},
   "outputs": [
    {
     "data": {
      "text/plain": [
       "0     [(서울=연합뉴스), 전성훈, 기자, =, 국내, 대표적인, 외식, 품목의, 가격이...\n",
       "2     [17일, 한국소비자원, 가격정보종합포털, '참가격'에, 따르면, 소비자들이, 많이...\n",
       "4     [가격, 상승률이, 가장, 높은, 품목은, 삼계탕이었다., 지난해, 4월, 서울지역...\n",
       "6     [자장면은, 6천146원에서, 6천915원으로, 12.5%, 올랐고,, 삼겹살(20...\n",
       "8     [이밖에, 김치찌개, 백반(7천154원→7천769원,, 8.6%↑),, 김밥(2천9...\n",
       "10    [8개, 품목, 가운데, 냉면,, 자장면,, 김치찌개, 백반,, 칼국수, 등, 4개...\n",
       "12    [지난달, 현재, 1만원으로, 한끼를, 해결할, 수, 있는, 외식, 품목은, 김치찌...\n",
       "14    [통계청, 국가통계포털을, 보면, 지난달, 외식, 물가, 지수는, 117.15(20...\n",
       "dtype: object"
      ]
     },
     "execution_count": 91,
     "metadata": {},
     "output_type": "execute_result"
    }
   ],
   "source": [
    "doc"
   ]
  },
  {
   "cell_type": "code",
   "execution_count": 92,
   "id": "03bc5e28-9cac-4017-9a6e-0741e1860902",
   "metadata": {},
   "outputs": [],
   "source": [
    "word_list = []\n",
    "for word in doc:\n",
    "    word_list.extend(word)"
   ]
  },
  {
   "cell_type": "code",
   "execution_count": 93,
   "id": "df73c018-8ff6-40bb-8ed1-6bca4ecb57d0",
   "metadata": {},
   "outputs": [],
   "source": [
    "word_list = list(set(word_list))"
   ]
  },
  {
   "cell_type": "code",
   "execution_count": 94,
   "id": "1d625208-31e0-42ca-8430-f92e9de75af5",
   "metadata": {},
   "outputs": [],
   "source": [
    "word_dic = { idx:val for idx, val in enumerate (word_list) }"
   ]
  },
  {
   "cell_type": "code",
   "execution_count": 95,
   "id": "9a23140f-eafb-4797-922a-a98b4fe29da4",
   "metadata": {
    "collapsed": true,
    "jupyter": {
     "outputs_hidden": true
    },
    "tags": []
   },
   "outputs": [
    {
     "data": {
      "text/plain": [
       "{0: '것으로',\n",
       " 1: '수',\n",
       " 2: '삼겹살은',\n",
       " 3: '8.6%↑),',\n",
       " 4: '물가',\n",
       " 5: '외식',\n",
       " 6: '7천원선을',\n",
       " 7: '없이',\n",
       " 8: '조사',\n",
       " 9: '대표적인',\n",
       " 10: '품목은',\n",
       " 11: '있었으나',\n",
       " 12: '상승했다.',\n",
       " 13: '가까이',\n",
       " 14: '뛰었다.',\n",
       " 15: '지난',\n",
       " 16: '최고',\n",
       " 17: '넘으면서',\n",
       " 18: '1만원선을',\n",
       " 19: '전달보다',\n",
       " 20: '백반(7천154원→7천769원,',\n",
       " 21: '6천146원에서',\n",
       " 22: '1만4천500원이던',\n",
       " 23: '작년보다',\n",
       " 24: '평균',\n",
       " 25: '1그릇',\n",
       " 26: '1월',\n",
       " 27: '상승세를',\n",
       " 28: '김밥',\n",
       " 29: '김치찌개',\n",
       " 30: '품목의',\n",
       " 31: '가격은',\n",
       " 32: '환산',\n",
       " 33: '한끼를',\n",
       " 34: '찾는',\n",
       " 35: '6.9%↑),',\n",
       " 36: '4월',\n",
       " 37: '냉면,',\n",
       " 38: '현재',\n",
       " 39: '6.5%↑)',\n",
       " 40: '기자',\n",
       " 41: '해결할',\n",
       " 42: '올해',\n",
       " 43: '포함돼',\n",
       " 44: '있는',\n",
       " 45: '1만6천346원으로',\n",
       " 46: '가격',\n",
       " 47: '4월에는',\n",
       " 48: '6천915원으로',\n",
       " 49: '높은',\n",
       " 50: '뛴',\n",
       " 51: '지수는',\n",
       " 52: '가격정보종합포털',\n",
       " 53: '모두',\n",
       " 54: '냉면은',\n",
       " 55: '11.4%',\n",
       " 56: '칼국수(8천269원→8천808원,',\n",
       " 57: '2020년',\n",
       " 58: '자장면은',\n",
       " 59: '쉼',\n",
       " 60: '서울지역',\n",
       " 61: '삼겹살(200ｇ',\n",
       " 62: '한국소비자원',\n",
       " 63: '비빔밥(9천538원→1만192원,',\n",
       " 64: '0.7%',\n",
       " 65: '국가통계포털을',\n",
       " 66: '백반,',\n",
       " 67: '전성훈',\n",
       " 68: '7.2%↑),',\n",
       " 69: '13%',\n",
       " 70: '1∼2%씩',\n",
       " 71: '기준)은',\n",
       " 72: '위협하고',\n",
       " 73: '4개는',\n",
       " 74: '국내',\n",
       " 75: '가운데',\n",
       " 76: '가파른',\n",
       " 77: '많이',\n",
       " 78: '백반과',\n",
       " 79: '1만1천원,',\n",
       " 80: '통계청',\n",
       " 81: '12.7%나',\n",
       " 82: '대상',\n",
       " 83: '비빔밥도',\n",
       " 84: '12월부터',\n",
       " 85: '8개',\n",
       " 86: '보면',\n",
       " 87: '12.5%',\n",
       " 88: '삼계탕',\n",
       " 89: '불과하다.',\n",
       " 90: \"'참가격'에\",\n",
       " 91: '칼국수,',\n",
       " 92: '이어갔다.',\n",
       " 93: '올랐다.',\n",
       " 94: '1만원으로',\n",
       " 95: '올랐고,',\n",
       " 96: '17일',\n",
       " 97: '지난해',\n",
       " 98: '이밖에',\n",
       " 99: '117.15(2020년=100)로',\n",
       " 100: '등',\n",
       " 101: '나타났다.',\n",
       " 102: '빠졌다.',\n",
       " 103: '삼계탕이었다.',\n",
       " 104: '1만9천236원으로',\n",
       " 105: '가격이',\n",
       " 106: '29개월간',\n",
       " 107: '4개에',\n",
       " 108: '2만원,',\n",
       " 109: '김밥(2천908원→3천123원,',\n",
       " 110: '1만7천261원에서',\n",
       " 111: '칼국수',\n",
       " 112: '=',\n",
       " 113: '7.4%↑),',\n",
       " 114: '상승률이',\n",
       " 115: '자장면,',\n",
       " 116: '지난달보다도',\n",
       " 117: '따르면',\n",
       " 118: '있다.',\n",
       " 119: '소비자들이',\n",
       " 120: '품목',\n",
       " 121: '(서울=연합뉴스)',\n",
       " 122: '지난달',\n",
       " 123: '매달',\n",
       " 124: '가장',\n",
       " 125: '4월에도',\n",
       " 126: '냉면(1만192원→1만923원,'}"
      ]
     },
     "execution_count": 95,
     "metadata": {},
     "output_type": "execute_result"
    }
   ],
   "source": [
    "word_dic"
   ]
  },
  {
   "cell_type": "code",
   "execution_count": 96,
   "id": "46a7fb41-9a85-4a86-932c-b3abfa6d4b31",
   "metadata": {},
   "outputs": [],
   "source": [
    "dic_word = { val:idx for idx, val in word_dic.items() }"
   ]
  },
  {
   "cell_type": "code",
   "execution_count": 97,
   "id": "8c8e5573-6d32-49f1-88af-5fb814d97608",
   "metadata": {},
   "outputs": [],
   "source": [
    "import numpy as np\n",
    "dtm = np.zeros((8, 127))"
   ]
  },
  {
   "cell_type": "code",
   "execution_count": 98,
   "id": "2566b53f-2cc1-486d-96da-b4a511a8d9dd",
   "metadata": {},
   "outputs": [
    {
     "data": {
      "text/plain": [
       "0     [(서울=연합뉴스), 전성훈, 기자, =, 국내, 대표적인, 외식, 품목의, 가격이...\n",
       "2     [17일, 한국소비자원, 가격정보종합포털, '참가격'에, 따르면, 소비자들이, 많이...\n",
       "4     [가격, 상승률이, 가장, 높은, 품목은, 삼계탕이었다., 지난해, 4월, 서울지역...\n",
       "6     [자장면은, 6천146원에서, 6천915원으로, 12.5%, 올랐고,, 삼겹살(20...\n",
       "8     [이밖에, 김치찌개, 백반(7천154원→7천769원,, 8.6%↑),, 김밥(2천9...\n",
       "10    [8개, 품목, 가운데, 냉면,, 자장면,, 김치찌개, 백반,, 칼국수, 등, 4개...\n",
       "12    [지난달, 현재, 1만원으로, 한끼를, 해결할, 수, 있는, 외식, 품목은, 김치찌...\n",
       "14    [통계청, 국가통계포털을, 보면, 지난달, 외식, 물가, 지수는, 117.15(20...\n",
       "dtype: object"
      ]
     },
     "execution_count": 98,
     "metadata": {},
     "output_type": "execute_result"
    }
   ],
   "source": [
    "doc"
   ]
  },
  {
   "cell_type": "code",
   "execution_count": 99,
   "id": "b297ac68-ae72-4965-88c1-c6e0cb3fe555",
   "metadata": {
    "tags": []
   },
   "outputs": [],
   "source": [
    "doc.index = np.arange(len(doc))"
   ]
  },
  {
   "cell_type": "code",
   "execution_count": 100,
   "id": "5259e989-5ace-4ce6-b4a9-cceb5edb3a86",
   "metadata": {
    "tags": []
   },
   "outputs": [
    {
     "data": {
      "text/plain": [
       "121"
      ]
     },
     "execution_count": 100,
     "metadata": {},
     "output_type": "execute_result"
    }
   ],
   "source": [
    "dic_word.get(doc[0][0])"
   ]
  },
  {
   "cell_type": "code",
   "execution_count": 106,
   "id": "22fa7e4c-ed86-4b17-b101-790c49480cf6",
   "metadata": {},
   "outputs": [],
   "source": [
    "dtm =np.zeros((8,127))\n",
    "for i in range(dtm.shape[0]):\n",
    "    for j in range(len(doc[i])):\n",
    "        dtm[i, dic_word.get(doc[i][j])] += 1"
   ]
  },
  {
   "cell_type": "code",
   "execution_count": 107,
   "id": "8c7383ee-b254-4d9d-b46f-7ec258f59e00",
   "metadata": {},
   "outputs": [
    {
     "data": {
      "text/plain": [
       "'(서울=연합뉴스)'"
      ]
     },
     "execution_count": 107,
     "metadata": {},
     "output_type": "execute_result"
    }
   ],
   "source": [
    "doc[0][0]"
   ]
  },
  {
   "cell_type": "code",
   "execution_count": 110,
   "id": "d199ac72-5efe-4a17-914c-0566d31b04a6",
   "metadata": {},
   "outputs": [
    {
     "data": {
      "text/plain": [
       "array([[0., 0., 1., ..., 0., 1., 0.],\n",
       "       [0., 0., 0., ..., 0., 0., 0.],\n",
       "       [0., 0., 0., ..., 1., 0., 0.],\n",
       "       ...,\n",
       "       [1., 0., 0., ..., 0., 0., 0.],\n",
       "       [0., 1., 0., ..., 0., 0., 0.],\n",
       "       [0., 0., 0., ..., 0., 0., 0.]])"
      ]
     },
     "execution_count": 110,
     "metadata": {},
     "output_type": "execute_result"
    }
   ],
   "source": [
    "dtm"
   ]
  },
  {
   "cell_type": "code",
   "execution_count": 109,
   "id": "879c5306-0ce4-4775-8071-95b844ad94ef",
   "metadata": {},
   "outputs": [
    {
     "data": {
      "text/plain": [
       "array([0., 0., 0., 0., 0., 0., 0., 0., 0., 0., 1., 0., 1., 0., 0., 0., 0.,\n",
       "       0., 0., 0., 0., 0., 1., 0., 1., 1., 0., 0., 0., 0., 0., 1., 0., 0.,\n",
       "       0., 0., 1., 0., 0., 0., 0., 0., 0., 0., 0., 1., 1., 0., 0., 1., 0.,\n",
       "       0., 0., 0., 0., 0., 0., 0., 0., 0., 1., 0., 0., 0., 0., 0., 0., 0.,\n",
       "       0., 0., 0., 0., 0., 0., 0., 0., 0., 0., 0., 0., 0., 1., 0., 0., 0.,\n",
       "       0., 0., 0., 1., 0., 0., 0., 0., 0., 0., 0., 0., 1., 0., 0., 0., 0.,\n",
       "       0., 1., 0., 0., 0., 0., 0., 0., 0., 0., 0., 0., 1., 0., 0., 0., 0.,\n",
       "       0., 0., 0., 1., 0., 1., 0., 0.])"
      ]
     },
     "execution_count": 109,
     "metadata": {},
     "output_type": "execute_result"
    }
   ],
   "source": [
    "dtm[2]"
   ]
  },
  {
   "cell_type": "code",
   "execution_count": 80,
   "id": "d1c0a1a3-9744-488e-a0e9-9da908cbfdd7",
   "metadata": {},
   "outputs": [
    {
     "data": {
      "text/plain": [
       "121"
      ]
     },
     "execution_count": 80,
     "metadata": {},
     "output_type": "execute_result"
    }
   ],
   "source": [
    "dic_word['(서울=연합뉴스)']"
   ]
  },
  {
   "cell_type": "code",
   "execution_count": null,
   "id": "e10f5b01-8015-48bc-ba38-3f4c8ef532da",
   "metadata": {},
   "outputs": [],
   "source": []
  },
  {
   "cell_type": "code",
   "execution_count": 111,
   "id": "68c07f6f-daa2-4114-94ef-4a4f351f0208",
   "metadata": {},
   "outputs": [],
   "source": [
    "## 앙상블"
   ]
  },
  {
   "cell_type": "code",
   "execution_count": 112,
   "id": "b87a7f17-9a47-4bd3-9748-eb655b1f34ce",
   "metadata": {},
   "outputs": [],
   "source": [
    "from sklearn.ensemble import AdaBoostClassifier"
   ]
  },
  {
   "cell_type": "code",
   "execution_count": 113,
   "id": "242b8846-b9ea-4d3b-a7e1-f5ec6ce251c1",
   "metadata": {
    "collapsed": true,
    "jupyter": {
     "outputs_hidden": true
    },
    "tags": []
   },
   "outputs": [
    {
     "name": "stdout",
     "output_type": "stream",
     "text": [
      "Collecting package metadata (current_repodata.json): done\n",
      "Solving environment: done\n",
      "\n",
      "## Package Plan ##\n",
      "\n",
      "  environment location: /home/bteam/anaconda3/envs/bteam\n",
      "\n",
      "  added / updated specs:\n",
      "    - xgboost\n",
      "\n",
      "\n",
      "The following packages will be downloaded:\n",
      "\n",
      "    package                    |            build\n",
      "    ---------------------------|-----------------\n",
      "    _py-xgboost-mutex-2.0      |            cpu_0           9 KB\n",
      "    libxgboost-1.7.3           |       h6a678d5_0         3.9 MB\n",
      "    py-xgboost-1.7.3           |   py39h06a4308_0         213 KB\n",
      "    xgboost-1.7.3              |   py39h06a4308_0          12 KB\n",
      "    ------------------------------------------------------------\n",
      "                                           Total:         4.1 MB\n",
      "\n",
      "The following NEW packages will be INSTALLED:\n",
      "\n",
      "  _py-xgboost-mutex  pkgs/main/linux-64::_py-xgboost-mutex-2.0-cpu_0 \n",
      "  libxgboost         pkgs/main/linux-64::libxgboost-1.7.3-h6a678d5_0 \n",
      "  py-xgboost         pkgs/main/linux-64::py-xgboost-1.7.3-py39h06a4308_0 \n",
      "  xgboost            pkgs/main/linux-64::xgboost-1.7.3-py39h06a4308_0 \n",
      "\n",
      "\n",
      "\n",
      "Downloading and Extracting Packages\n",
      "libxgboost-1.7.3     | 3.9 MB    |                                       |   0% \n",
      "py-xgboost-1.7.3     | 213 KB    |                                       |   0% \u001b[A\n",
      "\n",
      "xgboost-1.7.3        | 12 KB     |                                       |   0% \u001b[A\u001b[A\n",
      "\n",
      "\n",
      "_py-xgboost-mutex-2. | 9 KB      |                                       |   0% \u001b[A\u001b[A\u001b[A\n",
      "\n",
      "\n",
      "_py-xgboost-mutex-2. | 9 KB      | ##################################### | 100% \u001b[A\u001b[A\u001b[A\n",
      "libxgboost-1.7.3     | 3.9 MB    | ##5                                   |   7% \u001b[A\n",
      "libxgboost-1.7.3     | 3.9 MB    | ############8                         |  35% \u001b[A\n",
      "\n",
      "xgboost-1.7.3        | 12 KB     | ##################################### | 100% \u001b[A\u001b[A\n",
      "\n",
      "                                                                                \u001b[A\u001b[A\n",
      "                                                                                \u001b[A\n",
      "\n",
      "                                                                                \u001b[A\u001b[A\n",
      "\n",
      "\n",
      "                                                                                \u001b[A\u001b[A\u001b[A\n",
      "Preparing transaction: done\n",
      "Verifying transaction: done\n",
      "Executing transaction: done\n"
     ]
    }
   ],
   "source": [
    "!conda install xgboost -y"
   ]
  },
  {
   "cell_type": "code",
   "execution_count": 114,
   "id": "0a5c1f5b-ed14-4800-a790-8ff28433f107",
   "metadata": {},
   "outputs": [],
   "source": [
    "from xgboost import XGBClassifier"
   ]
  },
  {
   "cell_type": "code",
   "execution_count": 115,
   "id": "4ac46db5-6a8e-4efe-b1e1-1e8f84fb71e1",
   "metadata": {},
   "outputs": [
    {
     "data": {
      "text/plain": [
       "'/home/bteam/anaconda3/envs/bteam/bin/python'"
      ]
     },
     "execution_count": 115,
     "metadata": {},
     "output_type": "execute_result"
    }
   ],
   "source": [
    "import sys\n",
    "sys.executable"
   ]
  },
  {
   "cell_type": "code",
   "execution_count": null,
   "id": "45617210-9a3e-4ab1-ac63-656615699884",
   "metadata": {},
   "outputs": [],
   "source": []
  },
  {
   "cell_type": "code",
   "execution_count": 118,
   "id": "95f4e824-f028-4701-a691-2aec86250114",
   "metadata": {},
   "outputs": [
    {
     "name": "stderr",
     "output_type": "stream",
     "text": [
      "2023-05-17 12:41:57.805498: I tensorflow/tsl/cuda/cudart_stub.cc:28] Could not find cuda drivers on your machine, GPU will not be used.\n",
      "2023-05-17 12:41:58.055108: I tensorflow/tsl/cuda/cudart_stub.cc:28] Could not find cuda drivers on your machine, GPU will not be used.\n",
      "2023-05-17 12:41:58.056993: I tensorflow/core/platform/cpu_feature_guard.cc:182] This TensorFlow binary is optimized to use available CPU instructions in performance-critical operations.\n",
      "To enable the following instructions: AVX2, in other operations, rebuild TensorFlow with the appropriate compiler flags.\n",
      "2023-05-17 12:41:59.240279: W tensorflow/compiler/tf2tensorrt/utils/py_utils.cc:38] TF-TRT Warning: Could not find TensorRT\n"
     ]
    }
   ],
   "source": [
    "import numpy as np\n",
    "import tensorflow as tf"
   ]
  },
  {
   "cell_type": "code",
   "execution_count": 127,
   "id": "b667dd44-d2be-41af-9688-b213c90f9cca",
   "metadata": {},
   "outputs": [
    {
     "data": {
      "text/plain": [
       "'2.12.0'"
      ]
     },
     "execution_count": 127,
     "metadata": {},
     "output_type": "execute_result"
    }
   ],
   "source": [
    "np.__version__\n",
    "tf.__version__\n",
    "## __version__은 해당 라이브러리 버젼 보는 법"
   ]
  },
  {
   "cell_type": "code",
   "execution_count": null,
   "id": "322ea707-2bb7-4baf-804c-c53f9213817c",
   "metadata": {},
   "outputs": [],
   "source": []
  },
  {
   "cell_type": "code",
   "execution_count": 128,
   "id": "8d66e100-0917-47fa-97b6-33ada956f2f4",
   "metadata": {},
   "outputs": [],
   "source": [
    "## id는 주소값을 보여주는 예약어"
   ]
  },
  {
   "cell_type": "code",
   "execution_count": 129,
   "id": "2c88d596-6c8d-4c79-82ed-8a44a6e827eb",
   "metadata": {},
   "outputs": [],
   "source": [
    "a = 1,2,3\n",
    "b = a"
   ]
  },
  {
   "cell_type": "code",
   "execution_count": 130,
   "id": "2b6c08df-3087-4f60-b79f-78e085471d3c",
   "metadata": {},
   "outputs": [
    {
     "data": {
      "text/plain": [
       "140125267494784"
      ]
     },
     "execution_count": 130,
     "metadata": {},
     "output_type": "execute_result"
    }
   ],
   "source": [
    "id(a)"
   ]
  },
  {
   "cell_type": "code",
   "execution_count": 126,
   "id": "9669f5ea-bafa-41c1-b516-794fe1a10257",
   "metadata": {},
   "outputs": [
    {
     "data": {
      "text/plain": [
       "140126394444416"
      ]
     },
     "execution_count": 126,
     "metadata": {},
     "output_type": "execute_result"
    }
   ],
   "source": [
    "id(b)"
   ]
  },
  {
   "cell_type": "code",
   "execution_count": null,
   "id": "c2dea01d-02bc-48a8-b2d8-1493d9d44464",
   "metadata": {},
   "outputs": [],
   "source": []
  }
 ],
 "metadata": {
  "kernelspec": {
   "display_name": "bteam",
   "language": "python",
   "name": "bteam"
  },
  "language_info": {
   "codemirror_mode": {
    "name": "ipython",
    "version": 3
   },
   "file_extension": ".py",
   "mimetype": "text/x-python",
   "name": "python",
   "nbconvert_exporter": "python",
   "pygments_lexer": "ipython3",
   "version": "3.9.16"
  }
 },
 "nbformat": 4,
 "nbformat_minor": 5
}
