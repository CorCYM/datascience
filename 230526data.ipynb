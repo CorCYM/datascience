{
 "cells": [
  {
   "cell_type": "code",
   "execution_count": 14,
   "id": "6f3ffcc8-4164-40f8-afef-6595ff623e64",
   "metadata": {},
   "outputs": [],
   "source": [
    "import numpy as np\n",
    "from itertools import product"
   ]
  },
  {
   "cell_type": "code",
   "execution_count": 15,
   "id": "ca89ab11-8ba3-42d8-860a-e3d15fc4db4b",
   "metadata": {},
   "outputs": [],
   "source": [
    "data = [[0,1]]\n",
    "X = np.array([[i,j] for i,j in product(*data, repeat=2)])"
   ]
  },
  {
   "cell_type": "code",
   "execution_count": 16,
   "id": "c87e3932-867f-4e04-8e66-433a761771c6",
   "metadata": {},
   "outputs": [],
   "source": [
    "y_xor = [[0],[1],[1],[0]]"
   ]
  },
  {
   "cell_type": "code",
   "execution_count": 17,
   "id": "2b7f1fad-4067-49ba-8455-24968162366c",
   "metadata": {},
   "outputs": [],
   "source": [
    "def sigmoid(x):\n",
    "    return 1/(np.exp(-x)+1)"
   ]
  },
  {
   "cell_type": "code",
   "execution_count": null,
   "id": "cb7b8ed4-0e44-4ec0-b4ae-4d0e2ace7ea3",
   "metadata": {},
   "outputs": [],
   "source": [
    "class Net:\n",
    "    def __init__(self, x, y):\n",
    "        self.x = np.array(x)\n",
    "        self.y = np.array(y)\n",
    "        self.layer = []\n",
    "        \n",
    "    def add(self, W, activation):\n",
    "        self.activation = activation\n",
    "        \n",
    "        if len(self.layers) == 0:\n",
    "            row = self.x.shape[1]\n",
    "            col = shape\n",
    "            W = np.random.randn(row, col)\n",
    "            b = np.array([0]*shape)\n",
    "            self.layers.append((W,b, self.activation))\n",
    "        else:\n",
    "            row = self.layers[-1][0].shape[1]\n",
    "            column = shape\n",
    "            W = np.random.randn(row, col)\n",
    "            b= np.array([0]*shape)\n",
    "            self.layers.append([W,b, self.activation])\n",
    "        result = ''\n",
    "        for idx, layer in enumerate(self.layers):\n",
    "            result += str(idx+1)+ \"번째 layer===\" + str(i[0].shape) + '\\n'\n",
    "        self.build()\n",
    "        return print(result)\n",
    "    \n",
    "            \n",
    "    def build(self):\n",
    "        self.W = {}\n",
    "        for idx, layer in enumerate(self.layers):\n",
    "            self.W['layer' + str(idx+1)] = {}\n",
    "            self.W['layer' + str(idx+1)]['W'] = layer[0]\n",
    "            self.W['layer' + str(idx+1)]['b'] = layer[1]\n",
    "            self.W['layer' + str(idx+1)]['activation'] = layer[2]      \n",
    "        return self.W\n",
    "            \n",
    "        # self.W1 = np.random.randn(self.x.shape[1], self.w1.shape)\n",
    "        # self.W2 = np.random.randn(self.W1.shape[1], self.y.shape[1])\n",
    "        # self.b1 = np.array([0] * self.w1_shape).astype('float64')\n",
    "        # self.b2 = np.array([0] * self.w2_shape).astype('float64')\n",
    "    \n",
    "     def predict(self, x=None):\n",
    "        if x is None:\n",
    "            self.pred = self.x.copy()\n",
    "            for value in self.W.values():\n",
    "                w, b, activation = value['W'], value['b'], value['activation']\n",
    "                self.pred = np.dot(self.pred, w) + b\n",
    "                self.pred = Activation(activation)(self.pred)\n",
    "            \n",
    "        else:\n",
    "            self.pred = self.x.copy()\n",
    "            for value in self.W.values():\n",
    "                w, b, activation = value['W'], value['b'], value['activation']\n",
    "                self.pred = np.dot(self.pred, w) + b\n",
    "                self.pred = Activation(activation)(self.pred)\n",
    "                \n",
    "        return self.pred\n",
    "    "
   ]
  },
  {
   "cell_type": "code",
   "execution_count": 77,
   "id": "a160ca36-a371-4084-9a43-49a51760bacc",
   "metadata": {},
   "outputs": [],
   "source": [
    "class Net:\n",
    "    def __init__(self,x,y):\n",
    "        self.x = np.array(x)\n",
    "        self.y = np.array(y)\n",
    "        self.layers = []\n",
    "    \n",
    "    def add(self,shape,activation):\n",
    "        self.activation = activation\n",
    "        if len(self.layers) == 0:\n",
    "            row = self.x.shape[1]\n",
    "            col = shape \n",
    "            W = np.random.randn(row,col)\n",
    "            b = np.array([0]*shape)\n",
    "            self.layers.append((W,b,self.activation))\n",
    "        else:\n",
    "            row = self.layers[-1][0].shape[1]\n",
    "            col = shape\n",
    "            W = np.random.randn(row,col)\n",
    "            b = np.array([0]*shape)\n",
    "            self.layers.append([W,b,self.activation])\n",
    "        result = ''\n",
    "        for idx,layer in enumerate(self.layers):\n",
    "            result +=  str(idx+1)+\"번째 layer===> \"+str(layer[0].shape)+'\\n'\n",
    "        self._build()\n",
    "        return print(result)\n",
    "    \n",
    "    \n",
    "    def _build(self):\n",
    "        self.W = {}\n",
    "        for idx, layer in enumerate(self.layers):\n",
    "            self.W['layer'+str(idx+1)] = {}\n",
    "            self.W['layer'+str(idx+1)]['W'] = layer[0]\n",
    "            self.W['layer'+str(idx+1)]['b'] = layer[1]\n",
    "            self.W['layer'+str(idx+1)]['activation'] = layer[2]\n",
    "        return self.W\n",
    "        \n",
    "    \n",
    "        \n",
    "    def predict(self,x=None):\n",
    "        if x is None:\n",
    "            self.pred = self.x.copy()\n",
    "            for value in self.W.values():\n",
    "                w, b, activation = value['W'], value['b'], value['activation']\n",
    "                self.pred = np.dot(self.pred,w) + b\n",
    "                self.pred = Activation(activation)(self.pred)\n",
    "            \n",
    "        else:\n",
    "            self.pred = self.x.copy()\n",
    "            for value in self.W.values():\n",
    "                w, b, activation = value['W'], value['b'], value['activation']\n",
    "                self.pred = np.dot(self.pred,w) + b\n",
    "                self.pred = Activation(activation)(self.pred)\n",
    "            \n",
    "        return self.pred\n",
    "    \n",
    "    def compile(self,loss):\n",
    "        if loss == 'binary_crossentropy':\n",
    "            self.loss_func = binary_crossentropy\n",
    "        elif loss == 'categorical_crossentropy':\n",
    "            self.loss_func = categorical_crossentropy\n",
    "        elif loss == 'mse':\n",
    "            self.loss_func = mse\n",
    "        else:\n",
    "            print('Loss Function Not exist!!')\n",
    "    \n",
    "    def loss(self):\n",
    "        y_hat = self.predict()\n",
    "        self.loss_ = self.loss_func(y_hat,self.y)\n",
    "        return self.loss_\n",
    "    \n",
    "    def grad(self):\n",
    "        h = 1e-4\n",
    "        self.grad_W1 = np.zeros_like(self.W1)\n",
    "        self.grad_W2 = np.zeros_like(self.W2)\n",
    "        rows = range(self.W1.shape[0])\n",
    "        cols = range(self.W1.shape[1])\n",
    "        for row in rows:\n",
    "            for col in cols:\n",
    "                tmp = self.W1[row,col] ## 1편미분시 나머지 값을 미분하기 위해 현재값을 저장 \n",
    "                fx = self.loss()\n",
    "                self.W1[row,col] += h\n",
    "                fxh = self.loss()\n",
    "                dW = (fxh - fx)/h\n",
    "                self.grad_W1[row,col] = dW\n",
    "                self.W1[row,col] = tmp ## 1번의 값으로 대체\n",
    "        self.grad_b1 = np.zeros_like(self.b1)\n",
    "        for i in range(self.b1.size):\n",
    "            tmp = self.b1[i]\n",
    "            fx = self.loss()\n",
    "            self.b1[i] += h\n",
    "            fxh = self.loss()\n",
    "            db = (fxh - fx)/h\n",
    "            self.grad_b1[i] = db\n",
    "            self.b1[i] = tmp\n",
    "\n",
    "        rows = range(self.W2.shape[0])\n",
    "        cols = range(self.W2.shape[1])\n",
    "        \n",
    "        for row in rows:\n",
    "            for col in cols:\n",
    "                tmp = self.W2[row,col] ## 1편미분시 나머지 값을 미분하기 위해 현재값을 저장 \n",
    "                fx = self.loss()\n",
    "                self.W2[row,col] += h\n",
    "                fxh = self.loss()\n",
    "                dW = (fxh - fx)/h\n",
    "                self.grad_W2[row,col] = dW\n",
    "                self.W2[row,col] = tmp ## 1번의 값으로 대체\n",
    "        self.grad_b2 = np.zeros_like(self.b2)\n",
    "        for i in range(self.b2.size):\n",
    "            tmp = self.b2[i]\n",
    "            fx = self.loss()\n",
    "            self.b2[i] += h\n",
    "            fxh = self.loss()\n",
    "            db = (fxh - fx)/h\n",
    "            self.grad_b2[i] = db\n",
    "            self.b2[i] = tmp\n",
    "\n",
    "        return self.grad_W1, self.grad_b1, self.grad_W2, self.grad_b2\n",
    "        \n",
    "    def gradient_descent(self,epochs,learning_rate):\n",
    "        for _ in range(epochs):\n",
    "            self.W1 -= learning_rate*self.grad()[0]\n",
    "            self.b1 -= learning_rate*self.grad()[1][0]\n",
    "            self.W2 -= learning_rate*self.grad()[2]\n",
    "            self.b2 -= learning_rate*self.grad()[3][0]"
   ]
  },
  {
   "cell_type": "code",
   "execution_count": 177,
   "id": "b218629c-45bb-4616-be24-39e26c167307",
   "metadata": {},
   "outputs": [
    {
     "data": {
      "text/plain": [
       "[<matplotlib.lines.Line2D at 0x7fbd7fb3ea30>]"
      ]
     },
     "execution_count": 177,
     "metadata": {},
     "output_type": "execute_result"
    },
    {
     "data": {
      "image/png": "[encoded data removed]",
      "text/plain": [
       "<Figure size 640x480 with 1 Axes>"
      ]
     },
     "metadata": {},
     "output_type": "display_data"
    }
   ],
   "source": [
    "def leakyrelu(x, leaky=0.2):\n",
    "    return np.where(x >0, x, leaky*x)\n",
    "x = np.linspace(-5,3,40)\n",
    "plt.plot(x,leakyrelu(x))"
   ]
  },
  {
   "cell_type": "code",
   "execution_count": 176,
   "id": "4a10cc98-5552-4090-9982-11bd5f382581",
   "metadata": {},
   "outputs": [
    {
     "data": {
      "text/plain": [
       "[<matplotlib.lines.Line2D at 0x7fbd7ff9d940>]"
      ]
     },
     "execution_count": 176,
     "metadata": {},
     "output_type": "execute_result"
    },
    {
     "data": {
      "image/png": "[encoded data removed]",
      "text/plain": [
       "<Figure size 640x480 with 1 Axes>"
      ]
     },
     "metadata": {},
     "output_type": "display_data"
    }
   ],
   "source": [
    "def relu(x):\n",
    "    return np.where(x > 0, x, 0)\n",
    "x = np.linspace(-5,3,40)\n",
    "plt.plot(x, relu(x))"
   ]
  },
  {
   "cell_type": "code",
   "execution_count": 183,
   "id": "68867d74-b317-42c4-8384-ca35189b145d",
   "metadata": {},
   "outputs": [
    {
     "data": {
      "text/plain": [
       "[<matplotlib.lines.Line2D at 0x7fbd7fa7b9a0>]"
      ]
     },
     "execution_count": 183,
     "metadata": {},
     "output_type": "execute_result"
    },
    {
     "data": {
      "image/png": "[encoded data removed]",
      "text/plain": [
       "<Figure size 640x480 with 1 Axes>"
      ]
     },
     "metadata": {},
     "output_type": "display_data"
    }
   ],
   "source": [
    "def tanh(x):\n",
    "    return ((np.exp(x) - np.exp(-x)) / (np.exp(x)+np.exp(-x)))\n",
    "x = np.linspace(-5,3,40)\n",
    "plt.plot(x, tanh(x))"
   ]
  },
  {
   "cell_type": "code",
   "execution_count": 182,
   "id": "41a771af-6d07-43e0-ab0f-ddeb6ae846e0",
   "metadata": {},
   "outputs": [],
   "source": [
    "def step(x):\n",
    "    return np.where(x > 0, 1, 0)\n",
    "\n",
    "def linear(x):\n",
    "    return x\n",
    "\n",
    "def sigmoid(x):\n",
    "    return 1/(1+np.exp(-x))\n",
    "\n",
    "def softmax(x):\n",
    "    return np.exp(x)/np.sum(np.exp(x))\n",
    "\n",
    "def relu(x):\n",
    "    return np.where(x > 0, x, 0)\n",
    "    \n",
    "def leakyrelu(x):\n",
    "    return np.where(x >0, x, leaky*x)\n",
    "\n",
    "def tanh(x):\n",
    "    return ((np.exp(x) - np.exp(-x)) / (np.exp(x)+np.exp(-x)))\n",
    "\n",
    "def mse(y_pred, y):\n",
    "    return np.mean(np.square(y_pred-y))\n",
    "\n",
    "def binary_crossentropy(y_pred, y):\n",
    "    return np.mean(y*np.log(y_pred)+ (1-y*np.log(1-y_hat)))\n",
    "\n",
    "def categoriacal_crossentropy(y_pred, y):\n",
    "     return np.mean(y*np.log(y_pred))\n",
    "\n",
    "class Activation:\n",
    "    def __init__(self,method):\n",
    "        self.method = method\n",
    "    def __call__(self,x):\n",
    "        if self.method == 'step':\n",
    "            result = step(x)\n",
    "        elif self.method == 'sigmoid':\n",
    "            result = sigmoid(x)\n",
    "        elif self.method == 'linear':\n",
    "            result = linear(x)\n",
    "        elif self.method == 'softmax':\n",
    "            result = softmax(x) \n",
    "            \n",
    "        return result"
   ]
  },
  {
   "cell_type": "code",
   "execution_count": 184,
   "id": "5c346662-4321-4e9f-b10e-3a690d34ab9f",
   "metadata": {},
   "outputs": [],
   "source": [
    "class Net:\n",
    "    def __init__(self,x,y):\n",
    "        self.x = np.array(x)\n",
    "        self.y = np.array(y)\n",
    "        self.layers = []\n",
    "        self.count = 0\n",
    "    \n",
    "    def add(self,shape,activation):\n",
    "        self.activation = activation\n",
    "        if len(self.layers) == 0:\n",
    "            row = self.x.shape[1]\n",
    "            col = shape \n",
    "            W = np.random.randn(row,col)\n",
    "            b = np.array([0]*shape)\n",
    "            self.layers.append((W,b,self.activation))\n",
    "        else:\n",
    "            row = self.layers[-1][0].shape[1]\n",
    "            col = shape\n",
    "            W = np.random.randn(row,col)\n",
    "            b = np.array([0]*shape)\n",
    "            self.layers.append([W,b,self.activation])\n",
    "        result = ''\n",
    "        for idx,layer in enumerate(self.layers):\n",
    "            result +=  str(idx+1)+\"번째 layer===> \"+str(layer[0].shape)+'\\n'\n",
    "        self._build()\n",
    "        return print(result)\n",
    "    \n",
    "    \n",
    "    def _build(self):\n",
    "        self.W = {}\n",
    "        for idx, layer in enumerate(self.layers):\n",
    "            self.W['layer'+str(idx+1)] = {}\n",
    "            self.W['layer'+str(idx+1)]['W'] = layer[0]\n",
    "            self.W['layer'+str(idx+1)]['b'] = layer[1]\n",
    "            self.W['layer'+str(idx+1)]['activation'] = layer[2]\n",
    "        return self.W\n",
    "        \n",
    "        \n",
    "    def predict(self,x=None):\n",
    "        if x is None:\n",
    "            self.pred = self.x.copy()\n",
    "            for value in self.W.values():\n",
    "                w, b, activation = value['W'], value['b'], value['activation']\n",
    "                self.pred = np.dot(self.pred,w) + b\n",
    "                self.pred = Activation(activation)(self.pred)\n",
    "                self.count += 1\n",
    "                print(f'========>{self.count}')\n",
    "            \n",
    "        else:\n",
    "            self.pred = x.copy()\n",
    "            for value in self.W.values():\n",
    "                w, b, activation = value['W'], value['b'], value['activation']\n",
    "                self.pred = np.dot(self.pred,w) + b\n",
    "                self.pred = Activation(activation)(self.pred)\n",
    "                self.pred = np.argmax(self.pred)\n",
    "            \n",
    "        return self.pred\n",
    "    \n",
    "    def compile(self, loss):\n",
    "        if loss == 'bianry_crossentropy':\n",
    "            self.loss_func = binary_crossentropy\n",
    "        elif loss == 'categorical_crossentropy':\n",
    "            self.loss_func = categorical_crossentropy\n",
    "        elif loss == 'mse':\n",
    "            self.loss_func = mse\n",
    "        else:\n",
    "            print('Loss Function Not exist!!')\n",
    "            \n",
    "    \n",
    "    def loss(self):\n",
    "        y_hat = self.predict()\n",
    "        self.loss_ = self.loss_func(y_hat, self.y)\n",
    "        return self.loss_\n",
    "    \n",
    "    def grad(self, key):\n",
    "        h = 1e-4\n",
    "        W = self.W.get(key)['W']\n",
    "        b = self.W.get(key)['b']\n",
    "        self.grad_W = np.zeros_like(W)\n",
    "        \n",
    "        rows = range(W.shape[0])\n",
    "        cols = range(W.shape[1])\n",
    "        for row in rows:\n",
    "            for col in cols:\n",
    "                tmp = W[row,col] ## 1편미분시 나머지 값을 미분하기 위해 현재값을 저장 \n",
    "                fx = self.loss()\n",
    "                W[row,col] += h\n",
    "                fxh = self.loss()\n",
    "                dW = (fxh - fx)/h\n",
    "                self.grad_W[row,col] = dW\n",
    "                W[row,col] = tmp ## 1번의 값으로 대체\n",
    "        self.grad_b = np.zeros_like(b)\n",
    "        for i in range(b.size):\n",
    "            tmp = b[i]\n",
    "            fx = self.loss()\n",
    "            self.b[i] += h\n",
    "            fxh = self.loss()\n",
    "            db = (fxh - fx)/h\n",
    "            self.grad_b1[i] = db\n",
    "            self.b1[i] = tmp\n",
    "\n",
    "        return self.grad_W, self.grad_b\n",
    "        \n",
    "    def fit(self,epochs,learning_rate):\n",
    "        for _ in range(epochs):\n",
    "            for key in self.W.keys():\n",
    "                self.W.get(key)['W'] -= learning_rate*self.grad(key)[0]\n",
    "                self.W.get(key)['b'] -= learning_rate*self.grad(key)[1]\n",
    "                "
   ]
  },
  {
   "cell_type": "code",
   "execution_count": 166,
   "id": "746bdb48-f12d-4204-9334-9b1d6ba33206",
   "metadata": {},
   "outputs": [],
   "source": [
    "net = Net(np.random.randn(100,4),np.random.randn(100,3))"
   ]
  },
  {
   "cell_type": "code",
   "execution_count": 167,
   "id": "dcfe046c-54cf-4e12-855c-911d907af857",
   "metadata": {},
   "outputs": [],
   "source": [
    "(X_train, y_train), (X_test, y_test) = mnist.load_data()"
   ]
  },
  {
   "cell_type": "code",
   "execution_count": 168,
   "id": "dcdd7b87-e448-4526-a12c-493b13b743b6",
   "metadata": {},
   "outputs": [],
   "source": [
    "X_train = X_train.reshape(-1,28*28)\n",
    "X_test = X_test.reshape(-1,28*28)\n",
    "y_train = to_categorical(y_train)\n",
    "y_test =  to_categorical(y_test)"
   ]
  },
  {
   "cell_type": "code",
   "execution_count": 169,
   "id": "feb2302f-490c-484b-a7c5-85a03aa72802",
   "metadata": {},
   "outputs": [
    {
     "name": "stdout",
     "output_type": "stream",
     "text": [
      "Epoch 1/10\n",
      "469/469 [==============================] - 2s 4ms/step - loss: 0.4882 - accuracy: 0.8764 - val_loss: 0.2545 - val_accuracy: 0.9253\n",
      "Epoch 2/10\n",
      "469/469 [==============================] - 2s 4ms/step - loss: 0.2321 - accuracy: 0.9304 - val_loss: 0.2096 - val_accuracy: 0.9349\n",
      "Epoch 3/10\n",
      "469/469 [==============================] - 2s 4ms/step - loss: 0.1919 - accuracy: 0.9415 - val_loss: 0.1768 - val_accuracy: 0.9446\n",
      "Epoch 4/10\n",
      "469/469 [==============================] - 2s 4ms/step - loss: 0.1696 - accuracy: 0.9481 - val_loss: 0.1748 - val_accuracy: 0.9476\n",
      "Epoch 5/10\n",
      "469/469 [==============================] - 2s 4ms/step - loss: 0.1523 - accuracy: 0.9531 - val_loss: 0.1541 - val_accuracy: 0.9522\n",
      "Epoch 6/10\n",
      "469/469 [==============================] - 2s 4ms/step - loss: 0.1410 - accuracy: 0.9563 - val_loss: 0.1495 - val_accuracy: 0.9525\n",
      "Epoch 7/10\n",
      "469/469 [==============================] - 2s 4ms/step - loss: 0.1351 - accuracy: 0.9584 - val_loss: 0.1368 - val_accuracy: 0.9583\n",
      "Epoch 8/10\n",
      "469/469 [==============================] - 2s 4ms/step - loss: 0.1293 - accuracy: 0.9602 - val_loss: 0.1370 - val_accuracy: 0.9586\n",
      "Epoch 9/10\n",
      "469/469 [==============================] - 2s 4ms/step - loss: 0.1212 - accuracy: 0.9622 - val_loss: 0.1200 - val_accuracy: 0.9639\n",
      "Epoch 10/10\n",
      "469/469 [==============================] - 2s 4ms/step - loss: 0.1185 - accuracy: 0.9640 - val_loss: 0.1273 - val_accuracy: 0.9614\n"
     ]
    },
    {
     "data": {
      "text/plain": [
       "<keras.callbacks.History at 0x7fbd9d142040>"
      ]
     },
     "execution_count": 169,
     "metadata": {},
     "output_type": "execute_result"
    }
   ],
   "source": [
    "first_model = Sequential(\n",
    "    [\n",
    "        Dense(256, activation='sigmoid', input_shape=(28*28,)),\n",
    "        Dense(128, activation='sigmoid'),\n",
    "        Dense(10, activation='softmax')\n",
    "    ]\n",
    "\n",
    ")\n",
    "first_model.compile(optimizer='rmsprop', loss='categorical_crossentropy', metrics=['accuracy'])\n",
    "first_model.fit(X_train,\n",
    "               y_train,\n",
    "               epochs=10,\n",
    "               batch_size=128,\n",
    "               validation_data=(X_test, y_test))"
   ]
  },
  {
   "cell_type": "code",
   "execution_count": 170,
   "id": "1ce7612f-42ae-47ad-9cc8-c08e74e00f02",
   "metadata": {
    "collapsed": true,
    "jupyter": {
     "outputs_hidden": true
    },
    "tags": []
   },
   "outputs": [
    {
     "data": {
      "text/plain": [
       "array([ 9.12340451e-03, -1.41300615e-02, -1.72378216e-02, -1.84027646e-02,\n",
       "       -3.88384052e-03, -2.73091141e-02, -2.24349238e-02, -1.41009418e-02,\n",
       "       -6.83018053e-03, -3.74194817e-03, -9.28897597e-03,  1.47049334e-02,\n",
       "       -2.28349902e-02,  2.48174593e-02, -1.83565763e-03, -1.34286666e-02,\n",
       "       -4.15668124e-03,  2.45908299e-03, -1.75354991e-03, -8.99070967e-03,\n",
       "       -1.66233140e-03,  9.92176309e-03,  1.65104624e-02,  1.27265044e-02,\n",
       "        9.91195091e-04, -6.86083222e-03, -1.14962738e-02,  5.37875853e-03,\n",
       "       -1.17157474e-02,  9.91290621e-03, -3.25602083e-03,  2.50765635e-03,\n",
       "        1.02373408e-02,  2.76294607e-03,  6.12024358e-03, -1.93806645e-02,\n",
       "       -1.29460264e-02, -1.12596946e-02, -3.15124821e-03,  3.30809830e-03,\n",
       "       -5.65548893e-03,  2.14103833e-02,  2.05399003e-02, -3.67495120e-02,\n",
       "        4.98404261e-03, -2.47223559e-03,  1.17936051e-02,  2.04522023e-03,\n",
       "        1.93861797e-02,  2.93390080e-03, -1.50051462e-02, -7.31374463e-03,\n",
       "        1.91130843e-02,  1.82619020e-02, -3.89997475e-02,  6.22393098e-04,\n",
       "        9.30038746e-03,  2.08983125e-04,  1.24897202e-02,  6.03218051e-03,\n",
       "       -1.49723748e-03,  1.00435792e-02,  7.07373489e-03,  2.97474992e-02,\n",
       "        7.68506946e-03, -6.96909754e-03,  9.98847000e-03,  2.06949143e-03,\n",
       "        2.10866854e-02,  6.01438247e-03,  1.67357661e-02, -2.59009209e-02,\n",
       "       -1.91622903e-03, -2.24458948e-02,  3.45480302e-03,  1.06892157e-02,\n",
       "       -9.48460959e-03,  2.84544914e-03,  3.27940062e-02, -4.93514678e-03,\n",
       "       -2.91082077e-03, -1.77440327e-02,  2.16573272e-02, -2.30934247e-02,\n",
       "       -1.51771205e-02,  2.90276203e-03,  3.17770317e-02,  5.57881733e-03,\n",
       "       -1.26002580e-02,  1.07815247e-02,  6.73328061e-04, -6.70621125e-03,\n",
       "        5.91323990e-03, -1.37861995e-02, -6.66030124e-03,  2.31334958e-02,\n",
       "        1.24590169e-03, -1.20373815e-02,  2.45328750e-02, -2.86346045e-03,\n",
       "        2.38120626e-03, -3.25762816e-02, -3.67684551e-02,  2.08051526e-03,\n",
       "        2.30887905e-02, -1.11999847e-02,  8.51518591e-04,  3.67673230e-03,\n",
       "        6.71142334e-05,  1.51758024e-03, -1.15039106e-02,  1.23995692e-02,\n",
       "        1.72930788e-02, -8.50024226e-04,  1.15954848e-02,  4.13381867e-03,\n",
       "        3.30141722e-03, -1.53070800e-02,  2.10954715e-02, -7.62733258e-03,\n",
       "        2.00007949e-02,  2.37228107e-02,  4.13654633e-02, -1.32281519e-02,\n",
       "       -1.70715656e-02,  2.90211337e-03, -2.68297028e-02,  2.58099753e-02,\n",
       "       -2.70889215e-02,  2.12852228e-02,  2.33876500e-02,  1.37064187e-02,\n",
       "       -9.01495980e-04, -1.49951959e-02,  1.02002909e-02, -3.29863504e-02,\n",
       "       -8.44445731e-03, -3.22601274e-02, -1.69448601e-03, -1.98521707e-02,\n",
       "        4.21216618e-03,  1.23210717e-03,  8.23401380e-03, -2.31163409e-02,\n",
       "        1.70770157e-02, -4.25636349e-03,  8.22169799e-03,  5.93780400e-03,\n",
       "       -8.27159267e-04, -3.93908378e-03, -1.70343481e-02, -1.88957658e-02,\n",
       "        7.69237813e-04, -1.01702735e-02, -1.34761829e-03,  1.44266207e-02,\n",
       "       -9.51926410e-03, -9.92569234e-03, -6.52716914e-03,  1.62391029e-02,\n",
       "       -1.14866951e-02, -6.44439086e-03,  1.54710538e-03,  1.01247318e-02,\n",
       "       -1.89617816e-02, -3.59351933e-02, -1.21832136e-02, -2.14289054e-02,\n",
       "        2.05294136e-02,  1.17238204e-03, -3.82956746e-03,  8.18133634e-03,\n",
       "       -1.05525302e-02, -1.14778988e-02, -4.40032333e-02, -2.53652576e-02,\n",
       "        1.27135161e-02,  1.62122473e-02,  1.18518649e-02,  3.40351136e-03,\n",
       "        5.66202365e-02, -1.35111082e-02, -9.83993243e-03, -5.80605492e-03,\n",
       "       -3.63467098e-03, -3.55865086e-05,  9.96247400e-03, -1.20561419e-03,\n",
       "       -2.25463174e-02,  3.18100909e-03, -9.09345038e-03,  1.25841144e-02,\n",
       "        9.08396486e-03, -1.34527544e-03, -5.26962504e-02,  2.06222273e-02,\n",
       "       -3.58235464e-02,  1.71415247e-02, -8.97918455e-03, -1.08000282e-02,\n",
       "        6.43026200e-04,  5.75014111e-03, -1.53159210e-02,  1.09586734e-02,\n",
       "        4.41757496e-03,  7.16324570e-03, -2.36700778e-03,  8.51189904e-03,\n",
       "        6.09230809e-03, -1.69863589e-02,  1.50594823e-02,  1.95113420e-02,\n",
       "        1.25086829e-02,  1.19364066e-02, -1.68814510e-02, -2.48290831e-03,\n",
       "       -5.95918996e-03,  2.38795038e-02,  1.74290617e-03,  3.14400508e-03,\n",
       "        2.74416729e-04, -3.12187499e-03,  1.05614709e-02,  1.71524025e-02,\n",
       "       -9.47888847e-03, -1.58362519e-02,  2.42797136e-02, -6.22522179e-03,\n",
       "        1.15064508e-03,  8.76571238e-03, -1.88328363e-02,  7.20331864e-03,\n",
       "        1.53101981e-02,  7.89812114e-03, -2.61159260e-02, -3.96095170e-03,\n",
       "       -1.15759447e-02, -4.18227864e-03, -1.98638788e-03,  1.89041381e-03,\n",
       "        3.06101087e-02,  2.91800243e-03,  1.06332162e-02, -3.35011922e-04,\n",
       "       -2.05801725e-02, -2.81913783e-02,  6.81972271e-03, -9.95473750e-03,\n",
       "        2.85558272e-02,  1.68911293e-02,  3.45274020e-06, -2.55066939e-02,\n",
       "       -2.24285480e-02, -2.96117291e-02, -1.36172194e-02, -1.25061208e-03],\n",
       "      dtype=float32)"
      ]
     },
     "execution_count": 170,
     "metadata": {},
     "output_type": "execute_result"
    }
   ],
   "source": [
    "first_model.layers[0].get_weights()[0]\n",
    "first_model.layers[0].get_weights()[1]"
   ]
  },
  {
   "cell_type": "code",
   "execution_count": 171,
   "id": "512453f5-4f8f-4163-b9fc-ea88a49c9adb",
   "metadata": {},
   "outputs": [],
   "source": [
    "model = Net(X_train, y_train)"
   ]
  },
  {
   "cell_type": "code",
   "execution_count": 172,
   "id": "9b8cdca2-be98-4528-aedc-b7d51b093f74",
   "metadata": {},
   "outputs": [
    {
     "name": "stdout",
     "output_type": "stream",
     "text": [
      "1번째 layer===> (784, 256)\n",
      "\n",
      "1번째 layer===> (784, 256)\n",
      "2번째 layer===> (256, 128)\n",
      "\n",
      "1번째 layer===> (784, 256)\n",
      "2번째 layer===> (256, 128)\n",
      "3번째 layer===> (128, 10)\n",
      "\n"
     ]
    }
   ],
   "source": [
    "model.add(256, 'sigmoid')\n",
    "model.add(128, 'sigmoid')\n",
    "model.add(10, 'sigmoid')"
   ]
  },
  {
   "cell_type": "code",
   "execution_count": 173,
   "id": "47c4a304-edbd-4621-bf6a-f13433c8b699",
   "metadata": {},
   "outputs": [],
   "source": [
    "model.W['layer1']['W'] = first_model.layers[0].get_weights()[0]\n",
    "model.W['layer1']['b'] = first_model.layers[0].get_weights()[1]\n",
    "model.W['layer2']['W'] = first_model.layers[1].get_weights()[0]\n",
    "model.W['layer2']['b'] = first_model.layers[1].get_weights()[1]\n",
    "model.W['layer3']['W'] = first_model.layers[2].get_weights()[0]\n",
    "model.W['layer3']['b'] = first_model.layers[2].get_weights()[1]"
   ]
  },
  {
   "cell_type": "code",
   "execution_count": 174,
   "id": "e18a8391-f0a6-4c5e-a422-22088965afd7",
   "metadata": {},
   "outputs": [
    {
     "data": {
      "text/plain": [
       "2"
      ]
     },
     "execution_count": 174,
     "metadata": {},
     "output_type": "execute_result"
    }
   ],
   "source": [
    "model.predict(X_test[0])"
   ]
  },
  {
   "cell_type": "code",
   "execution_count": 175,
   "id": "4b9661b1-cc3f-4b20-a24b-b9b1cefe6439",
   "metadata": {},
   "outputs": [
    {
     "data": {
      "text/plain": [
       "<matplotlib.image.AxesImage at 0x7fbd800e1760>"
      ]
     },
     "execution_count": 175,
     "metadata": {},
     "output_type": "execute_result"
    },
    {
     "data": {
      "image/png": "[encoded data removed]",
      "text/plain": [
       "<Figure size 640x480 with 1 Axes>"
      ]
     },
     "metadata": {},
     "output_type": "display_data"
    }
   ],
   "source": [
    "plt.imshow(X_test[0].reshape(28,28))"
   ]
  },
  {
   "cell_type": "code",
   "execution_count": null,
   "id": "0eeb2530-ce57-40b7-b020-43736c922c60",
   "metadata": {},
   "outputs": [],
   "source": []
  },
  {
   "cell_type": "code",
   "execution_count": null,
   "id": "e12cff13-c087-429b-80b7-46ca007036c2",
   "metadata": {},
   "outputs": [],
   "source": []
  },
  {
   "cell_type": "code",
   "execution_count": 133,
   "id": "f4b87cfa-4749-46a3-a14a-55c20c343036",
   "metadata": {},
   "outputs": [],
   "source": [
    "X_train = X_train.reshape(-1,28*28)\n",
    "y_train = to_categorical(y_train)"
   ]
  },
  {
   "cell_type": "code",
   "execution_count": 134,
   "id": "cddd001f-67ec-44d6-b6e0-2dc3b52a3d55",
   "metadata": {},
   "outputs": [
    {
     "data": {
      "text/plain": [
       "((60000, 784), (60000, 10))"
      ]
     },
     "execution_count": 134,
     "metadata": {},
     "output_type": "execute_result"
    }
   ],
   "source": [
    "## 256, sigmoid, 128, 10, softmax\n",
    "X_train.shape, y_train.shape"
   ]
  },
  {
   "cell_type": "code",
   "execution_count": 135,
   "id": "c4e2489d-e942-466d-a867-5b98c35bc03a",
   "metadata": {},
   "outputs": [],
   "source": [
    "model = Net(X_train, y_train)"
   ]
  },
  {
   "cell_type": "code",
   "execution_count": 136,
   "id": "3675721c-79b2-447f-8f99-e6a205017aeb",
   "metadata": {},
   "outputs": [
    {
     "name": "stdout",
     "output_type": "stream",
     "text": [
      "1번째 layer===> (784, 256)\n",
      "\n",
      "1번째 layer===> (784, 256)\n",
      "2번째 layer===> (256, 128)\n",
      "\n",
      "1번째 layer===> (784, 256)\n",
      "2번째 layer===> (256, 128)\n",
      "3번째 layer===> (128, 10)\n",
      "\n"
     ]
    }
   ],
   "source": [
    "model.add(256, 'sigmoid')\n",
    "model.add(128, 'sigmoid')\n",
    "model.add(10, 'softmax')"
   ]
  },
  {
   "cell_type": "code",
   "execution_count": 137,
   "id": "73dc5f75-0386-424c-8cec-49abde70bda1",
   "metadata": {},
   "outputs": [],
   "source": [
    "net.compile(loss='categorical_crossentropy') "
   ]
  },
  {
   "cell_type": "code",
   "execution_count": 138,
   "id": "643ab5b6-c9dc-4dc9-a215-ab25f940de8d",
   "metadata": {},
   "outputs": [
    {
     "data": {
      "text/plain": [
       "<__main__.Net at 0x7fbd9d328ac0>"
      ]
     },
     "execution_count": 138,
     "metadata": {},
     "output_type": "execute_result"
    }
   ],
   "source": [
    "model"
   ]
  },
  {
   "cell_type": "code",
   "execution_count": 139,
   "id": "0d56d61b-334f-4862-901c-11a19784d9b5",
   "metadata": {},
   "outputs": [],
   "source": [
    "W = model.W.get('layer1')['W']"
   ]
  },
  {
   "cell_type": "code",
   "execution_count": 140,
   "id": "68e09b27-5f4e-4fa9-949f-73e50a4f5b4b",
   "metadata": {},
   "outputs": [
    {
     "ename": "AttributeError",
     "evalue": "'Net' object has no attribute 'count'",
     "output_type": "error",
     "traceback": [
      "\u001b[0;31m---------------------------------------------------------------------------\u001b[0m",
      "\u001b[0;31mAttributeError\u001b[0m                            Traceback (most recent call last)",
      "Cell \u001b[0;32mIn[140], line 1\u001b[0m\n\u001b[0;32m----> 1\u001b[0m \u001b[43mmodel\u001b[49m\u001b[38;5;241;43m.\u001b[39;49m\u001b[43mfit\u001b[49m\u001b[43m(\u001b[49m\u001b[43mepochs\u001b[49m\u001b[38;5;241;43m=\u001b[39;49m\u001b[38;5;241;43m1\u001b[39;49m\u001b[43m,\u001b[49m\u001b[43m \u001b[49m\u001b[43mlearning_rate\u001b[49m\u001b[38;5;241;43m=\u001b[39;49m\u001b[38;5;241;43m1e-3\u001b[39;49m\u001b[43m)\u001b[49m\n",
      "Cell \u001b[0;32mIn[130], line 106\u001b[0m, in \u001b[0;36mNet.fit\u001b[0;34m(self, epochs, learning_rate)\u001b[0m\n\u001b[1;32m    104\u001b[0m \u001b[38;5;28;01mfor\u001b[39;00m _ \u001b[38;5;129;01min\u001b[39;00m \u001b[38;5;28mrange\u001b[39m(epochs):\n\u001b[1;32m    105\u001b[0m     \u001b[38;5;28;01mfor\u001b[39;00m key \u001b[38;5;129;01min\u001b[39;00m \u001b[38;5;28mself\u001b[39m\u001b[38;5;241m.\u001b[39mW\u001b[38;5;241m.\u001b[39mkeys():\n\u001b[0;32m--> 106\u001b[0m         \u001b[38;5;28mself\u001b[39m\u001b[38;5;241m.\u001b[39mW\u001b[38;5;241m.\u001b[39mget(key)[\u001b[38;5;124m'\u001b[39m\u001b[38;5;124mW\u001b[39m\u001b[38;5;124m'\u001b[39m] \u001b[38;5;241m-\u001b[39m\u001b[38;5;241m=\u001b[39m learning_rate\u001b[38;5;241m*\u001b[39m\u001b[38;5;28;43mself\u001b[39;49m\u001b[38;5;241;43m.\u001b[39;49m\u001b[43mgrad\u001b[49m\u001b[43m(\u001b[49m\u001b[43mkey\u001b[49m\u001b[43m)\u001b[49m[\u001b[38;5;241m0\u001b[39m]\n\u001b[1;32m    107\u001b[0m         \u001b[38;5;28mself\u001b[39m\u001b[38;5;241m.\u001b[39mW\u001b[38;5;241m.\u001b[39mget(key)[\u001b[38;5;124m'\u001b[39m\u001b[38;5;124mb\u001b[39m\u001b[38;5;124m'\u001b[39m] \u001b[38;5;241m-\u001b[39m\u001b[38;5;241m=\u001b[39m learning_rate\u001b[38;5;241m*\u001b[39m\u001b[38;5;28mself\u001b[39m\u001b[38;5;241m.\u001b[39mgrad(key)[\u001b[38;5;241m1\u001b[39m]\n",
      "Cell \u001b[0;32mIn[130], line 85\u001b[0m, in \u001b[0;36mNet.grad\u001b[0;34m(self, key)\u001b[0m\n\u001b[1;32m     83\u001b[0m \u001b[38;5;28;01mfor\u001b[39;00m col \u001b[38;5;129;01min\u001b[39;00m cols:\n\u001b[1;32m     84\u001b[0m     tmp \u001b[38;5;241m=\u001b[39m W[row,col] \u001b[38;5;66;03m## 1편미분시 나머지 값을 미분하기 위해 현재값을 저장 \u001b[39;00m\n\u001b[0;32m---> 85\u001b[0m     fx \u001b[38;5;241m=\u001b[39m \u001b[38;5;28;43mself\u001b[39;49m\u001b[38;5;241;43m.\u001b[39;49m\u001b[43mloss\u001b[49m\u001b[43m(\u001b[49m\u001b[43m)\u001b[49m\n\u001b[1;32m     86\u001b[0m     W[row,col] \u001b[38;5;241m+\u001b[39m\u001b[38;5;241m=\u001b[39m h\n\u001b[1;32m     87\u001b[0m     fxh \u001b[38;5;241m=\u001b[39m \u001b[38;5;28mself\u001b[39m\u001b[38;5;241m.\u001b[39mloss()\n",
      "Cell \u001b[0;32mIn[130], line 70\u001b[0m, in \u001b[0;36mNet.loss\u001b[0;34m(self)\u001b[0m\n\u001b[1;32m     69\u001b[0m \u001b[38;5;28;01mdef\u001b[39;00m \u001b[38;5;21mloss\u001b[39m(\u001b[38;5;28mself\u001b[39m):\n\u001b[0;32m---> 70\u001b[0m     y_hat \u001b[38;5;241m=\u001b[39m \u001b[38;5;28;43mself\u001b[39;49m\u001b[38;5;241;43m.\u001b[39;49m\u001b[43mpredict\u001b[49m\u001b[43m(\u001b[49m\u001b[43m)\u001b[49m\n\u001b[1;32m     71\u001b[0m     \u001b[38;5;28mself\u001b[39m\u001b[38;5;241m.\u001b[39mloss_ \u001b[38;5;241m=\u001b[39m \u001b[38;5;28mself\u001b[39m\u001b[38;5;241m.\u001b[39mloss_func(y_hat, \u001b[38;5;28mself\u001b[39m\u001b[38;5;241m.\u001b[39my)\n\u001b[1;32m     72\u001b[0m     \u001b[38;5;28;01mreturn\u001b[39;00m \u001b[38;5;28mself\u001b[39m\u001b[38;5;241m.\u001b[39mloss_\n",
      "Cell \u001b[0;32mIn[130], line 46\u001b[0m, in \u001b[0;36mNet.predict\u001b[0;34m(self, x)\u001b[0m\n\u001b[1;32m     44\u001b[0m         \u001b[38;5;28mself\u001b[39m\u001b[38;5;241m.\u001b[39mpred \u001b[38;5;241m=\u001b[39m np\u001b[38;5;241m.\u001b[39mdot(\u001b[38;5;28mself\u001b[39m\u001b[38;5;241m.\u001b[39mpred,w) \u001b[38;5;241m+\u001b[39m b\n\u001b[1;32m     45\u001b[0m         \u001b[38;5;28mself\u001b[39m\u001b[38;5;241m.\u001b[39mpred \u001b[38;5;241m=\u001b[39m Activation(activation)(\u001b[38;5;28mself\u001b[39m\u001b[38;5;241m.\u001b[39mpred)\n\u001b[0;32m---> 46\u001b[0m         \u001b[38;5;28mself\u001b[39m\u001b[38;5;241m.\u001b[39mcount \u001b[38;5;241m+\u001b[39m\u001b[38;5;241m=\u001b[39m \u001b[38;5;241m1\u001b[39m\n\u001b[1;32m     47\u001b[0m         \u001b[38;5;28mprint\u001b[39m(\u001b[38;5;124mf\u001b[39m\u001b[38;5;124m'\u001b[39m\u001b[38;5;124m========>\u001b[39m\u001b[38;5;132;01m{\u001b[39;00m\u001b[38;5;28mself\u001b[39m\u001b[38;5;241m.\u001b[39mcount\u001b[38;5;132;01m}\u001b[39;00m\u001b[38;5;124m'\u001b[39m)\n\u001b[1;32m     49\u001b[0m \u001b[38;5;28;01melse\u001b[39;00m:\n",
      "\u001b[0;31mAttributeError\u001b[0m: 'Net' object has no attribute 'count'"
     ]
    }
   ],
   "source": [
    "model.fit(epochs=1, learning_rate=1e-3)"
   ]
  },
  {
   "cell_type": "code",
   "execution_count": null,
   "id": "b1bcc764-c1ab-44dd-a341-ca42685c0dcb",
   "metadata": {},
   "outputs": [],
   "source": []
  },
  {
   "cell_type": "code",
   "execution_count": null,
   "id": "25f8b767-0837-4d31-a51a-c4a82e1f9bc1",
   "metadata": {},
   "outputs": [],
   "source": []
  },
  {
   "cell_type": "code",
   "execution_count": null,
   "id": "4843871a-c386-41cd-844f-51eae56b48e3",
   "metadata": {},
   "outputs": [],
   "source": []
  },
  {
   "cell_type": "code",
   "execution_count": 119,
   "id": "d67cca1d-eb07-4492-8db6-f281a880103b",
   "metadata": {},
   "outputs": [],
   "source": [
    "from tensorflow.keras.models import Model, Sequential\n",
    "from tensorflow.keras.layers import Dense, Flatten, Input, Activation\n",
    "from tensorflow.keras.layers import Conv2D, MaxPooling2D, UpSampling2D, Conv2DTranspose\n",
    "from tensorflow.keras.activations import sigmoid\n",
    "from tensorflow.keras.utils import to_categorical\n",
    "from keras.datasets import mnist\n",
    "# from keras.losses import categorical_crossentropy"
   ]
  },
  {
   "cell_type": "code",
   "execution_count": 84,
   "id": "68a990b4-8e6a-471f-8166-3d031af3f732",
   "metadata": {},
   "outputs": [],
   "source": [
    "from tensorflow.keras.datasets import fashion_mnist"
   ]
  },
  {
   "cell_type": "code",
   "execution_count": 38,
   "id": "184b08e9-af62-4235-8599-570b59669885",
   "metadata": {},
   "outputs": [],
   "source": [
    "(X_train, y_train),(X_test, y_test) = fashion_mnist.load_data()"
   ]
  },
  {
   "cell_type": "code",
   "execution_count": 30,
   "id": "951247d5-a8c5-4683-8b82-614b40eb7a08",
   "metadata": {},
   "outputs": [
    {
     "data": {
      "text/plain": [
       "array([0, 1, 2, 3, 4, 5, 6, 7, 8, 9], dtype=uint8)"
      ]
     },
     "execution_count": 30,
     "metadata": {},
     "output_type": "execute_result"
    }
   ],
   "source": [
    "np.unique(y_train)"
   ]
  },
  {
   "cell_type": "code",
   "execution_count": 29,
   "id": "53e0e9d2-88dc-4804-acb3-d5ada360fe46",
   "metadata": {},
   "outputs": [
    {
     "data": {
      "text/plain": [
       "(60000, 28, 28)"
      ]
     },
     "execution_count": 29,
     "metadata": {},
     "output_type": "execute_result"
    }
   ],
   "source": [
    "X_train.shape"
   ]
  },
  {
   "cell_type": "code",
   "execution_count": 39,
   "id": "cbf1ca37-c47e-4297-a9aa-bee2de4cb71d",
   "metadata": {},
   "outputs": [],
   "source": [
    "y_train = to_categorical(y_train)"
   ]
  },
  {
   "cell_type": "code",
   "execution_count": 40,
   "id": "3e48d147-59a7-459d-8a93-578864db1a13",
   "metadata": {},
   "outputs": [
    {
     "data": {
      "text/plain": [
       "(60000, 10)"
      ]
     },
     "execution_count": 40,
     "metadata": {},
     "output_type": "execute_result"
    }
   ],
   "source": [
    "y_train.shape"
   ]
  },
  {
   "cell_type": "code",
   "execution_count": 23,
   "id": "5c8d6233-480d-4e1b-ba81-8c01fb2b6088",
   "metadata": {},
   "outputs": [],
   "source": [
    "import matplotlib.pyplot as plt"
   ]
  },
  {
   "cell_type": "code",
   "execution_count": 33,
   "id": "39557b96-206e-404c-8c51-1d58e57caa79",
   "metadata": {},
   "outputs": [
    {
     "data": {
      "text/plain": [
       "0        9\n",
       "11       9\n",
       "15       9\n",
       "42       9\n",
       "44       9\n",
       "        ..\n",
       "59909    9\n",
       "59920    9\n",
       "59932    9\n",
       "59970    9\n",
       "59978    9\n",
       "Length: 6000, dtype: uint8"
      ]
     },
     "execution_count": 33,
     "metadata": {},
     "output_type": "execute_result"
    }
   ],
   "source": [
    "import pandas as pd\n",
    "pd.Series(y_train)[pd.Series(y_train)==9]"
   ]
  },
  {
   "cell_type": "code",
   "execution_count": 35,
   "id": "fb9bdbe4-1e01-44f3-ad5a-6b22a5ebd64e",
   "metadata": {},
   "outputs": [
    {
     "name": "stdout",
     "output_type": "stream",
     "text": [
      "9\n"
     ]
    },
    {
     "data": {
      "image/png": "[encoded data removed]",
      "text/plain": [
       "<Figure size 640x480 with 1 Axes>"
      ]
     },
     "metadata": {},
     "output_type": "display_data"
    }
   ],
   "source": [
    "plt.imshow(X_train[11])\n",
    "print(y_train[11])\n",
    "plt.show()"
   ]
  },
  {
   "cell_type": "code",
   "execution_count": 42,
   "id": "3e148164-475a-4347-8482-041d7d2a49b2",
   "metadata": {},
   "outputs": [],
   "source": [
    "model = Sequential(\n",
    "    \n",
    "    [\n",
    "        Input(shape=(28,28)),\n",
    "    Flatten(),\n",
    "    Dense(1024, activation='relu'),\n",
    "    Dense(512, activation='relu'),\n",
    "    Dense(256, activation='relu'),\n",
    "    Dense(10, activation='softmax')\n",
    "    ]\n",
    ")"
   ]
  },
  {
   "cell_type": "code",
   "execution_count": 43,
   "id": "41821f25-e5a4-4e54-a241-023bc5af6f4c",
   "metadata": {},
   "outputs": [],
   "source": [
    "model.compile(optimizer='sgd', loss='categorical_crossentropy',metrics=['accuracy'])"
   ]
  },
  {
   "cell_type": "code",
   "execution_count": 44,
   "id": "994898d3-1115-4f43-92de-23adf25e463e",
   "metadata": {},
   "outputs": [
    {
     "name": "stdout",
     "output_type": "stream",
     "text": [
      "Model: \"sequential\"\n",
      "_________________________________________________________________\n",
      " Layer (type)                Output Shape              Param #   \n",
      "=================================================================\n",
      " flatten_1 (Flatten)         (None, 784)               0         \n",
      "                                                                 \n",
      " dense_4 (Dense)             (None, 1024)              803840    \n",
      "                                                                 \n",
      " dense_5 (Dense)             (None, 512)               524800    \n",
      "                                                                 \n",
      " dense_6 (Dense)             (None, 256)               131328    \n",
      "                                                                 \n",
      " dense_7 (Dense)             (None, 10)                2570      \n",
      "                                                                 \n",
      "=================================================================\n",
      "Total params: 1,462,538\n",
      "Trainable params: 1,462,538\n",
      "Non-trainable params: 0\n",
      "_________________________________________________________________\n"
     ]
    }
   ],
   "source": [
    "model.summary()"
   ]
  },
  {
   "cell_type": "code",
   "execution_count": 69,
   "id": "98b5c5ad-c3e7-443e-947e-6c51b4afbb97",
   "metadata": {
    "collapsed": true,
    "jupyter": {
     "outputs_hidden": true
    },
    "tags": []
   },
   "outputs": [
    {
     "name": "stdout",
     "output_type": "stream",
     "text": [
      "Epoch 1/10\n",
      "1875/1875 [==============================] - 24s 12ms/step - loss: nan - accuracy: 0.1000\n",
      "Epoch 2/10\n",
      " 150/1875 [=>............................] - ETA: 22s - loss: nan - accuracy: 0.1060"
     ]
    },
    {
     "ename": "KeyboardInterrupt",
     "evalue": "",
     "output_type": "error",
     "traceback": [
      "\u001b[0;31m---------------------------------------------------------------------------\u001b[0m",
      "\u001b[0;31mKeyboardInterrupt\u001b[0m                         Traceback (most recent call last)",
      "Cell \u001b[0;32mIn[69], line 1\u001b[0m\n\u001b[0;32m----> 1\u001b[0m \u001b[43mmodel\u001b[49m\u001b[38;5;241;43m.\u001b[39;49m\u001b[43mfit\u001b[49m\u001b[43m(\u001b[49m\u001b[43mX_train\u001b[49m\u001b[43m,\u001b[49m\u001b[43m \u001b[49m\u001b[43my_train\u001b[49m\u001b[43m,\u001b[49m\u001b[43m \u001b[49m\u001b[43mepochs\u001b[49m\u001b[38;5;241;43m=\u001b[39;49m\u001b[38;5;241;43m10\u001b[39;49m\u001b[43m)\u001b[49m\n",
      "File \u001b[0;32m~/anaconda3/envs/bteam/lib/python3.9/site-packages/keras/utils/traceback_utils.py:65\u001b[0m, in \u001b[0;36mfilter_traceback.<locals>.error_handler\u001b[0;34m(*args, **kwargs)\u001b[0m\n\u001b[1;32m     63\u001b[0m filtered_tb \u001b[38;5;241m=\u001b[39m \u001b[38;5;28;01mNone\u001b[39;00m\n\u001b[1;32m     64\u001b[0m \u001b[38;5;28;01mtry\u001b[39;00m:\n\u001b[0;32m---> 65\u001b[0m     \u001b[38;5;28;01mreturn\u001b[39;00m \u001b[43mfn\u001b[49m\u001b[43m(\u001b[49m\u001b[38;5;241;43m*\u001b[39;49m\u001b[43margs\u001b[49m\u001b[43m,\u001b[49m\u001b[43m \u001b[49m\u001b[38;5;241;43m*\u001b[39;49m\u001b[38;5;241;43m*\u001b[39;49m\u001b[43mkwargs\u001b[49m\u001b[43m)\u001b[49m\n\u001b[1;32m     66\u001b[0m \u001b[38;5;28;01mexcept\u001b[39;00m \u001b[38;5;167;01mException\u001b[39;00m \u001b[38;5;28;01mas\u001b[39;00m e:\n\u001b[1;32m     67\u001b[0m     filtered_tb \u001b[38;5;241m=\u001b[39m _process_traceback_frames(e\u001b[38;5;241m.\u001b[39m__traceback__)\n",
      "File \u001b[0;32m~/anaconda3/envs/bteam/lib/python3.9/site-packages/keras/engine/training.py:1685\u001b[0m, in \u001b[0;36mModel.fit\u001b[0;34m(self, x, y, batch_size, epochs, verbose, callbacks, validation_split, validation_data, shuffle, class_weight, sample_weight, initial_epoch, steps_per_epoch, validation_steps, validation_batch_size, validation_freq, max_queue_size, workers, use_multiprocessing)\u001b[0m\n\u001b[1;32m   1677\u001b[0m \u001b[38;5;28;01mwith\u001b[39;00m tf\u001b[38;5;241m.\u001b[39mprofiler\u001b[38;5;241m.\u001b[39mexperimental\u001b[38;5;241m.\u001b[39mTrace(\n\u001b[1;32m   1678\u001b[0m     \u001b[38;5;124m\"\u001b[39m\u001b[38;5;124mtrain\u001b[39m\u001b[38;5;124m\"\u001b[39m,\n\u001b[1;32m   1679\u001b[0m     epoch_num\u001b[38;5;241m=\u001b[39mepoch,\n\u001b[0;32m   (...)\u001b[0m\n\u001b[1;32m   1682\u001b[0m     _r\u001b[38;5;241m=\u001b[39m\u001b[38;5;241m1\u001b[39m,\n\u001b[1;32m   1683\u001b[0m ):\n\u001b[1;32m   1684\u001b[0m     callbacks\u001b[38;5;241m.\u001b[39mon_train_batch_begin(step)\n\u001b[0;32m-> 1685\u001b[0m     tmp_logs \u001b[38;5;241m=\u001b[39m \u001b[38;5;28;43mself\u001b[39;49m\u001b[38;5;241;43m.\u001b[39;49m\u001b[43mtrain_function\u001b[49m\u001b[43m(\u001b[49m\u001b[43miterator\u001b[49m\u001b[43m)\u001b[49m\n\u001b[1;32m   1686\u001b[0m     \u001b[38;5;28;01mif\u001b[39;00m data_handler\u001b[38;5;241m.\u001b[39mshould_sync:\n\u001b[1;32m   1687\u001b[0m         context\u001b[38;5;241m.\u001b[39masync_wait()\n",
      "File \u001b[0;32m~/anaconda3/envs/bteam/lib/python3.9/site-packages/tensorflow/python/util/traceback_utils.py:150\u001b[0m, in \u001b[0;36mfilter_traceback.<locals>.error_handler\u001b[0;34m(*args, **kwargs)\u001b[0m\n\u001b[1;32m    148\u001b[0m filtered_tb \u001b[38;5;241m=\u001b[39m \u001b[38;5;28;01mNone\u001b[39;00m\n\u001b[1;32m    149\u001b[0m \u001b[38;5;28;01mtry\u001b[39;00m:\n\u001b[0;32m--> 150\u001b[0m   \u001b[38;5;28;01mreturn\u001b[39;00m \u001b[43mfn\u001b[49m\u001b[43m(\u001b[49m\u001b[38;5;241;43m*\u001b[39;49m\u001b[43margs\u001b[49m\u001b[43m,\u001b[49m\u001b[43m \u001b[49m\u001b[38;5;241;43m*\u001b[39;49m\u001b[38;5;241;43m*\u001b[39;49m\u001b[43mkwargs\u001b[49m\u001b[43m)\u001b[49m\n\u001b[1;32m    151\u001b[0m \u001b[38;5;28;01mexcept\u001b[39;00m \u001b[38;5;167;01mException\u001b[39;00m \u001b[38;5;28;01mas\u001b[39;00m e:\n\u001b[1;32m    152\u001b[0m   filtered_tb \u001b[38;5;241m=\u001b[39m _process_traceback_frames(e\u001b[38;5;241m.\u001b[39m__traceback__)\n",
      "File \u001b[0;32m~/anaconda3/envs/bteam/lib/python3.9/site-packages/tensorflow/python/eager/polymorphic_function/polymorphic_function.py:894\u001b[0m, in \u001b[0;36mFunction.__call__\u001b[0;34m(self, *args, **kwds)\u001b[0m\n\u001b[1;32m    891\u001b[0m compiler \u001b[38;5;241m=\u001b[39m \u001b[38;5;124m\"\u001b[39m\u001b[38;5;124mxla\u001b[39m\u001b[38;5;124m\"\u001b[39m \u001b[38;5;28;01mif\u001b[39;00m \u001b[38;5;28mself\u001b[39m\u001b[38;5;241m.\u001b[39m_jit_compile \u001b[38;5;28;01melse\u001b[39;00m \u001b[38;5;124m\"\u001b[39m\u001b[38;5;124mnonXla\u001b[39m\u001b[38;5;124m\"\u001b[39m\n\u001b[1;32m    893\u001b[0m \u001b[38;5;28;01mwith\u001b[39;00m OptionalXlaContext(\u001b[38;5;28mself\u001b[39m\u001b[38;5;241m.\u001b[39m_jit_compile):\n\u001b[0;32m--> 894\u001b[0m   result \u001b[38;5;241m=\u001b[39m \u001b[38;5;28;43mself\u001b[39;49m\u001b[38;5;241;43m.\u001b[39;49m\u001b[43m_call\u001b[49m\u001b[43m(\u001b[49m\u001b[38;5;241;43m*\u001b[39;49m\u001b[43margs\u001b[49m\u001b[43m,\u001b[49m\u001b[43m \u001b[49m\u001b[38;5;241;43m*\u001b[39;49m\u001b[38;5;241;43m*\u001b[39;49m\u001b[43mkwds\u001b[49m\u001b[43m)\u001b[49m\n\u001b[1;32m    896\u001b[0m new_tracing_count \u001b[38;5;241m=\u001b[39m \u001b[38;5;28mself\u001b[39m\u001b[38;5;241m.\u001b[39mexperimental_get_tracing_count()\n\u001b[1;32m    897\u001b[0m without_tracing \u001b[38;5;241m=\u001b[39m (tracing_count \u001b[38;5;241m==\u001b[39m new_tracing_count)\n",
      "File \u001b[0;32m~/anaconda3/envs/bteam/lib/python3.9/site-packages/tensorflow/python/eager/polymorphic_function/polymorphic_function.py:926\u001b[0m, in \u001b[0;36mFunction._call\u001b[0;34m(self, *args, **kwds)\u001b[0m\n\u001b[1;32m    923\u001b[0m   \u001b[38;5;28mself\u001b[39m\u001b[38;5;241m.\u001b[39m_lock\u001b[38;5;241m.\u001b[39mrelease()\n\u001b[1;32m    924\u001b[0m   \u001b[38;5;66;03m# In this case we have created variables on the first call, so we run the\u001b[39;00m\n\u001b[1;32m    925\u001b[0m   \u001b[38;5;66;03m# defunned version which is guaranteed to never create variables.\u001b[39;00m\n\u001b[0;32m--> 926\u001b[0m   \u001b[38;5;28;01mreturn\u001b[39;00m \u001b[38;5;28;43mself\u001b[39;49m\u001b[38;5;241;43m.\u001b[39;49m\u001b[43m_no_variable_creation_fn\u001b[49m\u001b[43m(\u001b[49m\u001b[38;5;241;43m*\u001b[39;49m\u001b[43margs\u001b[49m\u001b[43m,\u001b[49m\u001b[43m \u001b[49m\u001b[38;5;241;43m*\u001b[39;49m\u001b[38;5;241;43m*\u001b[39;49m\u001b[43mkwds\u001b[49m\u001b[43m)\u001b[49m  \u001b[38;5;66;03m# pylint: disable=not-callable\u001b[39;00m\n\u001b[1;32m    927\u001b[0m \u001b[38;5;28;01melif\u001b[39;00m \u001b[38;5;28mself\u001b[39m\u001b[38;5;241m.\u001b[39m_variable_creation_fn \u001b[38;5;129;01mis\u001b[39;00m \u001b[38;5;129;01mnot\u001b[39;00m \u001b[38;5;28;01mNone\u001b[39;00m:\n\u001b[1;32m    928\u001b[0m   \u001b[38;5;66;03m# Release the lock early so that multiple threads can perform the call\u001b[39;00m\n\u001b[1;32m    929\u001b[0m   \u001b[38;5;66;03m# in parallel.\u001b[39;00m\n\u001b[1;32m    930\u001b[0m   \u001b[38;5;28mself\u001b[39m\u001b[38;5;241m.\u001b[39m_lock\u001b[38;5;241m.\u001b[39mrelease()\n",
      "File \u001b[0;32m~/anaconda3/envs/bteam/lib/python3.9/site-packages/tensorflow/python/eager/polymorphic_function/tracing_compiler.py:142\u001b[0m, in \u001b[0;36mTracingCompiler.__call__\u001b[0;34m(self, *args, **kwargs)\u001b[0m\n\u001b[1;32m    139\u001b[0m \u001b[38;5;250m\u001b[39m\u001b[38;5;124;03m\"\"\"Calls a graph function specialized to the inputs.\"\"\"\u001b[39;00m\n\u001b[1;32m    140\u001b[0m \u001b[38;5;28;01mwith\u001b[39;00m \u001b[38;5;28mself\u001b[39m\u001b[38;5;241m.\u001b[39m_lock:\n\u001b[1;32m    141\u001b[0m   (concrete_function,\n\u001b[0;32m--> 142\u001b[0m    filtered_flat_args) \u001b[38;5;241m=\u001b[39m \u001b[38;5;28;43mself\u001b[39;49m\u001b[38;5;241;43m.\u001b[39;49m\u001b[43m_maybe_define_function\u001b[49m\u001b[43m(\u001b[49m\u001b[43margs\u001b[49m\u001b[43m,\u001b[49m\u001b[43m \u001b[49m\u001b[43mkwargs\u001b[49m\u001b[43m)\u001b[49m\n\u001b[1;32m    143\u001b[0m \u001b[38;5;28;01mreturn\u001b[39;00m concrete_function\u001b[38;5;241m.\u001b[39m_call_flat(\n\u001b[1;32m    144\u001b[0m     filtered_flat_args, captured_inputs\u001b[38;5;241m=\u001b[39mconcrete_function\u001b[38;5;241m.\u001b[39mcaptured_inputs)\n",
      "File \u001b[0;32m~/anaconda3/envs/bteam/lib/python3.9/site-packages/tensorflow/python/eager/polymorphic_function/tracing_compiler.py:350\u001b[0m, in \u001b[0;36mTracingCompiler._maybe_define_function\u001b[0;34m(self, args, kwargs)\u001b[0m\n\u001b[1;32m    347\u001b[0m \u001b[38;5;66;03m# Get runtime values of captures\u001b[39;00m\n\u001b[1;32m    348\u001b[0m captures \u001b[38;5;241m=\u001b[39m \u001b[38;5;28mself\u001b[39m\u001b[38;5;241m.\u001b[39m_func_captures\u001b[38;5;241m.\u001b[39mget_by_ref_snapshot()\n\u001b[0;32m--> 350\u001b[0m current_func_context \u001b[38;5;241m=\u001b[39m \u001b[43mfunction_context\u001b[49m\u001b[38;5;241;43m.\u001b[39;49m\u001b[43mmake_function_context\u001b[49m\u001b[43m(\u001b[49m\u001b[43m)\u001b[49m\n\u001b[1;32m    352\u001b[0m \u001b[38;5;66;03m# cache_key_deletion_observer is useless here. It's based on all captures.\u001b[39;00m\n\u001b[1;32m    353\u001b[0m \u001b[38;5;66;03m# A new cache key will be built later when saving ConcreteFunction because\u001b[39;00m\n\u001b[1;32m    354\u001b[0m \u001b[38;5;66;03m# only active captures should be saved.\u001b[39;00m\n\u001b[1;32m    355\u001b[0m lookup_func_type, lookup_func_context \u001b[38;5;241m=\u001b[39m (\n\u001b[1;32m    356\u001b[0m     \u001b[38;5;28mself\u001b[39m\u001b[38;5;241m.\u001b[39m_function_spec\u001b[38;5;241m.\u001b[39mmake_canonicalized_monomorphic_type(\n\u001b[1;32m    357\u001b[0m         args, kwargs, captures))\n",
      "File \u001b[0;32m~/anaconda3/envs/bteam/lib/python3.9/site-packages/tensorflow/python/eager/polymorphic_function/function_context.py:67\u001b[0m, in \u001b[0;36mmake_function_context\u001b[0;34m()\u001b[0m\n\u001b[1;32m     63\u001b[0m default_graph \u001b[38;5;241m=\u001b[39m ops\u001b[38;5;241m.\u001b[39mget_default_graph()\n\u001b[1;32m     64\u001b[0m \u001b[38;5;66;03m# TODO(b/117617952): The current distribution strategy will affect graph\u001b[39;00m\n\u001b[1;32m     65\u001b[0m \u001b[38;5;66;03m# building (e.g. accessing different variables from different devices) and\u001b[39;00m\n\u001b[1;32m     66\u001b[0m \u001b[38;5;66;03m# so requires retracing for each device.\u001b[39;00m\n\u001b[0;32m---> 67\u001b[0m strategy_stack \u001b[38;5;241m=\u001b[39m \u001b[43mdefault_graph\u001b[49m\u001b[38;5;241;43m.\u001b[39;49m\u001b[43m_distribution_strategy_stack\u001b[49m\n\u001b[1;32m     68\u001b[0m uses_distribution_strategy \u001b[38;5;241m=\u001b[39m (\n\u001b[1;32m     69\u001b[0m     strategy_stack \u001b[38;5;129;01mand\u001b[39;00m\n\u001b[1;32m     70\u001b[0m     strategy_stack[\u001b[38;5;241m-\u001b[39m\u001b[38;5;241m1\u001b[39m]\u001b[38;5;241m.\u001b[39mstrategy\u001b[38;5;241m.\u001b[39mextended\u001b[38;5;241m.\u001b[39m_retrace_functions_for_each_device)\n\u001b[1;32m     71\u001b[0m \u001b[38;5;28;01mif\u001b[39;00m executing_eagerly:\n",
      "File \u001b[0;32m~/anaconda3/envs/bteam/lib/python3.9/site-packages/tensorflow/python/framework/ops.py:5463\u001b[0m, in \u001b[0;36mGraph._distribution_strategy_stack\u001b[0;34m(self)\u001b[0m\n\u001b[1;32m   5460\u001b[0m   \u001b[38;5;28;01melse\u001b[39;00m:\n\u001b[1;32m   5461\u001b[0m     \u001b[38;5;28mself\u001b[39m\u001b[38;5;241m.\u001b[39m_graph_control_dependencies_stack \u001b[38;5;241m=\u001b[39m control_dependencies\n\u001b[0;32m-> 5463\u001b[0m \u001b[38;5;129m@property\u001b[39m\n\u001b[1;32m   5464\u001b[0m \u001b[38;5;28;01mdef\u001b[39;00m \u001b[38;5;21m_distribution_strategy_stack\u001b[39m(\u001b[38;5;28mself\u001b[39m):\n\u001b[1;32m   5465\u001b[0m \u001b[38;5;250m  \u001b[39m\u001b[38;5;124;03m\"\"\"A stack to maintain distribution strategy context for each thread.\"\"\"\u001b[39;00m\n\u001b[1;32m   5466\u001b[0m   \u001b[38;5;28;01mif\u001b[39;00m \u001b[38;5;129;01mnot\u001b[39;00m \u001b[38;5;28mhasattr\u001b[39m(\u001b[38;5;28mself\u001b[39m\u001b[38;5;241m.\u001b[39m_thread_local, \u001b[38;5;124m\"\u001b[39m\u001b[38;5;124m_distribution_strategy_stack\u001b[39m\u001b[38;5;124m\"\u001b[39m):\n",
      "\u001b[0;31mKeyboardInterrupt\u001b[0m: "
     ]
    }
   ],
   "source": [
    "model.fit(X_train, y_train, epochs=10)"
   ]
  },
  {
   "cell_type": "code",
   "execution_count": 68,
   "id": "382dbff7-af9a-4f38-b7fa-2468283e655a",
   "metadata": {},
   "outputs": [],
   "source": [
    "model.compile(optimizer='adam',  loss='categorical_crossentropy',metrics=['accuracy'])"
   ]
  },
  {
   "cell_type": "code",
   "execution_count": 67,
   "id": "779a4d82-799c-4fef-a771-1fea2f5ccb5e",
   "metadata": {},
   "outputs": [
    {
     "name": "stdout",
     "output_type": "stream",
     "text": [
      "1/1 [==============================] - 0s 59ms/step\n"
     ]
    },
    {
     "data": {
      "text/plain": [
       "array([[nan, nan, nan, nan, nan, nan, nan, nan, nan, nan]], dtype=float32)"
      ]
     },
     "execution_count": 67,
     "metadata": {},
     "output_type": "execute_result"
    }
   ],
   "source": [
    "model.predict(X_test[[0]])"
   ]
  },
  {
   "cell_type": "code",
   "execution_count": null,
   "id": "a4f1f334-91d9-4978-8ffa-124d2e7326e5",
   "metadata": {},
   "outputs": [],
   "source": []
  },
  {
   "cell_type": "code",
   "execution_count": 55,
   "id": "35cf8479-19dc-4fb6-91fe-d6efe228ccf1",
   "metadata": {},
   "outputs": [],
   "source": [
    "X = X_train.reshape(60000, 784)"
   ]
  },
  {
   "cell_type": "code",
   "execution_count": 58,
   "id": "a2500e88-8f4f-4022-954e-8e40a352c9b8",
   "metadata": {},
   "outputs": [],
   "source": [
    "l1 = np.random.randn(784, 1024)\n",
    "b1 = np.zeros(1024)\n",
    "A\n",
    "l2 = np.random.randn(1024, 256)\n",
    "b2 = np.zeros(256)\n",
    "B\n",
    "l3 = np.random.randn(256, 10)\n",
    "b3 = np.zeros(10)"
   ]
  },
  {
   "cell_type": "code",
   "execution_count": 59,
   "id": "c2f7753f-abe6-4db7-b6a8-aa28d2513a4e",
   "metadata": {},
   "outputs": [
    {
     "name": "stderr",
     "output_type": "stream",
     "text": [
      "/tmp/ipykernel_1670/3900056655.py:8: RuntimeWarning: overflow encountered in exp\n",
      "  return 1/(1+np.exp(-x))\n"
     ]
    }
   ],
   "source": [
    "out = sigmoid(np.dot(X, l1) + b1)\n",
    "out = sigmoid(np.dot(out, l2) + b2)\n",
    "out = np.dot(out, l3) + b3"
   ]
  },
  {
   "cell_type": "code",
   "execution_count": 63,
   "id": "14842f50-ee84-40eb-9fa4-7823c3032ebc",
   "metadata": {},
   "outputs": [
    {
     "data": {
      "text/plain": [
       "1685679624.5466192"
      ]
     },
     "execution_count": 63,
     "metadata": {},
     "output_type": "execute_result"
    }
   ],
   "source": [
    "np.sum(softmax(out[0]), axis=1)\n",
    "np.sum(softmax(out[1]))"
   ]
  },
  {
   "cell_type": "code",
   "execution_count": 64,
   "id": "928257f8-d7de-4f5a-8bea-c7f1d677b10d",
   "metadata": {},
   "outputs": [
    {
     "data": {
      "text/plain": [
       "array([0., 0., 0., 0., 0., 0., 0., 0., 0., 1.], dtype=float32)"
      ]
     },
     "execution_count": 64,
     "metadata": {},
     "output_type": "execute_result"
    }
   ],
   "source": [
    "y_train[0]"
   ]
  },
  {
   "cell_type": "code",
   "execution_count": 65,
   "id": "0fc1a36a-0c61-4c97-8bb9-329038079141",
   "metadata": {},
   "outputs": [
    {
     "data": {
      "text/plain": [
       "771330.3090202411"
      ]
     },
     "execution_count": 65,
     "metadata": {},
     "output_type": "execute_result"
    }
   ],
   "source": [
    "softmax(out[0])"
   ]
  },
  {
   "cell_type": "code",
   "execution_count": null,
   "id": "67ba478a-0de5-4142-9f0f-2f47206066cf",
   "metadata": {},
   "outputs": [],
   "source": []
  }
 ],
 "metadata": {
  "kernelspec": {
   "display_name": "bteam",
   "language": "python",
   "name": "bteam"
  },
  "language_info": {
   "codemirror_mode": {
    "name": "ipython",
    "version": 3
   },
   "file_extension": ".py",
   "mimetype": "text/x-python",
   "name": "python",
   "nbconvert_exporter": "python",
   "pygments_lexer": "ipython3",
   "version": "3.9.16"
  }
 },
 "nbformat": 4,
 "nbformat_minor": 5
}
